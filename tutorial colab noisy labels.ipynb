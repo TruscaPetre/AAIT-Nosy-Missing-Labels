{
  "cells": [
    {
      "cell_type": "markdown",
      "metadata": {
        "colab_type": "text",
        "id": "view-in-github"
      },
      "source": [
        "<a href=\"https://colab.research.google.com/github/TruscaPetre/AAIT-Nosy-Missing-Labels/blob/main/tutorial%20colab%20noisy%20labels.ipynb\" target=\"_parent\"><img src=\"https://colab.research.google.com/assets/colab-badge.svg\" alt=\"Open In Colab\"/></a>"
      ]
    },
    {
      "cell_type": "markdown",
      "metadata": {
        "id": "WaRT8CyQPpcv"
      },
      "source": [
        "# Noisy labels problem\n"
      ]
    },
    {
      "cell_type": "markdown",
      "metadata": {
        "id": "gOThg22n_IX7"
      },
      "source": [
        "## Introduction theory"
      ]
    },
    {
      "cell_type": "markdown",
      "metadata": {
        "id": "UJxksI3i_IX-"
      },
      "source": [
        "Before starting to implement anything we should think about the problem first. We don't know which of the training samples are wrong, and we cannot try to correct them by hand because there are too many of them and the images are not very clear anyway.\n",
        "\n",
        "We need some Noise-aware training techniques. Some ideas are:\n",
        "- training using a loss function that is designed to be robust to label noise. Such as:\n",
        "  - focal loss, it down-weighs the contribution of easy examples and puts more ephasis on difficult examples, which can make it resistant to noise. `torch.nn.FocalLoss`\n",
        "  - Generalized Cross-Entropy loss, which includes additional hyperparameters that allow the model to learn the noise rate and label corruption matrix. `torch.nn.GCE`\n",
        "- bootstrapping\n",
        "- self-ensembling to learn multiple models that are more robust to noise\n",
        "- Confidence based method, because predicting the confidence may allow humans to discard the least confidence examples. ( but we are not creating a real world model, we are getting tested automatically with a test set, so this method cannot work.)\n",
        "- Pseudo-labeling, using the model's own predictions to re-label a portion of the training data. Similar to self-training, we eliminate completely labels of some samples and we try to predict them. In case the labels are the same after relabling, there is a higher chance they are correct. We would gradually relable the images into a better dataset. \n",
        "    - Or Computing a probability that the labels are misslabeled, than using that probability to weigh heavier on the labels that have a higher chance of being correct during training. `torch.nn.CrossEntropyLoss`\n",
        "- Noise tolerant algorithms: complex deep learning models are more tolerant to noise. (this is not a very solid technique but should be used together with others.)\n",
        "\n",
        "References:\n",
        "- Focal loss: This loss function was first introduced in the paper \"Focal Loss for Dense Object Detection\" by Tsung-Yi Lin, Priya Goyal, Ross Girshick, Kaiming He, and Piotr Dollár (https://arxiv.org/abs/1708.02002).\n",
        "- Generalized cross-entropy loss: This loss function was proposed in the paper \"Learning with Noisy Labels\" by Mengye Ren, Elad Hazan, and Yoram Singer (https://arxiv.org/abs/1609.03683).\n",
        "- Bootstrapping: This technique involves training multiple models on different subsets of the training data, and then combining their predictions to make a final prediction. It was first introduced in the paper \"Bagging Predictors\" by Leo Breiman (https://link.springer.com/article/10.1023/A:1018054314350).\n",
        "- Self-ensembling: This technique involves training multiple models on the same data, and then using their predictions to create a final prediction. It was first introduced in the paper \"Self-Ensembling for Visual Domain Adaptation\" by Sergey Zagoruyko and Nikos Komodakis (https://arxiv.org/abs/1706.05208).\n",
        "- Pseudo-labeling: This technique involves using the model's own predictions to label a portion of the training data. It was first introduced in the paper \"Semi-Supervised Learning with Deep Generative Models\" by Diederik Kingma, Danilo Jimenez Rezende, Shakir Mohamed, and Max Welling (https://arxiv.org/abs/1406.5298).\n",
        "- Noise-aware training: This refers to techniques that are specifically designed to handle label noise in the training data. One example of such a technique is the generalized cross-entropy loss function, which was introduced in the paper \"Learning with Noisy Labels\" by Mengye Ren, Elad Hazan, and Yoram Singer (https://arxiv.org/abs/1609.03683).\n",
        "- Confidence based methods: This refers to techniques that involve training a model to predict the confidence or probability of each class label, rather than just the class label itself. This can allow the model to identify examples that are less confident and potentially more prone to noise. One example of a confidence-based method is the method of \"bootstrapping,\" which was introduced in the paper \"Bagging Predictors\" by Leo Breiman (https://link.springer.com/article/10.1023/A:1018054314350)."
      ]
    },
    {
      "cell_type": "markdown",
      "metadata": {
        "id": "UeBHHsZt_IYU"
      },
      "source": [
        "## Pseudo Labeling solution"
      ]
    },
    {
      "cell_type": "markdown",
      "metadata": {
        "id": "NnkncVA__IYW"
      },
      "source": [
        "\n",
        "This technique is barely described above\n",
        "\n",
        "The first question is what portion of the dataset should I \"forget\" the labels and try predict new ones(by training on the remaining ones)? \n",
        "\n",
        "Making the worse assumption that half of the labels are wrong. Than we should leave out a smaller portion of the labels to be re-labeled.\n",
        "But because we have a rather large dataset of 500 images per class and that the model we are using is a rather complex one which is already pretrained, we may increase the number of labels for re-labeling. \n",
        "\n",
        "According to previous argument I chose to separate the dataset in 10 parts. \n",
        "I will leave 10% of the dataset out and only use the rest of 90%. \n",
        "Similar to a 10-fold cross validation, but instead of validating we are re-labeling the remaining 10% of the data."
      ]
    },
    {
      "cell_type": "markdown",
      "metadata": {
        "id": "mmzRZhui_IYY"
      },
      "source": [
        "## Imports"
      ]
    },
    {
      "cell_type": "code",
      "execution_count": 1,
      "metadata": {
        "id": "x_I1fk99_IYZ"
      },
      "outputs": [],
      "source": [
        "import urllib\n",
        "import shutil\n",
        "import os\n",
        "import time\n",
        "import copy\n",
        "import json\n",
        "\n",
        "import pandas as pd\n",
        "import numpy as np\n",
        "\n",
        "from PIL import Image\n",
        "import matplotlib.pyplot as plt\n",
        "\n",
        "from tqdm import tqdm\n",
        "\n",
        "import torch\n",
        "import torchvision\n",
        "import torch.nn as nn\n",
        "import torch.optim as optim\n",
        "from torch.optim import lr_scheduler\n",
        "from torch.utils.data import SubsetRandomSampler, Dataset, DataLoader\n",
        "from torchvision import transforms, datasets \n",
        "\n",
        "from sklearn.metrics import classification_report\n",
        "\n",
        "import itertools\n",
        "     "
      ]
    },
    {
      "cell_type": "code",
      "execution_count": 2,
      "metadata": {
        "id": "yyOZc59J_IYc"
      },
      "outputs": [],
      "source": [
        "task2_id = \"1GUF43k4PJX8YvNUWJbE1RnmXeI7nVbOL\" "
      ]
    },
    {
      "cell_type": "code",
      "execution_count": 3,
      "metadata": {
        "colab": {
          "base_uri": "https://localhost:8080/"
        },
        "id": "wCcacF4f_IYe",
        "outputId": "c19a4eb9-5373-489c-b1d2-b2b932ea3a28"
      },
      "outputs": [
        {
          "name": "stdout",
          "output_type": "stream",
          "text": [
            "--2023-01-19 18:37:33--  https://docs.google.com/uc?export=download&confirm=t&id=1GUF43k4PJX8YvNUWJbE1RnmXeI7nVbOL\n",
            "Resolving docs.google.com (docs.google.com)... 142.251.10.138, 142.251.10.101, 142.251.10.102, ...\n",
            "Connecting to docs.google.com (docs.google.com)|142.251.10.138|:443... connected.\n",
            "HTTP request sent, awaiting response... 303 See Other\n",
            "Location: https://doc-04-8k-docs.googleusercontent.com/docs/securesc/ha0ro937gcuc7l7deffksulhg5h7mbp1/l6i8f33bttsueieqhgf7ckour82p22me/1674153450000/08997952672865575084/*/1GUF43k4PJX8YvNUWJbE1RnmXeI7nVbOL?e=download&uuid=a5475b9c-b253-45e2-bc63-9e72e3af5048 [following]\n",
            "Warning: wildcards not supported in HTTP.\n",
            "--2023-01-19 18:37:33--  https://doc-04-8k-docs.googleusercontent.com/docs/securesc/ha0ro937gcuc7l7deffksulhg5h7mbp1/l6i8f33bttsueieqhgf7ckour82p22me/1674153450000/08997952672865575084/*/1GUF43k4PJX8YvNUWJbE1RnmXeI7nVbOL?e=download&uuid=a5475b9c-b253-45e2-bc63-9e72e3af5048\n",
            "Resolving doc-04-8k-docs.googleusercontent.com (doc-04-8k-docs.googleusercontent.com)... 142.251.12.132, 2404:6800:4003:c11::84\n",
            "Connecting to doc-04-8k-docs.googleusercontent.com (doc-04-8k-docs.googleusercontent.com)|142.251.12.132|:443... connected.\n",
            "HTTP request sent, awaiting response... 200 OK\n",
            "Length: 75324736 (72M) [application/x-gzip]\n",
            "Saving to: ‘task2.tar.gz’\n",
            "\n",
            "task2.tar.gz        100%[===================>]  71.83M  28.8MB/s    in 2.5s    \n",
            "\n",
            "2023-01-19 18:37:36 (28.8 MB/s) - ‘task2.tar.gz’ saved [75324736/75324736]\n",
            "\n"
          ]
        }
      ],
      "source": [
        "# replace here your ide &id=1GUF43k4PJX8YvNUWJbE1RnmXeI7nVbOL\"\n",
        "# replace here your id 'https://docs.google.com/uc?export=download&id=1GUF43k4PJX8YvNUWJbE1RnmXeI7nVbOL'\n",
        "# replace here your target name -O task1.tar.gz &&\n",
        "!wget --load-cookies /tmp/cookies.txt \"https://docs.google.com/uc?export=download&confirm=$(wget --quiet --save-cookies /tmp/cookies.txt --keep-session-cookies --no-check-certificate 'https://docs.google.com/uc?export=download&id=1GUF43k4PJX8YvNUWJbE1RnmXeI7nVbOL' -O- | sed -rn 's/.*confirm=([0-9A-Za-z_]+).*/\\1\\n/p')&id=1GUF43k4PJX8YvNUWJbE1RnmXeI7nVbOL\" -O task2.tar.gz && rm -rf /tmp/cookies.txt\n"
      ]
    },
    {
      "cell_type": "code",
      "execution_count": 4,
      "metadata": {
        "id": "1bkbvqeF_IYf"
      },
      "outputs": [],
      "source": [
        "%%capture\n",
        "!mkdir data\n",
        "!mv task2.tar.gz ./data\n",
        "!tar -xzvf \"/content/data/task2.tar.gz\" -C \"/content/data/\"     #[run this cell to extract tar.gz files]\n",
        "# this may take 12 seconds"
      ]
    },
    {
      "cell_type": "code",
      "execution_count": 5,
      "metadata": {
        "id": "DLqmpUlecPCx"
      },
      "outputs": [],
      "source": [
        "experiment_info = {\n",
        "    \"iteration\": 1,\n",
        "    \"image_processing\":{\n",
        "        \"resize\":224,\n",
        "        \"mean\":[0.485, 0.456, 0.406],\n",
        "        \"std\":[0.229, 0.224, 0.225],\n",
        "    },\n",
        "    \"hyperparameters_data\": {\n",
        "        \"batch_size\":32,\n",
        "        \"shuffle_dataloader\":True,\n",
        "        \"num_workers\":4\n",
        "    },\n",
        "    \"random_seeds\":{\n",
        "        \"torch_seed\":42,\n",
        "        \"numpy_seed\":42,\n",
        "        \"cuda_seed\":42,\n",
        "\n",
        "    },\n",
        "    \"hyperparameters_training\":{\n",
        "        \"learning_rate\": 0.0001,\n",
        "        \"scheduler_step_size\":7,\n",
        "        \"scheduler_gamma\":0.1,\n",
        "        \"num_epochs\":10, \n",
        "    },\n",
        "    \"total_unlabeled\":26445,\n",
        "}\n",
        "     "
      ]
    },
    {
      "cell_type": "markdown",
      "metadata": {
        "id": "euHUUz0w_IYg"
      },
      "source": [
        "## Mount drive \n",
        "( in order to save each iteration of leave out labels)"
      ]
    },
    {
      "cell_type": "code",
      "execution_count": 6,
      "metadata": {
        "colab": {
          "base_uri": "https://localhost:8080/"
        },
        "id": "-R4ZCnSB_IYh",
        "outputId": "7f647fa6-850a-4b74-fed6-72c40c8c58fb"
      },
      "outputs": [
        {
          "name": "stdout",
          "output_type": "stream",
          "text": [
            "Mounted at /gdrive\n"
          ]
        }
      ],
      "source": [
        "from google.colab import drive\n",
        "drive.mount('/gdrive')"
      ]
    },
    {
      "cell_type": "code",
      "execution_count": 7,
      "metadata": {
        "colab": {
          "base_uri": "https://localhost:8080/"
        },
        "id": "_j0gmw68_IYi",
        "outputId": "3ccc82e0-c591-4dab-c42d-fde67184ef77"
      },
      "outputs": [
        {
          "name": "stdout",
          "output_type": "stream",
          "text": [
            "Hello Google Drive!"
          ]
        }
      ],
      "source": [
        "with open('/gdrive/MyDrive/foo.txt', 'w') as f:\n",
        "  f.write('Hello Google Drive!')\n",
        "!cat '/gdrive/MyDrive/foo.txt'"
      ]
    },
    {
      "cell_type": "code",
      "execution_count": 8,
      "metadata": {
        "id": "0w0JOuB5_IYj"
      },
      "outputs": [],
      "source": [
        "!rm '/gdrive/MyDrive/foo.txt'"
      ]
    },
    {
      "cell_type": "markdown",
      "metadata": {
        "id": "-g7qmzT4Wkbf"
      },
      "source": [
        "## Functions"
      ]
    },
    {
      "cell_type": "code",
      "execution_count": 48,
      "metadata": {
        "id": "Ci_KHZYMWqgD"
      },
      "outputs": [],
      "source": [
        "class ShuffledImageFolder(Dataset):\n",
        "    def __init__(self, dataset):\n",
        "        self.dataset = dataset\n",
        "        self.indices = torch.randperm(len(dataset))\n",
        "\n",
        "    def __getitem__(self, index):\n",
        "        path, _ = self.dataset.samples[self.indices[index]]\n",
        "        image, label = self.dataset[self.indices[index]]\n",
        "        return image, label, path\n",
        "\n",
        "    def __len__(self):\n",
        "        return len(self.dataset)"
      ]
    },
    {
      "cell_type": "code",
      "execution_count": 49,
      "metadata": {
        "id": "toHy-rW4_IYr"
      },
      "outputs": [],
      "source": [
        "def train_loop(model, scheduler, optimizer, criterion, dataset_size, dataloader):\n",
        "                     \n",
        "    running_loss = 0.0\n",
        "    running_corrects = 0\n",
        "\n",
        "    # Iterate over data.\n",
        "    for inputs, labels, _ in tqdm(dataloader):\n",
        "        inputs = inputs.to(device)\n",
        "        labels = labels.to(device)\n",
        "\n",
        "        # zero the parameter gradients\n",
        "        optimizer.zero_grad()\n",
        "\n",
        "        # forward\n",
        "        with torch.set_grad_enabled(True):\n",
        "            outputs = model(inputs)\n",
        "            _, preds = torch.max(outputs, 1)\n",
        "            loss = criterion(outputs, labels)\n",
        "\n",
        "            # backward + optimize only if in training phase\n",
        "    \n",
        "            loss.backward()\n",
        "            optimizer.step()\n",
        "\n",
        "        # statistics\n",
        "        running_loss += loss.item() * inputs.size(0)\n",
        "        running_corrects += torch.sum(preds == labels.data)\n",
        "\n",
        "    scheduler.step()\n",
        "\n",
        "    epoch_loss = running_loss / dataset_size\n",
        "    epoch_acc = running_corrects.double() / dataset_size\n",
        "    return model, epoch_loss, epoch_acc\n",
        "\n",
        "def train_model(model, *args, num_epochs=25):\n",
        "    since = time.time()\n",
        "\n",
        "    best_model_wts = copy.deepcopy(model.state_dict())\n",
        "    best_acc = 0.0\n",
        "\n",
        "    for epoch in range(num_epochs):\n",
        "        print(f'Epoch {epoch}/{num_epochs - 1}')\n",
        "        print('-' * 10)\n",
        "\n",
        "        model.train()  # Set model to training mode\n",
        "        model, epoch_loss, epoch_acc = train_loop(model, *args)\n",
        "        print(f'Loss: {epoch_loss:.4f} Acc: {epoch_acc:.4f}')\n",
        "\n",
        "        # deep copy the model\n",
        "        if epoch_acc > best_acc:\n",
        "            best_acc = epoch_acc\n",
        "            best_model_wts = copy.deepcopy(model.state_dict())\n",
        "        \n",
        "        print()\n",
        "\n",
        "    time_elapsed = time.time() - since\n",
        "    print(f'Training complete in {time_elapsed // 60:.0f}m {time_elapsed % 60:.0f}s')\n",
        "    print(f'Best val Acc: {best_acc:4f}')\n",
        "\n",
        "    # load best model weights\n",
        "    model.load_state_dict(best_model_wts)\n",
        "    return model"
      ]
    },
    {
      "cell_type": "code",
      "execution_count": 220,
      "metadata": {
        "id": "-gh3Y2c5PFYo"
      },
      "outputs": [],
      "source": [
        "def load_model(PATH, device='cuda'):\n",
        "    # Download a pytorch MobileNet pretrained model\n",
        "    model = torch.hub.load('pytorch/vision:v0.10.0', 'mobilenet_v2', pretrained=True)\n",
        "    # change the Linear output to fit our dataset ( because model initially has 1000 classes)\n",
        "    model.classifier[1] = nn.Linear(1280, 100)\n",
        "    # Read the models from drive that need to be used for the predictions\n",
        "    model.load_state_dict(torch.load(PATH, map_location=torch.device('cpu')))\n",
        "    model = model.to(device) \n",
        "    model.eval()\n",
        "    return model"
      ]
    },
    {
      "cell_type": "code",
      "execution_count": 51,
      "metadata": {
        "id": "Z7xQs8c7bkQq"
      },
      "outputs": [],
      "source": [
        "class ImageDataset(Dataset):\n",
        "    def __init__(self, image_paths):\n",
        "        self.image_paths = image_paths\n",
        "        \n",
        "    def __len__(self):\n",
        "        return len(self.image_paths)\n",
        "    \n",
        "    def __getitem__(self, index):\n",
        "        # Load the image and return it as a tensor\n",
        "        image_path = self.image_paths[index]\n",
        "        image = Image.open(image_path)\n",
        "        image = image.convert('RGB')\n",
        "        image = transforms.ToTensor()(image)\n",
        "        label = int(image_path.split(\"/\")[-2])\n",
        "        return image, label, image_path"
      ]
    },
    {
      "cell_type": "code",
      "execution_count": 52,
      "metadata": {
        "id": "ASudnmb56uIy"
      },
      "outputs": [],
      "source": [
        "def batches_to_list(batches):\n",
        "    paths_list = []\n",
        "    for batch in batches:\n",
        "        paths_list += batch\n",
        "    return paths_list\n",
        "\n",
        "def generate_new_labels(model, loader, device='cuda'):\n",
        "    # create new predictions\n",
        "    \n",
        "    predicted_labels = {\n",
        "        \"path\":[],\n",
        "        \"confidence\":[],\n",
        "        \"existing_label\":[],\n",
        "        \"label_predicted\":[]\n",
        "    }\n",
        "\n",
        "    # Each epoch has a training and validation phase \n",
        "    model.eval()   # Set model to evaluate mode \n",
        "\n",
        "    # Iterate over data. \n",
        "\n",
        "    for image, label, image_path in tqdm(loader):\n",
        "        image = image.to(device)\n",
        "\n",
        "        # forward\n",
        "        with torch.set_grad_enabled(False): # we don't want to train\n",
        "            outputs = model(image)\n",
        "            confidence, preds = torch.max(outputs, 1) \n",
        "\n",
        "        predicted_labels[\"path\"].append(image_path) \n",
        "        predicted_labels[\"confidence\"].append(confidence.item())\n",
        "        predicted_labels[\"label_predicted\"].append(preds.item())\n",
        "        predicted_labels[\"existing_label\"].append(label.item())\n",
        "\n",
        "    return predicted_labels"
      ]
    },
    {
      "cell_type": "code",
      "execution_count": 53,
      "metadata": {
        "id": "tO_cnZt4O-ea"
      },
      "outputs": [],
      "source": [
        "def train_loop2(model, scheduler, optimizer, criterion, dataset_size, dataloader1, dataloader2):\n",
        "                     \n",
        "    running_loss = 0.0\n",
        "    running_corrects = 0\n",
        "\n",
        "    # Iterate over data for confident data.\n",
        "    for inputs, labels in tqdm(dataloader1):\n",
        "        inputs = inputs.to(device)\n",
        "        labels = labels.to(device)\n",
        "\n",
        "        # zero the parameter gradients\n",
        "        optimizer.zero_grad()\n",
        "\n",
        "        # forward\n",
        "        with torch.set_grad_enabled(True):\n",
        "            outputs = model(inputs)\n",
        "            _, preds = torch.max(outputs, 1)\n",
        "            loss = criterion(outputs, labels)\n",
        "\n",
        "            # backward + optimize only if in training phase\n",
        "    \n",
        "            loss.backward()\n",
        "            optimizer.step()\n",
        "\n",
        "        # statistics\n",
        "        running_loss += loss.item() * inputs.size(0)\n",
        "        running_corrects += torch.sum(preds == labels.data)\n",
        "\n",
        "    running_loss = 0.0\n",
        "    running_corrects = 0\n",
        "\n",
        "    # Iterate over data for relabling.\n",
        "    for inputs, labels, _ in tqdm(dataloader2):\n",
        "        inputs = inputs.to(device)\n",
        "        labels = labels.to(device)\n",
        "\n",
        "        # zero the parameter gradients\n",
        "        optimizer.zero_grad()\n",
        "\n",
        "        # forward\n",
        "        with torch.set_grad_enabled(True):\n",
        "            outputs = model(inputs)\n",
        "            _, preds = torch.max(outputs, 1)\n",
        "            loss = criterion(outputs, labels)\n",
        "\n",
        "            # backward + optimize only if in training phase\n",
        "    \n",
        "            loss.backward()\n",
        "            optimizer.step()\n",
        "\n",
        "        # statistics\n",
        "        running_loss += loss.item() * inputs.size(0)\n",
        "        running_corrects += torch.sum(preds == labels.data)\n",
        "\n",
        "    scheduler.step()\n",
        "\n",
        "    epoch_loss = running_loss / dataset_size\n",
        "    epoch_acc = running_corrects.double() / dataset_size\n",
        "    return model, epoch_loss, epoch_acc\n",
        "\n",
        "def train_model2(model, *args, num_epochs=25):\n",
        "    since = time.time()\n",
        "\n",
        "    best_model_wts = copy.deepcopy(model.state_dict())\n",
        "    best_acc = 0.0\n",
        "\n",
        "    for epoch in range(num_epochs):\n",
        "        print(f'Epoch {epoch}/{num_epochs - 1}')\n",
        "        print('-' * 10)\n",
        "\n",
        "        model.train()  # Set model to training mode\n",
        "        model, epoch_loss, epoch_acc = train_loop2(model, *args)\n",
        "        print(f'Loss: {epoch_loss:.4f} Acc: {epoch_acc:.4f}')\n",
        "\n",
        "        # deep copy the model\n",
        "        if epoch_acc > best_acc:\n",
        "            best_acc = epoch_acc\n",
        "            best_model_wts = copy.deepcopy(model.state_dict())\n",
        "        \n",
        "        print()\n",
        "\n",
        "    time_elapsed = time.time() - since\n",
        "    print(f'Training complete in {time_elapsed // 60:.0f}m {time_elapsed % 60:.0f}s')\n",
        "    print(f'Best val Acc: {best_acc:4f}')\n",
        "\n",
        "    # load best model weights\n",
        "    model.load_state_dict(best_model_wts)\n",
        "    return model"
      ]
    },
    {
      "cell_type": "code",
      "execution_count": 153,
      "metadata": {
        "id": "-0Jf8W03vrbh"
      },
      "outputs": [],
      "source": [
        "def train_loop3(model, scheduler, optimizer, criterion, dataset_size, dataloader1):\n",
        "                     \n",
        "    running_loss = 0.0\n",
        "    running_corrects = 0\n",
        "\n",
        "    # Iterate over data for confident data.\n",
        "    for inputs, labels in tqdm(dataloader1):\n",
        "        inputs = inputs.to(device)\n",
        "        labels = labels.to(device)\n",
        "\n",
        "        # zero the parameter gradients\n",
        "        optimizer.zero_grad()\n",
        "\n",
        "        # forward\n",
        "        with torch.set_grad_enabled(True):\n",
        "            outputs = model(inputs)\n",
        "            _, preds = torch.max(outputs, 1)\n",
        "            loss = criterion(outputs, labels)\n",
        "\n",
        "            # backward + optimize only if in training phase\n",
        "    \n",
        "            loss.backward()\n",
        "            optimizer.step()\n",
        "\n",
        "        # statistics\n",
        "        running_loss += loss.item() * inputs.size(0)\n",
        "        running_corrects += torch.sum(preds == labels.data)\n",
        "\n",
        "    scheduler.step()\n",
        "\n",
        "    epoch_loss = running_loss / dataset_size\n",
        "    epoch_acc = running_corrects.double() / dataset_size\n",
        "    return model, epoch_loss, epoch_acc\n",
        "\n",
        "def train_model3(model, *args, num_epochs=25):\n",
        "    since = time.time()\n",
        "\n",
        "    best_model_wts = copy.deepcopy(model.state_dict())\n",
        "    best_acc = 0.0\n",
        "\n",
        "    for epoch in range(num_epochs):\n",
        "        print(f'Epoch {epoch}/{num_epochs - 1}')\n",
        "        print('-' * 10)\n",
        "\n",
        "        model.train()  # Set model to training mode\n",
        "        model, epoch_loss, epoch_acc = train_loop3(model, *args)\n",
        "        print(f'Loss: {epoch_loss:.4f} Acc: {epoch_acc:.4f}')\n",
        "\n",
        "        # deep copy the model\n",
        "        if epoch_acc > best_acc:\n",
        "            best_acc = epoch_acc\n",
        "            best_model_wts = copy.deepcopy(model.state_dict())\n",
        "        \n",
        "        print()\n",
        "\n",
        "    time_elapsed = time.time() - since\n",
        "    print(f'Training complete in {time_elapsed // 60:.0f}m {time_elapsed % 60:.0f}s')\n",
        "    print(f'Best val Acc: {best_acc:4f}')\n",
        "\n",
        "    # load best model weights\n",
        "    model.load_state_dict(best_model_wts)\n",
        "    return model"
      ]
    },
    {
      "cell_type": "code",
      "execution_count": 178,
      "metadata": {
        "id": "AqiqE-lxGyKJ"
      },
      "outputs": [],
      "source": [
        "def del_dir_if_exist(target_dir):\n",
        "    if os.path.exists(target_dir):\n",
        "        # Use rmtree to delete the directory and all its contents\n",
        "        shutil.rmtree(target_dir)\n",
        "        print(f'{target_dir} has been deleted')\n",
        "    else:\n",
        "        print(f'{target_dir} does not exist')"
      ]
    },
    {
      "cell_type": "code",
      "execution_count": 186,
      "metadata": {
        "id": "hccRF8_QId_G"
      },
      "outputs": [],
      "source": [
        "def make_dataset_folder():\n",
        "    target_dir = 'data/task2/images_by_class'\n",
        "    df = pd.read_csv('data/task2/train_data/annotations.csv')\n",
        "    # Iterate over the rows in the DataFrame\n",
        "    for _, row in tqdm(df.iterrows(), total=df.shape[0]):\n",
        "        # Extract the path and class from the row\n",
        "        path = row['renamed_path']\n",
        "        label = row['label_idx']\n",
        "        \n",
        "        # Create the directory for the class\n",
        "        class_dir = f'{target_dir}/{label}'\n",
        "        os.makedirs(class_dir, exist_ok=True)\n",
        "        \n",
        "        # Copy the file to the class directory\n",
        "        shutil.copy(f\"data/{path}\", class_dir) "
      ]
    },
    {
      "cell_type": "code",
      "execution_count": 262,
      "metadata": {
        "id": "oEGkAY3Iw7Am"
      },
      "outputs": [],
      "source": [
        "def to_csv(predicted_labels, name=\"file.csv\"):\n",
        "    pred = pd.DataFrame.from_dict(predicted_labels)\n",
        "    to_csv_paths = []\n",
        "    for it in predicted_labels['path']:\n",
        "        to_csv_paths.append(it.split('/')[-1])\n",
        "    order = [int(i[:-5]) for i in to_csv_paths]\n",
        "    # Drop that column\n",
        "    # Put whatever series you want in its place\n",
        "    pred['path'] = to_csv_paths\n",
        "    pred['order'] = order\n",
        "    pred.sort_values('order', inplace=True)\n",
        "    pred.drop([\"order\",\"confidence\"], axis=1, inplace = True)\n",
        "    pred.rename(columns={\"path\": \"sample\"}, inplace = True)\n",
        "    pred.to_csv(name, index=False)"
      ]
    },
    {
      "cell_type": "code",
      "execution_count": 193,
      "metadata": {
        "id": "OgOmpkf9LR-8"
      },
      "outputs": [],
      "source": [
        "def create_dataset_splits(splits, image_dataset):\n",
        "\n",
        "    num_samples = len(image_dataset)\n",
        "\n",
        "    # Split the image_dataset into 10 parts\n",
        "    part_size = num_samples // splits\n",
        "    parts = [list(range(i * part_size, (i + 1) * part_size)) for i in range(splits)]\n",
        "\n",
        "    batch_size = experiment_info[\"hyperparameters_data\"][\"batch_size\"]\n",
        "    # Use one part for creating new labels and the other 9 parts for training the model\n",
        "    loaders = {}\n",
        "    for i in range(splits):\n",
        "        # Get the indices for the training set, which are not in the labeling set\n",
        "        train_indices = [index for j, part in enumerate(parts) if j != i for index in part]\n",
        "        labeling_indices = parts[i]\n",
        "\n",
        "        # Create a sampler for the training set and the labeling set\n",
        "        train_sampler = SubsetRandomSampler(train_indices)\n",
        "        labeling_sampler = SubsetRandomSampler(labeling_indices)\n",
        "\n",
        "        # Use the samplers to create data loaders for the training set and the labeling set\n",
        "        train_loader = DataLoader(image_dataset, batch_size=batch_size, sampler=train_sampler)\n",
        "        labeling_loader = DataLoader(image_dataset, batch_size=batch_size, sampler=labeling_sampler)\n",
        "        loaders[i] = {\n",
        "            \"train\":train_loader, \n",
        "            \"labeling\":labeling_loader\n",
        "        }\n",
        "\n",
        "    device = torch.device(\"cuda:0\" if torch.cuda.is_available() else \"cpu\")\n",
        "\n",
        "    data_sizes = {\n",
        "        \"train\" : len(loaders[0][\"train\"]), # this is the number of batches not images\n",
        "        \"labeling\" : len(loaders[0][\"labeling\"]),\n",
        "    }\n",
        "\n",
        "    return data_sizes, loaders, device"
      ]
    },
    {
      "cell_type": "code",
      "execution_count": 196,
      "metadata": {
        "id": "nzlyTvnQMt7z"
      },
      "outputs": [],
      "source": [
        "def get_training_parameters():\n",
        "    criterion = nn.CrossEntropyLoss()\n",
        "\n",
        "    # Observe that all parameters are being optimized\n",
        "    # optimizer = optim.SGD(model.parameters(), lr=0.001, momentum=0.9)\n",
        "    optimizer = optim.Adam(\n",
        "        model.parameters(),\n",
        "        lr=experiment_info[\"hyperparameters_training\"][\"learning_rate\"],\n",
        "        )\n",
        "\n",
        "    # Decay LR by a factor of 0.1 every 7 epochs\n",
        "    exp_lr_scheduler = lr_scheduler.StepLR(\n",
        "        optimizer, \n",
        "        step_size=experiment_info[\"hyperparameters_training\"][\"scheduler_step_size\"], \n",
        "        gamma=experiment_info[\"hyperparameters_training\"][\"scheduler_gamma\"],\n",
        "        )\n",
        "    return criterion, optimizer, exp_lr_scheduler"
      ]
    },
    {
      "cell_type": "code",
      "execution_count": 322,
      "metadata": {
        "id": "IHy4ifv6s1yK"
      },
      "outputs": [],
      "source": [
        "def prep_to_merge(labels_predicted, splits):\n",
        "    df = []\n",
        "    for i in range(splits):\n",
        "        predictions1=pd.DataFrame.from_dict(labels_predicted[str(i)],orient='index').transpose() \n",
        "        df.append(predictions1)\n",
        "\n",
        "    df_all = pd.concat(df)\n",
        "    df_all['path'] = df_all['path'].apply(lambda x: x[0])\n",
        "    return df_all"
      ]
    },
    {
      "cell_type": "markdown",
      "metadata": {
        "id": "21Vc-VIr_IYk"
      },
      "source": [
        "## Seting up things"
      ]
    },
    {
      "cell_type": "code",
      "execution_count": 9,
      "metadata": {
        "id": "JQr89Fhv_IYl"
      },
      "outputs": [],
      "source": [
        "# Set up seeds for reproducibility\n",
        "np.random.seed(experiment_info[\"random_seeds\"][\"numpy_seed\"])\n",
        "torch.manual_seed(experiment_info[\"random_seeds\"][\"torch_seed\"])\n",
        "torch.cuda.manual_seed_all(experiment_info[\"random_seeds\"][\"cuda_seed\"])"
      ]
    },
    {
      "cell_type": "code",
      "execution_count": 10,
      "metadata": {
        "id": "M51baF3B_IYn"
      },
      "outputs": [],
      "source": [
        "dir_data = 'data/task2/train_data/'\n",
        "# Read the annotations file into a DataFrame"
      ]
    },
    {
      "cell_type": "code",
      "execution_count": 12,
      "metadata": {
        "colab": {
          "base_uri": "https://localhost:8080/"
        },
        "id": "YhxmBea3_IYo",
        "outputId": "0d95ee4e-14ee-4880-eecf-f5e95c9078d2"
      },
      "outputs": [
        {
          "name": "stdout",
          "output_type": "stream",
          "text": [
            "data/task2/images_by_class does not exist\n"
          ]
        },
        {
          "name": "stderr",
          "output_type": "stream",
          "text": [
            "100%|██████████| 50000/50000 [00:15<00:00, 3158.18it/s]\n"
          ]
        }
      ],
      "source": [
        "# Check if the directory exists, to recreate it instead of messing it up\n",
        "target_dir = 'data/task2/images_by_class'\n",
        "\n",
        "del_dir_if_exist(target_dir)\n",
        "\n",
        "make_dataset_folder()"
      ]
    },
    {
      "cell_type": "markdown",
      "metadata": {
        "id": "ZtQ5oHh6XdJA"
      },
      "source": [
        "# Iteration 1"
      ]
    },
    {
      "cell_type": "markdown",
      "metadata": {
        "id": "FSoVcX3tdmlU"
      },
      "source": [
        "## Create datset splits for pseudo-labeling"
      ]
    },
    {
      "cell_type": "code",
      "execution_count": null,
      "metadata": {
        "id": "pOGkTh1scJR_"
      },
      "outputs": [],
      "source": [
        "preprocess = transforms.Compose([\n",
        "    transforms.Resize(experiment_info[\"image_processing\"][\"resize\"]),\n",
        "    transforms.ToTensor(),\n",
        "    transforms.Normalize(mean=experiment_info[\"image_processing\"][\"mean\"],\n",
        "                         std=experiment_info[\"image_processing\"][\"std\"]),\n",
        "    ])"
      ]
    },
    {
      "cell_type": "code",
      "execution_count": null,
      "metadata": {
        "id": "7iflapmiM4QO"
      },
      "outputs": [],
      "source": [
        "data_dir = 'data/task2/images_by_class'\n",
        "image_dataset_unshuffled = datasets.ImageFolder(data_dir, preprocess)\n",
        "image_dataset = ShuffledImageFolder(image_dataset_unshuffled)"
      ]
    },
    {
      "cell_type": "code",
      "execution_count": null,
      "metadata": {
        "id": "r26i0ApmLjLB"
      },
      "outputs": [],
      "source": [
        "splits = 10\n",
        "data_sizes, loaders, device = create_dataset_splits(splits, image_dataset)"
      ]
    },
    {
      "cell_type": "markdown",
      "metadata": {
        "id": "J1WLWbz0VBiP"
      },
      "source": [
        "### sanity check\n",
        "See how many labels are in each training set\n",
        "Visualize the distribution of labels"
      ]
    },
    {
      "cell_type": "code",
      "execution_count": null,
      "metadata": {
        "colab": {
          "base_uri": "https://localhost:8080/"
        },
        "id": "OrjSwJ29xbgv",
        "outputId": "6736d904-0171-410a-9774-726ea84f64a2"
      },
      "outputs": [
        {
          "name": "stdout",
          "output_type": "stream",
          "text": [
            "45024\n",
            "5024\n"
          ]
        }
      ],
      "source": [
        "\n",
        "print(len(loaders[0][\"train\"])*batch_size)\n",
        "print(len(loaders[0][\"labeling\"])*batch_size)\n"
      ]
    },
    {
      "cell_type": "code",
      "execution_count": null,
      "metadata": {
        "colab": {
          "base_uri": "https://localhost:8080/"
        },
        "id": "8GIbW5b8TW-B",
        "outputId": "f8d448c9-864d-4df6-d739-070cf41ceec3"
      },
      "outputs": [
        {
          "name": "stderr",
          "output_type": "stream",
          "text": [
            "100%|██████████| 1407/1407 [01:23<00:00, 16.77it/s]\n"
          ]
        }
      ],
      "source": [
        "# sanity check, verify the distribution of labels in training and labeling sets\n",
        "labels_for_distribution = [label_batch for _,label_batch,_ in tqdm(loaders[0][\"train\"])]"
      ]
    },
    {
      "cell_type": "code",
      "execution_count": null,
      "metadata": {
        "id": "VkOog_OqUEON"
      },
      "outputs": [],
      "source": [
        "labels_distrib = torch.cat(labels_for_distribution)"
      ]
    },
    {
      "cell_type": "code",
      "execution_count": null,
      "metadata": {
        "colab": {
          "base_uri": "https://localhost:8080/",
          "height": 312
        },
        "id": "z1Mj6kPMuCPN",
        "outputId": "7eea9428-09c3-49f3-fbfd-6d84b798d4a1"
      },
      "outputs": [
        {
          "data": {
            "text/plain": [
              "Text(0.5, 1.0, 'Distribution of Labels')"
            ]
          },
          "execution_count": 34,
          "metadata": {},
          "output_type": "execute_result"
        },
        {
          "data": {
            "image/png": "[encoded data removed]",
            "text/plain": [
              "<Figure size 432x288 with 1 Axes>"
            ]
          },
          "metadata": {
            "needs_background": "light"
          },
          "output_type": "display_data"
        }
      ],
      "source": [
        "counts, bins, patches = plt.hist(labels_distrib, bins = 100)\n",
        "\n",
        "# Set x-axis label\n",
        "plt.xlabel('Labels')\n",
        "plt.xticks(bins, bins.astype(int))\n",
        "# Set y-axis label\n",
        "plt.ylabel('Number of Observations')\n",
        "\n",
        "# Set plot title\n",
        "plt.title('Distribution of Labels')  "
      ]
    },
    {
      "cell_type": "markdown",
      "metadata": {
        "id": "dgSVdENHZedr"
      },
      "source": [
        "## Train on the remaining data "
      ]
    },
    {
      "cell_type": "code",
      "execution_count": null,
      "metadata": {
        "colab": {
          "base_uri": "https://localhost:8080/",
          "height": 243,
          "referenced_widgets": [
            "eb68d62d599a462f92aaca0ab0b854e3",
            "6eed1376f1f24e8abbe2d4ea0ca3fcb1",
            "07c37bb6b22b4c8abe8d16b61e28e1db",
            "15a23332521441cab29f7acedc079b16",
            "816420dd910b475faa99a8e9ef6eebd4",
            "71a16d1906924e738fc1baa304d94811",
            "a74028e913de43d3b1eae97433d91882",
            "07868acd1960497680b904b81fd0eaf9",
            "a56ed7ebe21c4011a23a63cad606d40c",
            "ba437891973d4629b4881ccb11f044ae",
            "a75d7f60d1c24475a1540bc1cfe94f7b"
          ]
        },
        "id": "C69DiUz3ZkEV",
        "outputId": "2eab0188-0052-48d7-de51-10af01ec0845"
      },
      "outputs": [
        {
          "name": "stderr",
          "output_type": "stream",
          "text": [
            "Downloading: \"https://github.com/pytorch/vision/zipball/v0.10.0\" to /root/.cache/torch/hub/v0.10.0.zip\n",
            "/usr/local/lib/python3.8/dist-packages/torchvision/models/_utils.py:208: UserWarning: The parameter 'pretrained' is deprecated since 0.13 and may be removed in the future, please use 'weights' instead.\n",
            "  warnings.warn(\n",
            "/usr/local/lib/python3.8/dist-packages/torchvision/models/_utils.py:223: UserWarning: Arguments other than a weight enum or `None` for 'weights' are deprecated since 0.13 and may be removed in the future. The current behavior is equivalent to passing `weights=MobileNet_V2_Weights.IMAGENET1K_V1`. You can also use `weights=MobileNet_V2_Weights.DEFAULT` to get the most up-to-date weights.\n",
            "  warnings.warn(msg)\n",
            "Downloading: \"https://download.pytorch.org/models/mobilenet_v2-b0353104.pth\" to /root/.cache/torch/hub/checkpoints/mobilenet_v2-b0353104.pth\n"
          ]
        },
        {
          "data": {
            "application/vnd.jupyter.widget-view+json": {
              "model_id": "eb68d62d599a462f92aaca0ab0b854e3",
              "version_major": 2,
              "version_minor": 0
            },
            "text/plain": [
              "  0%|          | 0.00/13.6M [00:00<?, ?B/s]"
            ]
          },
          "metadata": {},
          "output_type": "display_data"
        },
        {
          "name": "stdout",
          "output_type": "stream",
          "text": [
            "Sequential(\n",
            "  (0): Dropout(p=0.2, inplace=False)\n",
            "  (1): Linear(in_features=1280, out_features=100, bias=True)\n",
            ")\n"
          ]
        }
      ],
      "source": [
        "# Download a pytorch MobileNet pretrained model\n",
        "model = torch.hub.load('pytorch/vision:v0.10.0', 'mobilenet_v2', pretrained=True)\n",
        "# change the Linear output to fit our dataset ( because model initially has 1000 classes)\n",
        "model.classifier[1] = nn.Linear(1280, 100)\n",
        "# Setting hyperparameters\n",
        "\n",
        "model = model.to(device)\n",
        "print(model.classifier)\n",
        "     "
      ]
    },
    {
      "cell_type": "code",
      "execution_count": null,
      "metadata": {
        "id": "8Mprko1yaAI-"
      },
      "outputs": [],
      "source": [
        "criterion = nn.CrossEntropyLoss()\n",
        "\n",
        "# Observe that all parameters are being optimized\n",
        "# optimizer = optim.SGD(model.parameters(), lr=0.001, momentum=0.9)\n",
        "optimizer = optim.Adam(\n",
        "    model.parameters(),\n",
        "    lr=experiment_info[\"hyperparameters_training\"][\"learning_rate\"],\n",
        "    )\n",
        "\n",
        "# Decay LR by a factor of 0.1 every 7 epochs\n",
        "exp_lr_scheduler = lr_scheduler.StepLR(\n",
        "    optimizer, \n",
        "    step_size=experiment_info[\"hyperparameters_training\"][\"scheduler_step_size\"], \n",
        "    gamma=experiment_info[\"hyperparameters_training\"][\"scheduler_gamma\"],\n",
        "    )\n",
        "     "
      ]
    },
    {
      "cell_type": "code",
      "execution_count": null,
      "metadata": {
        "colab": {
          "base_uri": "https://localhost:8080/"
        },
        "id": "vmCqNZ-saHr3",
        "outputId": "badfeed4-5771-4c1f-eca6-47f93af79d12"
      },
      "outputs": [
        {
          "name": "stdout",
          "output_type": "stream",
          "text": [
            "Epoch 0/9\n",
            "----------\n"
          ]
        },
        {
          "name": "stderr",
          "output_type": "stream",
          "text": [
            "100%|██████████| 1407/1407 [04:26<00:00,  5.29it/s]\n"
          ]
        },
        {
          "name": "stdout",
          "output_type": "stream",
          "text": [
            "Loss: 72.5423 Acc: 13.7484\n",
            "\n",
            "Epoch 1/9\n",
            "----------\n"
          ]
        },
        {
          "name": "stderr",
          "output_type": "stream",
          "text": [
            "100%|██████████| 1407/1407 [04:18<00:00,  5.45it/s]\n"
          ]
        },
        {
          "name": "stdout",
          "output_type": "stream",
          "text": [
            "Loss: 45.0769 Acc: 19.0071\n",
            "\n",
            "Epoch 2/9\n",
            "----------\n"
          ]
        },
        {
          "name": "stderr",
          "output_type": "stream",
          "text": [
            "100%|██████████| 1407/1407 [04:18<00:00,  5.45it/s]\n"
          ]
        },
        {
          "name": "stdout",
          "output_type": "stream",
          "text": [
            "Loss: 36.1820 Acc: 20.9026\n",
            "\n",
            "Epoch 3/9\n",
            "----------\n"
          ]
        },
        {
          "name": "stderr",
          "output_type": "stream",
          "text": [
            "100%|██████████| 1407/1407 [04:16<00:00,  5.47it/s]\n"
          ]
        },
        {
          "name": "stdout",
          "output_type": "stream",
          "text": [
            "Loss: 29.3312 Acc: 22.5622\n",
            "\n",
            "Epoch 4/9\n",
            "----------\n"
          ]
        },
        {
          "name": "stderr",
          "output_type": "stream",
          "text": [
            "100%|██████████| 1407/1407 [04:16<00:00,  5.48it/s]\n"
          ]
        },
        {
          "name": "stdout",
          "output_type": "stream",
          "text": [
            "Loss: 23.8855 Acc: 24.1471\n",
            "\n",
            "Epoch 5/9\n",
            "----------\n"
          ]
        },
        {
          "name": "stderr",
          "output_type": "stream",
          "text": [
            "100%|██████████| 1407/1407 [04:16<00:00,  5.49it/s]\n"
          ]
        },
        {
          "name": "stdout",
          "output_type": "stream",
          "text": [
            "Loss: 19.0713 Acc: 25.5572\n",
            "\n",
            "Epoch 6/9\n",
            "----------\n"
          ]
        },
        {
          "name": "stderr",
          "output_type": "stream",
          "text": [
            "100%|██████████| 1407/1407 [04:15<00:00,  5.50it/s]\n"
          ]
        },
        {
          "name": "stdout",
          "output_type": "stream",
          "text": [
            "Loss: 15.4470 Acc: 26.7960\n",
            "\n",
            "Epoch 7/9\n",
            "----------\n"
          ]
        },
        {
          "name": "stderr",
          "output_type": "stream",
          "text": [
            "100%|██████████| 1407/1407 [04:15<00:00,  5.51it/s]\n"
          ]
        },
        {
          "name": "stdout",
          "output_type": "stream",
          "text": [
            "Loss: 8.7784 Acc: 29.4200\n",
            "\n",
            "Epoch 8/9\n",
            "----------\n"
          ]
        },
        {
          "name": "stderr",
          "output_type": "stream",
          "text": [
            "100%|██████████| 1407/1407 [04:14<00:00,  5.52it/s]\n"
          ]
        },
        {
          "name": "stdout",
          "output_type": "stream",
          "text": [
            "Loss: 6.8999 Acc: 30.1770\n",
            "\n",
            "Epoch 9/9\n",
            "----------\n"
          ]
        },
        {
          "name": "stderr",
          "output_type": "stream",
          "text": [
            "100%|██████████| 1407/1407 [04:15<00:00,  5.50it/s]"
          ]
        },
        {
          "name": "stdout",
          "output_type": "stream",
          "text": [
            "Loss: 5.9939 Acc: 30.5394\n",
            "\n",
            "Training complete in 42m 54s\n",
            "Best val Acc: 30.539446\n"
          ]
        },
        {
          "name": "stderr",
          "output_type": "stream",
          "text": [
            "\n"
          ]
        }
      ],
      "source": [
        "model = train_model(model, \n",
        "                    exp_lr_scheduler, \n",
        "                    optimizer, \n",
        "                    criterion,  \n",
        "                    data_sizes[\"train\"], \n",
        "                    loaders[0][\"train\"], \n",
        "                    num_epochs=experiment_info[\"hyperparameters_training\"][\"num_epochs\"])"
      ]
    },
    {
      "cell_type": "markdown",
      "metadata": {
        "id": "q8xaVIRwm8PG"
      },
      "source": [
        "## Repeat process for the other iterations"
      ]
    },
    {
      "cell_type": "code",
      "execution_count": null,
      "metadata": {
        "id": "jIZWJhNplVOl"
      },
      "outputs": [],
      "source": [
        "# because unlike the missing labels example, the iterations are independent from eachother\n",
        "# We can train all the models at once, than make predictions for all the labels at once\n",
        "# this makes the things simpler"
      ]
    },
    {
      "cell_type": "code",
      "execution_count": null,
      "metadata": {
        "id": "L5s4zlU1j_Py"
      },
      "outputs": [],
      "source": [
        "# Save the model\n",
        "torch.save(model.state_dict(), '/gdrive/MyDrive/checkpoints/noisy_labels/model_it_0.pt')"
      ]
    },
    {
      "cell_type": "code",
      "execution_count": null,
      "metadata": {
        "colab": {
          "base_uri": "https://localhost:8080/"
        },
        "id": "Zq3Ax7_Pm6By",
        "outputId": "8328961f-1389-437e-f643-02c9b3034311"
      },
      "outputs": [
        {
          "name": "stderr",
          "output_type": "stream",
          "text": [
            "Using cache found in /root/.cache/torch/hub/pytorch_vision_v0.10.0\n",
            "/usr/local/lib/python3.8/dist-packages/torchvision/models/_utils.py:208: UserWarning: The parameter 'pretrained' is deprecated since 0.13 and may be removed in the future, please use 'weights' instead.\n",
            "  warnings.warn(\n",
            "/usr/local/lib/python3.8/dist-packages/torchvision/models/_utils.py:223: UserWarning: Arguments other than a weight enum or `None` for 'weights' are deprecated since 0.13 and may be removed in the future. The current behavior is equivalent to passing `weights=MobileNet_V2_Weights.IMAGENET1K_V1`. You can also use `weights=MobileNet_V2_Weights.DEFAULT` to get the most up-to-date weights.\n",
            "  warnings.warn(msg)\n"
          ]
        },
        {
          "name": "stdout",
          "output_type": "stream",
          "text": [
            "Epoch 0/9\n",
            "----------\n"
          ]
        },
        {
          "name": "stderr",
          "output_type": "stream",
          "text": [
            "100%|██████████| 1407/1407 [04:18<00:00,  5.45it/s]\n"
          ]
        },
        {
          "name": "stdout",
          "output_type": "stream",
          "text": [
            "Loss: 150.3708 Acc: 0.3042\n",
            "\n",
            "Epoch 1/9\n",
            "----------\n"
          ]
        },
        {
          "name": "stderr",
          "output_type": "stream",
          "text": [
            "100%|██████████| 1407/1407 [04:17<00:00,  5.46it/s]\n"
          ]
        },
        {
          "name": "stdout",
          "output_type": "stream",
          "text": [
            "Loss: 150.4221 Acc: 0.3113\n",
            "\n",
            "Epoch 2/9\n",
            "----------\n"
          ]
        },
        {
          "name": "stderr",
          "output_type": "stream",
          "text": [
            "100%|██████████| 1407/1407 [04:17<00:00,  5.46it/s]\n"
          ]
        },
        {
          "name": "stdout",
          "output_type": "stream",
          "text": [
            "Loss: 150.4296 Acc: 0.3149\n",
            "\n",
            "Epoch 3/9\n",
            "----------\n"
          ]
        },
        {
          "name": "stderr",
          "output_type": "stream",
          "text": [
            "100%|██████████| 1407/1407 [04:17<00:00,  5.47it/s]\n"
          ]
        },
        {
          "name": "stdout",
          "output_type": "stream",
          "text": [
            "Loss: 150.4003 Acc: 0.3369\n",
            "\n",
            "Epoch 4/9\n",
            "----------\n"
          ]
        },
        {
          "name": "stderr",
          "output_type": "stream",
          "text": [
            "100%|██████████| 1407/1407 [04:16<00:00,  5.48it/s]\n"
          ]
        },
        {
          "name": "stdout",
          "output_type": "stream",
          "text": [
            "Loss: 150.4245 Acc: 0.3028\n",
            "\n",
            "Epoch 5/9\n",
            "----------\n"
          ]
        },
        {
          "name": "stderr",
          "output_type": "stream",
          "text": [
            "100%|██████████| 1407/1407 [04:18<00:00,  5.45it/s]\n"
          ]
        },
        {
          "name": "stdout",
          "output_type": "stream",
          "text": [
            "Loss: 150.4086 Acc: 0.3220\n",
            "\n",
            "Epoch 6/9\n",
            "----------\n"
          ]
        },
        {
          "name": "stderr",
          "output_type": "stream",
          "text": [
            "100%|██████████| 1407/1407 [04:18<00:00,  5.45it/s]\n"
          ]
        },
        {
          "name": "stdout",
          "output_type": "stream",
          "text": [
            "Loss: 150.4538 Acc: 0.3298\n",
            "\n",
            "Epoch 7/9\n",
            "----------\n"
          ]
        },
        {
          "name": "stderr",
          "output_type": "stream",
          "text": [
            "100%|██████████| 1407/1407 [04:19<00:00,  5.43it/s]\n"
          ]
        },
        {
          "name": "stdout",
          "output_type": "stream",
          "text": [
            "Loss: 150.3897 Acc: 0.3390\n",
            "\n",
            "Epoch 8/9\n",
            "----------\n"
          ]
        },
        {
          "name": "stderr",
          "output_type": "stream",
          "text": [
            "100%|██████████| 1407/1407 [04:18<00:00,  5.44it/s]\n"
          ]
        },
        {
          "name": "stdout",
          "output_type": "stream",
          "text": [
            "Loss: 150.4531 Acc: 0.3177\n",
            "\n",
            "Epoch 9/9\n",
            "----------\n"
          ]
        },
        {
          "name": "stderr",
          "output_type": "stream",
          "text": [
            "100%|██████████| 1407/1407 [04:18<00:00,  5.45it/s]\n",
            "Using cache found in /root/.cache/torch/hub/pytorch_vision_v0.10.0\n"
          ]
        },
        {
          "name": "stdout",
          "output_type": "stream",
          "text": [
            "Loss: 150.4248 Acc: 0.3383\n",
            "\n",
            "Training complete in 43m 0s\n",
            "Best val Acc: 0.339019\n",
            "Epoch 0/9\n",
            "----------\n"
          ]
        },
        {
          "name": "stderr",
          "output_type": "stream",
          "text": [
            "100%|██████████| 1407/1407 [04:17<00:00,  5.46it/s]\n"
          ]
        },
        {
          "name": "stdout",
          "output_type": "stream",
          "text": [
            "Loss: 150.5652 Acc: 0.2687\n",
            "\n",
            "Epoch 1/9\n",
            "----------\n"
          ]
        },
        {
          "name": "stderr",
          "output_type": "stream",
          "text": [
            "100%|██████████| 1407/1407 [04:16<00:00,  5.49it/s]\n"
          ]
        },
        {
          "name": "stdout",
          "output_type": "stream",
          "text": [
            "Loss: 150.5455 Acc: 0.2694\n",
            "\n",
            "Epoch 2/9\n",
            "----------\n"
          ]
        },
        {
          "name": "stderr",
          "output_type": "stream",
          "text": [
            "100%|██████████| 1407/1407 [04:14<00:00,  5.53it/s]\n"
          ]
        },
        {
          "name": "stdout",
          "output_type": "stream",
          "text": [
            "Loss: 150.5926 Acc: 0.2608\n",
            "\n",
            "Epoch 3/9\n",
            "----------\n"
          ]
        },
        {
          "name": "stderr",
          "output_type": "stream",
          "text": [
            "100%|██████████| 1407/1407 [04:14<00:00,  5.53it/s]\n"
          ]
        },
        {
          "name": "stdout",
          "output_type": "stream",
          "text": [
            "Loss: 150.5716 Acc: 0.2580\n",
            "\n",
            "Epoch 4/9\n",
            "----------\n"
          ]
        },
        {
          "name": "stderr",
          "output_type": "stream",
          "text": [
            "100%|██████████| 1407/1407 [04:14<00:00,  5.53it/s]\n"
          ]
        },
        {
          "name": "stdout",
          "output_type": "stream",
          "text": [
            "Loss: 150.5509 Acc: 0.2523\n",
            "\n",
            "Epoch 5/9\n",
            "----------\n"
          ]
        },
        {
          "name": "stderr",
          "output_type": "stream",
          "text": [
            "100%|██████████| 1407/1407 [04:15<00:00,  5.51it/s]\n"
          ]
        },
        {
          "name": "stdout",
          "output_type": "stream",
          "text": [
            "Loss: 150.5032 Acc: 0.2587\n",
            "\n",
            "Epoch 6/9\n",
            "----------\n"
          ]
        },
        {
          "name": "stderr",
          "output_type": "stream",
          "text": [
            "100%|██████████| 1407/1407 [04:15<00:00,  5.51it/s]\n"
          ]
        },
        {
          "name": "stdout",
          "output_type": "stream",
          "text": [
            "Loss: 150.5528 Acc: 0.2601\n",
            "\n",
            "Epoch 7/9\n",
            "----------\n"
          ]
        },
        {
          "name": "stderr",
          "output_type": "stream",
          "text": [
            "100%|██████████| 1407/1407 [04:14<00:00,  5.53it/s]\n"
          ]
        },
        {
          "name": "stdout",
          "output_type": "stream",
          "text": [
            "Loss: 150.5674 Acc: 0.2715\n",
            "\n",
            "Epoch 8/9\n",
            "----------\n"
          ]
        },
        {
          "name": "stderr",
          "output_type": "stream",
          "text": [
            "100%|██████████| 1407/1407 [04:15<00:00,  5.51it/s]\n"
          ]
        },
        {
          "name": "stdout",
          "output_type": "stream",
          "text": [
            "Loss: 150.5859 Acc: 0.2694\n",
            "\n",
            "Epoch 9/9\n",
            "----------\n"
          ]
        },
        {
          "name": "stderr",
          "output_type": "stream",
          "text": [
            "100%|██████████| 1407/1407 [04:14<00:00,  5.53it/s]\n",
            "Using cache found in /root/.cache/torch/hub/pytorch_vision_v0.10.0\n"
          ]
        },
        {
          "name": "stdout",
          "output_type": "stream",
          "text": [
            "Loss: 150.5112 Acc: 0.2559\n",
            "\n",
            "Training complete in 42m 32s\n",
            "Best val Acc: 0.271500\n",
            "Epoch 0/9\n",
            "----------\n"
          ]
        },
        {
          "name": "stderr",
          "output_type": "stream",
          "text": [
            "100%|██████████| 1407/1407 [04:14<00:00,  5.52it/s]\n"
          ]
        },
        {
          "name": "stdout",
          "output_type": "stream",
          "text": [
            "Loss: 150.1574 Acc: 0.2992\n",
            "\n",
            "Epoch 1/9\n",
            "----------\n"
          ]
        },
        {
          "name": "stderr",
          "output_type": "stream",
          "text": [
            "100%|██████████| 1407/1407 [04:14<00:00,  5.52it/s]\n"
          ]
        },
        {
          "name": "stdout",
          "output_type": "stream",
          "text": [
            "Loss: 150.2140 Acc: 0.3021\n",
            "\n",
            "Epoch 2/9\n",
            "----------\n"
          ]
        },
        {
          "name": "stderr",
          "output_type": "stream",
          "text": [
            "100%|██████████| 1407/1407 [04:14<00:00,  5.53it/s]\n"
          ]
        },
        {
          "name": "stdout",
          "output_type": "stream",
          "text": [
            "Loss: 150.2206 Acc: 0.2822\n",
            "\n",
            "Epoch 3/9\n",
            "----------\n"
          ]
        },
        {
          "name": "stderr",
          "output_type": "stream",
          "text": [
            "100%|██████████| 1407/1407 [04:14<00:00,  5.52it/s]\n"
          ]
        },
        {
          "name": "stdout",
          "output_type": "stream",
          "text": [
            "Loss: 150.1759 Acc: 0.2878\n",
            "\n",
            "Epoch 4/9\n",
            "----------\n"
          ]
        },
        {
          "name": "stderr",
          "output_type": "stream",
          "text": [
            "100%|██████████| 1407/1407 [04:14<00:00,  5.53it/s]\n"
          ]
        },
        {
          "name": "stdout",
          "output_type": "stream",
          "text": [
            "Loss: 150.1663 Acc: 0.2999\n",
            "\n",
            "Epoch 5/9\n",
            "----------\n"
          ]
        },
        {
          "name": "stderr",
          "output_type": "stream",
          "text": [
            "100%|██████████| 1407/1407 [04:14<00:00,  5.53it/s]\n"
          ]
        },
        {
          "name": "stdout",
          "output_type": "stream",
          "text": [
            "Loss: 150.2137 Acc: 0.2978\n",
            "\n",
            "Epoch 6/9\n",
            "----------\n"
          ]
        },
        {
          "name": "stderr",
          "output_type": "stream",
          "text": [
            "100%|██████████| 1407/1407 [04:14<00:00,  5.52it/s]\n"
          ]
        },
        {
          "name": "stdout",
          "output_type": "stream",
          "text": [
            "Loss: 150.2461 Acc: 0.2701\n",
            "\n",
            "Epoch 7/9\n",
            "----------\n"
          ]
        },
        {
          "name": "stderr",
          "output_type": "stream",
          "text": [
            "100%|██████████| 1407/1407 [04:14<00:00,  5.52it/s]\n"
          ]
        },
        {
          "name": "stdout",
          "output_type": "stream",
          "text": [
            "Loss: 150.1719 Acc: 0.3205\n",
            "\n",
            "Epoch 8/9\n",
            "----------\n"
          ]
        },
        {
          "name": "stderr",
          "output_type": "stream",
          "text": [
            "100%|██████████| 1407/1407 [04:17<00:00,  5.45it/s]\n"
          ]
        },
        {
          "name": "stdout",
          "output_type": "stream",
          "text": [
            "Loss: 150.2607 Acc: 0.2857\n",
            "\n",
            "Epoch 9/9\n",
            "----------\n"
          ]
        },
        {
          "name": "stderr",
          "output_type": "stream",
          "text": [
            "100%|██████████| 1407/1407 [04:17<00:00,  5.46it/s]\n",
            "Using cache found in /root/.cache/torch/hub/pytorch_vision_v0.10.0\n"
          ]
        },
        {
          "name": "stdout",
          "output_type": "stream",
          "text": [
            "Loss: 150.1828 Acc: 0.2935\n",
            "\n",
            "Training complete in 42m 33s\n",
            "Best val Acc: 0.320540\n",
            "Epoch 0/9\n",
            "----------\n"
          ]
        },
        {
          "name": "stderr",
          "output_type": "stream",
          "text": [
            "100%|██████████| 1407/1407 [04:16<00:00,  5.48it/s]\n"
          ]
        },
        {
          "name": "stdout",
          "output_type": "stream",
          "text": [
            "Loss: 150.5430 Acc: 0.3326\n",
            "\n",
            "Epoch 1/9\n",
            "----------\n"
          ]
        },
        {
          "name": "stderr",
          "output_type": "stream",
          "text": [
            "100%|██████████| 1407/1407 [04:16<00:00,  5.48it/s]\n"
          ]
        },
        {
          "name": "stdout",
          "output_type": "stream",
          "text": [
            "Loss: 150.6434 Acc: 0.3603\n",
            "\n",
            "Epoch 2/9\n",
            "----------\n"
          ]
        },
        {
          "name": "stderr",
          "output_type": "stream",
          "text": [
            "100%|██████████| 1407/1407 [04:16<00:00,  5.48it/s]\n"
          ]
        },
        {
          "name": "stdout",
          "output_type": "stream",
          "text": [
            "Loss: 150.5310 Acc: 0.3497\n",
            "\n",
            "Epoch 3/9\n",
            "----------\n"
          ]
        },
        {
          "name": "stderr",
          "output_type": "stream",
          "text": [
            "100%|██████████| 1407/1407 [04:16<00:00,  5.48it/s]\n"
          ]
        },
        {
          "name": "stdout",
          "output_type": "stream",
          "text": [
            "Loss: 150.6065 Acc: 0.3319\n",
            "\n",
            "Epoch 4/9\n",
            "----------\n"
          ]
        },
        {
          "name": "stderr",
          "output_type": "stream",
          "text": [
            "100%|██████████| 1407/1407 [04:18<00:00,  5.44it/s]\n"
          ]
        },
        {
          "name": "stdout",
          "output_type": "stream",
          "text": [
            "Loss: 150.5749 Acc: 0.3539\n",
            "\n",
            "Epoch 5/9\n",
            "----------\n"
          ]
        },
        {
          "name": "stderr",
          "output_type": "stream",
          "text": [
            "100%|██████████| 1407/1407 [04:18<00:00,  5.45it/s]\n"
          ]
        },
        {
          "name": "stdout",
          "output_type": "stream",
          "text": [
            "Loss: 150.5546 Acc: 0.3490\n",
            "\n",
            "Epoch 6/9\n",
            "----------\n"
          ]
        },
        {
          "name": "stderr",
          "output_type": "stream",
          "text": [
            "100%|██████████| 1407/1407 [04:18<00:00,  5.45it/s]\n"
          ]
        },
        {
          "name": "stdout",
          "output_type": "stream",
          "text": [
            "Loss: 150.5303 Acc: 0.3632\n",
            "\n",
            "Epoch 7/9\n",
            "----------\n"
          ]
        },
        {
          "name": "stderr",
          "output_type": "stream",
          "text": [
            "100%|██████████| 1407/1407 [04:18<00:00,  5.44it/s]\n"
          ]
        },
        {
          "name": "stdout",
          "output_type": "stream",
          "text": [
            "Loss: 150.6104 Acc: 0.3340\n",
            "\n",
            "Epoch 8/9\n",
            "----------\n"
          ]
        },
        {
          "name": "stderr",
          "output_type": "stream",
          "text": [
            "100%|██████████| 1407/1407 [04:18<00:00,  5.44it/s]\n"
          ]
        },
        {
          "name": "stdout",
          "output_type": "stream",
          "text": [
            "Loss: 150.5767 Acc: 0.3653\n",
            "\n",
            "Epoch 9/9\n",
            "----------\n"
          ]
        },
        {
          "name": "stderr",
          "output_type": "stream",
          "text": [
            "100%|██████████| 1407/1407 [04:17<00:00,  5.46it/s]\n",
            "Using cache found in /root/.cache/torch/hub/pytorch_vision_v0.10.0\n"
          ]
        },
        {
          "name": "stdout",
          "output_type": "stream",
          "text": [
            "Loss: 150.5474 Acc: 0.3547\n",
            "\n",
            "Training complete in 42m 58s\n",
            "Best val Acc: 0.365316\n",
            "Epoch 0/9\n",
            "----------\n"
          ]
        },
        {
          "name": "stderr",
          "output_type": "stream",
          "text": [
            "100%|██████████| 1407/1407 [04:17<00:00,  5.45it/s]\n"
          ]
        },
        {
          "name": "stdout",
          "output_type": "stream",
          "text": [
            "Loss: 149.9253 Acc: 0.4030\n",
            "\n",
            "Epoch 1/9\n",
            "----------\n"
          ]
        },
        {
          "name": "stderr",
          "output_type": "stream",
          "text": [
            "100%|██████████| 1407/1407 [04:17<00:00,  5.46it/s]\n"
          ]
        },
        {
          "name": "stdout",
          "output_type": "stream",
          "text": [
            "Loss: 149.8417 Acc: 0.4108\n",
            "\n",
            "Epoch 2/9\n",
            "----------\n"
          ]
        },
        {
          "name": "stderr",
          "output_type": "stream",
          "text": [
            "100%|██████████| 1407/1407 [04:17<00:00,  5.46it/s]\n"
          ]
        },
        {
          "name": "stdout",
          "output_type": "stream",
          "text": [
            "Loss: 149.9271 Acc: 0.4200\n",
            "\n",
            "Epoch 3/9\n",
            "----------\n"
          ]
        },
        {
          "name": "stderr",
          "output_type": "stream",
          "text": [
            "100%|██████████| 1407/1407 [04:18<00:00,  5.44it/s]\n"
          ]
        },
        {
          "name": "stdout",
          "output_type": "stream",
          "text": [
            "Loss: 149.9143 Acc: 0.4335\n",
            "\n",
            "Epoch 4/9\n",
            "----------\n"
          ]
        },
        {
          "name": "stderr",
          "output_type": "stream",
          "text": [
            "100%|██████████| 1407/1407 [04:18<00:00,  5.45it/s]\n"
          ]
        },
        {
          "name": "stdout",
          "output_type": "stream",
          "text": [
            "Loss: 149.9639 Acc: 0.4172\n",
            "\n",
            "Epoch 5/9\n",
            "----------\n"
          ]
        },
        {
          "name": "stderr",
          "output_type": "stream",
          "text": [
            "100%|██████████| 1407/1407 [04:18<00:00,  5.45it/s]\n"
          ]
        },
        {
          "name": "stdout",
          "output_type": "stream",
          "text": [
            "Loss: 149.8806 Acc: 0.4193\n",
            "\n",
            "Epoch 6/9\n",
            "----------\n"
          ]
        },
        {
          "name": "stderr",
          "output_type": "stream",
          "text": [
            "100%|██████████| 1407/1407 [04:17<00:00,  5.47it/s]\n"
          ]
        },
        {
          "name": "stdout",
          "output_type": "stream",
          "text": [
            "Loss: 149.9342 Acc: 0.4151\n",
            "\n",
            "Epoch 7/9\n",
            "----------\n"
          ]
        },
        {
          "name": "stderr",
          "output_type": "stream",
          "text": [
            "100%|██████████| 1407/1407 [04:17<00:00,  5.47it/s]\n"
          ]
        },
        {
          "name": "stdout",
          "output_type": "stream",
          "text": [
            "Loss: 149.9048 Acc: 0.4080\n",
            "\n",
            "Epoch 8/9\n",
            "----------\n"
          ]
        },
        {
          "name": "stderr",
          "output_type": "stream",
          "text": [
            "100%|██████████| 1407/1407 [04:16<00:00,  5.48it/s]\n"
          ]
        },
        {
          "name": "stdout",
          "output_type": "stream",
          "text": [
            "Loss: 149.9162 Acc: 0.3980\n",
            "\n",
            "Epoch 9/9\n",
            "----------\n"
          ]
        },
        {
          "name": "stderr",
          "output_type": "stream",
          "text": [
            "100%|██████████| 1407/1407 [04:17<00:00,  5.46it/s]\n"
          ]
        },
        {
          "name": "stdout",
          "output_type": "stream",
          "text": [
            "Loss: 149.8818 Acc: 0.4271\n",
            "\n",
            "Training complete in 42m 57s\n",
            "Best val Acc: 0.433547\n"
          ]
        },
        {
          "name": "stderr",
          "output_type": "stream",
          "text": [
            "Using cache found in /root/.cache/torch/hub/pytorch_vision_v0.10.0\n"
          ]
        },
        {
          "name": "stdout",
          "output_type": "stream",
          "text": [
            "Epoch 0/9\n",
            "----------\n"
          ]
        },
        {
          "name": "stderr",
          "output_type": "stream",
          "text": [
            "100%|██████████| 1407/1407 [04:17<00:00,  5.47it/s]\n"
          ]
        },
        {
          "name": "stdout",
          "output_type": "stream",
          "text": [
            "Loss: 150.7060 Acc: 0.3689\n",
            "\n",
            "Epoch 1/9\n",
            "----------\n"
          ]
        },
        {
          "name": "stderr",
          "output_type": "stream",
          "text": [
            "100%|██████████| 1407/1407 [04:17<00:00,  5.47it/s]\n"
          ]
        },
        {
          "name": "stdout",
          "output_type": "stream",
          "text": [
            "Loss: 150.6360 Acc: 0.3234\n",
            "\n",
            "Epoch 2/9\n",
            "----------\n"
          ]
        },
        {
          "name": "stderr",
          "output_type": "stream",
          "text": [
            "100%|██████████| 1407/1407 [04:16<00:00,  5.48it/s]\n"
          ]
        },
        {
          "name": "stdout",
          "output_type": "stream",
          "text": [
            "Loss: 150.6773 Acc: 0.3369\n",
            "\n",
            "Epoch 3/9\n",
            "----------\n"
          ]
        },
        {
          "name": "stderr",
          "output_type": "stream",
          "text": [
            "100%|██████████| 1407/1407 [04:17<00:00,  5.46it/s]\n"
          ]
        },
        {
          "name": "stdout",
          "output_type": "stream",
          "text": [
            "Loss: 150.6889 Acc: 0.3383\n",
            "\n",
            "Epoch 4/9\n",
            "----------\n"
          ]
        },
        {
          "name": "stderr",
          "output_type": "stream",
          "text": [
            "100%|██████████| 1407/1407 [04:17<00:00,  5.47it/s]\n"
          ]
        },
        {
          "name": "stdout",
          "output_type": "stream",
          "text": [
            "Loss: 150.6507 Acc: 0.3525\n",
            "\n",
            "Epoch 5/9\n",
            "----------\n"
          ]
        },
        {
          "name": "stderr",
          "output_type": "stream",
          "text": [
            "100%|██████████| 1407/1407 [04:16<00:00,  5.48it/s]\n"
          ]
        },
        {
          "name": "stdout",
          "output_type": "stream",
          "text": [
            "Loss: 150.6708 Acc: 0.3333\n",
            "\n",
            "Epoch 6/9\n",
            "----------\n"
          ]
        },
        {
          "name": "stderr",
          "output_type": "stream",
          "text": [
            "100%|██████████| 1407/1407 [04:17<00:00,  5.47it/s]\n"
          ]
        },
        {
          "name": "stdout",
          "output_type": "stream",
          "text": [
            "Loss: 150.6872 Acc: 0.3184\n",
            "\n",
            "Epoch 7/9\n",
            "----------\n"
          ]
        },
        {
          "name": "stderr",
          "output_type": "stream",
          "text": [
            "100%|██████████| 1407/1407 [04:16<00:00,  5.48it/s]\n"
          ]
        },
        {
          "name": "stdout",
          "output_type": "stream",
          "text": [
            "Loss: 150.6516 Acc: 0.3198\n",
            "\n",
            "Epoch 8/9\n",
            "----------\n"
          ]
        },
        {
          "name": "stderr",
          "output_type": "stream",
          "text": [
            "100%|██████████| 1407/1407 [04:17<00:00,  5.47it/s]\n"
          ]
        },
        {
          "name": "stdout",
          "output_type": "stream",
          "text": [
            "Loss: 150.6673 Acc: 0.3276\n",
            "\n",
            "Epoch 9/9\n",
            "----------\n"
          ]
        },
        {
          "name": "stderr",
          "output_type": "stream",
          "text": [
            "100%|██████████| 1407/1407 [04:16<00:00,  5.48it/s]\n",
            "Using cache found in /root/.cache/torch/hub/pytorch_vision_v0.10.0\n"
          ]
        },
        {
          "name": "stdout",
          "output_type": "stream",
          "text": [
            "Loss: 150.6903 Acc: 0.3611\n",
            "\n",
            "Training complete in 42m 51s\n",
            "Best val Acc: 0.368870\n",
            "Epoch 0/9\n",
            "----------\n"
          ]
        },
        {
          "name": "stderr",
          "output_type": "stream",
          "text": [
            "100%|██████████| 1407/1407 [04:16<00:00,  5.48it/s]\n"
          ]
        },
        {
          "name": "stdout",
          "output_type": "stream",
          "text": [
            "Loss: 150.2038 Acc: 0.3362\n",
            "\n",
            "Epoch 1/9\n",
            "----------\n"
          ]
        },
        {
          "name": "stderr",
          "output_type": "stream",
          "text": [
            "100%|██████████| 1407/1407 [04:18<00:00,  5.45it/s]\n"
          ]
        },
        {
          "name": "stdout",
          "output_type": "stream",
          "text": [
            "Loss: 150.1416 Acc: 0.3326\n",
            "\n",
            "Epoch 2/9\n",
            "----------\n"
          ]
        },
        {
          "name": "stderr",
          "output_type": "stream",
          "text": [
            "100%|██████████| 1407/1407 [04:18<00:00,  5.45it/s]\n"
          ]
        },
        {
          "name": "stdout",
          "output_type": "stream",
          "text": [
            "Loss: 150.1803 Acc: 0.3362\n",
            "\n",
            "Epoch 3/9\n",
            "----------\n"
          ]
        },
        {
          "name": "stderr",
          "output_type": "stream",
          "text": [
            "100%|██████████| 1407/1407 [04:18<00:00,  5.44it/s]\n"
          ]
        },
        {
          "name": "stdout",
          "output_type": "stream",
          "text": [
            "Loss: 150.1441 Acc: 0.3170\n",
            "\n",
            "Epoch 4/9\n",
            "----------\n"
          ]
        },
        {
          "name": "stderr",
          "output_type": "stream",
          "text": [
            "100%|██████████| 1407/1407 [04:19<00:00,  5.42it/s]\n"
          ]
        },
        {
          "name": "stdout",
          "output_type": "stream",
          "text": [
            "Loss: 150.1624 Acc: 0.3227\n",
            "\n",
            "Epoch 5/9\n",
            "----------\n"
          ]
        },
        {
          "name": "stderr",
          "output_type": "stream",
          "text": [
            "100%|██████████| 1407/1407 [04:19<00:00,  5.42it/s]\n"
          ]
        },
        {
          "name": "stdout",
          "output_type": "stream",
          "text": [
            "Loss: 150.1674 Acc: 0.3291\n",
            "\n",
            "Epoch 6/9\n",
            "----------\n"
          ]
        },
        {
          "name": "stderr",
          "output_type": "stream",
          "text": [
            "100%|██████████| 1407/1407 [04:19<00:00,  5.42it/s]\n"
          ]
        },
        {
          "name": "stdout",
          "output_type": "stream",
          "text": [
            "Loss: 150.1685 Acc: 0.3468\n",
            "\n",
            "Epoch 7/9\n",
            "----------\n"
          ]
        },
        {
          "name": "stderr",
          "output_type": "stream",
          "text": [
            "100%|██████████| 1407/1407 [04:19<00:00,  5.43it/s]\n"
          ]
        },
        {
          "name": "stdout",
          "output_type": "stream",
          "text": [
            "Loss: 150.1829 Acc: 0.3255\n",
            "\n",
            "Epoch 8/9\n",
            "----------\n"
          ]
        },
        {
          "name": "stderr",
          "output_type": "stream",
          "text": [
            "100%|██████████| 1407/1407 [04:19<00:00,  5.42it/s]\n"
          ]
        },
        {
          "name": "stdout",
          "output_type": "stream",
          "text": [
            "Loss: 150.1622 Acc: 0.3390\n",
            "\n",
            "Epoch 9/9\n",
            "----------\n"
          ]
        },
        {
          "name": "stderr",
          "output_type": "stream",
          "text": [
            "100%|██████████| 1407/1407 [04:19<00:00,  5.42it/s]\n",
            "Using cache found in /root/.cache/torch/hub/pytorch_vision_v0.10.0\n"
          ]
        },
        {
          "name": "stdout",
          "output_type": "stream",
          "text": [
            "Loss: 150.1886 Acc: 0.3177\n",
            "\n",
            "Training complete in 43m 9s\n",
            "Best val Acc: 0.346837\n",
            "Epoch 0/9\n",
            "----------\n"
          ]
        },
        {
          "name": "stderr",
          "output_type": "stream",
          "text": [
            "100%|██████████| 1407/1407 [04:19<00:00,  5.42it/s]\n"
          ]
        },
        {
          "name": "stdout",
          "output_type": "stream",
          "text": [
            "Loss: 150.8979 Acc: 0.2402\n",
            "\n",
            "Epoch 1/9\n",
            "----------\n"
          ]
        },
        {
          "name": "stderr",
          "output_type": "stream",
          "text": [
            "100%|██████████| 1407/1407 [04:19<00:00,  5.42it/s]\n"
          ]
        },
        {
          "name": "stdout",
          "output_type": "stream",
          "text": [
            "Loss: 150.9184 Acc: 0.2082\n",
            "\n",
            "Epoch 2/9\n",
            "----------\n"
          ]
        },
        {
          "name": "stderr",
          "output_type": "stream",
          "text": [
            "100%|██████████| 1407/1407 [04:19<00:00,  5.42it/s]\n"
          ]
        },
        {
          "name": "stdout",
          "output_type": "stream",
          "text": [
            "Loss: 150.8989 Acc: 0.2701\n",
            "\n",
            "Epoch 3/9\n",
            "----------\n"
          ]
        },
        {
          "name": "stderr",
          "output_type": "stream",
          "text": [
            "100%|██████████| 1407/1407 [04:18<00:00,  5.43it/s]\n"
          ]
        },
        {
          "name": "stdout",
          "output_type": "stream",
          "text": [
            "Loss: 150.8834 Acc: 0.2274\n",
            "\n",
            "Epoch 4/9\n",
            "----------\n"
          ]
        },
        {
          "name": "stderr",
          "output_type": "stream",
          "text": [
            "100%|██████████| 1407/1407 [04:18<00:00,  5.43it/s]\n"
          ]
        },
        {
          "name": "stdout",
          "output_type": "stream",
          "text": [
            "Loss: 150.8732 Acc: 0.2459\n",
            "\n",
            "Epoch 5/9\n",
            "----------\n"
          ]
        },
        {
          "name": "stderr",
          "output_type": "stream",
          "text": [
            "100%|██████████| 1407/1407 [04:18<00:00,  5.45it/s]\n"
          ]
        },
        {
          "name": "stdout",
          "output_type": "stream",
          "text": [
            "Loss: 150.8074 Acc: 0.2530\n",
            "\n",
            "Epoch 6/9\n",
            "----------\n"
          ]
        },
        {
          "name": "stderr",
          "output_type": "stream",
          "text": [
            "100%|██████████| 1407/1407 [04:18<00:00,  5.44it/s]\n"
          ]
        },
        {
          "name": "stdout",
          "output_type": "stream",
          "text": [
            "Loss: 150.8743 Acc: 0.2672\n",
            "\n",
            "Epoch 7/9\n",
            "----------\n"
          ]
        },
        {
          "name": "stderr",
          "output_type": "stream",
          "text": [
            "100%|██████████| 1407/1407 [04:18<00:00,  5.45it/s]\n"
          ]
        },
        {
          "name": "stdout",
          "output_type": "stream",
          "text": [
            "Loss: 150.8564 Acc: 0.2367\n",
            "\n",
            "Epoch 8/9\n",
            "----------\n"
          ]
        },
        {
          "name": "stderr",
          "output_type": "stream",
          "text": [
            "100%|██████████| 1407/1407 [04:17<00:00,  5.46it/s]\n"
          ]
        },
        {
          "name": "stdout",
          "output_type": "stream",
          "text": [
            "Loss: 150.8534 Acc: 0.2360\n",
            "\n",
            "Epoch 9/9\n",
            "----------\n"
          ]
        },
        {
          "name": "stderr",
          "output_type": "stream",
          "text": [
            "100%|██████████| 1407/1407 [04:18<00:00,  5.44it/s]\n",
            "Using cache found in /root/.cache/torch/hub/pytorch_vision_v0.10.0\n"
          ]
        },
        {
          "name": "stdout",
          "output_type": "stream",
          "text": [
            "Loss: 150.8483 Acc: 0.2523\n",
            "\n",
            "Training complete in 43m 8s\n",
            "Best val Acc: 0.270078\n",
            "Epoch 0/9\n",
            "----------\n"
          ]
        },
        {
          "name": "stderr",
          "output_type": "stream",
          "text": [
            "100%|██████████| 1407/1407 [04:17<00:00,  5.46it/s]\n"
          ]
        },
        {
          "name": "stdout",
          "output_type": "stream",
          "text": [
            "Loss: 150.2236 Acc: 0.2345\n",
            "\n",
            "Epoch 1/9\n",
            "----------\n"
          ]
        },
        {
          "name": "stderr",
          "output_type": "stream",
          "text": [
            "100%|██████████| 1407/1407 [04:17<00:00,  5.46it/s]\n"
          ]
        },
        {
          "name": "stdout",
          "output_type": "stream",
          "text": [
            "Loss: 150.2041 Acc: 0.2537\n",
            "\n",
            "Epoch 2/9\n",
            "----------\n"
          ]
        },
        {
          "name": "stderr",
          "output_type": "stream",
          "text": [
            "100%|██████████| 1407/1407 [04:17<00:00,  5.46it/s]\n"
          ]
        },
        {
          "name": "stdout",
          "output_type": "stream",
          "text": [
            "Loss: 150.2436 Acc: 0.2687\n",
            "\n",
            "Epoch 3/9\n",
            "----------\n"
          ]
        },
        {
          "name": "stderr",
          "output_type": "stream",
          "text": [
            "100%|██████████| 1407/1407 [04:17<00:00,  5.47it/s]\n"
          ]
        },
        {
          "name": "stdout",
          "output_type": "stream",
          "text": [
            "Loss: 150.2801 Acc: 0.2495\n",
            "\n",
            "Epoch 4/9\n",
            "----------\n"
          ]
        },
        {
          "name": "stderr",
          "output_type": "stream",
          "text": [
            "100%|██████████| 1407/1407 [04:17<00:00,  5.46it/s]\n"
          ]
        },
        {
          "name": "stdout",
          "output_type": "stream",
          "text": [
            "Loss: 150.2507 Acc: 0.2900\n",
            "\n",
            "Epoch 5/9\n",
            "----------\n"
          ]
        },
        {
          "name": "stderr",
          "output_type": "stream",
          "text": [
            "100%|██████████| 1407/1407 [04:17<00:00,  5.47it/s]\n"
          ]
        },
        {
          "name": "stdout",
          "output_type": "stream",
          "text": [
            "Loss: 150.2444 Acc: 0.2509\n",
            "\n",
            "Epoch 6/9\n",
            "----------\n"
          ]
        },
        {
          "name": "stderr",
          "output_type": "stream",
          "text": [
            "100%|██████████| 1407/1407 [04:17<00:00,  5.47it/s]\n"
          ]
        },
        {
          "name": "stdout",
          "output_type": "stream",
          "text": [
            "Loss: 150.1874 Acc: 0.2580\n",
            "\n",
            "Epoch 7/9\n",
            "----------\n"
          ]
        },
        {
          "name": "stderr",
          "output_type": "stream",
          "text": [
            "100%|██████████| 1407/1407 [04:18<00:00,  5.45it/s]\n"
          ]
        },
        {
          "name": "stdout",
          "output_type": "stream",
          "text": [
            "Loss: 150.1854 Acc: 0.2786\n",
            "\n",
            "Epoch 8/9\n",
            "----------\n"
          ]
        },
        {
          "name": "stderr",
          "output_type": "stream",
          "text": [
            "100%|██████████| 1407/1407 [04:17<00:00,  5.45it/s]\n"
          ]
        },
        {
          "name": "stdout",
          "output_type": "stream",
          "text": [
            "Loss: 150.2250 Acc: 0.2679\n",
            "\n",
            "Epoch 9/9\n",
            "----------\n"
          ]
        },
        {
          "name": "stderr",
          "output_type": "stream",
          "text": [
            "100%|██████████| 1407/1407 [04:17<00:00,  5.45it/s]"
          ]
        },
        {
          "name": "stdout",
          "output_type": "stream",
          "text": [
            "Loss: 150.2056 Acc: 0.2694\n",
            "\n",
            "Training complete in 42m 57s\n",
            "Best val Acc: 0.289979\n"
          ]
        },
        {
          "name": "stderr",
          "output_type": "stream",
          "text": [
            "\n"
          ]
        }
      ],
      "source": [
        "for i in range(1,10): \n",
        "    model = torch.hub.load('pytorch/vision:v0.10.0', 'mobilenet_v2', pretrained=True)\n",
        "    model.classifier[1] = nn.Linear(1280, 100)\n",
        "    model = model.to(device) \n",
        "    model = train_model(model, \n",
        "                    exp_lr_scheduler, \n",
        "                    optimizer, \n",
        "                    criterion,  \n",
        "                    data_sizes[\"train\"], \n",
        "                    loaders[i][\"train\"], \n",
        "                    num_epochs=experiment_info[\"hyperparameters_training\"][\"num_epochs\"])\n",
        "    torch.save(model.state_dict(), f'/gdrive/MyDrive/checkpoints/noisy_labels/model_it_{i}.pt')"
      ]
    },
    {
      "cell_type": "markdown",
      "metadata": {
        "id": "ZsTeJsCocwyt"
      },
      "source": [
        "Save the labels that will be used for relabling in a file, such that you can leave the training of the model alone, and later when you return, even if the session has finished, you have the models trained and you know which are the images that need new labels. And you can use the checkpoints to predict them"
      ]
    },
    {
      "cell_type": "code",
      "execution_count": null,
      "metadata": {
        "colab": {
          "base_uri": "https://localhost:8080/"
        },
        "id": "iXT_CNZKny20",
        "outputId": "6af4be55-4996-48f9-9617-4d58fa769aa2"
      },
      "outputs": [
        {
          "name": "stderr",
          "output_type": "stream",
          "text": [
            "100%|██████████| 10/10 [01:23<00:00,  8.37s/it]\n"
          ]
        }
      ],
      "source": [
        "paths_labeling = {}\n",
        "for i in tqdm(range(10)):\n",
        "    paths_labeling[i] = []\n",
        "    for images, labels, paths in loaders[i]['labeling']:\n",
        "        paths_labeling[i].append(paths)"
      ]
    },
    {
      "cell_type": "code",
      "execution_count": null,
      "metadata": {
        "id": "-Z4e4GA3o37v"
      },
      "outputs": [],
      "source": [
        "# Save the experiment information to a JSON file\n",
        "with open(f'/gdrive/MyDrive/checkpoints/noisy_labels/pseudo_labeling_images_for_models.json', 'w') as f:\n",
        "    json.dump(paths_labeling, f)"
      ]
    },
    {
      "cell_type": "markdown",
      "metadata": {
        "id": "3K66q0bu_NGt"
      },
      "source": [
        "## Predict new labels"
      ]
    },
    {
      "cell_type": "code",
      "execution_count": null,
      "metadata": {
        "id": "2qtPuBm_OwUV"
      },
      "outputs": [],
      "source": [
        "# Read the json of the labels that need to be predicted\n",
        "with open('/gdrive/MyDrive/checkpoints/noisy_labels/pseudo_labeling_images_for_models.json', 'r') as f:\n",
        "    paths_labeling = json.load(f)\n"
      ]
    },
    {
      "cell_type": "code",
      "execution_count": null,
      "metadata": {
        "colab": {
          "base_uri": "https://localhost:8080/"
        },
        "id": "n4o4h4r5bseB",
        "outputId": "fce9abfa-4ba3-49c8-ccfd-e823bbdd40e1"
      },
      "outputs": [
        {
          "name": "stderr",
          "output_type": "stream",
          "text": [
            "Using cache found in /root/.cache/torch/hub/pytorch_vision_v0.10.0\n",
            "/usr/local/lib/python3.8/dist-packages/torchvision/models/_utils.py:208: UserWarning: The parameter 'pretrained' is deprecated since 0.13 and may be removed in the future, please use 'weights' instead.\n",
            "  warnings.warn(\n",
            "/usr/local/lib/python3.8/dist-packages/torchvision/models/_utils.py:223: UserWarning: Arguments other than a weight enum or `None` for 'weights' are deprecated since 0.13 and may be removed in the future. The current behavior is equivalent to passing `weights=MobileNet_V2_Weights.IMAGENET1K_V1`. You can also use `weights=MobileNet_V2_Weights.DEFAULT` to get the most up-to-date weights.\n",
            "  warnings.warn(msg)\n",
            "100%|██████████| 5000/5000 [00:30<00:00, 164.74it/s]\n",
            "Using cache found in /root/.cache/torch/hub/pytorch_vision_v0.10.0\n",
            "100%|██████████| 5000/5000 [00:31<00:00, 157.75it/s]\n",
            "Using cache found in /root/.cache/torch/hub/pytorch_vision_v0.10.0\n",
            "100%|██████████| 5000/5000 [00:30<00:00, 163.49it/s]\n",
            "Using cache found in /root/.cache/torch/hub/pytorch_vision_v0.10.0\n",
            "100%|██████████| 5000/5000 [00:30<00:00, 163.92it/s]\n",
            "Using cache found in /root/.cache/torch/hub/pytorch_vision_v0.10.0\n",
            "100%|██████████| 5000/5000 [00:31<00:00, 156.30it/s]\n",
            "Using cache found in /root/.cache/torch/hub/pytorch_vision_v0.10.0\n",
            "100%|██████████| 5000/5000 [00:31<00:00, 161.24it/s]\n",
            "Using cache found in /root/.cache/torch/hub/pytorch_vision_v0.10.0\n",
            "100%|██████████| 5000/5000 [00:30<00:00, 161.34it/s]\n",
            "Using cache found in /root/.cache/torch/hub/pytorch_vision_v0.10.0\n",
            "100%|██████████| 5000/5000 [00:30<00:00, 161.48it/s]\n",
            "Using cache found in /root/.cache/torch/hub/pytorch_vision_v0.10.0\n",
            "100%|██████████| 5000/5000 [00:31<00:00, 160.84it/s]\n",
            "Using cache found in /root/.cache/torch/hub/pytorch_vision_v0.10.0\n",
            "100%|██████████| 5000/5000 [00:30<00:00, 162.56it/s]\n"
          ]
        }
      ],
      "source": [
        "# create new dataset for pseudo-labeling\n",
        "all_predicted_labels = {}\n",
        "for iteration, paths in paths_labeling.items(): \n",
        "    paths_list = batches_to_list(paths)\n",
        "    dataset = ImageDataset(paths_list)    \n",
        "    labeling_loader = DataLoader(dataset, batch_size=1)\n",
        "    PATH = f'/gdrive/MyDrive/checkpoints/noisy_labels/model_it_{iteration}.pt'\n",
        "    model = load_model(PATH, 'cuda')\n",
        "    all_predicted_labels[iteration] = generate_new_labels(model, labeling_loader, 'cuda')  \n",
        "    # 00:33<00:00, 149.59it/s on standard GPU\n",
        "    # [00:18<02:44, 27.31it/s] on standard TPU\n"
      ]
    },
    {
      "cell_type": "code",
      "execution_count": null,
      "metadata": {
        "colab": {
          "base_uri": "https://localhost:8080/"
        },
        "id": "Os7BEdDFiI_0",
        "outputId": "d85f068c-fc7a-427e-e510-51676b1c8d22"
      },
      "outputs": [
        {
          "name": "stdout",
          "output_type": "stream",
          "text": [
            "('data/task2/images_by_class/3/1383.jpeg',)\n",
            "0.3645797073841095\n",
            "19\n",
            "3\n"
          ]
        }
      ],
      "source": [
        "# Sanity check\n",
        "for i in all_predicted_labels.items():\n",
        "    print(i[1]['path'][0])\n",
        "    print(i[1]['confidence'][0])\n",
        "    print(i[1]['label_predicted'][0])\n",
        "    print(i[1]['existing_label'][0])\n",
        "    break"
      ]
    },
    {
      "cell_type": "code",
      "execution_count": null,
      "metadata": {
        "id": "KuNeoaTNhFEZ"
      },
      "outputs": [],
      "source": [
        "# Save the new predictions and the old predictions in a file for future \n",
        "with open(f'/gdrive/MyDrive/checkpoints/noisy_labels/pseudo_labeling_first_iteration.json', 'w') as f:\n",
        "    json.dump(all_predicted_labels, f)"
      ]
    },
    {
      "cell_type": "markdown",
      "metadata": {
        "id": "Y5GTYn7k4WzO"
      },
      "source": [
        "## Analyze results pseudo-labeling"
      ]
    },
    {
      "cell_type": "markdown",
      "metadata": {
        "id": "lgF62cD4h2JY"
      },
      "source": [
        "I have created new predictions for the labels. But I have only 1 label extra label for each prediction. In order to figure out which labels are correct and which ones are not. I want to use the confidence too. Not only rely on more sessions of pseudo-labeling. Because 1 session costs me about 6 hours anyway. Using the confidence for labeling would be to use a rule similar to these ones: If the labels have the same label and there is a high confidence, I will consider the previous label as valid. If the labels are similar and the confidence is very low, I will try to run this label in another session of relabeling. If the label is different but the confidence is very low, it is probably my mistake. But if the label is different and the confidence is very high. I should probably try to create a new label for that image in another session. "
      ]
    },
    {
      "cell_type": "code",
      "execution_count": 11,
      "metadata": {
        "id": "fwLsMoYz4pCh"
      },
      "outputs": [],
      "source": [
        "with open('/gdrive/MyDrive/checkpoints/noisy_labels/pseudo_labeling_first_iteration.json', 'r') as f:\n",
        "    all_predicted_labels = json.load(f)"
      ]
    },
    {
      "cell_type": "markdown",
      "metadata": {
        "id": "RmzJre9veAf5"
      },
      "source": [
        " There are 10 splits of the data, each one has a corresponding key in this dictionary"
      ]
    },
    {
      "cell_type": "code",
      "execution_count": 12,
      "metadata": {
        "colab": {
          "base_uri": "https://localhost:8080/"
        },
        "id": "AoKd2zR1tXc3",
        "outputId": "22d7d35d-a32d-42a6-961b-1560cceaa957"
      },
      "outputs": [
        {
          "data": {
            "text/plain": [
              "dict_keys(['0', '1', '2', '3', '4', '5', '6', '7', '8', '9'])"
            ]
          },
          "execution_count": 12,
          "metadata": {},
          "output_type": "execute_result"
        }
      ],
      "source": [
        "all_predicted_labels.keys()"
      ]
    },
    {
      "cell_type": "code",
      "execution_count": 13,
      "metadata": {
        "colab": {
          "base_uri": "https://localhost:8080/"
        },
        "id": "6zbom3Zmtf_4",
        "outputId": "e8b7be2e-96d8-4c1a-f5f8-dcd998379320"
      },
      "outputs": [
        {
          "name": "stdout",
          "output_type": "stream",
          "text": [
            "                                            path confidence existing_label  \\\n",
            "0       [data/task2/images_by_class/3/1383.jpeg]    0.36458              3   \n",
            "1     [data/task2/images_by_class/76/29313.jpeg]   0.098717             76   \n",
            "2     [data/task2/images_by_class/30/12277.jpeg]   0.203538             30   \n",
            "3     [data/task2/images_by_class/59/22781.jpeg]    0.13695             59   \n",
            "4     [data/task2/images_by_class/88/34072.jpeg]   0.259119             88   \n",
            "...                                          ...        ...            ...   \n",
            "4995  [data/task2/images_by_class/56/21497.jpeg]   0.544975             56   \n",
            "4996  [data/task2/images_by_class/32/12788.jpeg]   0.115707             32   \n",
            "4997   [data/task2/images_by_class/22/8574.jpeg]   0.101662             22   \n",
            "4998  [data/task2/images_by_class/38/14964.jpeg]   0.125019             38   \n",
            "4999  [data/task2/images_by_class/82/48602.jpeg]   0.089067             82   \n",
            "\n",
            "     label_predicted  \n",
            "0                 19  \n",
            "1                 59  \n",
            "2                 34  \n",
            "3                 61  \n",
            "4                 34  \n",
            "...              ...  \n",
            "4995              34  \n",
            "4996              87  \n",
            "4997               7  \n",
            "4998              44  \n",
            "4999              19  \n",
            "\n",
            "[5000 rows x 4 columns]\n"
          ]
        }
      ],
      "source": [
        "# Load the predicted labels and confidence scores\n",
        "iteration = '0'\n",
        "predictions = pd.DataFrame.from_dict(all_predicted_labels[iteration],orient='index').transpose()\n",
        "print(predictions)"
      ]
    },
    {
      "cell_type": "code",
      "execution_count": 14,
      "metadata": {
        "colab": {
          "base_uri": "https://localhost:8080/"
        },
        "id": "TyeK6Ll-t09m",
        "outputId": "27533cb1-f1ac-4032-a0b1-7b5de250915b"
      },
      "outputs": [
        {
          "name": "stdout",
          "output_type": "stream",
          "text": [
            "How many labels have the same value after relabling ?\n",
            "False    4939\n",
            "True       61\n",
            "dtype: int64\n"
          ]
        }
      ],
      "source": [
        "print(\"How many labels have the same value after relabling ?\")\n",
        "print((predictions['existing_label'] == predictions['label_predicted']).value_counts())"
      ]
    },
    {
      "cell_type": "code",
      "execution_count": 15,
      "metadata": {
        "colab": {
          "base_uri": "https://localhost:8080/",
          "height": 508
        },
        "id": "X-9AbJrHugPA",
        "outputId": "48821f09-ad15-48c2-b28d-d24b31d542aa"
      },
      "outputs": [
        {
          "name": "stdout",
          "output_type": "stream",
          "text": [
            "What is the confidence of those ?\n",
            "191     1.041596\n",
            "220     0.176706\n",
            "226     0.309039\n",
            "272     1.208265\n",
            "378     1.241412\n",
            "          ...   \n",
            "4771    0.202634\n",
            "4789    0.619976\n",
            "4853    0.182252\n",
            "4931    0.596758\n",
            "4982    0.264925\n",
            "Name: confidence, Length: 61, dtype: object\n"
          ]
        },
        {
          "data": {
            "text/plain": [
              "<matplotlib.axes._subplots.AxesSubplot at 0x7f04bec745e0>"
            ]
          },
          "execution_count": 15,
          "metadata": {},
          "output_type": "execute_result"
        },
        {
          "data": {
            "image/png": "[encoded data removed]",
            "text/plain": [
              "<Figure size 432x288 with 1 Axes>"
            ]
          },
          "metadata": {
            "needs_background": "light"
          },
          "output_type": "display_data"
        }
      ],
      "source": [
        "print(\"What is the confidence of those ?\")\n",
        "print(predictions[predictions['existing_label'] == predictions['label_predicted']]['confidence'])\n",
        "predictions[predictions['existing_label'] == predictions['label_predicted']]['confidence'].plot.hist(bins = 20)"
      ]
    },
    {
      "cell_type": "code",
      "execution_count": 16,
      "metadata": {
        "colab": {
          "base_uri": "https://localhost:8080/",
          "height": 771
        },
        "id": "GZqnYaMM58Nf",
        "outputId": "95130f2f-03c2-46c7-bbd7-cc65a22bd2f2"
      },
      "outputs": [
        {
          "data": {
            "text/html": [
              "\n",
              "  <div id=\"df-c3975d65-8304-46e5-9042-58ab15e4b130\">\n",
              "    <div class=\"colab-df-container\">\n",
              "      <div>\n",
              "<style scoped>\n",
              "    .dataframe tbody tr th:only-of-type {\n",
              "        vertical-align: middle;\n",
              "    }\n",
              "\n",
              "    .dataframe tbody tr th {\n",
              "        vertical-align: top;\n",
              "    }\n",
              "\n",
              "    .dataframe thead th {\n",
              "        text-align: right;\n",
              "    }\n",
              "</style>\n",
              "<table border=\"1\" class=\"dataframe\">\n",
              "  <thead>\n",
              "    <tr style=\"text-align: right;\">\n",
              "      <th></th>\n",
              "      <th>path</th>\n",
              "      <th>confidence</th>\n",
              "      <th>existing_label</th>\n",
              "      <th>label_predicted</th>\n",
              "    </tr>\n",
              "  </thead>\n",
              "  <tbody>\n",
              "    <tr>\n",
              "      <th>191</th>\n",
              "      <td>[data/task2/images_by_class/19/7468.jpeg]</td>\n",
              "      <td>1.041596</td>\n",
              "      <td>19</td>\n",
              "      <td>19</td>\n",
              "    </tr>\n",
              "    <tr>\n",
              "      <th>272</th>\n",
              "      <td>[data/task2/images_by_class/30/12107.jpeg]</td>\n",
              "      <td>1.208265</td>\n",
              "      <td>30</td>\n",
              "      <td>30</td>\n",
              "    </tr>\n",
              "    <tr>\n",
              "      <th>378</th>\n",
              "      <td>[data/task2/images_by_class/34/13499.jpeg]</td>\n",
              "      <td>1.241412</td>\n",
              "      <td>34</td>\n",
              "      <td>34</td>\n",
              "    </tr>\n",
              "    <tr>\n",
              "      <th>945</th>\n",
              "      <td>[data/task2/images_by_class/92/35180.jpeg]</td>\n",
              "      <td>11.464233</td>\n",
              "      <td>92</td>\n",
              "      <td>92</td>\n",
              "    </tr>\n",
              "    <tr>\n",
              "      <th>1176</th>\n",
              "      <td>[data/task2/images_by_class/63/23960.jpeg]</td>\n",
              "      <td>1.529731</td>\n",
              "      <td>63</td>\n",
              "      <td>63</td>\n",
              "    </tr>\n",
              "    <tr>\n",
              "      <th>1253</th>\n",
              "      <td>[data/task2/images_by_class/11/4422.jpeg]</td>\n",
              "      <td>1.074163</td>\n",
              "      <td>11</td>\n",
              "      <td>11</td>\n",
              "    </tr>\n",
              "    <tr>\n",
              "      <th>1356</th>\n",
              "      <td>[data/task2/images_by_class/34/13544.jpeg]</td>\n",
              "      <td>0.647533</td>\n",
              "      <td>34</td>\n",
              "      <td>34</td>\n",
              "    </tr>\n",
              "    <tr>\n",
              "      <th>1409</th>\n",
              "      <td>[data/task2/images_by_class/17/42317.jpeg]</td>\n",
              "      <td>1.304711</td>\n",
              "      <td>17</td>\n",
              "      <td>17</td>\n",
              "    </tr>\n",
              "    <tr>\n",
              "      <th>1506</th>\n",
              "      <td>[data/task2/images_by_class/38/15092.jpeg]</td>\n",
              "      <td>0.958325</td>\n",
              "      <td>38</td>\n",
              "      <td>38</td>\n",
              "    </tr>\n",
              "    <tr>\n",
              "      <th>1591</th>\n",
              "      <td>[data/task2/images_by_class/19/7451.jpeg]</td>\n",
              "      <td>0.862999</td>\n",
              "      <td>19</td>\n",
              "      <td>19</td>\n",
              "    </tr>\n",
              "    <tr>\n",
              "      <th>1908</th>\n",
              "      <td>[data/task2/images_by_class/7/3188.jpeg]</td>\n",
              "      <td>0.658398</td>\n",
              "      <td>7</td>\n",
              "      <td>7</td>\n",
              "    </tr>\n",
              "    <tr>\n",
              "      <th>2020</th>\n",
              "      <td>[data/task2/images_by_class/34/13546.jpeg]</td>\n",
              "      <td>0.983313</td>\n",
              "      <td>34</td>\n",
              "      <td>34</td>\n",
              "    </tr>\n",
              "    <tr>\n",
              "      <th>2417</th>\n",
              "      <td>[data/task2/images_by_class/34/13435.jpeg]</td>\n",
              "      <td>1.450222</td>\n",
              "      <td>34</td>\n",
              "      <td>34</td>\n",
              "    </tr>\n",
              "    <tr>\n",
              "      <th>2649</th>\n",
              "      <td>[data/task2/images_by_class/22/8810.jpeg]</td>\n",
              "      <td>0.520593</td>\n",
              "      <td>22</td>\n",
              "      <td>22</td>\n",
              "    </tr>\n",
              "    <tr>\n",
              "      <th>2836</th>\n",
              "      <td>[data/task2/images_by_class/34/13624.jpeg]</td>\n",
              "      <td>0.652207</td>\n",
              "      <td>34</td>\n",
              "      <td>34</td>\n",
              "    </tr>\n",
              "    <tr>\n",
              "      <th>3122</th>\n",
              "      <td>[data/task2/images_by_class/34/13490.jpeg]</td>\n",
              "      <td>1.297747</td>\n",
              "      <td>34</td>\n",
              "      <td>34</td>\n",
              "    </tr>\n",
              "    <tr>\n",
              "      <th>3125</th>\n",
              "      <td>[data/task2/images_by_class/21/44836.jpeg]</td>\n",
              "      <td>0.701892</td>\n",
              "      <td>21</td>\n",
              "      <td>21</td>\n",
              "    </tr>\n",
              "    <tr>\n",
              "      <th>3262</th>\n",
              "      <td>[data/task2/images_by_class/44/17250.jpeg]</td>\n",
              "      <td>0.576789</td>\n",
              "      <td>44</td>\n",
              "      <td>44</td>\n",
              "    </tr>\n",
              "    <tr>\n",
              "      <th>3371</th>\n",
              "      <td>[data/task2/images_by_class/19/7640.jpeg]</td>\n",
              "      <td>1.699485</td>\n",
              "      <td>19</td>\n",
              "      <td>19</td>\n",
              "    </tr>\n",
              "    <tr>\n",
              "      <th>3980</th>\n",
              "      <td>[data/task2/images_by_class/11/4320.jpeg]</td>\n",
              "      <td>1.343193</td>\n",
              "      <td>11</td>\n",
              "      <td>11</td>\n",
              "    </tr>\n",
              "    <tr>\n",
              "      <th>4299</th>\n",
              "      <td>[data/task2/images_by_class/34/13596.jpeg]</td>\n",
              "      <td>0.848232</td>\n",
              "      <td>34</td>\n",
              "      <td>34</td>\n",
              "    </tr>\n",
              "    <tr>\n",
              "      <th>4789</th>\n",
              "      <td>[data/task2/images_by_class/34/48202.jpeg]</td>\n",
              "      <td>0.619976</td>\n",
              "      <td>34</td>\n",
              "      <td>34</td>\n",
              "    </tr>\n",
              "    <tr>\n",
              "      <th>4931</th>\n",
              "      <td>[data/task2/images_by_class/34/13542.jpeg]</td>\n",
              "      <td>0.596758</td>\n",
              "      <td>34</td>\n",
              "      <td>34</td>\n",
              "    </tr>\n",
              "  </tbody>\n",
              "</table>\n",
              "</div>\n",
              "      <button class=\"colab-df-convert\" onclick=\"convertToInteractive('df-c3975d65-8304-46e5-9042-58ab15e4b130')\"\n",
              "              title=\"Convert this dataframe to an interactive table.\"\n",
              "              style=\"display:none;\">\n",
              "        \n",
              "  <svg xmlns=\"http://www.w3.org/2000/svg\" height=\"24px\"viewBox=\"0 0 24 24\"\n",
              "       width=\"24px\">\n",
              "    <path d=\"M0 0h24v24H0V0z\" fill=\"none\"/>\n",
              "    <path d=\"M18.56 5.44l.94 2.06.94-2.06 2.06-.94-2.06-.94-.94-2.06-.94 2.06-2.06.94zm-11 1L8.5 8.5l.94-2.06 2.06-.94-2.06-.94L8.5 2.5l-.94 2.06-2.06.94zm10 10l.94 2.06.94-2.06 2.06-.94-2.06-.94-.94-2.06-.94 2.06-2.06.94z\"/><path d=\"M17.41 7.96l-1.37-1.37c-.4-.4-.92-.59-1.43-.59-.52 0-1.04.2-1.43.59L10.3 9.45l-7.72 7.72c-.78.78-.78 2.05 0 2.83L4 21.41c.39.39.9.59 1.41.59.51 0 1.02-.2 1.41-.59l7.78-7.78 2.81-2.81c.8-.78.8-2.07 0-2.86zM5.41 20L4 18.59l7.72-7.72 1.47 1.35L5.41 20z\"/>\n",
              "  </svg>\n",
              "      </button>\n",
              "      \n",
              "  <style>\n",
              "    .colab-df-container {\n",
              "      display:flex;\n",
              "      flex-wrap:wrap;\n",
              "      gap: 12px;\n",
              "    }\n",
              "\n",
              "    .colab-df-convert {\n",
              "      background-color: #E8F0FE;\n",
              "      border: none;\n",
              "      border-radius: 50%;\n",
              "      cursor: pointer;\n",
              "      display: none;\n",
              "      fill: #1967D2;\n",
              "      height: 32px;\n",
              "      padding: 0 0 0 0;\n",
              "      width: 32px;\n",
              "    }\n",
              "\n",
              "    .colab-df-convert:hover {\n",
              "      background-color: #E2EBFA;\n",
              "      box-shadow: 0px 1px 2px rgba(60, 64, 67, 0.3), 0px 1px 3px 1px rgba(60, 64, 67, 0.15);\n",
              "      fill: #174EA6;\n",
              "    }\n",
              "\n",
              "    [theme=dark] .colab-df-convert {\n",
              "      background-color: #3B4455;\n",
              "      fill: #D2E3FC;\n",
              "    }\n",
              "\n",
              "    [theme=dark] .colab-df-convert:hover {\n",
              "      background-color: #434B5C;\n",
              "      box-shadow: 0px 1px 3px 1px rgba(0, 0, 0, 0.15);\n",
              "      filter: drop-shadow(0px 1px 2px rgba(0, 0, 0, 0.3));\n",
              "      fill: #FFFFFF;\n",
              "    }\n",
              "  </style>\n",
              "\n",
              "      <script>\n",
              "        const buttonEl =\n",
              "          document.querySelector('#df-c3975d65-8304-46e5-9042-58ab15e4b130 button.colab-df-convert');\n",
              "        buttonEl.style.display =\n",
              "          google.colab.kernel.accessAllowed ? 'block' : 'none';\n",
              "\n",
              "        async function convertToInteractive(key) {\n",
              "          const element = document.querySelector('#df-c3975d65-8304-46e5-9042-58ab15e4b130');\n",
              "          const dataTable =\n",
              "            await google.colab.kernel.invokeFunction('convertToInteractive',\n",
              "                                                     [key], {});\n",
              "          if (!dataTable) return;\n",
              "\n",
              "          const docLinkHtml = 'Like what you see? Visit the ' +\n",
              "            '<a target=\"_blank\" href=https://colab.research.google.com/notebooks/data_table.ipynb>data table notebook</a>'\n",
              "            + ' to learn more about interactive tables.';\n",
              "          element.innerHTML = '';\n",
              "          dataTable['output_type'] = 'display_data';\n",
              "          await google.colab.output.renderOutput(dataTable, element);\n",
              "          const docLink = document.createElement('div');\n",
              "          docLink.innerHTML = docLinkHtml;\n",
              "          element.appendChild(docLink);\n",
              "        }\n",
              "      </script>\n",
              "    </div>\n",
              "  </div>\n",
              "  "
            ],
            "text/plain": [
              "                                            path confidence existing_label  \\\n",
              "191    [data/task2/images_by_class/19/7468.jpeg]   1.041596             19   \n",
              "272   [data/task2/images_by_class/30/12107.jpeg]   1.208265             30   \n",
              "378   [data/task2/images_by_class/34/13499.jpeg]   1.241412             34   \n",
              "945   [data/task2/images_by_class/92/35180.jpeg]  11.464233             92   \n",
              "1176  [data/task2/images_by_class/63/23960.jpeg]   1.529731             63   \n",
              "1253   [data/task2/images_by_class/11/4422.jpeg]   1.074163             11   \n",
              "1356  [data/task2/images_by_class/34/13544.jpeg]   0.647533             34   \n",
              "1409  [data/task2/images_by_class/17/42317.jpeg]   1.304711             17   \n",
              "1506  [data/task2/images_by_class/38/15092.jpeg]   0.958325             38   \n",
              "1591   [data/task2/images_by_class/19/7451.jpeg]   0.862999             19   \n",
              "1908    [data/task2/images_by_class/7/3188.jpeg]   0.658398              7   \n",
              "2020  [data/task2/images_by_class/34/13546.jpeg]   0.983313             34   \n",
              "2417  [data/task2/images_by_class/34/13435.jpeg]   1.450222             34   \n",
              "2649   [data/task2/images_by_class/22/8810.jpeg]   0.520593             22   \n",
              "2836  [data/task2/images_by_class/34/13624.jpeg]   0.652207             34   \n",
              "3122  [data/task2/images_by_class/34/13490.jpeg]   1.297747             34   \n",
              "3125  [data/task2/images_by_class/21/44836.jpeg]   0.701892             21   \n",
              "3262  [data/task2/images_by_class/44/17250.jpeg]   0.576789             44   \n",
              "3371   [data/task2/images_by_class/19/7640.jpeg]   1.699485             19   \n",
              "3980   [data/task2/images_by_class/11/4320.jpeg]   1.343193             11   \n",
              "4299  [data/task2/images_by_class/34/13596.jpeg]   0.848232             34   \n",
              "4789  [data/task2/images_by_class/34/48202.jpeg]   0.619976             34   \n",
              "4931  [data/task2/images_by_class/34/13542.jpeg]   0.596758             34   \n",
              "\n",
              "     label_predicted  \n",
              "191               19  \n",
              "272               30  \n",
              "378               34  \n",
              "945               92  \n",
              "1176              63  \n",
              "1253              11  \n",
              "1356              34  \n",
              "1409              17  \n",
              "1506              38  \n",
              "1591              19  \n",
              "1908               7  \n",
              "2020              34  \n",
              "2417              34  \n",
              "2649              22  \n",
              "2836              34  \n",
              "3122              34  \n",
              "3125              21  \n",
              "3262              44  \n",
              "3371              19  \n",
              "3980              11  \n",
              "4299              34  \n",
              "4789              34  \n",
              "4931              34  "
            ]
          },
          "metadata": {},
          "output_type": "display_data"
        }
      ],
      "source": [
        "predictions_same_label = predictions[predictions['existing_label'] == predictions['label_predicted']]\n",
        "predictions_correct_label = predictions_same_label[predictions_same_label['confidence']>0.5]\n",
        "display(predictions_correct_label)"
      ]
    },
    {
      "cell_type": "code",
      "execution_count": 17,
      "metadata": {
        "colab": {
          "base_uri": "https://localhost:8080/",
          "height": 282
        },
        "id": "BFIOtoxFvLjz",
        "outputId": "31b80c1c-bce4-4ad0-f457-dc74e7c95b62"
      },
      "outputs": [
        {
          "data": {
            "text/plain": [
              "<matplotlib.axes._subplots.AxesSubplot at 0x7f04beb3ef10>"
            ]
          },
          "execution_count": 17,
          "metadata": {},
          "output_type": "execute_result"
        },
        {
          "data": {
            "image/png": "[encoded data removed]",
            "text/plain": [
              "<Figure size 432x288 with 1 Axes>"
            ]
          },
          "metadata": {
            "needs_background": "light"
          },
          "output_type": "display_data"
        }
      ],
      "source": [
        "predictions[predictions['existing_label'] != predictions['label_predicted']]['confidence'].plot.hist(bins = 20)"
      ]
    },
    {
      "cell_type": "markdown",
      "metadata": {
        "id": "lZy2StjD5PgP"
      },
      "source": [
        "Most of the predictions have very low score, even if they are right or wrong. \n",
        "But a very small number of images have a high confidence of being correct or incorrect. \n",
        "We would take those images with a very high confidence of being right from each iteration and put them aside as true. Than we will repeat the process of forgetting some images and trying to train on the remaining images. But now we have a little bit better model, since it has some images for which we have a high confidence that they are correct. "
      ]
    },
    {
      "cell_type": "markdown",
      "metadata": {
        "id": "9R2wBaePAfZj"
      },
      "source": [
        "## Repeat thresholding pseudo-labels for the following iterations. \n"
      ]
    },
    {
      "cell_type": "code",
      "execution_count": 134,
      "metadata": {
        "id": "O5ghSTjFAkIW"
      },
      "outputs": [],
      "source": [
        "with open('/gdrive/MyDrive/checkpoints/noisy_labels/pseudo_labeling_first_iteration.json', 'r') as f:\n",
        "    all_predicted_labels = json.load(f)\n",
        "# Load the predicted labels and confidence scores\n",
        "correct_labels_df = []\n",
        "for i in range(10):\n",
        "    predictions=pd.DataFrame.from_dict(all_predicted_labels[str(i)],orient='index').transpose() \n",
        "    predictions_same_label = predictions[predictions['existing_label'] == predictions['label_predicted']]\n",
        "    predictions_correct_label = predictions_same_label[predictions_same_label['confidence']>0.5] \n",
        "    correct_labels_df.append(predictions_correct_label)\n",
        "df_correct = pd.concat(correct_labels_df)"
      ]
    },
    {
      "cell_type": "code",
      "execution_count": 135,
      "metadata": {
        "colab": {
          "base_uri": "https://localhost:8080/"
        },
        "id": "GlOHKGEyCOle",
        "outputId": "f1eee80c-e764-44ec-9a3b-48a2670b8453"
      },
      "outputs": [
        {
          "data": {
            "text/plain": [
              "431"
            ]
          },
          "execution_count": 135,
          "metadata": {},
          "output_type": "execute_result"
        }
      ],
      "source": [
        "len(df_correct)"
      ]
    },
    {
      "cell_type": "markdown",
      "metadata": {
        "id": "Wvwdmh-BC2_5"
      },
      "source": [
        "NOTE: After the first iteration of the algorithm we found 431 images to have correct labels with high confidence. This means we should repeat this process 100 times. Which would take a very large amount of time. But hopefully the futher iterations will become faster as we find that more images are correctly labeled. \n",
        "\n",
        "NOTE: Also, because we still have the previous results from the first iteration. If we get the same labels on the second or third iteration, we are much more likely to believe that the respective labels are true, and we can include them in the \"pseudo ground truth dataset\" even if they don't have a high confidence, but they have the same label on multiple runs. \n",
        "\n",
        "NOTE: Finally. In the end we can try again the whole experiment from the beginning. The expectation would be that we would find much fewer wrongly labeled images. "
      ]
    },
    {
      "cell_type": "markdown",
      "metadata": {
        "id": "q_emV0k5Dv9P"
      },
      "source": [
        "# Iteration 2\n",
        "considering previously found labels as true, and not reconsidering to label them anymore. "
      ]
    },
    {
      "cell_type": "code",
      "execution_count": 222,
      "metadata": {
        "colab": {
          "base_uri": "https://localhost:8080/"
        },
        "id": "nYWytvbjLeJi",
        "outputId": "be313eb5-bf78-40ed-ad9f-f4b91208f8db"
      },
      "outputs": [
        {
          "name": "stdout",
          "output_type": "stream",
          "text": [
            "data/task2/images_by_class has been deleted\n"
          ]
        }
      ],
      "source": [
        "target_dir = 'data/task2/images_by_class'\n",
        "\n",
        "del_dir_if_exist(target_dir)"
      ]
    },
    {
      "cell_type": "code",
      "execution_count": 136,
      "metadata": {
        "colab": {
          "base_uri": "https://localhost:8080/"
        },
        "id": "xNK5li4VMQae",
        "outputId": "c6c1f104-4f1a-4302-fc86-71c21db5abee"
      },
      "outputs": [
        {
          "name": "stdout",
          "output_type": "stream",
          "text": [
            "data/task2/training_confident does not exist\n"
          ]
        }
      ],
      "source": [
        "# Check if the directory exists, to recreate it instead of messing it up\n",
        "target_dir = 'data/task2/training_confident'\n",
        "\n",
        "del_dir_if_exist(target_dir)"
      ]
    },
    {
      "cell_type": "code",
      "execution_count": 223,
      "metadata": {
        "colab": {
          "base_uri": "https://localhost:8080/"
        },
        "id": "Ri4BEas4HE8u",
        "outputId": "7804a162-7fdf-4073-cbf1-95944c72323e"
      },
      "outputs": [
        {
          "name": "stderr",
          "output_type": "stream",
          "text": [
            "100%|██████████| 50000/50000 [00:10<00:00, 4666.24it/s]\n"
          ]
        }
      ],
      "source": [
        "make_dataset_folder()"
      ]
    },
    {
      "cell_type": "code",
      "execution_count": 137,
      "metadata": {
        "colab": {
          "base_uri": "https://localhost:8080/"
        },
        "id": "ZKxIxGUz5a8X",
        "outputId": "c4508c7a-e283-4a50-fa8a-52f148cab6af"
      },
      "outputs": [
        {
          "name": "stderr",
          "output_type": "stream",
          "text": [
            "100%|██████████| 431/431 [00:00<00:00, 7773.98it/s]\n"
          ]
        }
      ],
      "source": [
        "# Train on 2 datasets at the same time, one with high confidence labels\n",
        "# this dataset will only be used during training, never forgetting labels\n",
        "# the second dataset will iteratively forget labels and train on the remaining labels.\n",
        "# Define the base directory\n",
        "target_dir = 'data/task2/training_confident'\n",
        "# Iterate over the rows in the DataFrame\n",
        "for _, row in tqdm(df_correct.iterrows(), total=df_correct.shape[0]):\n",
        "    # Extract the path and class from the row\n",
        "    path = row['path'][0]\n",
        "    label = row['existing_label'] \n",
        "\n",
        "    # Create the directory for the class\n",
        "    class_dir = f'{target_dir}/{label}'\n",
        "    os.makedirs(class_dir, exist_ok=True)\n",
        "    \n",
        "    # move the file to the class directory\n",
        "    shutil.move(f\"{path}\", class_dir)\n",
        "    \n",
        "\n",
        "# we move the images because we don't want them to remain in the dataset for relabeling.  \n"
      ]
    },
    {
      "cell_type": "code",
      "execution_count": 29,
      "metadata": {
        "colab": {
          "base_uri": "https://localhost:8080/"
        },
        "id": "K7KktFggEt_p",
        "outputId": "bd30b0fe-b32f-4c46-b37c-f848881e9ce2"
      },
      "outputs": [
        {
          "name": "stderr",
          "output_type": "stream",
          "text": [
            "/usr/local/lib/python3.8/dist-packages/torch/utils/data/dataloader.py:554: UserWarning: This DataLoader will create 4 worker processes in total. Our suggested max number of worker in current system is 2, which is smaller than what this DataLoader is going to create. Please be aware that excessive worker creation might get DataLoader running slow or even freeze, lower the worker number to avoid potential slowness/freeze if necessary.\n",
            "  warnings.warn(_create_warning_msg(\n"
          ]
        }
      ],
      "source": [
        "# TODO: create the 2 datasets\n",
        "preprocess = transforms.Compose([\n",
        "    transforms.Resize(experiment_info[\"image_processing\"][\"resize\"]),\n",
        "    transforms.ToTensor(),\n",
        "    transforms.Normalize(mean=experiment_info[\"image_processing\"][\"mean\"],\n",
        "                         std=experiment_info[\"image_processing\"][\"std\"]),\n",
        "    ])\n",
        "\n",
        "data_dir_train = 'data/task2/training_confident'\n",
        "image_dataset_train_only = datasets.ImageFolder(data_dir_train, preprocess) \n",
        "dataloader_train_only  = DataLoader(\n",
        "    image_dataset_train_only, \n",
        "    batch_size = experiment_info[\"hyperparameters_data\"][\"batch_size\"],\n",
        "    shuffle = experiment_info[\"hyperparameters_data\"][\"shuffle_dataloader\"], \n",
        "    num_workers = experiment_info[\"hyperparameters_data\"][\"num_workers\"]\n",
        "    )\n",
        "\n",
        "class_names = image_dataset_train_only.classes\n",
        "dataset_size = len(image_dataset_train_only)\n",
        "\n",
        "device = torch.device(\"cuda:0\" if torch.cuda.is_available() else \"cpu\")"
      ]
    },
    {
      "cell_type": "code",
      "execution_count": 30,
      "metadata": {
        "colab": {
          "base_uri": "https://localhost:8080/"
        },
        "id": "6i8BvAlyH110",
        "outputId": "df09c0ec-5d9e-4621-b525-1073b3e4d16a"
      },
      "outputs": [
        {
          "name": "stdout",
          "output_type": "stream",
          "text": [
            "431\n"
          ]
        }
      ],
      "source": [
        "print(dataset_size)"
      ]
    },
    {
      "cell_type": "markdown",
      "metadata": {
        "id": "iG8vZn7mFmRd"
      },
      "source": [
        "## Create datasets splits for pseudo-labeling round 2"
      ]
    },
    {
      "cell_type": "code",
      "execution_count": null,
      "metadata": {
        "id": "pHZnbNcrLwtu"
      },
      "outputs": [],
      "source": [
        "data_dir = 'data/task2/images_by_class'\n",
        "image_dataset_unshuffled = datasets.ImageFolder(data_dir, preprocess)\n",
        "image_dataset = ShuffledImageFolder(image_dataset_unshuffled)\n",
        "splits = 2\n",
        "data_sizes, loaders, device = create_dataset_splits(splits, image_dataset)"
      ]
    },
    {
      "cell_type": "code",
      "execution_count": 33,
      "metadata": {
        "colab": {
          "base_uri": "https://localhost:8080/"
        },
        "id": "a95SXdQCH8GL",
        "outputId": "eb79f48c-f2ea-4100-e828-1b8059bf5820"
      },
      "outputs": [
        {
          "name": "stdout",
          "output_type": "stream",
          "text": [
            "{'train': 775, 'labeling': 775}\n",
            "num samples train 24800\n"
          ]
        }
      ],
      "source": [
        "print(data_sizes)\n",
        "print(\"num samples train\", data_sizes['train']*batch_size)"
      ]
    },
    {
      "cell_type": "markdown",
      "metadata": {
        "id": "vohgejEvNNLp"
      },
      "source": [
        "## Train on remaining data"
      ]
    },
    {
      "cell_type": "code",
      "execution_count": 35,
      "metadata": {
        "colab": {
          "base_uri": "https://localhost:8080/",
          "height": 243,
          "referenced_widgets": [
            "0b6b0668f3764a7296945547803e2688",
            "c39c58da42ce4c2ca76546673443f0fd",
            "b02ccf11c1714786a67bfca3446e9b9d",
            "284de89238b54efd8d834cfc5cdef224",
            "4d1e4cd757a749bda0f6fbcede536076",
            "dd637c7b9a5645dfb198f017092d098a",
            "afee6006e2324bac8bbc9c291e638617",
            "8e3263acdec647e594b2140e749bd110",
            "4dd784f55bb14f6ba9274ec956ec8061",
            "7adf26ae5d2e430e946d5576135d893a",
            "69db9e55793a4d87bd7b0c96efc53170"
          ]
        },
        "id": "bk_xDk2MNPk7",
        "outputId": "04ce156f-2d44-4405-bc1e-b2d78fea20ce"
      },
      "outputs": [
        {
          "name": "stderr",
          "output_type": "stream",
          "text": [
            "Downloading: \"https://github.com/pytorch/vision/zipball/v0.10.0\" to /root/.cache/torch/hub/v0.10.0.zip\n",
            "/usr/local/lib/python3.8/dist-packages/torchvision/models/_utils.py:208: UserWarning: The parameter 'pretrained' is deprecated since 0.13 and may be removed in the future, please use 'weights' instead.\n",
            "  warnings.warn(\n",
            "/usr/local/lib/python3.8/dist-packages/torchvision/models/_utils.py:223: UserWarning: Arguments other than a weight enum or `None` for 'weights' are deprecated since 0.13 and may be removed in the future. The current behavior is equivalent to passing `weights=MobileNet_V2_Weights.IMAGENET1K_V1`. You can also use `weights=MobileNet_V2_Weights.DEFAULT` to get the most up-to-date weights.\n",
            "  warnings.warn(msg)\n",
            "Downloading: \"https://download.pytorch.org/models/mobilenet_v2-b0353104.pth\" to /root/.cache/torch/hub/checkpoints/mobilenet_v2-b0353104.pth\n"
          ]
        },
        {
          "data": {
            "application/vnd.jupyter.widget-view+json": {
              "model_id": "0b6b0668f3764a7296945547803e2688",
              "version_major": 2,
              "version_minor": 0
            },
            "text/plain": [
              "  0%|          | 0.00/13.6M [00:00<?, ?B/s]"
            ]
          },
          "metadata": {},
          "output_type": "display_data"
        },
        {
          "name": "stdout",
          "output_type": "stream",
          "text": [
            "Sequential(\n",
            "  (0): Dropout(p=0.2, inplace=False)\n",
            "  (1): Linear(in_features=1280, out_features=100, bias=True)\n",
            ")\n"
          ]
        }
      ],
      "source": [
        "# Download a pytorch MobileNet pretrained model\n",
        "model = torch.hub.load('pytorch/vision:v0.10.0', 'mobilenet_v2', pretrained=True)\n",
        "# change the Linear output to fit our dataset ( because model initially has 1000 classes)\n",
        "model.classifier[1] = nn.Linear(1280, 100)\n",
        "# Setting hyperparameters\n",
        "\n",
        "model = model.to(device)\n",
        "print(model.classifier)\n",
        "     "
      ]
    },
    {
      "cell_type": "code",
      "execution_count": 36,
      "metadata": {
        "id": "LRzyP-FuNhhh"
      },
      "outputs": [],
      "source": [
        "criterion = nn.CrossEntropyLoss()\n",
        "\n",
        "# Observe that all parameters are being optimized\n",
        "# optimizer = optim.SGD(model.parameters(), lr=0.001, momentum=0.9)\n",
        "optimizer = optim.Adam(\n",
        "    model.parameters(),\n",
        "    lr=experiment_info[\"hyperparameters_training\"][\"learning_rate\"],\n",
        "    )\n",
        "\n",
        "# Decay LR by a factor of 0.1 every 7 epochs\n",
        "exp_lr_scheduler = lr_scheduler.StepLR(\n",
        "    optimizer, \n",
        "    step_size=experiment_info[\"hyperparameters_training\"][\"scheduler_step_size\"], \n",
        "    gamma=experiment_info[\"hyperparameters_training\"][\"scheduler_gamma\"],\n",
        "    )"
      ]
    },
    {
      "cell_type": "code",
      "execution_count": 37,
      "metadata": {
        "colab": {
          "base_uri": "https://localhost:8080/"
        },
        "id": "VmT0N9O9NUIX",
        "outputId": "1fa0bc4c-7baf-4cee-c213-846f55d6dcf5"
      },
      "outputs": [
        {
          "name": "stdout",
          "output_type": "stream",
          "text": [
            "Epoch 0/9\n",
            "----------\n"
          ]
        },
        {
          "name": "stderr",
          "output_type": "stream",
          "text": [
            "100%|██████████| 14/14 [00:09<00:00,  1.42it/s]\n",
            "100%|██████████| 775/775 [02:21<00:00,  5.46it/s]\n"
          ]
        },
        {
          "name": "stdout",
          "output_type": "stream",
          "text": [
            "Loss: 86.6548 Acc: 11.1110\n",
            "\n",
            "Epoch 1/9\n",
            "----------\n"
          ]
        },
        {
          "name": "stderr",
          "output_type": "stream",
          "text": [
            "100%|██████████| 14/14 [00:02<00:00,  6.00it/s]\n",
            "100%|██████████| 775/775 [02:20<00:00,  5.51it/s]\n"
          ]
        },
        {
          "name": "stdout",
          "output_type": "stream",
          "text": [
            "Loss: 51.9183 Acc: 17.8194\n",
            "\n",
            "Epoch 2/9\n",
            "----------\n"
          ]
        },
        {
          "name": "stderr",
          "output_type": "stream",
          "text": [
            "100%|██████████| 14/14 [00:02<00:00,  4.72it/s]\n",
            "100%|██████████| 775/775 [02:23<00:00,  5.41it/s]\n"
          ]
        },
        {
          "name": "stdout",
          "output_type": "stream",
          "text": [
            "Loss: 39.8597 Acc: 20.5716\n",
            "\n",
            "Epoch 3/9\n",
            "----------\n"
          ]
        },
        {
          "name": "stderr",
          "output_type": "stream",
          "text": [
            "100%|██████████| 14/14 [00:02<00:00,  6.05it/s]\n",
            "100%|██████████| 775/775 [02:18<00:00,  5.59it/s]\n"
          ]
        },
        {
          "name": "stdout",
          "output_type": "stream",
          "text": [
            "Loss: 31.2823 Acc: 22.5729\n",
            "\n",
            "Epoch 4/9\n",
            "----------\n"
          ]
        },
        {
          "name": "stderr",
          "output_type": "stream",
          "text": [
            "100%|██████████| 14/14 [00:02<00:00,  5.90it/s]\n",
            "100%|██████████| 775/775 [02:15<00:00,  5.70it/s]\n"
          ]
        },
        {
          "name": "stdout",
          "output_type": "stream",
          "text": [
            "Loss: 24.2291 Acc: 24.5897\n",
            "\n",
            "Epoch 5/9\n",
            "----------\n"
          ]
        },
        {
          "name": "stderr",
          "output_type": "stream",
          "text": [
            "100%|██████████| 14/14 [00:02<00:00,  5.96it/s]\n",
            "100%|██████████| 775/775 [02:16<00:00,  5.67it/s]\n"
          ]
        },
        {
          "name": "stdout",
          "output_type": "stream",
          "text": [
            "Loss: 18.5088 Acc: 26.2800\n",
            "\n",
            "Epoch 6/9\n",
            "----------\n"
          ]
        },
        {
          "name": "stderr",
          "output_type": "stream",
          "text": [
            "100%|██████████| 14/14 [00:02<00:00,  5.97it/s]\n",
            "100%|██████████| 775/775 [02:15<00:00,  5.71it/s]\n"
          ]
        },
        {
          "name": "stdout",
          "output_type": "stream",
          "text": [
            "Loss: 13.6184 Acc: 27.8787\n",
            "\n",
            "Epoch 7/9\n",
            "----------\n"
          ]
        },
        {
          "name": "stderr",
          "output_type": "stream",
          "text": [
            "100%|██████████| 14/14 [00:02<00:00,  5.91it/s]\n",
            "100%|██████████| 775/775 [02:15<00:00,  5.72it/s]\n"
          ]
        },
        {
          "name": "stdout",
          "output_type": "stream",
          "text": [
            "Loss: 7.1740 Acc: 30.4065\n",
            "\n",
            "Epoch 8/9\n",
            "----------\n"
          ]
        },
        {
          "name": "stderr",
          "output_type": "stream",
          "text": [
            "100%|██████████| 14/14 [00:02<00:00,  6.04it/s]\n",
            "100%|██████████| 775/775 [02:17<00:00,  5.64it/s]\n"
          ]
        },
        {
          "name": "stdout",
          "output_type": "stream",
          "text": [
            "Loss: 5.7742 Acc: 30.9032\n",
            "\n",
            "Epoch 9/9\n",
            "----------\n"
          ]
        },
        {
          "name": "stderr",
          "output_type": "stream",
          "text": [
            "100%|██████████| 14/14 [00:02<00:00,  6.01it/s]\n",
            "100%|██████████| 775/775 [02:15<00:00,  5.73it/s]"
          ]
        },
        {
          "name": "stdout",
          "output_type": "stream",
          "text": [
            "Loss: 5.1758 Acc: 31.1458\n",
            "\n",
            "Training complete in 23m 33s\n",
            "Best val Acc: 31.145806\n"
          ]
        },
        {
          "name": "stderr",
          "output_type": "stream",
          "text": [
            "\n"
          ]
        }
      ],
      "source": [
        "model = train_model2(model, \n",
        "                    exp_lr_scheduler, \n",
        "                    optimizer, \n",
        "                    criterion,  \n",
        "                    data_sizes[\"train\"], \n",
        "                    dataloader_train_only,\n",
        "                    loaders2[0][\"train\"], \n",
        "                    num_epochs=experiment_info[\"hyperparameters_training\"][\"num_epochs\"])"
      ]
    },
    {
      "cell_type": "code",
      "execution_count": 38,
      "metadata": {
        "id": "1XhOuuNyNvtU"
      },
      "outputs": [],
      "source": [
        "# Save the model\n",
        "torch.save(model.state_dict(), '/gdrive/MyDrive/checkpoints/noisy_labels/model_2_it_0.pt')"
      ]
    },
    {
      "cell_type": "code",
      "execution_count": 39,
      "metadata": {
        "id": "3S_tI-1ZNstT"
      },
      "outputs": [],
      "source": [
        "## Repeat for the other half"
      ]
    },
    {
      "cell_type": "code",
      "execution_count": 40,
      "metadata": {
        "colab": {
          "base_uri": "https://localhost:8080/"
        },
        "id": "-wMaIPVTN-KN",
        "outputId": "d388f3b4-f6e4-4f21-e092-7f0f79e9af11"
      },
      "outputs": [
        {
          "name": "stderr",
          "output_type": "stream",
          "text": [
            "Using cache found in /root/.cache/torch/hub/pytorch_vision_v0.10.0\n"
          ]
        },
        {
          "name": "stdout",
          "output_type": "stream",
          "text": [
            "Epoch 0/9\n",
            "----------\n"
          ]
        },
        {
          "name": "stderr",
          "output_type": "stream",
          "text": [
            "100%|██████████| 14/14 [00:02<00:00,  6.00it/s]\n",
            "100%|██████████| 775/775 [02:15<00:00,  5.71it/s]\n"
          ]
        },
        {
          "name": "stdout",
          "output_type": "stream",
          "text": [
            "Loss: 151.0671 Acc: 0.2813\n",
            "\n",
            "Epoch 1/9\n",
            "----------\n"
          ]
        },
        {
          "name": "stderr",
          "output_type": "stream",
          "text": [
            "100%|██████████| 14/14 [00:02<00:00,  6.14it/s]\n",
            "100%|██████████| 775/775 [02:16<00:00,  5.69it/s]\n"
          ]
        },
        {
          "name": "stdout",
          "output_type": "stream",
          "text": [
            "Loss: 151.0593 Acc: 0.2606\n",
            "\n",
            "Epoch 2/9\n",
            "----------\n"
          ]
        },
        {
          "name": "stderr",
          "output_type": "stream",
          "text": [
            "100%|██████████| 14/14 [00:02<00:00,  6.15it/s]\n",
            "100%|██████████| 775/775 [02:17<00:00,  5.62it/s]\n"
          ]
        },
        {
          "name": "stdout",
          "output_type": "stream",
          "text": [
            "Loss: 151.0380 Acc: 0.2606\n",
            "\n",
            "Epoch 3/9\n",
            "----------\n"
          ]
        },
        {
          "name": "stderr",
          "output_type": "stream",
          "text": [
            "100%|██████████| 14/14 [00:02<00:00,  6.04it/s]\n",
            "100%|██████████| 775/775 [02:26<00:00,  5.31it/s]\n"
          ]
        },
        {
          "name": "stdout",
          "output_type": "stream",
          "text": [
            "Loss: 150.9949 Acc: 0.2839\n",
            "\n",
            "Epoch 4/9\n",
            "----------\n"
          ]
        },
        {
          "name": "stderr",
          "output_type": "stream",
          "text": [
            "100%|██████████| 14/14 [00:02<00:00,  4.90it/s]\n",
            "100%|██████████| 775/775 [02:16<00:00,  5.67it/s]\n"
          ]
        },
        {
          "name": "stdout",
          "output_type": "stream",
          "text": [
            "Loss: 151.0060 Acc: 0.2813\n",
            "\n",
            "Epoch 5/9\n",
            "----------\n"
          ]
        },
        {
          "name": "stderr",
          "output_type": "stream",
          "text": [
            "100%|██████████| 14/14 [00:02<00:00,  5.79it/s]\n",
            "100%|██████████| 775/775 [02:23<00:00,  5.41it/s]\n"
          ]
        },
        {
          "name": "stdout",
          "output_type": "stream",
          "text": [
            "Loss: 151.0038 Acc: 0.2826\n",
            "\n",
            "Epoch 6/9\n",
            "----------\n"
          ]
        },
        {
          "name": "stderr",
          "output_type": "stream",
          "text": [
            "100%|██████████| 14/14 [00:02<00:00,  5.73it/s]\n",
            "100%|██████████| 775/775 [02:20<00:00,  5.52it/s]\n"
          ]
        },
        {
          "name": "stdout",
          "output_type": "stream",
          "text": [
            "Loss: 150.9881 Acc: 0.2710\n",
            "\n",
            "Epoch 7/9\n",
            "----------\n"
          ]
        },
        {
          "name": "stderr",
          "output_type": "stream",
          "text": [
            "100%|██████████| 14/14 [00:02<00:00,  6.03it/s]\n",
            "100%|██████████| 775/775 [02:16<00:00,  5.69it/s]\n"
          ]
        },
        {
          "name": "stdout",
          "output_type": "stream",
          "text": [
            "Loss: 151.0254 Acc: 0.2594\n",
            "\n",
            "Epoch 8/9\n",
            "----------\n"
          ]
        },
        {
          "name": "stderr",
          "output_type": "stream",
          "text": [
            "100%|██████████| 14/14 [00:02<00:00,  6.00it/s]\n",
            "100%|██████████| 775/775 [02:16<00:00,  5.67it/s]\n"
          ]
        },
        {
          "name": "stdout",
          "output_type": "stream",
          "text": [
            "Loss: 151.0795 Acc: 0.2619\n",
            "\n",
            "Epoch 9/9\n",
            "----------\n"
          ]
        },
        {
          "name": "stderr",
          "output_type": "stream",
          "text": [
            "100%|██████████| 14/14 [00:02<00:00,  5.96it/s]\n",
            "100%|██████████| 775/775 [02:20<00:00,  5.50it/s]\n"
          ]
        },
        {
          "name": "stdout",
          "output_type": "stream",
          "text": [
            "Loss: 151.0896 Acc: 0.2865\n",
            "\n",
            "Training complete in 23m 34s\n",
            "Best val Acc: 0.286452\n"
          ]
        }
      ],
      "source": [
        "model = torch.hub.load('pytorch/vision:v0.10.0', 'mobilenet_v2', pretrained=True)\n",
        "model.classifier[1] = nn.Linear(1280, 100)\n",
        "model = model.to(device) \n",
        "model = train_model2(model, \n",
        "                exp_lr_scheduler, \n",
        "                optimizer, \n",
        "                criterion,  \n",
        "                data_sizes[\"train\"], \n",
        "                dataloader_train_only,\n",
        "                loaders2[1][\"train\"], \n",
        "                num_epochs=experiment_info[\"hyperparameters_training\"][\"num_epochs\"])\n",
        "torch.save(model.state_dict(), f'/gdrive/MyDrive/checkpoints/noisy_labels/model_2_it_{1}.pt')"
      ]
    },
    {
      "cell_type": "markdown",
      "metadata": {
        "id": "4r4x6giiTYqn"
      },
      "source": [
        "## save labels for later predicting"
      ]
    },
    {
      "cell_type": "code",
      "execution_count": 44,
      "metadata": {
        "colab": {
          "base_uri": "https://localhost:8080/"
        },
        "id": "zwmcZrQyWISg",
        "outputId": "d6b882c5-ae21-4f56-fb2f-b60589d24e79"
      },
      "outputs": [
        {
          "name": "stderr",
          "output_type": "stream",
          "text": [
            "100%|██████████| 775/775 [00:39<00:00, 19.54it/s]\n",
            "100%|██████████| 775/775 [00:38<00:00, 19.96it/s]\n"
          ]
        }
      ],
      "source": [
        "paths_labeling = {}\n",
        "for i in range(splits):\n",
        "    paths_labeling[i] = []\n",
        "    for images, labels, paths in tqdm(loaders2[i]['labeling']):\n",
        "        paths_labeling[i].append(paths)"
      ]
    },
    {
      "cell_type": "code",
      "execution_count": 45,
      "metadata": {
        "id": "mi2U16qVWKJY"
      },
      "outputs": [],
      "source": [
        "# Save the experiment information to a JSON file\n",
        "with open(f'/gdrive/MyDrive/checkpoints/noisy_labels/pseudo_labeling_images_for_models_2.json', 'w') as f:\n",
        "    json.dump(paths_labeling, f)"
      ]
    },
    {
      "cell_type": "markdown",
      "metadata": {
        "id": "_9TaBnOkWX-s"
      },
      "source": [
        "## Predict new labels 2"
      ]
    },
    {
      "cell_type": "code",
      "execution_count": 215,
      "metadata": {
        "id": "cM3GCPEaWZ0V"
      },
      "outputs": [],
      "source": [
        "# Read the json of the labels that need to be predicted\n",
        "with open('/gdrive/MyDrive/checkpoints/noisy_labels/pseudo_labeling_images_for_models_2.json', 'r') as f:\n",
        "    paths_labeling = json.load(f)"
      ]
    },
    {
      "cell_type": "code",
      "execution_count": 224,
      "metadata": {
        "colab": {
          "base_uri": "https://localhost:8080/"
        },
        "id": "FfqmTKpzdn3n",
        "outputId": "dd3d7e24-d4b6-4bc0-bdf1-37925be9208a"
      },
      "outputs": [
        {
          "name": "stderr",
          "output_type": "stream",
          "text": [
            "Using cache found in /root/.cache/torch/hub/pytorch_vision_v0.10.0\n",
            "100%|██████████| 24784/24784 [02:41<00:00, 153.12it/s]\n",
            "Using cache found in /root/.cache/torch/hub/pytorch_vision_v0.10.0\n",
            "100%|██████████| 24784/24784 [02:41<00:00, 153.32it/s]\n"
          ]
        }
      ],
      "source": [
        "# create new dataset for pseudo-labeling\n",
        "all_predicted_labels = {}\n",
        "for iteration, paths in paths_labeling.items(): \n",
        "    paths_list = batches_to_list(paths)\n",
        "    dataset = ImageDataset(paths_list)    \n",
        "    labeling_loader = DataLoader(dataset, batch_size=1)\n",
        "    PATH = f'/gdrive/MyDrive/checkpoints/noisy_labels/model_2_it_{iteration}.pt'\n",
        "    model = load_model(PATH, 'cuda')\n",
        "    all_predicted_labels[iteration] = generate_new_labels(model, labeling_loader, 'cuda')   "
      ]
    },
    {
      "cell_type": "code",
      "execution_count": 225,
      "metadata": {
        "colab": {
          "base_uri": "https://localhost:8080/"
        },
        "id": "ljiMdeEFdsM1",
        "outputId": "665b9ca1-c80f-44f0-db20-8cb3d8cc9cfc"
      },
      "outputs": [
        {
          "name": "stdout",
          "output_type": "stream",
          "text": [
            "('data/task2/images_by_class/81/31055.jpeg',)\n",
            "0.14650920033454895\n",
            "90\n",
            "81\n"
          ]
        }
      ],
      "source": [
        "# Sanity check\n",
        "for i in all_predicted_labels.items():\n",
        "    print(i[1]['path'][0])\n",
        "    print(i[1]['confidence'][0])\n",
        "    print(i[1]['label_predicted'][0])\n",
        "    print(i[1]['existing_label'][0])\n",
        "    break"
      ]
    },
    {
      "cell_type": "code",
      "execution_count": 226,
      "metadata": {
        "id": "EakLd6JddzKw"
      },
      "outputs": [],
      "source": [
        "# Save the new predictions and the old predictions in a file for future \n",
        "with open(f'/gdrive/MyDrive/checkpoints/noisy_labels/pseudo_labeling_second_iteration.json', 'w') as f:\n",
        "    json.dump(all_predicted_labels, f)"
      ]
    },
    {
      "cell_type": "markdown",
      "metadata": {
        "id": "wm7WbpH7d2Y7"
      },
      "source": [
        "## Analyze pseudo lableing from second iteration"
      ]
    },
    {
      "cell_type": "code",
      "execution_count": 57,
      "metadata": {
        "id": "uny5rmNHd2AF"
      },
      "outputs": [],
      "source": [
        "with open('/gdrive/MyDrive/checkpoints/noisy_labels/pseudo_labeling_second_iteration.json', 'r') as f:\n",
        "    all_predicted_labels = json.load(f)"
      ]
    },
    {
      "cell_type": "code",
      "execution_count": 58,
      "metadata": {
        "colab": {
          "base_uri": "https://localhost:8080/"
        },
        "id": "JDDWpwUGd-0b",
        "outputId": "937323a5-1003-4f46-d7c6-715730e51c65"
      },
      "outputs": [
        {
          "data": {
            "text/plain": [
              "dict_keys(['0', '1'])"
            ]
          },
          "execution_count": 58,
          "metadata": {},
          "output_type": "execute_result"
        }
      ],
      "source": [
        "all_predicted_labels.keys()"
      ]
    },
    {
      "cell_type": "code",
      "execution_count": 59,
      "metadata": {
        "colab": {
          "base_uri": "https://localhost:8080/"
        },
        "id": "F8dYkXFHePtL",
        "outputId": "03cce4e5-ad9c-42e4-cfe6-62e8c0e3ef86"
      },
      "outputs": [
        {
          "name": "stdout",
          "output_type": "stream",
          "text": [
            "                                             path confidence existing_label  \\\n",
            "0      [data/task2/images_by_class/81/31055.jpeg]    0.03861             81   \n",
            "1      [data/task2/images_by_class/86/33112.jpeg]   0.122728             86   \n",
            "2      [data/task2/images_by_class/42/43263.jpeg]   0.151605             42   \n",
            "3      [data/task2/images_by_class/80/30852.jpeg]   0.188782             80   \n",
            "4      [data/task2/images_by_class/94/36087.jpeg]   0.088798             94   \n",
            "...                                           ...        ...            ...   \n",
            "24779  [data/task2/images_by_class/27/10476.jpeg]    0.05421             27   \n",
            "24780  [data/task2/images_by_class/69/26650.jpeg]   0.104292             69   \n",
            "24781  [data/task2/images_by_class/67/25549.jpeg]   0.182475             67   \n",
            "24782   [data/task2/images_by_class/14/5501.jpeg]   0.504089             14   \n",
            "24783    [data/task2/images_by_class/5/2113.jpeg]   2.366076              5   \n",
            "\n",
            "      label_predicted  \n",
            "0                  85  \n",
            "1                  40  \n",
            "2                  44  \n",
            "3                  38  \n",
            "4                  61  \n",
            "...               ...  \n",
            "24779              61  \n",
            "24780              34  \n",
            "24781              56  \n",
            "24782               7  \n",
            "24783              19  \n",
            "\n",
            "[24784 rows x 4 columns]\n"
          ]
        }
      ],
      "source": [
        "# Load the predicted labels and confidence scores\n",
        "iteration = '0'\n",
        "predictions = pd.DataFrame.from_dict(all_predicted_labels[iteration],orient='index').transpose()\n",
        "print(predictions)"
      ]
    },
    {
      "cell_type": "code",
      "execution_count": 227,
      "metadata": {
        "colab": {
          "base_uri": "https://localhost:8080/"
        },
        "id": "06u9mblBeRUt",
        "outputId": "fd170d26-b944-4d99-ee0f-6174bd954ad5"
      },
      "outputs": [
        {
          "name": "stdout",
          "output_type": "stream",
          "text": [
            "How many labels have the same value after relabling ?\n",
            "False    22782\n",
            "True       233\n",
            "dtype: int64\n"
          ]
        }
      ],
      "source": [
        "print(\"How many labels have the same value after relabling ?\")\n",
        "print((predictions['existing_label'] == predictions['label_predicted']).value_counts())"
      ]
    },
    {
      "cell_type": "code",
      "execution_count": 228,
      "metadata": {
        "colab": {
          "base_uri": "https://localhost:8080/",
          "height": 508
        },
        "id": "EbY2OOOceTpg",
        "outputId": "3bfd325d-debf-4930-f31e-77cd548a222c"
      },
      "outputs": [
        {
          "name": "stdout",
          "output_type": "stream",
          "text": [
            "What is the confidence of those ?\n",
            "69       0.317126\n",
            "86        0.62353\n",
            "387      0.211072\n",
            "620      0.169154\n",
            "740      0.358847\n",
            "           ...   \n",
            "22567    0.059484\n",
            "22649    0.509168\n",
            "22691    0.294431\n",
            "22771    0.052772\n",
            "22881     0.23819\n",
            "Name: confidence, Length: 233, dtype: object\n"
          ]
        },
        {
          "data": {
            "text/plain": [
              "<matplotlib.axes._subplots.AxesSubplot at 0x7f047bf614c0>"
            ]
          },
          "execution_count": 228,
          "metadata": {},
          "output_type": "execute_result"
        },
        {
          "data": {
            "image/png": "[encoded data removed]",
            "text/plain": [
              "<Figure size 432x288 with 1 Axes>"
            ]
          },
          "metadata": {
            "needs_background": "light"
          },
          "output_type": "display_data"
        }
      ],
      "source": [
        "print(\"What is the confidence of those ?\")\n",
        "print(predictions[predictions['existing_label'] == predictions['label_predicted']]['confidence'])\n",
        "predictions[predictions['existing_label'] == predictions['label_predicted']]['confidence'].plot.hist(bins = 20)"
      ]
    },
    {
      "cell_type": "code",
      "execution_count": 230,
      "metadata": {
        "colab": {
          "base_uri": "https://localhost:8080/"
        },
        "id": "uV0JhS1teWQW",
        "outputId": "c7527493-4750-4fd4-c280-9c4060bf96bc"
      },
      "outputs": [
        {
          "data": {
            "text/plain": [
              "28"
            ]
          },
          "execution_count": 230,
          "metadata": {},
          "output_type": "execute_result"
        }
      ],
      "source": [
        "predictions_same_label = predictions[predictions['existing_label'] == predictions['label_predicted']]\n",
        "predictions_correct_label = predictions_same_label[predictions_same_label['confidence']>0.5]\n",
        "len(predictions_correct_label)"
      ]
    },
    {
      "cell_type": "code",
      "execution_count": 231,
      "metadata": {
        "colab": {
          "base_uri": "https://localhost:8080/",
          "height": 300
        },
        "id": "iLJx33B8eYYg",
        "outputId": "3f2033af-a002-4b83-910b-d7baae4e09c6"
      },
      "outputs": [
        {
          "name": "stdout",
          "output_type": "stream",
          "text": [
            "the distribution of labels different from one dataset to another\n"
          ]
        },
        {
          "data": {
            "text/plain": [
              "<matplotlib.axes._subplots.AxesSubplot at 0x7f047b959970>"
            ]
          },
          "execution_count": 231,
          "metadata": {},
          "output_type": "execute_result"
        },
        {
          "data": {
            "image/png": "[encoded data removed]",
            "text/plain": [
              "<Figure size 432x288 with 1 Axes>"
            ]
          },
          "metadata": {
            "needs_background": "light"
          },
          "output_type": "display_data"
        }
      ],
      "source": [
        "print(\"the distribution of labels different from one dataset to another\")\n",
        "predictions[predictions['existing_label'] != predictions['label_predicted']]['confidence'].plot.hist(bins = 20)"
      ]
    },
    {
      "cell_type": "markdown",
      "metadata": {
        "id": "xHLNQeikefi_"
      },
      "source": [
        "## Repeat thresholding pseudo-labels for the following iterations."
      ]
    },
    {
      "cell_type": "markdown",
      "metadata": {
        "id": "Veirr9GWgKm-"
      },
      "source": [
        "The second iteration has a different process for analyzing the labels, we are not only interested if the new labels have the the same label as the one provided by the dataset. We are also interested to see if the first iteration gives labels equal to the second iteration. And also how high is the confidence, even if the labels are \"wrong\" ( different from dataset), but for which both models provide the same label"
      ]
    },
    {
      "cell_type": "code",
      "execution_count": 327,
      "metadata": {
        "id": "kC2CIK45ekNA"
      },
      "outputs": [],
      "source": [
        "with open('/gdrive/MyDrive/checkpoints/noisy_labels/pseudo_labeling_second_iteration.json', 'r') as f:\n",
        "    all_predicted_labels2 = json.load(f)\n",
        "# Load the predicted labels and confidence scores\n",
        "correct_labels_df = []\n",
        "for i in range(splits):\n",
        "    predictions=pd.DataFrame.from_dict(all_predicted_labels2[str(i)],orient='index').transpose() \n",
        "    predictions_same_label = predictions[predictions['existing_label'] == predictions['label_predicted']]\n",
        "    predictions_correct_label = predictions_same_label[predictions_same_label['confidence']>0.2] \n",
        "    correct_labels_df.append(predictions_correct_label)\n",
        "df_correct2 = pd.concat(correct_labels_df)\n",
        "df_correct2['path'] = df_correct2['path'].apply(lambda x: x[0])"
      ]
    },
    {
      "cell_type": "code",
      "execution_count": 328,
      "metadata": {
        "colab": {
          "base_uri": "https://localhost:8080/"
        },
        "id": "wmNsoNo2eo6E",
        "outputId": "c84ce2f9-9a46-4ded-a307-d10dbd6301c4"
      },
      "outputs": [
        {
          "data": {
            "text/plain": [
              "389"
            ]
          },
          "execution_count": 328,
          "metadata": {},
          "output_type": "execute_result"
        }
      ],
      "source": [
        "len(df_correct2)"
      ]
    },
    {
      "cell_type": "code",
      "execution_count": 329,
      "metadata": {
        "id": "3em0OOnpjFds"
      },
      "outputs": [],
      "source": [
        "with open('/gdrive/MyDrive/checkpoints/noisy_labels/pseudo_labeling_first_iteration.json', 'r') as f:\n",
        "    all_predicted_labels1 = json.load(f)\n",
        "# Load the predicted labels and confidence scores\n",
        "correct_labels_df_1 = []\n",
        "for i in range(10):\n",
        "    predictions=pd.DataFrame.from_dict(all_predicted_labels1[str(i)],orient='index').transpose() \n",
        "    predictions_same_label = predictions[predictions['existing_label'] == predictions['label_predicted']]\n",
        "    predictions_correct_label = predictions_same_label[predictions_same_label['confidence']>0.2] \n",
        "    correct_labels_df_1.append(predictions_correct_label)\n",
        "\n",
        "df_correct_1 = pd.concat(correct_labels_df_1)\n",
        "df_correct_1['path'] = df_correct_1['path'].apply(lambda x: x[0])"
      ]
    },
    {
      "cell_type": "code",
      "execution_count": 330,
      "metadata": {
        "colab": {
          "base_uri": "https://localhost:8080/",
          "height": 424
        },
        "id": "x-yiskagje-i",
        "outputId": "d9ee7e9a-8feb-4e9b-a7a1-9131adeafe35"
      },
      "outputs": [
        {
          "data": {
            "text/html": [
              "\n",
              "  <div id=\"df-83bf2cac-0690-4d68-b953-74a1237a7bad\">\n",
              "    <div class=\"colab-df-container\">\n",
              "      <div>\n",
              "<style scoped>\n",
              "    .dataframe tbody tr th:only-of-type {\n",
              "        vertical-align: middle;\n",
              "    }\n",
              "\n",
              "    .dataframe tbody tr th {\n",
              "        vertical-align: top;\n",
              "    }\n",
              "\n",
              "    .dataframe thead th {\n",
              "        text-align: right;\n",
              "    }\n",
              "</style>\n",
              "<table border=\"1\" class=\"dataframe\">\n",
              "  <thead>\n",
              "    <tr style=\"text-align: right;\">\n",
              "      <th></th>\n",
              "      <th>path</th>\n",
              "      <th>confidence</th>\n",
              "      <th>existing_label</th>\n",
              "      <th>label_predicted</th>\n",
              "    </tr>\n",
              "  </thead>\n",
              "  <tbody>\n",
              "    <tr>\n",
              "      <th>191</th>\n",
              "      <td>data/task2/images_by_class/19/7468.jpeg</td>\n",
              "      <td>1.041596</td>\n",
              "      <td>19</td>\n",
              "      <td>19</td>\n",
              "    </tr>\n",
              "    <tr>\n",
              "      <th>226</th>\n",
              "      <td>data/task2/images_by_class/34/13438.jpeg</td>\n",
              "      <td>0.309039</td>\n",
              "      <td>34</td>\n",
              "      <td>34</td>\n",
              "    </tr>\n",
              "    <tr>\n",
              "      <th>272</th>\n",
              "      <td>data/task2/images_by_class/30/12107.jpeg</td>\n",
              "      <td>1.208265</td>\n",
              "      <td>30</td>\n",
              "      <td>30</td>\n",
              "    </tr>\n",
              "    <tr>\n",
              "      <th>378</th>\n",
              "      <td>data/task2/images_by_class/34/13499.jpeg</td>\n",
              "      <td>1.241412</td>\n",
              "      <td>34</td>\n",
              "      <td>34</td>\n",
              "    </tr>\n",
              "    <tr>\n",
              "      <th>945</th>\n",
              "      <td>data/task2/images_by_class/92/35180.jpeg</td>\n",
              "      <td>11.464233</td>\n",
              "      <td>92</td>\n",
              "      <td>92</td>\n",
              "    </tr>\n",
              "    <tr>\n",
              "      <th>...</th>\n",
              "      <td>...</td>\n",
              "      <td>...</td>\n",
              "      <td>...</td>\n",
              "      <td>...</td>\n",
              "    </tr>\n",
              "    <tr>\n",
              "      <th>4310</th>\n",
              "      <td>data/task2/images_by_class/50/19476.jpeg</td>\n",
              "      <td>1.982109</td>\n",
              "      <td>50</td>\n",
              "      <td>50</td>\n",
              "    </tr>\n",
              "    <tr>\n",
              "      <th>4365</th>\n",
              "      <td>data/task2/images_by_class/52/19993.jpeg</td>\n",
              "      <td>2.803925</td>\n",
              "      <td>52</td>\n",
              "      <td>52</td>\n",
              "    </tr>\n",
              "    <tr>\n",
              "      <th>4545</th>\n",
              "      <td>data/task2/images_by_class/38/48931.jpeg</td>\n",
              "      <td>3.05493</td>\n",
              "      <td>38</td>\n",
              "      <td>38</td>\n",
              "    </tr>\n",
              "    <tr>\n",
              "      <th>4587</th>\n",
              "      <td>data/task2/images_by_class/38/15138.jpeg</td>\n",
              "      <td>1.706635</td>\n",
              "      <td>38</td>\n",
              "      <td>38</td>\n",
              "    </tr>\n",
              "    <tr>\n",
              "      <th>4938</th>\n",
              "      <td>data/task2/images_by_class/93/35654.jpeg</td>\n",
              "      <td>2.009159</td>\n",
              "      <td>93</td>\n",
              "      <td>93</td>\n",
              "    </tr>\n",
              "  </tbody>\n",
              "</table>\n",
              "<p>452 rows × 4 columns</p>\n",
              "</div>\n",
              "      <button class=\"colab-df-convert\" onclick=\"convertToInteractive('df-83bf2cac-0690-4d68-b953-74a1237a7bad')\"\n",
              "              title=\"Convert this dataframe to an interactive table.\"\n",
              "              style=\"display:none;\">\n",
              "        \n",
              "  <svg xmlns=\"http://www.w3.org/2000/svg\" height=\"24px\"viewBox=\"0 0 24 24\"\n",
              "       width=\"24px\">\n",
              "    <path d=\"M0 0h24v24H0V0z\" fill=\"none\"/>\n",
              "    <path d=\"M18.56 5.44l.94 2.06.94-2.06 2.06-.94-2.06-.94-.94-2.06-.94 2.06-2.06.94zm-11 1L8.5 8.5l.94-2.06 2.06-.94-2.06-.94L8.5 2.5l-.94 2.06-2.06.94zm10 10l.94 2.06.94-2.06 2.06-.94-2.06-.94-.94-2.06-.94 2.06-2.06.94z\"/><path d=\"M17.41 7.96l-1.37-1.37c-.4-.4-.92-.59-1.43-.59-.52 0-1.04.2-1.43.59L10.3 9.45l-7.72 7.72c-.78.78-.78 2.05 0 2.83L4 21.41c.39.39.9.59 1.41.59.51 0 1.02-.2 1.41-.59l7.78-7.78 2.81-2.81c.8-.78.8-2.07 0-2.86zM5.41 20L4 18.59l7.72-7.72 1.47 1.35L5.41 20z\"/>\n",
              "  </svg>\n",
              "      </button>\n",
              "      \n",
              "  <style>\n",
              "    .colab-df-container {\n",
              "      display:flex;\n",
              "      flex-wrap:wrap;\n",
              "      gap: 12px;\n",
              "    }\n",
              "\n",
              "    .colab-df-convert {\n",
              "      background-color: #E8F0FE;\n",
              "      border: none;\n",
              "      border-radius: 50%;\n",
              "      cursor: pointer;\n",
              "      display: none;\n",
              "      fill: #1967D2;\n",
              "      height: 32px;\n",
              "      padding: 0 0 0 0;\n",
              "      width: 32px;\n",
              "    }\n",
              "\n",
              "    .colab-df-convert:hover {\n",
              "      background-color: #E2EBFA;\n",
              "      box-shadow: 0px 1px 2px rgba(60, 64, 67, 0.3), 0px 1px 3px 1px rgba(60, 64, 67, 0.15);\n",
              "      fill: #174EA6;\n",
              "    }\n",
              "\n",
              "    [theme=dark] .colab-df-convert {\n",
              "      background-color: #3B4455;\n",
              "      fill: #D2E3FC;\n",
              "    }\n",
              "\n",
              "    [theme=dark] .colab-df-convert:hover {\n",
              "      background-color: #434B5C;\n",
              "      box-shadow: 0px 1px 3px 1px rgba(0, 0, 0, 0.15);\n",
              "      filter: drop-shadow(0px 1px 2px rgba(0, 0, 0, 0.3));\n",
              "      fill: #FFFFFF;\n",
              "    }\n",
              "  </style>\n",
              "\n",
              "      <script>\n",
              "        const buttonEl =\n",
              "          document.querySelector('#df-83bf2cac-0690-4d68-b953-74a1237a7bad button.colab-df-convert');\n",
              "        buttonEl.style.display =\n",
              "          google.colab.kernel.accessAllowed ? 'block' : 'none';\n",
              "\n",
              "        async function convertToInteractive(key) {\n",
              "          const element = document.querySelector('#df-83bf2cac-0690-4d68-b953-74a1237a7bad');\n",
              "          const dataTable =\n",
              "            await google.colab.kernel.invokeFunction('convertToInteractive',\n",
              "                                                     [key], {});\n",
              "          if (!dataTable) return;\n",
              "\n",
              "          const docLinkHtml = 'Like what you see? Visit the ' +\n",
              "            '<a target=\"_blank\" href=https://colab.research.google.com/notebooks/data_table.ipynb>data table notebook</a>'\n",
              "            + ' to learn more about interactive tables.';\n",
              "          element.innerHTML = '';\n",
              "          dataTable['output_type'] = 'display_data';\n",
              "          await google.colab.output.renderOutput(dataTable, element);\n",
              "          const docLink = document.createElement('div');\n",
              "          docLink.innerHTML = docLinkHtml;\n",
              "          element.appendChild(docLink);\n",
              "        }\n",
              "      </script>\n",
              "    </div>\n",
              "  </div>\n",
              "  "
            ],
            "text/plain": [
              "                                          path confidence existing_label  \\\n",
              "191    data/task2/images_by_class/19/7468.jpeg   1.041596             19   \n",
              "226   data/task2/images_by_class/34/13438.jpeg   0.309039             34   \n",
              "272   data/task2/images_by_class/30/12107.jpeg   1.208265             30   \n",
              "378   data/task2/images_by_class/34/13499.jpeg   1.241412             34   \n",
              "945   data/task2/images_by_class/92/35180.jpeg  11.464233             92   \n",
              "...                                        ...        ...            ...   \n",
              "4310  data/task2/images_by_class/50/19476.jpeg   1.982109             50   \n",
              "4365  data/task2/images_by_class/52/19993.jpeg   2.803925             52   \n",
              "4545  data/task2/images_by_class/38/48931.jpeg    3.05493             38   \n",
              "4587  data/task2/images_by_class/38/15138.jpeg   1.706635             38   \n",
              "4938  data/task2/images_by_class/93/35654.jpeg   2.009159             93   \n",
              "\n",
              "     label_predicted  \n",
              "191               19  \n",
              "226               34  \n",
              "272               30  \n",
              "378               34  \n",
              "945               92  \n",
              "...              ...  \n",
              "4310              50  \n",
              "4365              52  \n",
              "4545              38  \n",
              "4587              38  \n",
              "4938              93  \n",
              "\n",
              "[452 rows x 4 columns]"
            ]
          },
          "execution_count": 330,
          "metadata": {},
          "output_type": "execute_result"
        }
      ],
      "source": [
        "df_correct_1"
      ]
    },
    {
      "cell_type": "code",
      "execution_count": 331,
      "metadata": {
        "colab": {
          "base_uri": "https://localhost:8080/",
          "height": 424
        },
        "id": "s5LJ1aX1jhRZ",
        "outputId": "4d2faed5-7438-499f-e4f4-cb630f123f0c"
      },
      "outputs": [
        {
          "data": {
            "text/html": [
              "\n",
              "  <div id=\"df-f66a70d7-ee27-4adc-890b-dc2dd24369da\">\n",
              "    <div class=\"colab-df-container\">\n",
              "      <div>\n",
              "<style scoped>\n",
              "    .dataframe tbody tr th:only-of-type {\n",
              "        vertical-align: middle;\n",
              "    }\n",
              "\n",
              "    .dataframe tbody tr th {\n",
              "        vertical-align: top;\n",
              "    }\n",
              "\n",
              "    .dataframe thead th {\n",
              "        text-align: right;\n",
              "    }\n",
              "</style>\n",
              "<table border=\"1\" class=\"dataframe\">\n",
              "  <thead>\n",
              "    <tr style=\"text-align: right;\">\n",
              "      <th></th>\n",
              "      <th>path</th>\n",
              "      <th>confidence</th>\n",
              "      <th>existing_label</th>\n",
              "      <th>label_predicted</th>\n",
              "    </tr>\n",
              "  </thead>\n",
              "  <tbody>\n",
              "    <tr>\n",
              "      <th>17</th>\n",
              "      <td>data/task2/images_by_class/38/15011.jpeg</td>\n",
              "      <td>0.28361</td>\n",
              "      <td>38</td>\n",
              "      <td>38</td>\n",
              "    </tr>\n",
              "    <tr>\n",
              "      <th>169</th>\n",
              "      <td>data/task2/images_by_class/61/23360.jpeg</td>\n",
              "      <td>0.201992</td>\n",
              "      <td>61</td>\n",
              "      <td>61</td>\n",
              "    </tr>\n",
              "    <tr>\n",
              "      <th>348</th>\n",
              "      <td>data/task2/images_by_class/44/17304.jpeg</td>\n",
              "      <td>2.34158</td>\n",
              "      <td>44</td>\n",
              "      <td>44</td>\n",
              "    </tr>\n",
              "    <tr>\n",
              "      <th>672</th>\n",
              "      <td>data/task2/images_by_class/38/46636.jpeg</td>\n",
              "      <td>2.110656</td>\n",
              "      <td>38</td>\n",
              "      <td>38</td>\n",
              "    </tr>\n",
              "    <tr>\n",
              "      <th>781</th>\n",
              "      <td>data/task2/images_by_class/33/13269.jpeg</td>\n",
              "      <td>0.464516</td>\n",
              "      <td>33</td>\n",
              "      <td>33</td>\n",
              "    </tr>\n",
              "    <tr>\n",
              "      <th>...</th>\n",
              "      <td>...</td>\n",
              "      <td>...</td>\n",
              "      <td>...</td>\n",
              "      <td>...</td>\n",
              "    </tr>\n",
              "    <tr>\n",
              "      <th>24508</th>\n",
              "      <td>data/task2/images_by_class/47/39905.jpeg</td>\n",
              "      <td>1.529039</td>\n",
              "      <td>47</td>\n",
              "      <td>47</td>\n",
              "    </tr>\n",
              "    <tr>\n",
              "      <th>24532</th>\n",
              "      <td>data/task2/images_by_class/29/11629.jpeg</td>\n",
              "      <td>2.1298</td>\n",
              "      <td>29</td>\n",
              "      <td>29</td>\n",
              "    </tr>\n",
              "    <tr>\n",
              "      <th>24535</th>\n",
              "      <td>data/task2/images_by_class/28/10980.jpeg</td>\n",
              "      <td>0.967887</td>\n",
              "      <td>28</td>\n",
              "      <td>28</td>\n",
              "    </tr>\n",
              "    <tr>\n",
              "      <th>24556</th>\n",
              "      <td>data/task2/images_by_class/40/15672.jpeg</td>\n",
              "      <td>2.46378</td>\n",
              "      <td>40</td>\n",
              "      <td>40</td>\n",
              "    </tr>\n",
              "    <tr>\n",
              "      <th>24736</th>\n",
              "      <td>data/task2/images_by_class/47/18197.jpeg</td>\n",
              "      <td>1.007002</td>\n",
              "      <td>47</td>\n",
              "      <td>47</td>\n",
              "    </tr>\n",
              "  </tbody>\n",
              "</table>\n",
              "<p>389 rows × 4 columns</p>\n",
              "</div>\n",
              "      <button class=\"colab-df-convert\" onclick=\"convertToInteractive('df-f66a70d7-ee27-4adc-890b-dc2dd24369da')\"\n",
              "              title=\"Convert this dataframe to an interactive table.\"\n",
              "              style=\"display:none;\">\n",
              "        \n",
              "  <svg xmlns=\"http://www.w3.org/2000/svg\" height=\"24px\"viewBox=\"0 0 24 24\"\n",
              "       width=\"24px\">\n",
              "    <path d=\"M0 0h24v24H0V0z\" fill=\"none\"/>\n",
              "    <path d=\"M18.56 5.44l.94 2.06.94-2.06 2.06-.94-2.06-.94-.94-2.06-.94 2.06-2.06.94zm-11 1L8.5 8.5l.94-2.06 2.06-.94-2.06-.94L8.5 2.5l-.94 2.06-2.06.94zm10 10l.94 2.06.94-2.06 2.06-.94-2.06-.94-.94-2.06-.94 2.06-2.06.94z\"/><path d=\"M17.41 7.96l-1.37-1.37c-.4-.4-.92-.59-1.43-.59-.52 0-1.04.2-1.43.59L10.3 9.45l-7.72 7.72c-.78.78-.78 2.05 0 2.83L4 21.41c.39.39.9.59 1.41.59.51 0 1.02-.2 1.41-.59l7.78-7.78 2.81-2.81c.8-.78.8-2.07 0-2.86zM5.41 20L4 18.59l7.72-7.72 1.47 1.35L5.41 20z\"/>\n",
              "  </svg>\n",
              "      </button>\n",
              "      \n",
              "  <style>\n",
              "    .colab-df-container {\n",
              "      display:flex;\n",
              "      flex-wrap:wrap;\n",
              "      gap: 12px;\n",
              "    }\n",
              "\n",
              "    .colab-df-convert {\n",
              "      background-color: #E8F0FE;\n",
              "      border: none;\n",
              "      border-radius: 50%;\n",
              "      cursor: pointer;\n",
              "      display: none;\n",
              "      fill: #1967D2;\n",
              "      height: 32px;\n",
              "      padding: 0 0 0 0;\n",
              "      width: 32px;\n",
              "    }\n",
              "\n",
              "    .colab-df-convert:hover {\n",
              "      background-color: #E2EBFA;\n",
              "      box-shadow: 0px 1px 2px rgba(60, 64, 67, 0.3), 0px 1px 3px 1px rgba(60, 64, 67, 0.15);\n",
              "      fill: #174EA6;\n",
              "    }\n",
              "\n",
              "    [theme=dark] .colab-df-convert {\n",
              "      background-color: #3B4455;\n",
              "      fill: #D2E3FC;\n",
              "    }\n",
              "\n",
              "    [theme=dark] .colab-df-convert:hover {\n",
              "      background-color: #434B5C;\n",
              "      box-shadow: 0px 1px 3px 1px rgba(0, 0, 0, 0.15);\n",
              "      filter: drop-shadow(0px 1px 2px rgba(0, 0, 0, 0.3));\n",
              "      fill: #FFFFFF;\n",
              "    }\n",
              "  </style>\n",
              "\n",
              "      <script>\n",
              "        const buttonEl =\n",
              "          document.querySelector('#df-f66a70d7-ee27-4adc-890b-dc2dd24369da button.colab-df-convert');\n",
              "        buttonEl.style.display =\n",
              "          google.colab.kernel.accessAllowed ? 'block' : 'none';\n",
              "\n",
              "        async function convertToInteractive(key) {\n",
              "          const element = document.querySelector('#df-f66a70d7-ee27-4adc-890b-dc2dd24369da');\n",
              "          const dataTable =\n",
              "            await google.colab.kernel.invokeFunction('convertToInteractive',\n",
              "                                                     [key], {});\n",
              "          if (!dataTable) return;\n",
              "\n",
              "          const docLinkHtml = 'Like what you see? Visit the ' +\n",
              "            '<a target=\"_blank\" href=https://colab.research.google.com/notebooks/data_table.ipynb>data table notebook</a>'\n",
              "            + ' to learn more about interactive tables.';\n",
              "          element.innerHTML = '';\n",
              "          dataTable['output_type'] = 'display_data';\n",
              "          await google.colab.output.renderOutput(dataTable, element);\n",
              "          const docLink = document.createElement('div');\n",
              "          docLink.innerHTML = docLinkHtml;\n",
              "          element.appendChild(docLink);\n",
              "        }\n",
              "      </script>\n",
              "    </div>\n",
              "  </div>\n",
              "  "
            ],
            "text/plain": [
              "                                           path confidence existing_label  \\\n",
              "17     data/task2/images_by_class/38/15011.jpeg    0.28361             38   \n",
              "169    data/task2/images_by_class/61/23360.jpeg   0.201992             61   \n",
              "348    data/task2/images_by_class/44/17304.jpeg    2.34158             44   \n",
              "672    data/task2/images_by_class/38/46636.jpeg   2.110656             38   \n",
              "781    data/task2/images_by_class/33/13269.jpeg   0.464516             33   \n",
              "...                                         ...        ...            ...   \n",
              "24508  data/task2/images_by_class/47/39905.jpeg   1.529039             47   \n",
              "24532  data/task2/images_by_class/29/11629.jpeg     2.1298             29   \n",
              "24535  data/task2/images_by_class/28/10980.jpeg   0.967887             28   \n",
              "24556  data/task2/images_by_class/40/15672.jpeg    2.46378             40   \n",
              "24736  data/task2/images_by_class/47/18197.jpeg   1.007002             47   \n",
              "\n",
              "      label_predicted  \n",
              "17                 38  \n",
              "169                61  \n",
              "348                44  \n",
              "672                38  \n",
              "781                33  \n",
              "...               ...  \n",
              "24508              47  \n",
              "24532              29  \n",
              "24535              28  \n",
              "24556              40  \n",
              "24736              47  \n",
              "\n",
              "[389 rows x 4 columns]"
            ]
          },
          "execution_count": 331,
          "metadata": {},
          "output_type": "execute_result"
        }
      ],
      "source": [
        "df_correct2"
      ]
    },
    {
      "cell_type": "code",
      "execution_count": 340,
      "metadata": {
        "id": "YId3WwTlkXvf"
      },
      "outputs": [],
      "source": [
        "df_all1 = prep_to_merge(all_predicted_labels1, 10)\n",
        "df_all2 = prep_to_merge(all_predicted_labels2, 2)\n",
        "\n",
        "df_all2.rename({\"confidence\":\"confidence2\", \"label_predicted\":\"label_predicted2\"}, inplace=True, axis = 1)\n",
        "df_all2.drop(\"existing_label\", inplace=True,axis=1)\n",
        "merge_df = pd.merge(df_all1, df_all2, on=\"path\", how=\"left\")\n",
        "# we don't have all rows for confidence 2 so we use \"left\" merging"
      ]
    },
    {
      "cell_type": "code",
      "execution_count": 333,
      "metadata": {
        "colab": {
          "base_uri": "https://localhost:8080/",
          "height": 424
        },
        "id": "82ZFbAYTnzVj",
        "outputId": "75aeb41b-60b6-440b-d6d5-3bfb6bef0dae"
      },
      "outputs": [
        {
          "data": {
            "text/html": [
              "\n",
              "  <div id=\"df-773ebc8c-498f-4a80-b06e-322567b5d42a\">\n",
              "    <div class=\"colab-df-container\">\n",
              "      <div>\n",
              "<style scoped>\n",
              "    .dataframe tbody tr th:only-of-type {\n",
              "        vertical-align: middle;\n",
              "    }\n",
              "\n",
              "    .dataframe tbody tr th {\n",
              "        vertical-align: top;\n",
              "    }\n",
              "\n",
              "    .dataframe thead th {\n",
              "        text-align: right;\n",
              "    }\n",
              "</style>\n",
              "<table border=\"1\" class=\"dataframe\">\n",
              "  <thead>\n",
              "    <tr style=\"text-align: right;\">\n",
              "      <th></th>\n",
              "      <th>path</th>\n",
              "      <th>confidence</th>\n",
              "      <th>existing_label</th>\n",
              "      <th>label_predicted</th>\n",
              "      <th>confidence2</th>\n",
              "      <th>label_predicted2</th>\n",
              "    </tr>\n",
              "  </thead>\n",
              "  <tbody>\n",
              "    <tr>\n",
              "      <th>0</th>\n",
              "      <td>data/task2/images_by_class/3/1383.jpeg</td>\n",
              "      <td>0.36458</td>\n",
              "      <td>3</td>\n",
              "      <td>19</td>\n",
              "      <td>0.916443</td>\n",
              "      <td>69</td>\n",
              "    </tr>\n",
              "    <tr>\n",
              "      <th>1</th>\n",
              "      <td>data/task2/images_by_class/76/29313.jpeg</td>\n",
              "      <td>0.098717</td>\n",
              "      <td>76</td>\n",
              "      <td>59</td>\n",
              "      <td>1.734477</td>\n",
              "      <td>47</td>\n",
              "    </tr>\n",
              "    <tr>\n",
              "      <th>2</th>\n",
              "      <td>data/task2/images_by_class/30/12277.jpeg</td>\n",
              "      <td>0.203538</td>\n",
              "      <td>30</td>\n",
              "      <td>34</td>\n",
              "      <td>0.174259</td>\n",
              "      <td>44</td>\n",
              "    </tr>\n",
              "    <tr>\n",
              "      <th>3</th>\n",
              "      <td>data/task2/images_by_class/59/22781.jpeg</td>\n",
              "      <td>0.13695</td>\n",
              "      <td>59</td>\n",
              "      <td>61</td>\n",
              "      <td>1.593244</td>\n",
              "      <td>17</td>\n",
              "    </tr>\n",
              "    <tr>\n",
              "      <th>4</th>\n",
              "      <td>data/task2/images_by_class/88/34072.jpeg</td>\n",
              "      <td>0.259119</td>\n",
              "      <td>88</td>\n",
              "      <td>34</td>\n",
              "      <td>1.78167</td>\n",
              "      <td>3</td>\n",
              "    </tr>\n",
              "    <tr>\n",
              "      <th>...</th>\n",
              "      <td>...</td>\n",
              "      <td>...</td>\n",
              "      <td>...</td>\n",
              "      <td>...</td>\n",
              "      <td>...</td>\n",
              "      <td>...</td>\n",
              "    </tr>\n",
              "    <tr>\n",
              "      <th>49995</th>\n",
              "      <td>data/task2/images_by_class/74/28286.jpeg</td>\n",
              "      <td>1.359533</td>\n",
              "      <td>74</td>\n",
              "      <td>50</td>\n",
              "      <td>0.029493</td>\n",
              "      <td>17</td>\n",
              "    </tr>\n",
              "    <tr>\n",
              "      <th>49996</th>\n",
              "      <td>data/task2/images_by_class/15/45448.jpeg</td>\n",
              "      <td>3.355858</td>\n",
              "      <td>15</td>\n",
              "      <td>61</td>\n",
              "      <td>3.662585</td>\n",
              "      <td>47</td>\n",
              "    </tr>\n",
              "    <tr>\n",
              "      <th>49997</th>\n",
              "      <td>data/task2/images_by_class/8/44196.jpeg</td>\n",
              "      <td>1.073675</td>\n",
              "      <td>8</td>\n",
              "      <td>0</td>\n",
              "      <td>0.305969</td>\n",
              "      <td>38</td>\n",
              "    </tr>\n",
              "    <tr>\n",
              "      <th>49998</th>\n",
              "      <td>data/task2/images_by_class/75/28828.jpeg</td>\n",
              "      <td>1.837749</td>\n",
              "      <td>75</td>\n",
              "      <td>39</td>\n",
              "      <td>1.070897</td>\n",
              "      <td>99</td>\n",
              "    </tr>\n",
              "    <tr>\n",
              "      <th>49999</th>\n",
              "      <td>data/task2/images_by_class/99/40549.jpeg</td>\n",
              "      <td>3.33866</td>\n",
              "      <td>99</td>\n",
              "      <td>67</td>\n",
              "      <td>2.707126</td>\n",
              "      <td>44</td>\n",
              "    </tr>\n",
              "  </tbody>\n",
              "</table>\n",
              "<p>50000 rows × 6 columns</p>\n",
              "</div>\n",
              "      <button class=\"colab-df-convert\" onclick=\"convertToInteractive('df-773ebc8c-498f-4a80-b06e-322567b5d42a')\"\n",
              "              title=\"Convert this dataframe to an interactive table.\"\n",
              "              style=\"display:none;\">\n",
              "        \n",
              "  <svg xmlns=\"http://www.w3.org/2000/svg\" height=\"24px\"viewBox=\"0 0 24 24\"\n",
              "       width=\"24px\">\n",
              "    <path d=\"M0 0h24v24H0V0z\" fill=\"none\"/>\n",
              "    <path d=\"M18.56 5.44l.94 2.06.94-2.06 2.06-.94-2.06-.94-.94-2.06-.94 2.06-2.06.94zm-11 1L8.5 8.5l.94-2.06 2.06-.94-2.06-.94L8.5 2.5l-.94 2.06-2.06.94zm10 10l.94 2.06.94-2.06 2.06-.94-2.06-.94-.94-2.06-.94 2.06-2.06.94z\"/><path d=\"M17.41 7.96l-1.37-1.37c-.4-.4-.92-.59-1.43-.59-.52 0-1.04.2-1.43.59L10.3 9.45l-7.72 7.72c-.78.78-.78 2.05 0 2.83L4 21.41c.39.39.9.59 1.41.59.51 0 1.02-.2 1.41-.59l7.78-7.78 2.81-2.81c.8-.78.8-2.07 0-2.86zM5.41 20L4 18.59l7.72-7.72 1.47 1.35L5.41 20z\"/>\n",
              "  </svg>\n",
              "      </button>\n",
              "      \n",
              "  <style>\n",
              "    .colab-df-container {\n",
              "      display:flex;\n",
              "      flex-wrap:wrap;\n",
              "      gap: 12px;\n",
              "    }\n",
              "\n",
              "    .colab-df-convert {\n",
              "      background-color: #E8F0FE;\n",
              "      border: none;\n",
              "      border-radius: 50%;\n",
              "      cursor: pointer;\n",
              "      display: none;\n",
              "      fill: #1967D2;\n",
              "      height: 32px;\n",
              "      padding: 0 0 0 0;\n",
              "      width: 32px;\n",
              "    }\n",
              "\n",
              "    .colab-df-convert:hover {\n",
              "      background-color: #E2EBFA;\n",
              "      box-shadow: 0px 1px 2px rgba(60, 64, 67, 0.3), 0px 1px 3px 1px rgba(60, 64, 67, 0.15);\n",
              "      fill: #174EA6;\n",
              "    }\n",
              "\n",
              "    [theme=dark] .colab-df-convert {\n",
              "      background-color: #3B4455;\n",
              "      fill: #D2E3FC;\n",
              "    }\n",
              "\n",
              "    [theme=dark] .colab-df-convert:hover {\n",
              "      background-color: #434B5C;\n",
              "      box-shadow: 0px 1px 3px 1px rgba(0, 0, 0, 0.15);\n",
              "      filter: drop-shadow(0px 1px 2px rgba(0, 0, 0, 0.3));\n",
              "      fill: #FFFFFF;\n",
              "    }\n",
              "  </style>\n",
              "\n",
              "      <script>\n",
              "        const buttonEl =\n",
              "          document.querySelector('#df-773ebc8c-498f-4a80-b06e-322567b5d42a button.colab-df-convert');\n",
              "        buttonEl.style.display =\n",
              "          google.colab.kernel.accessAllowed ? 'block' : 'none';\n",
              "\n",
              "        async function convertToInteractive(key) {\n",
              "          const element = document.querySelector('#df-773ebc8c-498f-4a80-b06e-322567b5d42a');\n",
              "          const dataTable =\n",
              "            await google.colab.kernel.invokeFunction('convertToInteractive',\n",
              "                                                     [key], {});\n",
              "          if (!dataTable) return;\n",
              "\n",
              "          const docLinkHtml = 'Like what you see? Visit the ' +\n",
              "            '<a target=\"_blank\" href=https://colab.research.google.com/notebooks/data_table.ipynb>data table notebook</a>'\n",
              "            + ' to learn more about interactive tables.';\n",
              "          element.innerHTML = '';\n",
              "          dataTable['output_type'] = 'display_data';\n",
              "          await google.colab.output.renderOutput(dataTable, element);\n",
              "          const docLink = document.createElement('div');\n",
              "          docLink.innerHTML = docLinkHtml;\n",
              "          element.appendChild(docLink);\n",
              "        }\n",
              "      </script>\n",
              "    </div>\n",
              "  </div>\n",
              "  "
            ],
            "text/plain": [
              "                                           path confidence existing_label  \\\n",
              "0        data/task2/images_by_class/3/1383.jpeg    0.36458              3   \n",
              "1      data/task2/images_by_class/76/29313.jpeg   0.098717             76   \n",
              "2      data/task2/images_by_class/30/12277.jpeg   0.203538             30   \n",
              "3      data/task2/images_by_class/59/22781.jpeg    0.13695             59   \n",
              "4      data/task2/images_by_class/88/34072.jpeg   0.259119             88   \n",
              "...                                         ...        ...            ...   \n",
              "49995  data/task2/images_by_class/74/28286.jpeg   1.359533             74   \n",
              "49996  data/task2/images_by_class/15/45448.jpeg   3.355858             15   \n",
              "49997   data/task2/images_by_class/8/44196.jpeg   1.073675              8   \n",
              "49998  data/task2/images_by_class/75/28828.jpeg   1.837749             75   \n",
              "49999  data/task2/images_by_class/99/40549.jpeg    3.33866             99   \n",
              "\n",
              "      label_predicted confidence2 label_predicted2  \n",
              "0                  19    0.916443               69  \n",
              "1                  59    1.734477               47  \n",
              "2                  34    0.174259               44  \n",
              "3                  61    1.593244               17  \n",
              "4                  34     1.78167                3  \n",
              "...               ...         ...              ...  \n",
              "49995              50    0.029493               17  \n",
              "49996              61    3.662585               47  \n",
              "49997               0    0.305969               38  \n",
              "49998              39    1.070897               99  \n",
              "49999              67    2.707126               44  \n",
              "\n",
              "[50000 rows x 6 columns]"
            ]
          },
          "execution_count": 333,
          "metadata": {},
          "output_type": "execute_result"
        }
      ],
      "source": [
        "merge_df"
      ]
    },
    {
      "cell_type": "code",
      "execution_count": 279,
      "metadata": {
        "colab": {
          "base_uri": "https://localhost:8080/"
        },
        "id": "ZumSZ5hCm8ns",
        "outputId": "a7527f0a-47e6-43c7-aa63-fd84881a3873"
      },
      "outputs": [
        {
          "name": "stdout",
          "output_type": "stream",
          "text": [
            "How many rows have the label_predicted2 = label_predicted 2\n",
            "False    49251\n",
            "True       749\n",
            "dtype: int64\n"
          ]
        }
      ],
      "source": [
        "print(\"How many rows have the label_predicted2 = label_predicted 2\")\n",
        "print((merge_df['label_predicted'] == merge_df['label_predicted2']).value_counts())"
      ]
    },
    {
      "cell_type": "markdown",
      "metadata": {
        "id": "wMg4Og_xoanG"
      },
      "source": [
        "**Wow!** There are much more labels that have the same label prediction from 2 models compared to label predictions from only 1 model and the dataset. We can consider them also as correct and try again the process of training. "
      ]
    },
    {
      "cell_type": "code",
      "execution_count": 280,
      "metadata": {
        "colab": {
          "base_uri": "https://localhost:8080/",
          "height": 300
        },
        "id": "nir6eDGuo42r",
        "outputId": "2dc5f5e0-2935-4c34-a321-f2c37cdaf824"
      },
      "outputs": [
        {
          "name": "stdout",
          "output_type": "stream",
          "text": [
            "What is the confidence distribution of those with same label\n"
          ]
        },
        {
          "data": {
            "text/plain": [
              "<matplotlib.axes._subplots.AxesSubplot at 0x7f047a89cbb0>"
            ]
          },
          "execution_count": 280,
          "metadata": {},
          "output_type": "execute_result"
        },
        {
          "data": {
            "image/png": "[encoded data removed]",
            "text/plain": [
              "<Figure size 432x288 with 1 Axes>"
            ]
          },
          "metadata": {
            "needs_background": "light"
          },
          "output_type": "display_data"
        }
      ],
      "source": [
        "print(\"What is the confidence distribution of those with same label\")\n",
        "merge_df[merge_df['label_predicted2'] == merge_df['label_predicted']]['confidence'].plot.hist(bins = 20)"
      ]
    },
    {
      "cell_type": "code",
      "execution_count": 281,
      "metadata": {
        "colab": {
          "base_uri": "https://localhost:8080/",
          "height": 300
        },
        "id": "x5m_1cbzqMnY",
        "outputId": "b3b667a4-cccc-42a3-bcee-f4d91038ef0d"
      },
      "outputs": [
        {
          "name": "stdout",
          "output_type": "stream",
          "text": [
            "We can also notice that the confidence is very similar\n"
          ]
        },
        {
          "data": {
            "text/plain": [
              "<matplotlib.axes._subplots.AxesSubplot at 0x7f04b0135070>"
            ]
          },
          "execution_count": 281,
          "metadata": {},
          "output_type": "execute_result"
        },
        {
          "data": {
            "image/png": "[encoded data removed]",
            "text/plain": [
              "<Figure size 432x288 with 1 Axes>"
            ]
          },
          "metadata": {
            "needs_background": "light"
          },
          "output_type": "display_data"
        }
      ],
      "source": [
        "print(\"We can also notice that the confidence is very similar\")\n",
        "merge_df[merge_df['label_predicted2'] == merge_df['label_predicted']]['confidence2'].plot.hist(bins = 20)"
      ]
    },
    {
      "cell_type": "code",
      "execution_count": 282,
      "metadata": {
        "colab": {
          "base_uri": "https://localhost:8080/",
          "height": 458
        },
        "id": "noY7G4e9p5HV",
        "outputId": "76778fb4-fa8e-4cfe-fa83-2aff288019ed"
      },
      "outputs": [
        {
          "name": "stderr",
          "output_type": "stream",
          "text": [
            "<ipython-input-282-8bc119427798>:2: UserWarning: Boolean Series key will be reindexed to match DataFrame index.\n",
            "  df_merge_correct = merge_same_label[merge_same_label['confidence']>0.2][merge_same_label['confidence2']>0.2]\n"
          ]
        },
        {
          "data": {
            "text/html": [
              "\n",
              "  <div id=\"df-57cf4ea2-0a23-4590-8916-0f6659b4312c\">\n",
              "    <div class=\"colab-df-container\">\n",
              "      <div>\n",
              "<style scoped>\n",
              "    .dataframe tbody tr th:only-of-type {\n",
              "        vertical-align: middle;\n",
              "    }\n",
              "\n",
              "    .dataframe tbody tr th {\n",
              "        vertical-align: top;\n",
              "    }\n",
              "\n",
              "    .dataframe thead th {\n",
              "        text-align: right;\n",
              "    }\n",
              "</style>\n",
              "<table border=\"1\" class=\"dataframe\">\n",
              "  <thead>\n",
              "    <tr style=\"text-align: right;\">\n",
              "      <th></th>\n",
              "      <th>path</th>\n",
              "      <th>confidence</th>\n",
              "      <th>existing_label</th>\n",
              "      <th>label_predicted</th>\n",
              "      <th>confidence2</th>\n",
              "      <th>label_predicted2</th>\n",
              "    </tr>\n",
              "  </thead>\n",
              "  <tbody>\n",
              "    <tr>\n",
              "      <th>80</th>\n",
              "      <td>data/task2/images_by_class/63/24071.jpeg</td>\n",
              "      <td>0.218912</td>\n",
              "      <td>63</td>\n",
              "      <td>38</td>\n",
              "      <td>0.617343</td>\n",
              "      <td>38</td>\n",
              "    </tr>\n",
              "    <tr>\n",
              "      <th>83</th>\n",
              "      <td>data/task2/images_by_class/6/2774.jpeg</td>\n",
              "      <td>6.238861</td>\n",
              "      <td>6</td>\n",
              "      <td>19</td>\n",
              "      <td>0.323555</td>\n",
              "      <td>19</td>\n",
              "    </tr>\n",
              "    <tr>\n",
              "      <th>103</th>\n",
              "      <td>data/task2/images_by_class/94/45260.jpeg</td>\n",
              "      <td>0.275159</td>\n",
              "      <td>94</td>\n",
              "      <td>38</td>\n",
              "      <td>4.134336</td>\n",
              "      <td>38</td>\n",
              "    </tr>\n",
              "    <tr>\n",
              "      <th>118</th>\n",
              "      <td>data/task2/images_by_class/6/2498.jpeg</td>\n",
              "      <td>6.526378</td>\n",
              "      <td>6</td>\n",
              "      <td>19</td>\n",
              "      <td>2.381141</td>\n",
              "      <td>19</td>\n",
              "    </tr>\n",
              "    <tr>\n",
              "      <th>125</th>\n",
              "      <td>data/task2/images_by_class/49/18982.jpeg</td>\n",
              "      <td>0.599729</td>\n",
              "      <td>49</td>\n",
              "      <td>61</td>\n",
              "      <td>0.650636</td>\n",
              "      <td>61</td>\n",
              "    </tr>\n",
              "    <tr>\n",
              "      <th>...</th>\n",
              "      <td>...</td>\n",
              "      <td>...</td>\n",
              "      <td>...</td>\n",
              "      <td>...</td>\n",
              "      <td>...</td>\n",
              "      <td>...</td>\n",
              "    </tr>\n",
              "    <tr>\n",
              "      <th>49780</th>\n",
              "      <td>data/task2/images_by_class/66/25295.jpeg</td>\n",
              "      <td>3.268991</td>\n",
              "      <td>66</td>\n",
              "      <td>52</td>\n",
              "      <td>1.482898</td>\n",
              "      <td>52</td>\n",
              "    </tr>\n",
              "    <tr>\n",
              "      <th>49832</th>\n",
              "      <td>data/task2/images_by_class/46/17926.jpeg</td>\n",
              "      <td>2.829008</td>\n",
              "      <td>46</td>\n",
              "      <td>18</td>\n",
              "      <td>2.943778</td>\n",
              "      <td>18</td>\n",
              "    </tr>\n",
              "    <tr>\n",
              "      <th>49838</th>\n",
              "      <td>data/task2/images_by_class/2/40844.jpeg</td>\n",
              "      <td>3.427066</td>\n",
              "      <td>2</td>\n",
              "      <td>38</td>\n",
              "      <td>4.55372</td>\n",
              "      <td>38</td>\n",
              "    </tr>\n",
              "    <tr>\n",
              "      <th>49973</th>\n",
              "      <td>data/task2/images_by_class/73/48233.jpeg</td>\n",
              "      <td>2.605259</td>\n",
              "      <td>73</td>\n",
              "      <td>38</td>\n",
              "      <td>2.49691</td>\n",
              "      <td>38</td>\n",
              "    </tr>\n",
              "    <tr>\n",
              "      <th>49986</th>\n",
              "      <td>data/task2/images_by_class/41/42881.jpeg</td>\n",
              "      <td>1.927168</td>\n",
              "      <td>41</td>\n",
              "      <td>38</td>\n",
              "      <td>0.841807</td>\n",
              "      <td>38</td>\n",
              "    </tr>\n",
              "  </tbody>\n",
              "</table>\n",
              "<p>595 rows × 6 columns</p>\n",
              "</div>\n",
              "      <button class=\"colab-df-convert\" onclick=\"convertToInteractive('df-57cf4ea2-0a23-4590-8916-0f6659b4312c')\"\n",
              "              title=\"Convert this dataframe to an interactive table.\"\n",
              "              style=\"display:none;\">\n",
              "        \n",
              "  <svg xmlns=\"http://www.w3.org/2000/svg\" height=\"24px\"viewBox=\"0 0 24 24\"\n",
              "       width=\"24px\">\n",
              "    <path d=\"M0 0h24v24H0V0z\" fill=\"none\"/>\n",
              "    <path d=\"M18.56 5.44l.94 2.06.94-2.06 2.06-.94-2.06-.94-.94-2.06-.94 2.06-2.06.94zm-11 1L8.5 8.5l.94-2.06 2.06-.94-2.06-.94L8.5 2.5l-.94 2.06-2.06.94zm10 10l.94 2.06.94-2.06 2.06-.94-2.06-.94-.94-2.06-.94 2.06-2.06.94z\"/><path d=\"M17.41 7.96l-1.37-1.37c-.4-.4-.92-.59-1.43-.59-.52 0-1.04.2-1.43.59L10.3 9.45l-7.72 7.72c-.78.78-.78 2.05 0 2.83L4 21.41c.39.39.9.59 1.41.59.51 0 1.02-.2 1.41-.59l7.78-7.78 2.81-2.81c.8-.78.8-2.07 0-2.86zM5.41 20L4 18.59l7.72-7.72 1.47 1.35L5.41 20z\"/>\n",
              "  </svg>\n",
              "      </button>\n",
              "      \n",
              "  <style>\n",
              "    .colab-df-container {\n",
              "      display:flex;\n",
              "      flex-wrap:wrap;\n",
              "      gap: 12px;\n",
              "    }\n",
              "\n",
              "    .colab-df-convert {\n",
              "      background-color: #E8F0FE;\n",
              "      border: none;\n",
              "      border-radius: 50%;\n",
              "      cursor: pointer;\n",
              "      display: none;\n",
              "      fill: #1967D2;\n",
              "      height: 32px;\n",
              "      padding: 0 0 0 0;\n",
              "      width: 32px;\n",
              "    }\n",
              "\n",
              "    .colab-df-convert:hover {\n",
              "      background-color: #E2EBFA;\n",
              "      box-shadow: 0px 1px 2px rgba(60, 64, 67, 0.3), 0px 1px 3px 1px rgba(60, 64, 67, 0.15);\n",
              "      fill: #174EA6;\n",
              "    }\n",
              "\n",
              "    [theme=dark] .colab-df-convert {\n",
              "      background-color: #3B4455;\n",
              "      fill: #D2E3FC;\n",
              "    }\n",
              "\n",
              "    [theme=dark] .colab-df-convert:hover {\n",
              "      background-color: #434B5C;\n",
              "      box-shadow: 0px 1px 3px 1px rgba(0, 0, 0, 0.15);\n",
              "      filter: drop-shadow(0px 1px 2px rgba(0, 0, 0, 0.3));\n",
              "      fill: #FFFFFF;\n",
              "    }\n",
              "  </style>\n",
              "\n",
              "      <script>\n",
              "        const buttonEl =\n",
              "          document.querySelector('#df-57cf4ea2-0a23-4590-8916-0f6659b4312c button.colab-df-convert');\n",
              "        buttonEl.style.display =\n",
              "          google.colab.kernel.accessAllowed ? 'block' : 'none';\n",
              "\n",
              "        async function convertToInteractive(key) {\n",
              "          const element = document.querySelector('#df-57cf4ea2-0a23-4590-8916-0f6659b4312c');\n",
              "          const dataTable =\n",
              "            await google.colab.kernel.invokeFunction('convertToInteractive',\n",
              "                                                     [key], {});\n",
              "          if (!dataTable) return;\n",
              "\n",
              "          const docLinkHtml = 'Like what you see? Visit the ' +\n",
              "            '<a target=\"_blank\" href=https://colab.research.google.com/notebooks/data_table.ipynb>data table notebook</a>'\n",
              "            + ' to learn more about interactive tables.';\n",
              "          element.innerHTML = '';\n",
              "          dataTable['output_type'] = 'display_data';\n",
              "          await google.colab.output.renderOutput(dataTable, element);\n",
              "          const docLink = document.createElement('div');\n",
              "          docLink.innerHTML = docLinkHtml;\n",
              "          element.appendChild(docLink);\n",
              "        }\n",
              "      </script>\n",
              "    </div>\n",
              "  </div>\n",
              "  "
            ],
            "text/plain": [
              "                                           path confidence existing_label  \\\n",
              "80     data/task2/images_by_class/63/24071.jpeg   0.218912             63   \n",
              "83       data/task2/images_by_class/6/2774.jpeg   6.238861              6   \n",
              "103    data/task2/images_by_class/94/45260.jpeg   0.275159             94   \n",
              "118      data/task2/images_by_class/6/2498.jpeg   6.526378              6   \n",
              "125    data/task2/images_by_class/49/18982.jpeg   0.599729             49   \n",
              "...                                         ...        ...            ...   \n",
              "49780  data/task2/images_by_class/66/25295.jpeg   3.268991             66   \n",
              "49832  data/task2/images_by_class/46/17926.jpeg   2.829008             46   \n",
              "49838   data/task2/images_by_class/2/40844.jpeg   3.427066              2   \n",
              "49973  data/task2/images_by_class/73/48233.jpeg   2.605259             73   \n",
              "49986  data/task2/images_by_class/41/42881.jpeg   1.927168             41   \n",
              "\n",
              "      label_predicted confidence2 label_predicted2  \n",
              "80                 38    0.617343               38  \n",
              "83                 19    0.323555               19  \n",
              "103                38    4.134336               38  \n",
              "118                19    2.381141               19  \n",
              "125                61    0.650636               61  \n",
              "...               ...         ...              ...  \n",
              "49780              52    1.482898               52  \n",
              "49832              18    2.943778               18  \n",
              "49838              38     4.55372               38  \n",
              "49973              38     2.49691               38  \n",
              "49986              38    0.841807               38  \n",
              "\n",
              "[595 rows x 6 columns]"
            ]
          },
          "metadata": {},
          "output_type": "display_data"
        }
      ],
      "source": [
        "merge_same_label = merge_df[merge_df['label_predicted2'] == merge_df['label_predicted']]\n",
        "df_merge_correct = merge_same_label[merge_same_label['confidence']>0.2][merge_same_label['confidence2']>0.2]\n",
        "display(df_merge_correct)"
      ]
    },
    {
      "cell_type": "markdown",
      "metadata": {
        "id": "FvT-3Id7Fs6l"
      },
      "source": [
        "# Iteration 3"
      ]
    },
    {
      "cell_type": "code",
      "execution_count": 283,
      "metadata": {
        "id": "pkJt2zyOr82N"
      },
      "outputs": [],
      "source": [
        "correct_df_all = pd.concat([\n",
        "    df_merge_correct[['path','existing_label']], \n",
        "    df_correct_1[['path','existing_label']], \n",
        "    df_correct2[['path','existing_label']]])"
      ]
    },
    {
      "cell_type": "code",
      "execution_count": 291,
      "metadata": {
        "id": "yu52lu-NsRDY"
      },
      "outputs": [],
      "source": [
        "correct_df_all = correct_df_all.drop_duplicates()"
      ]
    },
    {
      "cell_type": "code",
      "execution_count": 293,
      "metadata": {
        "colab": {
          "base_uri": "https://localhost:8080/"
        },
        "id": "Bw0X_ePtKDp0",
        "outputId": "8a65e102-cb83-4956-f559-0b39c2ca7e23"
      },
      "outputs": [
        {
          "name": "stdout",
          "output_type": "stream",
          "text": [
            "data/task2/images_by_class has been deleted\n",
            "data/task2/training_confident has been deleted\n"
          ]
        },
        {
          "name": "stderr",
          "output_type": "stream",
          "text": [
            "100%|██████████| 50000/50000 [00:13<00:00, 3682.64it/s]\n"
          ]
        }
      ],
      "source": [
        "target_dir = 'data/task2/images_by_class'\n",
        "del_dir_if_exist(target_dir)\n",
        "\n",
        "target_dir = 'data/task2/training_confident'\n",
        "del_dir_if_exist(target_dir)\n",
        "make_dataset_folder()"
      ]
    },
    {
      "cell_type": "code",
      "execution_count": 294,
      "metadata": {
        "colab": {
          "base_uri": "https://localhost:8080/"
        },
        "id": "DO1GIPPtKuxG",
        "outputId": "91aab622-2d47-4a70-89ad-28d77fce652e"
      },
      "outputs": [
        {
          "name": "stderr",
          "output_type": "stream",
          "text": [
            "100%|██████████| 1430/1430 [00:00<00:00, 8199.75it/s]\n"
          ]
        }
      ],
      "source": [
        "target_dir = 'data/task2/training_confident'\n",
        "# Iterate over the rows in the DataFrame\n",
        "for _, row in tqdm(correct_df_all.iterrows(), total=correct_df_all.shape[0]):\n",
        "    # Extract the path and class from the row\n",
        "    path = row['path']\n",
        "    label = row['existing_label'] \n",
        "\n",
        "    # Create the directory for the class\n",
        "    class_dir = f'{target_dir}/{label}'\n",
        "    os.makedirs(class_dir, exist_ok=True)\n",
        "    \n",
        "    # move the file to the class directory\n",
        "    shutil.move(f\"{path}\", class_dir)\n",
        "    \n",
        "\n",
        "# we move the images because we don't want them to remain in the dataset for relabeling.  "
      ]
    },
    {
      "cell_type": "code",
      "execution_count": 295,
      "metadata": {
        "colab": {
          "base_uri": "https://localhost:8080/"
        },
        "id": "qrVOGGQ7K4VH",
        "outputId": "b0ac7884-eea6-4058-db83-54f175e7e9be"
      },
      "outputs": [
        {
          "name": "stderr",
          "output_type": "stream",
          "text": [
            "/usr/local/lib/python3.8/dist-packages/torch/utils/data/dataloader.py:554: UserWarning: This DataLoader will create 4 worker processes in total. Our suggested max number of worker in current system is 2, which is smaller than what this DataLoader is going to create. Please be aware that excessive worker creation might get DataLoader running slow or even freeze, lower the worker number to avoid potential slowness/freeze if necessary.\n",
            "  warnings.warn(_create_warning_msg(\n"
          ]
        }
      ],
      "source": [
        "data_dir_train = 'data/task2/training_confident'\n",
        "image_dataset_train_only = datasets.ImageFolder(data_dir_train, preprocess) \n",
        "dataloader_train_only  = DataLoader(\n",
        "    image_dataset_train_only, \n",
        "    batch_size = experiment_info[\"hyperparameters_data\"][\"batch_size\"],\n",
        "    shuffle = experiment_info[\"hyperparameters_data\"][\"shuffle_dataloader\"], \n",
        "    num_workers = experiment_info[\"hyperparameters_data\"][\"num_workers\"]\n",
        "    )\n",
        "\n",
        "class_names = image_dataset_train_only.classes\n",
        "dataset_size = len(image_dataset_train_only)\n",
        "\n",
        "device = torch.device(\"cuda:0\" if torch.cuda.is_available() else \"cpu\")"
      ]
    },
    {
      "cell_type": "code",
      "execution_count": 296,
      "metadata": {
        "colab": {
          "base_uri": "https://localhost:8080/"
        },
        "id": "HzeTlDqKK9LU",
        "outputId": "99c79dae-f099-4dca-d783-4ddcd337a0b7"
      },
      "outputs": [
        {
          "name": "stdout",
          "output_type": "stream",
          "text": [
            "1430\n"
          ]
        }
      ],
      "source": [
        "print(dataset_size)"
      ]
    },
    {
      "cell_type": "code",
      "execution_count": 297,
      "metadata": {
        "id": "ocsGDv3yr3U9"
      },
      "outputs": [],
      "source": [
        "# Move all images considered correct into the training folder"
      ]
    },
    {
      "cell_type": "markdown",
      "metadata": {
        "id": "uGSAqJs7MMtx"
      },
      "source": [
        "## Create datasets splits "
      ]
    },
    {
      "cell_type": "code",
      "execution_count": 298,
      "metadata": {
        "id": "rpcFSHOOMMCM"
      },
      "outputs": [],
      "source": [
        "data_dir = 'data/task2/images_by_class'\n",
        "image_dataset_unshuffled = datasets.ImageFolder(data_dir, preprocess)\n",
        "image_dataset = ShuffledImageFolder(image_dataset_unshuffled)\n",
        "splits = 2\n",
        "data_sizes, loaders3, device = create_dataset_splits(splits, image_dataset)"
      ]
    },
    {
      "cell_type": "code",
      "execution_count": 299,
      "metadata": {
        "colab": {
          "base_uri": "https://localhost:8080/"
        },
        "id": "HA4Y3GPZMdrU",
        "outputId": "b268697e-fc73-404b-9979-f3f0ac27a682"
      },
      "outputs": [
        {
          "name": "stdout",
          "output_type": "stream",
          "text": [
            "{'train': 759, 'labeling': 759}\n",
            "num samples train 24288\n"
          ]
        }
      ],
      "source": [
        "batch_size = experiment_info[\"hyperparameters_data\"][\"batch_size\"]\n",
        "print(data_sizes)\n",
        "print(\"num samples train\", data_sizes['train']*batch_size)"
      ]
    },
    {
      "cell_type": "markdown",
      "metadata": {
        "id": "M8iA3_TqMidR"
      },
      "source": [
        "## Train on remaining data"
      ]
    },
    {
      "cell_type": "code",
      "execution_count": 300,
      "metadata": {
        "colab": {
          "base_uri": "https://localhost:8080/"
        },
        "id": "-Jnkej2RMi3-",
        "outputId": "2161171c-298c-4069-cfd4-c10aac80945c"
      },
      "outputs": [
        {
          "name": "stdout",
          "output_type": "stream",
          "text": [
            "Sequential(\n",
            "  (0): Dropout(p=0.2, inplace=False)\n",
            "  (1): Linear(in_features=1280, out_features=100, bias=True)\n",
            ")\n"
          ]
        },
        {
          "name": "stderr",
          "output_type": "stream",
          "text": [
            "Using cache found in /root/.cache/torch/hub/pytorch_vision_v0.10.0\n",
            "/usr/local/lib/python3.8/dist-packages/torchvision/models/_utils.py:208: UserWarning: The parameter 'pretrained' is deprecated since 0.13 and may be removed in the future, please use 'weights' instead.\n",
            "  warnings.warn(\n",
            "/usr/local/lib/python3.8/dist-packages/torchvision/models/_utils.py:223: UserWarning: Arguments other than a weight enum or `None` for 'weights' are deprecated since 0.13 and may be removed in the future. The current behavior is equivalent to passing `weights=MobileNet_V2_Weights.IMAGENET1K_V1`. You can also use `weights=MobileNet_V2_Weights.DEFAULT` to get the most up-to-date weights.\n",
            "  warnings.warn(msg)\n"
          ]
        }
      ],
      "source": [
        "# Download a pytorch MobileNet pretrained model\n",
        "model = torch.hub.load('pytorch/vision:v0.10.0', 'mobilenet_v2', pretrained=True)\n",
        "# change the Linear output to fit our dataset ( because model initially has 1000 classes)\n",
        "model.classifier[1] = nn.Linear(1280, 100)\n",
        "# Setting hyperparameters\n",
        "\n",
        "model = model.to(device)\n",
        "print(model.classifier)"
      ]
    },
    {
      "cell_type": "code",
      "execution_count": 301,
      "metadata": {
        "id": "Zm_iFW5VNJDl"
      },
      "outputs": [],
      "source": [
        "criterion, optimizer, exp_lr_scheduler = get_training_parameters()"
      ]
    },
    {
      "cell_type": "code",
      "execution_count": 302,
      "metadata": {
        "colab": {
          "base_uri": "https://localhost:8080/"
        },
        "id": "62HjSwPqNLuB",
        "outputId": "59deebf5-9336-49ef-fdfb-8fe6cf636865"
      },
      "outputs": [
        {
          "name": "stdout",
          "output_type": "stream",
          "text": [
            "Epoch 0/5\n",
            "----------\n"
          ]
        },
        {
          "name": "stderr",
          "output_type": "stream",
          "text": [
            "\r  0%|          | 0/45 [00:00<?, ?it/s]/usr/local/lib/python3.8/dist-packages/torch/utils/data/dataloader.py:554: UserWarning: This DataLoader will create 4 worker processes in total. Our suggested max number of worker in current system is 2, which is smaller than what this DataLoader is going to create. Please be aware that excessive worker creation might get DataLoader running slow or even freeze, lower the worker number to avoid potential slowness/freeze if necessary.\n",
            "  warnings.warn(_create_warning_msg(\n",
            "100%|██████████| 45/45 [00:06<00:00,  6.77it/s]\n",
            "100%|██████████| 759/759 [02:14<00:00,  5.63it/s]\n"
          ]
        },
        {
          "name": "stdout",
          "output_type": "stream",
          "text": [
            "Loss: 82.7125 Acc: 11.7022\n",
            "\n",
            "Epoch 1/5\n",
            "----------\n"
          ]
        },
        {
          "name": "stderr",
          "output_type": "stream",
          "text": [
            "100%|██████████| 45/45 [00:06<00:00,  6.86it/s]\n",
            "100%|██████████| 759/759 [02:12<00:00,  5.73it/s]\n"
          ]
        },
        {
          "name": "stdout",
          "output_type": "stream",
          "text": [
            "Loss: 50.9674 Acc: 17.8880\n",
            "\n",
            "Epoch 2/5\n",
            "----------\n"
          ]
        },
        {
          "name": "stderr",
          "output_type": "stream",
          "text": [
            "100%|██████████| 45/45 [00:06<00:00,  6.89it/s]\n",
            "100%|██████████| 759/759 [02:13<00:00,  5.69it/s]\n"
          ]
        },
        {
          "name": "stdout",
          "output_type": "stream",
          "text": [
            "Loss: 38.9500 Acc: 20.4980\n",
            "\n",
            "Epoch 3/5\n",
            "----------\n"
          ]
        },
        {
          "name": "stderr",
          "output_type": "stream",
          "text": [
            "100%|██████████| 45/45 [00:06<00:00,  6.85it/s]\n",
            "100%|██████████| 759/759 [02:13<00:00,  5.68it/s]\n"
          ]
        },
        {
          "name": "stdout",
          "output_type": "stream",
          "text": [
            "Loss: 30.0343 Acc: 22.7958\n",
            "\n",
            "Epoch 4/5\n",
            "----------\n"
          ]
        },
        {
          "name": "stderr",
          "output_type": "stream",
          "text": [
            "100%|██████████| 45/45 [00:06<00:00,  6.86it/s]\n",
            "100%|██████████| 759/759 [02:12<00:00,  5.73it/s]\n"
          ]
        },
        {
          "name": "stdout",
          "output_type": "stream",
          "text": [
            "Loss: 23.0908 Acc: 24.7312\n",
            "\n",
            "Epoch 5/5\n",
            "----------\n"
          ]
        },
        {
          "name": "stderr",
          "output_type": "stream",
          "text": [
            "100%|██████████| 45/45 [00:07<00:00,  6.23it/s]\n",
            "100%|██████████| 759/759 [02:12<00:00,  5.71it/s]\n"
          ]
        },
        {
          "name": "stdout",
          "output_type": "stream",
          "text": [
            "Loss: 17.2806 Acc: 26.5441\n",
            "\n",
            "Training complete in 14m 0s\n",
            "Best val Acc: 26.544137\n"
          ]
        }
      ],
      "source": [
        "model = train_model2(model, \n",
        "                    exp_lr_scheduler, \n",
        "                    optimizer, \n",
        "                    criterion,  \n",
        "                    data_sizes[\"train\"], \n",
        "                    dataloader_train_only,\n",
        "                    loaders3[0][\"train\"], \n",
        "                    num_epochs=6,\n",
        "                    # num_epochs=experiment_info[\"hyperparameters_training\"][\"num_epochs\"]\n",
        "                     )"
      ]
    },
    {
      "cell_type": "code",
      "execution_count": 303,
      "metadata": {
        "id": "9MrBKA5mNyWe"
      },
      "outputs": [],
      "source": [
        "# Save the model\n",
        "torch.save(model.state_dict(), '/gdrive/MyDrive/checkpoints/noisy_labels/model_3_it_0.pt')"
      ]
    },
    {
      "cell_type": "code",
      "execution_count": 304,
      "metadata": {
        "colab": {
          "base_uri": "https://localhost:8080/"
        },
        "id": "0A8Bik6dOISz",
        "outputId": "426d1c5d-744b-4213-d7d7-0a28d29b3766"
      },
      "outputs": [
        {
          "name": "stderr",
          "output_type": "stream",
          "text": [
            "Using cache found in /root/.cache/torch/hub/pytorch_vision_v0.10.0\n",
            "/usr/local/lib/python3.8/dist-packages/torchvision/models/_utils.py:208: UserWarning: The parameter 'pretrained' is deprecated since 0.13 and may be removed in the future, please use 'weights' instead.\n",
            "  warnings.warn(\n",
            "/usr/local/lib/python3.8/dist-packages/torchvision/models/_utils.py:223: UserWarning: Arguments other than a weight enum or `None` for 'weights' are deprecated since 0.13 and may be removed in the future. The current behavior is equivalent to passing `weights=MobileNet_V2_Weights.IMAGENET1K_V1`. You can also use `weights=MobileNet_V2_Weights.DEFAULT` to get the most up-to-date weights.\n",
            "  warnings.warn(msg)\n"
          ]
        },
        {
          "name": "stdout",
          "output_type": "stream",
          "text": [
            "Epoch 0/5\n",
            "----------\n"
          ]
        },
        {
          "name": "stderr",
          "output_type": "stream",
          "text": [
            "100%|██████████| 45/45 [00:06<00:00,  6.89it/s]\n",
            "100%|██████████| 759/759 [02:13<00:00,  5.67it/s]\n"
          ]
        },
        {
          "name": "stdout",
          "output_type": "stream",
          "text": [
            "Loss: 150.8961 Acc: 0.3373\n",
            "\n",
            "Epoch 1/5\n",
            "----------\n"
          ]
        },
        {
          "name": "stderr",
          "output_type": "stream",
          "text": [
            "100%|██████████| 45/45 [00:06<00:00,  6.84it/s]\n",
            "100%|██████████| 759/759 [02:13<00:00,  5.68it/s]\n"
          ]
        },
        {
          "name": "stdout",
          "output_type": "stream",
          "text": [
            "Loss: 150.8591 Acc: 0.3478\n",
            "\n",
            "Epoch 2/5\n",
            "----------\n"
          ]
        },
        {
          "name": "stderr",
          "output_type": "stream",
          "text": [
            "100%|██████████| 45/45 [00:06<00:00,  6.90it/s]\n",
            "100%|██████████| 759/759 [02:12<00:00,  5.72it/s]\n"
          ]
        },
        {
          "name": "stdout",
          "output_type": "stream",
          "text": [
            "Loss: 150.9236 Acc: 0.3452\n",
            "\n",
            "Epoch 3/5\n",
            "----------\n"
          ]
        },
        {
          "name": "stderr",
          "output_type": "stream",
          "text": [
            "100%|██████████| 45/45 [00:06<00:00,  6.86it/s]\n",
            "100%|██████████| 759/759 [02:13<00:00,  5.67it/s]\n"
          ]
        },
        {
          "name": "stdout",
          "output_type": "stream",
          "text": [
            "Loss: 150.8933 Acc: 0.3636\n",
            "\n",
            "Epoch 4/5\n",
            "----------\n"
          ]
        },
        {
          "name": "stderr",
          "output_type": "stream",
          "text": [
            "100%|██████████| 45/45 [00:06<00:00,  6.91it/s]\n",
            "100%|██████████| 759/759 [02:13<00:00,  5.69it/s]\n"
          ]
        },
        {
          "name": "stdout",
          "output_type": "stream",
          "text": [
            "Loss: 150.9341 Acc: 0.3531\n",
            "\n",
            "Epoch 5/5\n",
            "----------\n"
          ]
        },
        {
          "name": "stderr",
          "output_type": "stream",
          "text": [
            "100%|██████████| 45/45 [00:06<00:00,  6.89it/s]\n",
            "100%|██████████| 759/759 [02:12<00:00,  5.72it/s]"
          ]
        },
        {
          "name": "stdout",
          "output_type": "stream",
          "text": [
            "Loss: 150.9186 Acc: 0.3333\n",
            "\n",
            "Training complete in 13m 60s\n",
            "Best val Acc: 0.363636\n"
          ]
        },
        {
          "name": "stderr",
          "output_type": "stream",
          "text": [
            "\n"
          ]
        }
      ],
      "source": [
        "model = torch.hub.load('pytorch/vision:v0.10.0', 'mobilenet_v2', pretrained=True)\n",
        "model.classifier[1] = nn.Linear(1280, 100)\n",
        "model = model.to(device) \n",
        "model = train_model2(model, \n",
        "                exp_lr_scheduler, \n",
        "                optimizer, \n",
        "                criterion,  \n",
        "                data_sizes[\"train\"], \n",
        "                dataloader_train_only,\n",
        "                loaders3[1][\"train\"], \n",
        "                num_epochs=6,\n",
        "                # num_epochs=experiment_info[\"hyperparameters_training\"][\"num_epochs\"]\n",
        "                )"
      ]
    },
    {
      "cell_type": "code",
      "execution_count": 305,
      "metadata": {
        "id": "spnWxmbmO_K8"
      },
      "outputs": [],
      "source": [
        "torch.save(model.state_dict(), f'/gdrive/MyDrive/checkpoints/noisy_labels/model_3_it_{1}.pt')"
      ]
    },
    {
      "cell_type": "markdown",
      "metadata": {
        "id": "WqCm1XO2ZIqt"
      },
      "source": [
        "## save labels for later predicting"
      ]
    },
    {
      "cell_type": "code",
      "execution_count": 306,
      "metadata": {
        "colab": {
          "base_uri": "https://localhost:8080/"
        },
        "id": "-UFfOp4gZIb3",
        "outputId": "74dd3c37-ceed-426d-b965-8e6ed909c2da"
      },
      "outputs": [
        {
          "name": "stderr",
          "output_type": "stream",
          "text": [
            "100%|██████████| 759/759 [00:41<00:00, 18.41it/s]\n",
            "100%|██████████| 759/759 [00:38<00:00, 19.79it/s]\n"
          ]
        }
      ],
      "source": [
        "paths_labeling = {}\n",
        "for i in range(splits):\n",
        "    paths_labeling[i] = []\n",
        "    for images, labels, paths in tqdm(loaders3[i]['labeling']):\n",
        "        paths_labeling[i].append(paths)"
      ]
    },
    {
      "cell_type": "code",
      "execution_count": 307,
      "metadata": {
        "id": "UR31dj_WZMcf"
      },
      "outputs": [],
      "source": [
        "\n",
        "# Save the experiment information to a JSON file\n",
        "with open(f'/gdrive/MyDrive/checkpoints/noisy_labels/pseudo_labeling_images_for_models_3.json', 'w') as f:\n",
        "    json.dump(paths_labeling, f)"
      ]
    },
    {
      "cell_type": "markdown",
      "metadata": {
        "id": "rzbAd0YzZOwN"
      },
      "source": [
        "## Predict new labels 3"
      ]
    },
    {
      "cell_type": "code",
      "execution_count": 308,
      "metadata": {
        "id": "8Z2oRxYMZQIa"
      },
      "outputs": [],
      "source": [
        "# Read the json of the labels that need to be predicted\n",
        "with open('/gdrive/MyDrive/checkpoints/noisy_labels/pseudo_labeling_images_for_models_3.json', 'r') as f:\n",
        "    paths_labeling = json.load(f)"
      ]
    },
    {
      "cell_type": "code",
      "execution_count": 309,
      "metadata": {
        "colab": {
          "base_uri": "https://localhost:8080/"
        },
        "id": "e9ULO0XWZSJs",
        "outputId": "57dc6296-1aba-44e9-d19f-c402ea2d60e4"
      },
      "outputs": [
        {
          "name": "stderr",
          "output_type": "stream",
          "text": [
            "Using cache found in /root/.cache/torch/hub/pytorch_vision_v0.10.0\n",
            "100%|██████████| 24285/24285 [02:38<00:00, 152.77it/s]\n",
            "Using cache found in /root/.cache/torch/hub/pytorch_vision_v0.10.0\n",
            "100%|██████████| 24285/24285 [02:33<00:00, 157.87it/s]\n"
          ]
        }
      ],
      "source": [
        "# create new dataset for pseudo-labeling\n",
        "all_predicted_labels = {}\n",
        "for iteration, paths in paths_labeling.items(): \n",
        "    paths_list = batches_to_list(paths)\n",
        "    dataset = ImageDataset(paths_list)    \n",
        "    labeling_loader = DataLoader(dataset, batch_size=1)\n",
        "    PATH = f'/gdrive/MyDrive/checkpoints/noisy_labels/model_3_it_{iteration}.pt'\n",
        "    model = load_model(PATH, 'cuda')\n",
        "    all_predicted_labels[iteration] = generate_new_labels(model, labeling_loader, 'cuda')   "
      ]
    },
    {
      "cell_type": "code",
      "execution_count": 310,
      "metadata": {
        "id": "3sjD3v5cZUXO"
      },
      "outputs": [],
      "source": [
        "# Save the new predictions and the old predictions in a file for future \n",
        "with open(f'/gdrive/MyDrive/checkpoints/noisy_labels/pseudo_labeling_third_iteration.json', 'w') as f:\n",
        "    json.dump(all_predicted_labels, f)"
      ]
    },
    {
      "cell_type": "markdown",
      "metadata": {
        "id": "sTGIX0LMZZyI"
      },
      "source": [
        "## Analyze pseudo lableing from third iteration"
      ]
    },
    {
      "cell_type": "code",
      "execution_count": 313,
      "metadata": {
        "id": "XBfoWTt6ZcYw"
      },
      "outputs": [],
      "source": [
        "with open('/gdrive/MyDrive/checkpoints/noisy_labels/pseudo_labeling_third_iteration.json', 'r') as f:\n",
        "    all_predicted_labels = json.load(f)"
      ]
    },
    {
      "cell_type": "code",
      "execution_count": 312,
      "metadata": {
        "colab": {
          "base_uri": "https://localhost:8080/",
          "height": 577
        },
        "id": "7sA9anWCZgvN",
        "outputId": "5cbfc1af-dbad-4656-b3c4-5c6c77c72642"
      },
      "outputs": [
        {
          "name": "stdout",
          "output_type": "stream",
          "text": [
            "How many labels have the same value after relabling ?\n",
            "False    23987\n",
            "True       298\n",
            "dtype: int64\n",
            "What is the confidence of those ?\n",
            "33       0.127792\n",
            "82       0.431086\n",
            "120      0.785051\n",
            "132      0.032602\n",
            "137      0.704218\n",
            "           ...   \n",
            "23652    0.033942\n",
            "23699    0.414606\n",
            "23757    0.422824\n",
            "24099    0.133101\n",
            "24272    0.086001\n",
            "Name: confidence, Length: 298, dtype: object\n"
          ]
        },
        {
          "data": {
            "text/plain": [
              "<matplotlib.axes._subplots.AxesSubplot at 0x7f04bda15be0>"
            ]
          },
          "execution_count": 312,
          "metadata": {},
          "output_type": "execute_result"
        },
        {
          "data": {
            "image/png": "[encoded data removed]",
            "text/plain": [
              "<Figure size 432x288 with 1 Axes>"
            ]
          },
          "metadata": {
            "needs_background": "light"
          },
          "output_type": "display_data"
        }
      ],
      "source": [
        "# Load the predicted labels and confidence scores\n",
        "predictions = pd.DataFrame.from_dict(all_predicted_labels['0'],orient='index').transpose()\n",
        "print(\"How many labels have the same value after relabling ?\")\n",
        "print((predictions['existing_label'] == predictions['label_predicted']).value_counts())\n",
        "print(\"What is the confidence of those ?\")\n",
        "print(predictions[predictions['existing_label'] == predictions['label_predicted']]['confidence'])\n",
        "predictions[predictions['existing_label'] == predictions['label_predicted']]['confidence'].plot.hist(bins = 20)"
      ]
    },
    {
      "cell_type": "code",
      "execution_count": 315,
      "metadata": {
        "colab": {
          "base_uri": "https://localhost:8080/",
          "height": 334
        },
        "id": "HTqrOqNCZvq-",
        "outputId": "ec053198-78b1-45d0-eddb-d97ca3a60dfa"
      },
      "outputs": [
        {
          "name": "stdout",
          "output_type": "stream",
          "text": [
            "How many above threshold?\n",
            "124\n",
            "the distribution of labels different from one dataset to another\n"
          ]
        },
        {
          "data": {
            "text/plain": [
              "<matplotlib.axes._subplots.AxesSubplot at 0x7f047a3bae20>"
            ]
          },
          "execution_count": 315,
          "metadata": {},
          "output_type": "execute_result"
        },
        {
          "data": {
            "image/png": "[encoded data removed]",
            "text/plain": [
              "<Figure size 432x288 with 1 Axes>"
            ]
          },
          "metadata": {
            "needs_background": "light"
          },
          "output_type": "display_data"
        }
      ],
      "source": [
        "predictions_same_label = predictions[predictions['existing_label'] == predictions['label_predicted']]\n",
        "predictions_correct_label = predictions_same_label[predictions_same_label['confidence']>0.2]\n",
        "print(\"How many above threshold?\")\n",
        "print(len(predictions_correct_label))\n",
        "print(\"the distribution of labels different from one dataset to another\")\n",
        "predictions[predictions['existing_label'] != predictions['label_predicted']]['confidence'].plot.hist(bins = 20)"
      ]
    },
    {
      "cell_type": "code",
      "execution_count": 350,
      "metadata": {
        "id": "Zet5pNxaqIVH"
      },
      "outputs": [],
      "source": [
        "with open('/gdrive/MyDrive/checkpoints/noisy_labels/pseudo_labeling_third_iteration.json', 'r') as f:\n",
        "    all_predicted_labels3 = json.load(f)\n",
        "# Load the predicted labels and confidence scores\n",
        "correct_labels_df3 = []\n",
        "for i in range(splits):\n",
        "    predictions=pd.DataFrame.from_dict(all_predicted_labels3[str(i)],orient='index').transpose() \n",
        "    predictions_same_label = predictions[predictions['existing_label'] == predictions['label_predicted']]\n",
        "    predictions_correct_label = predictions_same_label[predictions_same_label['confidence']>0.1] \n",
        "    correct_labels_df3.append(predictions_correct_label)\n",
        "df_correct3 = pd.concat(correct_labels_df3)\n",
        "df_correct3['path'] = df_correct3['path'].apply(lambda x: x[0])"
      ]
    },
    {
      "cell_type": "code",
      "execution_count": 351,
      "metadata": {
        "colab": {
          "base_uri": "https://localhost:8080/"
        },
        "id": "jvxwEITJqPsM",
        "outputId": "c4b326ef-3469-4499-b2c3-efbada73c701"
      },
      "outputs": [
        {
          "data": {
            "text/plain": [
              "450"
            ]
          },
          "execution_count": 351,
          "metadata": {},
          "output_type": "execute_result"
        }
      ],
      "source": [
        "len(df_correct3)"
      ]
    },
    {
      "cell_type": "code",
      "execution_count": 352,
      "metadata": {
        "id": "QeSt5Alft7Jt"
      },
      "outputs": [],
      "source": [
        "df_all3 = prep_to_merge(all_predicted_labels3, 2)"
      ]
    },
    {
      "cell_type": "code",
      "execution_count": 353,
      "metadata": {
        "colab": {
          "base_uri": "https://localhost:8080/",
          "height": 424
        },
        "id": "YIvUiW75t8aw",
        "outputId": "cd018640-58fc-47dd-e48a-883b5c27462c"
      },
      "outputs": [
        {
          "data": {
            "text/html": [
              "\n",
              "  <div id=\"df-73083e1d-31d8-41c3-b0a5-541a133a8aaf\">\n",
              "    <div class=\"colab-df-container\">\n",
              "      <div>\n",
              "<style scoped>\n",
              "    .dataframe tbody tr th:only-of-type {\n",
              "        vertical-align: middle;\n",
              "    }\n",
              "\n",
              "    .dataframe tbody tr th {\n",
              "        vertical-align: top;\n",
              "    }\n",
              "\n",
              "    .dataframe thead th {\n",
              "        text-align: right;\n",
              "    }\n",
              "</style>\n",
              "<table border=\"1\" class=\"dataframe\">\n",
              "  <thead>\n",
              "    <tr style=\"text-align: right;\">\n",
              "      <th></th>\n",
              "      <th>path</th>\n",
              "      <th>confidence3</th>\n",
              "      <th>label_predicted3</th>\n",
              "    </tr>\n",
              "  </thead>\n",
              "  <tbody>\n",
              "    <tr>\n",
              "      <th>0</th>\n",
              "      <td>data/task2/images_by_class/4/45175.jpeg</td>\n",
              "      <td>0.162594</td>\n",
              "      <td>34</td>\n",
              "    </tr>\n",
              "    <tr>\n",
              "      <th>1</th>\n",
              "      <td>data/task2/images_by_class/62/23557.jpeg</td>\n",
              "      <td>0.041466</td>\n",
              "      <td>2</td>\n",
              "    </tr>\n",
              "    <tr>\n",
              "      <th>2</th>\n",
              "      <td>data/task2/images_by_class/8/49212.jpeg</td>\n",
              "      <td>0.40802</td>\n",
              "      <td>19</td>\n",
              "    </tr>\n",
              "    <tr>\n",
              "      <th>3</th>\n",
              "      <td>data/task2/images_by_class/37/14708.jpeg</td>\n",
              "      <td>0.13028</td>\n",
              "      <td>34</td>\n",
              "    </tr>\n",
              "    <tr>\n",
              "      <th>4</th>\n",
              "      <td>data/task2/images_by_class/81/31158.jpeg</td>\n",
              "      <td>0.040965</td>\n",
              "      <td>24</td>\n",
              "    </tr>\n",
              "    <tr>\n",
              "      <th>...</th>\n",
              "      <td>...</td>\n",
              "      <td>...</td>\n",
              "      <td>...</td>\n",
              "    </tr>\n",
              "    <tr>\n",
              "      <th>24280</th>\n",
              "      <td>data/task2/images_by_class/90/34530.jpeg</td>\n",
              "      <td>1.584019</td>\n",
              "      <td>78</td>\n",
              "    </tr>\n",
              "    <tr>\n",
              "      <th>24281</th>\n",
              "      <td>data/task2/images_by_class/36/14287.jpeg</td>\n",
              "      <td>3.317563</td>\n",
              "      <td>5</td>\n",
              "    </tr>\n",
              "    <tr>\n",
              "      <th>24282</th>\n",
              "      <td>data/task2/images_by_class/13/5195.jpeg</td>\n",
              "      <td>3.333233</td>\n",
              "      <td>78</td>\n",
              "    </tr>\n",
              "    <tr>\n",
              "      <th>24283</th>\n",
              "      <td>data/task2/images_by_class/5/2260.jpeg</td>\n",
              "      <td>0.995843</td>\n",
              "      <td>14</td>\n",
              "    </tr>\n",
              "    <tr>\n",
              "      <th>24284</th>\n",
              "      <td>data/task2/images_by_class/8/3536.jpeg</td>\n",
              "      <td>1.164974</td>\n",
              "      <td>7</td>\n",
              "    </tr>\n",
              "  </tbody>\n",
              "</table>\n",
              "<p>48570 rows × 3 columns</p>\n",
              "</div>\n",
              "      <button class=\"colab-df-convert\" onclick=\"convertToInteractive('df-73083e1d-31d8-41c3-b0a5-541a133a8aaf')\"\n",
              "              title=\"Convert this dataframe to an interactive table.\"\n",
              "              style=\"display:none;\">\n",
              "        \n",
              "  <svg xmlns=\"http://www.w3.org/2000/svg\" height=\"24px\"viewBox=\"0 0 24 24\"\n",
              "       width=\"24px\">\n",
              "    <path d=\"M0 0h24v24H0V0z\" fill=\"none\"/>\n",
              "    <path d=\"M18.56 5.44l.94 2.06.94-2.06 2.06-.94-2.06-.94-.94-2.06-.94 2.06-2.06.94zm-11 1L8.5 8.5l.94-2.06 2.06-.94-2.06-.94L8.5 2.5l-.94 2.06-2.06.94zm10 10l.94 2.06.94-2.06 2.06-.94-2.06-.94-.94-2.06-.94 2.06-2.06.94z\"/><path d=\"M17.41 7.96l-1.37-1.37c-.4-.4-.92-.59-1.43-.59-.52 0-1.04.2-1.43.59L10.3 9.45l-7.72 7.72c-.78.78-.78 2.05 0 2.83L4 21.41c.39.39.9.59 1.41.59.51 0 1.02-.2 1.41-.59l7.78-7.78 2.81-2.81c.8-.78.8-2.07 0-2.86zM5.41 20L4 18.59l7.72-7.72 1.47 1.35L5.41 20z\"/>\n",
              "  </svg>\n",
              "      </button>\n",
              "      \n",
              "  <style>\n",
              "    .colab-df-container {\n",
              "      display:flex;\n",
              "      flex-wrap:wrap;\n",
              "      gap: 12px;\n",
              "    }\n",
              "\n",
              "    .colab-df-convert {\n",
              "      background-color: #E8F0FE;\n",
              "      border: none;\n",
              "      border-radius: 50%;\n",
              "      cursor: pointer;\n",
              "      display: none;\n",
              "      fill: #1967D2;\n",
              "      height: 32px;\n",
              "      padding: 0 0 0 0;\n",
              "      width: 32px;\n",
              "    }\n",
              "\n",
              "    .colab-df-convert:hover {\n",
              "      background-color: #E2EBFA;\n",
              "      box-shadow: 0px 1px 2px rgba(60, 64, 67, 0.3), 0px 1px 3px 1px rgba(60, 64, 67, 0.15);\n",
              "      fill: #174EA6;\n",
              "    }\n",
              "\n",
              "    [theme=dark] .colab-df-convert {\n",
              "      background-color: #3B4455;\n",
              "      fill: #D2E3FC;\n",
              "    }\n",
              "\n",
              "    [theme=dark] .colab-df-convert:hover {\n",
              "      background-color: #434B5C;\n",
              "      box-shadow: 0px 1px 3px 1px rgba(0, 0, 0, 0.15);\n",
              "      filter: drop-shadow(0px 1px 2px rgba(0, 0, 0, 0.3));\n",
              "      fill: #FFFFFF;\n",
              "    }\n",
              "  </style>\n",
              "\n",
              "      <script>\n",
              "        const buttonEl =\n",
              "          document.querySelector('#df-73083e1d-31d8-41c3-b0a5-541a133a8aaf button.colab-df-convert');\n",
              "        buttonEl.style.display =\n",
              "          google.colab.kernel.accessAllowed ? 'block' : 'none';\n",
              "\n",
              "        async function convertToInteractive(key) {\n",
              "          const element = document.querySelector('#df-73083e1d-31d8-41c3-b0a5-541a133a8aaf');\n",
              "          const dataTable =\n",
              "            await google.colab.kernel.invokeFunction('convertToInteractive',\n",
              "                                                     [key], {});\n",
              "          if (!dataTable) return;\n",
              "\n",
              "          const docLinkHtml = 'Like what you see? Visit the ' +\n",
              "            '<a target=\"_blank\" href=https://colab.research.google.com/notebooks/data_table.ipynb>data table notebook</a>'\n",
              "            + ' to learn more about interactive tables.';\n",
              "          element.innerHTML = '';\n",
              "          dataTable['output_type'] = 'display_data';\n",
              "          await google.colab.output.renderOutput(dataTable, element);\n",
              "          const docLink = document.createElement('div');\n",
              "          docLink.innerHTML = docLinkHtml;\n",
              "          element.appendChild(docLink);\n",
              "        }\n",
              "      </script>\n",
              "    </div>\n",
              "  </div>\n",
              "  "
            ],
            "text/plain": [
              "                                           path confidence3 label_predicted3\n",
              "0       data/task2/images_by_class/4/45175.jpeg    0.162594               34\n",
              "1      data/task2/images_by_class/62/23557.jpeg    0.041466                2\n",
              "2       data/task2/images_by_class/8/49212.jpeg     0.40802               19\n",
              "3      data/task2/images_by_class/37/14708.jpeg     0.13028               34\n",
              "4      data/task2/images_by_class/81/31158.jpeg    0.040965               24\n",
              "...                                         ...         ...              ...\n",
              "24280  data/task2/images_by_class/90/34530.jpeg    1.584019               78\n",
              "24281  data/task2/images_by_class/36/14287.jpeg    3.317563                5\n",
              "24282   data/task2/images_by_class/13/5195.jpeg    3.333233               78\n",
              "24283    data/task2/images_by_class/5/2260.jpeg    0.995843               14\n",
              "24284    data/task2/images_by_class/8/3536.jpeg    1.164974                7\n",
              "\n",
              "[48570 rows x 3 columns]"
            ]
          },
          "execution_count": 353,
          "metadata": {},
          "output_type": "execute_result"
        }
      ],
      "source": [
        "df_all3.rename({\"confidence\":\"confidence3\", \"label_predicted\":\"label_predicted3\"}, inplace=True, axis = 1)\n",
        "df_all3.drop(\"existing_label\", inplace=True,axis=1)\n",
        "df_all3"
      ]
    },
    {
      "cell_type": "code",
      "execution_count": 358,
      "metadata": {
        "id": "aH4OFRrEsaqu"
      },
      "outputs": [],
      "source": [
        "df_all1 = prep_to_merge(all_predicted_labels1, 10)\n",
        "df_all2 = prep_to_merge(all_predicted_labels2, 2)\n",
        "\n",
        "df_all2.rename({\"confidence\":\"confidence2\", \"label_predicted\":\"label_predicted2\"}, inplace=True, axis = 1)\n",
        "df_all2.drop(\"existing_label\", inplace=True,axis=1)\n",
        "merge_df = pd.merge(df_all1, df_all2, on=\"path\", how=\"left\")\n",
        "# we don't have all rows for confidence 2 so we use \"left\" merging\n",
        "merge_df = pd.merge(merge_df, df_all3, on=\"path\", how=\"left\")"
      ]
    },
    {
      "cell_type": "code",
      "execution_count": 359,
      "metadata": {
        "colab": {
          "base_uri": "https://localhost:8080/",
          "height": 488
        },
        "id": "EFjGU0m0tCbo",
        "outputId": "649885ee-eb86-4774-ef55-5fd256d68685"
      },
      "outputs": [
        {
          "data": {
            "text/html": [
              "\n",
              "  <div id=\"df-ccf5b249-8497-4a84-aa7e-679329aabae7\">\n",
              "    <div class=\"colab-df-container\">\n",
              "      <div>\n",
              "<style scoped>\n",
              "    .dataframe tbody tr th:only-of-type {\n",
              "        vertical-align: middle;\n",
              "    }\n",
              "\n",
              "    .dataframe tbody tr th {\n",
              "        vertical-align: top;\n",
              "    }\n",
              "\n",
              "    .dataframe thead th {\n",
              "        text-align: right;\n",
              "    }\n",
              "</style>\n",
              "<table border=\"1\" class=\"dataframe\">\n",
              "  <thead>\n",
              "    <tr style=\"text-align: right;\">\n",
              "      <th></th>\n",
              "      <th>path</th>\n",
              "      <th>confidence</th>\n",
              "      <th>existing_label</th>\n",
              "      <th>label_predicted</th>\n",
              "      <th>confidence2</th>\n",
              "      <th>label_predicted2</th>\n",
              "      <th>confidence3</th>\n",
              "      <th>label_predicted3</th>\n",
              "    </tr>\n",
              "  </thead>\n",
              "  <tbody>\n",
              "    <tr>\n",
              "      <th>0</th>\n",
              "      <td>data/task2/images_by_class/3/1383.jpeg</td>\n",
              "      <td>0.36458</td>\n",
              "      <td>3</td>\n",
              "      <td>19</td>\n",
              "      <td>0.916443</td>\n",
              "      <td>69</td>\n",
              "      <td>0.991553</td>\n",
              "      <td>19</td>\n",
              "    </tr>\n",
              "    <tr>\n",
              "      <th>1</th>\n",
              "      <td>data/task2/images_by_class/76/29313.jpeg</td>\n",
              "      <td>0.098717</td>\n",
              "      <td>76</td>\n",
              "      <td>59</td>\n",
              "      <td>1.734477</td>\n",
              "      <td>47</td>\n",
              "      <td>1.321538</td>\n",
              "      <td>78</td>\n",
              "    </tr>\n",
              "    <tr>\n",
              "      <th>2</th>\n",
              "      <td>data/task2/images_by_class/30/12277.jpeg</td>\n",
              "      <td>0.203538</td>\n",
              "      <td>30</td>\n",
              "      <td>34</td>\n",
              "      <td>0.174259</td>\n",
              "      <td>44</td>\n",
              "      <td>0.154604</td>\n",
              "      <td>56</td>\n",
              "    </tr>\n",
              "    <tr>\n",
              "      <th>3</th>\n",
              "      <td>data/task2/images_by_class/59/22781.jpeg</td>\n",
              "      <td>0.13695</td>\n",
              "      <td>59</td>\n",
              "      <td>61</td>\n",
              "      <td>1.593244</td>\n",
              "      <td>17</td>\n",
              "      <td>1.353579</td>\n",
              "      <td>9</td>\n",
              "    </tr>\n",
              "    <tr>\n",
              "      <th>4</th>\n",
              "      <td>data/task2/images_by_class/88/34072.jpeg</td>\n",
              "      <td>0.259119</td>\n",
              "      <td>88</td>\n",
              "      <td>34</td>\n",
              "      <td>1.78167</td>\n",
              "      <td>3</td>\n",
              "      <td>2.434512</td>\n",
              "      <td>78</td>\n",
              "    </tr>\n",
              "    <tr>\n",
              "      <th>...</th>\n",
              "      <td>...</td>\n",
              "      <td>...</td>\n",
              "      <td>...</td>\n",
              "      <td>...</td>\n",
              "      <td>...</td>\n",
              "      <td>...</td>\n",
              "      <td>...</td>\n",
              "      <td>...</td>\n",
              "    </tr>\n",
              "    <tr>\n",
              "      <th>49995</th>\n",
              "      <td>data/task2/images_by_class/74/28286.jpeg</td>\n",
              "      <td>1.359533</td>\n",
              "      <td>74</td>\n",
              "      <td>50</td>\n",
              "      <td>0.029493</td>\n",
              "      <td>17</td>\n",
              "      <td>1.693614</td>\n",
              "      <td>78</td>\n",
              "    </tr>\n",
              "    <tr>\n",
              "      <th>49996</th>\n",
              "      <td>data/task2/images_by_class/15/45448.jpeg</td>\n",
              "      <td>3.355858</td>\n",
              "      <td>15</td>\n",
              "      <td>61</td>\n",
              "      <td>3.662585</td>\n",
              "      <td>47</td>\n",
              "      <td>0.348328</td>\n",
              "      <td>56</td>\n",
              "    </tr>\n",
              "    <tr>\n",
              "      <th>49997</th>\n",
              "      <td>data/task2/images_by_class/8/44196.jpeg</td>\n",
              "      <td>1.073675</td>\n",
              "      <td>8</td>\n",
              "      <td>0</td>\n",
              "      <td>0.305969</td>\n",
              "      <td>38</td>\n",
              "      <td>1.2268</td>\n",
              "      <td>70</td>\n",
              "    </tr>\n",
              "    <tr>\n",
              "      <th>49998</th>\n",
              "      <td>data/task2/images_by_class/75/28828.jpeg</td>\n",
              "      <td>1.837749</td>\n",
              "      <td>75</td>\n",
              "      <td>39</td>\n",
              "      <td>1.070897</td>\n",
              "      <td>99</td>\n",
              "      <td>0.143318</td>\n",
              "      <td>65</td>\n",
              "    </tr>\n",
              "    <tr>\n",
              "      <th>49999</th>\n",
              "      <td>data/task2/images_by_class/99/40549.jpeg</td>\n",
              "      <td>3.33866</td>\n",
              "      <td>99</td>\n",
              "      <td>67</td>\n",
              "      <td>2.707126</td>\n",
              "      <td>44</td>\n",
              "      <td>2.735814</td>\n",
              "      <td>11</td>\n",
              "    </tr>\n",
              "  </tbody>\n",
              "</table>\n",
              "<p>50000 rows × 8 columns</p>\n",
              "</div>\n",
              "      <button class=\"colab-df-convert\" onclick=\"convertToInteractive('df-ccf5b249-8497-4a84-aa7e-679329aabae7')\"\n",
              "              title=\"Convert this dataframe to an interactive table.\"\n",
              "              style=\"display:none;\">\n",
              "        \n",
              "  <svg xmlns=\"http://www.w3.org/2000/svg\" height=\"24px\"viewBox=\"0 0 24 24\"\n",
              "       width=\"24px\">\n",
              "    <path d=\"M0 0h24v24H0V0z\" fill=\"none\"/>\n",
              "    <path d=\"M18.56 5.44l.94 2.06.94-2.06 2.06-.94-2.06-.94-.94-2.06-.94 2.06-2.06.94zm-11 1L8.5 8.5l.94-2.06 2.06-.94-2.06-.94L8.5 2.5l-.94 2.06-2.06.94zm10 10l.94 2.06.94-2.06 2.06-.94-2.06-.94-.94-2.06-.94 2.06-2.06.94z\"/><path d=\"M17.41 7.96l-1.37-1.37c-.4-.4-.92-.59-1.43-.59-.52 0-1.04.2-1.43.59L10.3 9.45l-7.72 7.72c-.78.78-.78 2.05 0 2.83L4 21.41c.39.39.9.59 1.41.59.51 0 1.02-.2 1.41-.59l7.78-7.78 2.81-2.81c.8-.78.8-2.07 0-2.86zM5.41 20L4 18.59l7.72-7.72 1.47 1.35L5.41 20z\"/>\n",
              "  </svg>\n",
              "      </button>\n",
              "      \n",
              "  <style>\n",
              "    .colab-df-container {\n",
              "      display:flex;\n",
              "      flex-wrap:wrap;\n",
              "      gap: 12px;\n",
              "    }\n",
              "\n",
              "    .colab-df-convert {\n",
              "      background-color: #E8F0FE;\n",
              "      border: none;\n",
              "      border-radius: 50%;\n",
              "      cursor: pointer;\n",
              "      display: none;\n",
              "      fill: #1967D2;\n",
              "      height: 32px;\n",
              "      padding: 0 0 0 0;\n",
              "      width: 32px;\n",
              "    }\n",
              "\n",
              "    .colab-df-convert:hover {\n",
              "      background-color: #E2EBFA;\n",
              "      box-shadow: 0px 1px 2px rgba(60, 64, 67, 0.3), 0px 1px 3px 1px rgba(60, 64, 67, 0.15);\n",
              "      fill: #174EA6;\n",
              "    }\n",
              "\n",
              "    [theme=dark] .colab-df-convert {\n",
              "      background-color: #3B4455;\n",
              "      fill: #D2E3FC;\n",
              "    }\n",
              "\n",
              "    [theme=dark] .colab-df-convert:hover {\n",
              "      background-color: #434B5C;\n",
              "      box-shadow: 0px 1px 3px 1px rgba(0, 0, 0, 0.15);\n",
              "      filter: drop-shadow(0px 1px 2px rgba(0, 0, 0, 0.3));\n",
              "      fill: #FFFFFF;\n",
              "    }\n",
              "  </style>\n",
              "\n",
              "      <script>\n",
              "        const buttonEl =\n",
              "          document.querySelector('#df-ccf5b249-8497-4a84-aa7e-679329aabae7 button.colab-df-convert');\n",
              "        buttonEl.style.display =\n",
              "          google.colab.kernel.accessAllowed ? 'block' : 'none';\n",
              "\n",
              "        async function convertToInteractive(key) {\n",
              "          const element = document.querySelector('#df-ccf5b249-8497-4a84-aa7e-679329aabae7');\n",
              "          const dataTable =\n",
              "            await google.colab.kernel.invokeFunction('convertToInteractive',\n",
              "                                                     [key], {});\n",
              "          if (!dataTable) return;\n",
              "\n",
              "          const docLinkHtml = 'Like what you see? Visit the ' +\n",
              "            '<a target=\"_blank\" href=https://colab.research.google.com/notebooks/data_table.ipynb>data table notebook</a>'\n",
              "            + ' to learn more about interactive tables.';\n",
              "          element.innerHTML = '';\n",
              "          dataTable['output_type'] = 'display_data';\n",
              "          await google.colab.output.renderOutput(dataTable, element);\n",
              "          const docLink = document.createElement('div');\n",
              "          docLink.innerHTML = docLinkHtml;\n",
              "          element.appendChild(docLink);\n",
              "        }\n",
              "      </script>\n",
              "    </div>\n",
              "  </div>\n",
              "  "
            ],
            "text/plain": [
              "                                           path confidence existing_label  \\\n",
              "0        data/task2/images_by_class/3/1383.jpeg    0.36458              3   \n",
              "1      data/task2/images_by_class/76/29313.jpeg   0.098717             76   \n",
              "2      data/task2/images_by_class/30/12277.jpeg   0.203538             30   \n",
              "3      data/task2/images_by_class/59/22781.jpeg    0.13695             59   \n",
              "4      data/task2/images_by_class/88/34072.jpeg   0.259119             88   \n",
              "...                                         ...        ...            ...   \n",
              "49995  data/task2/images_by_class/74/28286.jpeg   1.359533             74   \n",
              "49996  data/task2/images_by_class/15/45448.jpeg   3.355858             15   \n",
              "49997   data/task2/images_by_class/8/44196.jpeg   1.073675              8   \n",
              "49998  data/task2/images_by_class/75/28828.jpeg   1.837749             75   \n",
              "49999  data/task2/images_by_class/99/40549.jpeg    3.33866             99   \n",
              "\n",
              "      label_predicted confidence2 label_predicted2 confidence3  \\\n",
              "0                  19    0.916443               69    0.991553   \n",
              "1                  59    1.734477               47    1.321538   \n",
              "2                  34    0.174259               44    0.154604   \n",
              "3                  61    1.593244               17    1.353579   \n",
              "4                  34     1.78167                3    2.434512   \n",
              "...               ...         ...              ...         ...   \n",
              "49995              50    0.029493               17    1.693614   \n",
              "49996              61    3.662585               47    0.348328   \n",
              "49997               0    0.305969               38      1.2268   \n",
              "49998              39    1.070897               99    0.143318   \n",
              "49999              67    2.707126               44    2.735814   \n",
              "\n",
              "      label_predicted3  \n",
              "0                   19  \n",
              "1                   78  \n",
              "2                   56  \n",
              "3                    9  \n",
              "4                   78  \n",
              "...                ...  \n",
              "49995               78  \n",
              "49996               56  \n",
              "49997               70  \n",
              "49998               65  \n",
              "49999               11  \n",
              "\n",
              "[50000 rows x 8 columns]"
            ]
          },
          "execution_count": 359,
          "metadata": {},
          "output_type": "execute_result"
        }
      ],
      "source": [
        "merge_df"
      ]
    },
    {
      "cell_type": "code",
      "execution_count": 360,
      "metadata": {
        "colab": {
          "base_uri": "https://localhost:8080/"
        },
        "id": "3vbosYgkud9X",
        "outputId": "ffa13f6c-b05b-4167-a639-0d55d664f9b3"
      },
      "outputs": [
        {
          "name": "stdout",
          "output_type": "stream",
          "text": [
            "How many rows have the label_predicted2 = label_predicted 2\n",
            "False    49251\n",
            "True       749\n",
            "dtype: int64\n",
            "False    49407\n",
            "True       593\n",
            "dtype: int64\n",
            "False    48998\n",
            "True      1002\n",
            "dtype: int64\n"
          ]
        }
      ],
      "source": [
        "print(\"How many rows have the label_predicted2 = label_predicted 2\")\n",
        "print((merge_df['label_predicted'] == merge_df['label_predicted2']).value_counts())\n",
        "print((merge_df['label_predicted'] == merge_df['label_predicted3']).value_counts())\n",
        "print((merge_df['label_predicted3'] == merge_df['label_predicted2']).value_counts())"
      ]
    },
    {
      "cell_type": "code",
      "execution_count": 362,
      "metadata": {
        "id": "DYlaKxLfu58l"
      },
      "outputs": [],
      "source": [
        "next = merge_df[(merge_df['label_predicted3'] == merge_df['label_predicted2']) +\n",
        "         (merge_df['label_predicted'] == merge_df['label_predicted2'])\n",
        "         ]"
      ]
    },
    {
      "cell_type": "code",
      "execution_count": 363,
      "metadata": {
        "colab": {
          "base_uri": "https://localhost:8080/",
          "height": 522
        },
        "id": "1dgRdfdUwL5y",
        "outputId": "2bf915f5-6604-4375-8b69-3d697b8d6241"
      },
      "outputs": [
        {
          "name": "stderr",
          "output_type": "stream",
          "text": [
            "<ipython-input-363-3e57bbe9fc6c>:1: UserWarning: Boolean Series key will be reindexed to match DataFrame index.\n",
            "  df_merge_correct = next[next['confidence']>0.1][next['confidence2']>0.1][next['confidence3']>0.1]\n"
          ]
        },
        {
          "data": {
            "text/html": [
              "\n",
              "  <div id=\"df-a7e246c4-63a9-4112-ac67-c5e799898afc\">\n",
              "    <div class=\"colab-df-container\">\n",
              "      <div>\n",
              "<style scoped>\n",
              "    .dataframe tbody tr th:only-of-type {\n",
              "        vertical-align: middle;\n",
              "    }\n",
              "\n",
              "    .dataframe tbody tr th {\n",
              "        vertical-align: top;\n",
              "    }\n",
              "\n",
              "    .dataframe thead th {\n",
              "        text-align: right;\n",
              "    }\n",
              "</style>\n",
              "<table border=\"1\" class=\"dataframe\">\n",
              "  <thead>\n",
              "    <tr style=\"text-align: right;\">\n",
              "      <th></th>\n",
              "      <th>path</th>\n",
              "      <th>confidence</th>\n",
              "      <th>existing_label</th>\n",
              "      <th>label_predicted</th>\n",
              "      <th>confidence2</th>\n",
              "      <th>label_predicted2</th>\n",
              "      <th>confidence3</th>\n",
              "      <th>label_predicted3</th>\n",
              "    </tr>\n",
              "  </thead>\n",
              "  <tbody>\n",
              "    <tr>\n",
              "      <th>133</th>\n",
              "      <td>data/task2/images_by_class/80/30622.jpeg</td>\n",
              "      <td>0.151909</td>\n",
              "      <td>80</td>\n",
              "      <td>77</td>\n",
              "      <td>2.467196</td>\n",
              "      <td>18</td>\n",
              "      <td>1.251756</td>\n",
              "      <td>18</td>\n",
              "    </tr>\n",
              "    <tr>\n",
              "      <th>178</th>\n",
              "      <td>data/task2/images_by_class/85/43432.jpeg</td>\n",
              "      <td>1.882455</td>\n",
              "      <td>85</td>\n",
              "      <td>84</td>\n",
              "      <td>1.669616</td>\n",
              "      <td>18</td>\n",
              "      <td>0.996252</td>\n",
              "      <td>18</td>\n",
              "    </tr>\n",
              "    <tr>\n",
              "      <th>258</th>\n",
              "      <td>data/task2/images_by_class/41/16197.jpeg</td>\n",
              "      <td>0.313494</td>\n",
              "      <td>41</td>\n",
              "      <td>7</td>\n",
              "      <td>0.859657</td>\n",
              "      <td>19</td>\n",
              "      <td>0.751059</td>\n",
              "      <td>19</td>\n",
              "    </tr>\n",
              "    <tr>\n",
              "      <th>303</th>\n",
              "      <td>data/task2/images_by_class/8/3452.jpeg</td>\n",
              "      <td>0.205941</td>\n",
              "      <td>8</td>\n",
              "      <td>30</td>\n",
              "      <td>1.193492</td>\n",
              "      <td>70</td>\n",
              "      <td>1.340853</td>\n",
              "      <td>70</td>\n",
              "    </tr>\n",
              "    <tr>\n",
              "      <th>362</th>\n",
              "      <td>data/task2/images_by_class/45/17408.jpeg</td>\n",
              "      <td>0.100038</td>\n",
              "      <td>45</td>\n",
              "      <td>2</td>\n",
              "      <td>0.83005</td>\n",
              "      <td>2</td>\n",
              "      <td>2.378393</td>\n",
              "      <td>78</td>\n",
              "    </tr>\n",
              "    <tr>\n",
              "      <th>...</th>\n",
              "      <td>...</td>\n",
              "      <td>...</td>\n",
              "      <td>...</td>\n",
              "      <td>...</td>\n",
              "      <td>...</td>\n",
              "      <td>...</td>\n",
              "      <td>...</td>\n",
              "      <td>...</td>\n",
              "    </tr>\n",
              "    <tr>\n",
              "      <th>49908</th>\n",
              "      <td>data/task2/images_by_class/12/47122.jpeg</td>\n",
              "      <td>2.657788</td>\n",
              "      <td>12</td>\n",
              "      <td>98</td>\n",
              "      <td>0.412509</td>\n",
              "      <td>19</td>\n",
              "      <td>0.713494</td>\n",
              "      <td>19</td>\n",
              "    </tr>\n",
              "    <tr>\n",
              "      <th>49916</th>\n",
              "      <td>data/task2/images_by_class/10/45198.jpeg</td>\n",
              "      <td>1.309713</td>\n",
              "      <td>10</td>\n",
              "      <td>61</td>\n",
              "      <td>0.985352</td>\n",
              "      <td>19</td>\n",
              "      <td>0.489649</td>\n",
              "      <td>19</td>\n",
              "    </tr>\n",
              "    <tr>\n",
              "      <th>49925</th>\n",
              "      <td>data/task2/images_by_class/93/35542.jpeg</td>\n",
              "      <td>2.562606</td>\n",
              "      <td>93</td>\n",
              "      <td>16</td>\n",
              "      <td>3.665642</td>\n",
              "      <td>19</td>\n",
              "      <td>3.110206</td>\n",
              "      <td>19</td>\n",
              "    </tr>\n",
              "    <tr>\n",
              "      <th>49963</th>\n",
              "      <td>data/task2/images_by_class/28/11267.jpeg</td>\n",
              "      <td>2.91602</td>\n",
              "      <td>28</td>\n",
              "      <td>67</td>\n",
              "      <td>5.470263</td>\n",
              "      <td>19</td>\n",
              "      <td>1.925581</td>\n",
              "      <td>19</td>\n",
              "    </tr>\n",
              "    <tr>\n",
              "      <th>49969</th>\n",
              "      <td>data/task2/images_by_class/86/33057.jpeg</td>\n",
              "      <td>2.476339</td>\n",
              "      <td>86</td>\n",
              "      <td>67</td>\n",
              "      <td>0.199136</td>\n",
              "      <td>63</td>\n",
              "      <td>0.176967</td>\n",
              "      <td>63</td>\n",
              "    </tr>\n",
              "  </tbody>\n",
              "</table>\n",
              "<p>882 rows × 8 columns</p>\n",
              "</div>\n",
              "      <button class=\"colab-df-convert\" onclick=\"convertToInteractive('df-a7e246c4-63a9-4112-ac67-c5e799898afc')\"\n",
              "              title=\"Convert this dataframe to an interactive table.\"\n",
              "              style=\"display:none;\">\n",
              "        \n",
              "  <svg xmlns=\"http://www.w3.org/2000/svg\" height=\"24px\"viewBox=\"0 0 24 24\"\n",
              "       width=\"24px\">\n",
              "    <path d=\"M0 0h24v24H0V0z\" fill=\"none\"/>\n",
              "    <path d=\"M18.56 5.44l.94 2.06.94-2.06 2.06-.94-2.06-.94-.94-2.06-.94 2.06-2.06.94zm-11 1L8.5 8.5l.94-2.06 2.06-.94-2.06-.94L8.5 2.5l-.94 2.06-2.06.94zm10 10l.94 2.06.94-2.06 2.06-.94-2.06-.94-.94-2.06-.94 2.06-2.06.94z\"/><path d=\"M17.41 7.96l-1.37-1.37c-.4-.4-.92-.59-1.43-.59-.52 0-1.04.2-1.43.59L10.3 9.45l-7.72 7.72c-.78.78-.78 2.05 0 2.83L4 21.41c.39.39.9.59 1.41.59.51 0 1.02-.2 1.41-.59l7.78-7.78 2.81-2.81c.8-.78.8-2.07 0-2.86zM5.41 20L4 18.59l7.72-7.72 1.47 1.35L5.41 20z\"/>\n",
              "  </svg>\n",
              "      </button>\n",
              "      \n",
              "  <style>\n",
              "    .colab-df-container {\n",
              "      display:flex;\n",
              "      flex-wrap:wrap;\n",
              "      gap: 12px;\n",
              "    }\n",
              "\n",
              "    .colab-df-convert {\n",
              "      background-color: #E8F0FE;\n",
              "      border: none;\n",
              "      border-radius: 50%;\n",
              "      cursor: pointer;\n",
              "      display: none;\n",
              "      fill: #1967D2;\n",
              "      height: 32px;\n",
              "      padding: 0 0 0 0;\n",
              "      width: 32px;\n",
              "    }\n",
              "\n",
              "    .colab-df-convert:hover {\n",
              "      background-color: #E2EBFA;\n",
              "      box-shadow: 0px 1px 2px rgba(60, 64, 67, 0.3), 0px 1px 3px 1px rgba(60, 64, 67, 0.15);\n",
              "      fill: #174EA6;\n",
              "    }\n",
              "\n",
              "    [theme=dark] .colab-df-convert {\n",
              "      background-color: #3B4455;\n",
              "      fill: #D2E3FC;\n",
              "    }\n",
              "\n",
              "    [theme=dark] .colab-df-convert:hover {\n",
              "      background-color: #434B5C;\n",
              "      box-shadow: 0px 1px 3px 1px rgba(0, 0, 0, 0.15);\n",
              "      filter: drop-shadow(0px 1px 2px rgba(0, 0, 0, 0.3));\n",
              "      fill: #FFFFFF;\n",
              "    }\n",
              "  </style>\n",
              "\n",
              "      <script>\n",
              "        const buttonEl =\n",
              "          document.querySelector('#df-a7e246c4-63a9-4112-ac67-c5e799898afc button.colab-df-convert');\n",
              "        buttonEl.style.display =\n",
              "          google.colab.kernel.accessAllowed ? 'block' : 'none';\n",
              "\n",
              "        async function convertToInteractive(key) {\n",
              "          const element = document.querySelector('#df-a7e246c4-63a9-4112-ac67-c5e799898afc');\n",
              "          const dataTable =\n",
              "            await google.colab.kernel.invokeFunction('convertToInteractive',\n",
              "                                                     [key], {});\n",
              "          if (!dataTable) return;\n",
              "\n",
              "          const docLinkHtml = 'Like what you see? Visit the ' +\n",
              "            '<a target=\"_blank\" href=https://colab.research.google.com/notebooks/data_table.ipynb>data table notebook</a>'\n",
              "            + ' to learn more about interactive tables.';\n",
              "          element.innerHTML = '';\n",
              "          dataTable['output_type'] = 'display_data';\n",
              "          await google.colab.output.renderOutput(dataTable, element);\n",
              "          const docLink = document.createElement('div');\n",
              "          docLink.innerHTML = docLinkHtml;\n",
              "          element.appendChild(docLink);\n",
              "        }\n",
              "      </script>\n",
              "    </div>\n",
              "  </div>\n",
              "  "
            ],
            "text/plain": [
              "                                           path confidence existing_label  \\\n",
              "133    data/task2/images_by_class/80/30622.jpeg   0.151909             80   \n",
              "178    data/task2/images_by_class/85/43432.jpeg   1.882455             85   \n",
              "258    data/task2/images_by_class/41/16197.jpeg   0.313494             41   \n",
              "303      data/task2/images_by_class/8/3452.jpeg   0.205941              8   \n",
              "362    data/task2/images_by_class/45/17408.jpeg   0.100038             45   \n",
              "...                                         ...        ...            ...   \n",
              "49908  data/task2/images_by_class/12/47122.jpeg   2.657788             12   \n",
              "49916  data/task2/images_by_class/10/45198.jpeg   1.309713             10   \n",
              "49925  data/task2/images_by_class/93/35542.jpeg   2.562606             93   \n",
              "49963  data/task2/images_by_class/28/11267.jpeg    2.91602             28   \n",
              "49969  data/task2/images_by_class/86/33057.jpeg   2.476339             86   \n",
              "\n",
              "      label_predicted confidence2 label_predicted2 confidence3  \\\n",
              "133                77    2.467196               18    1.251756   \n",
              "178                84    1.669616               18    0.996252   \n",
              "258                 7    0.859657               19    0.751059   \n",
              "303                30    1.193492               70    1.340853   \n",
              "362                 2     0.83005                2    2.378393   \n",
              "...               ...         ...              ...         ...   \n",
              "49908              98    0.412509               19    0.713494   \n",
              "49916              61    0.985352               19    0.489649   \n",
              "49925              16    3.665642               19    3.110206   \n",
              "49963              67    5.470263               19    1.925581   \n",
              "49969              67    0.199136               63    0.176967   \n",
              "\n",
              "      label_predicted3  \n",
              "133                 18  \n",
              "178                 18  \n",
              "258                 19  \n",
              "303                 70  \n",
              "362                 78  \n",
              "...                ...  \n",
              "49908               19  \n",
              "49916               19  \n",
              "49925               19  \n",
              "49963               19  \n",
              "49969               63  \n",
              "\n",
              "[882 rows x 8 columns]"
            ]
          },
          "metadata": {},
          "output_type": "display_data"
        }
      ],
      "source": [
        "df_merge_correct = next[next['confidence']>0.1][next['confidence2']>0.1][next['confidence3']>0.1]\n",
        "display(df_merge_correct)"
      ]
    },
    {
      "cell_type": "markdown",
      "metadata": {
        "id": "zfGR6AoGzpbE"
      },
      "source": [
        "# Evaluation"
      ]
    },
    {
      "cell_type": "markdown",
      "metadata": {
        "id": "lnTlyuE9wLF-"
      },
      "source": [
        "### Prepare unlabeled dataset"
      ]
    },
    {
      "cell_type": "code",
      "execution_count": 156,
      "metadata": {
        "colab": {
          "base_uri": "https://localhost:8080/"
        },
        "id": "1oL3eDGtwQNU",
        "outputId": "6319bd46-3712-4f27-f0f2-82b5838dba46"
      },
      "outputs": [
        {
          "name": "stderr",
          "output_type": "stream",
          "text": [
            "100%|██████████| 5001/5001 [00:00<00:00, 31199.33it/s]\n"
          ]
        }
      ],
      "source": [
        "dir_data = 'data/task2/val_data'\n",
        "# copy data to allow dataloader to read it easier\n",
        "dest_dir = 'data/task2/val_data/0'\n",
        "os.makedirs(dest_dir, exist_ok=True)\n",
        "\n",
        "# Iterate over all the files in the source directory\n",
        "for file in tqdm(os.listdir(dir_data)):\n",
        "    if file.endswith(\".jpg\") or file.endswith(\".jpeg\") or file.endswith(\".png\"):\n",
        "        # Construct the source and destination paths\n",
        "        src_path = os.path.join(dir_data, file)\n",
        "        dst_path = os.path.join(dest_dir, file)\n",
        "        # Move the file\n",
        "        shutil.move(src_path, dst_path) "
      ]
    },
    {
      "cell_type": "code",
      "execution_count": 173,
      "metadata": {
        "id": "a1RFD1utwWGL"
      },
      "outputs": [],
      "source": [
        "from torchvision.datasets import DatasetFolder\n",
        "\n",
        "\n",
        "preprocess = transforms.Compose([\n",
        "    transforms.Resize(experiment_info[\"image_processing\"][\"resize\"]),\n",
        "    transforms.ToTensor(),\n",
        "    transforms.Normalize(mean=experiment_info[\"image_processing\"][\"mean\"],\n",
        "                         std=experiment_info[\"image_processing\"][\"std\"]),\n",
        "    ])\n",
        "\n",
        "dir_data = 'data/task2/val_data'\n",
        "image_dataset_unlabeled = datasets.ImageFolder(root=dir_data, transform=preprocess)\n",
        "\n",
        "dataloader_unlabeled  = torch.utils.data.DataLoader(\n",
        "    image_dataset_unlabeled, \n",
        "    batch_size = 1, \n",
        "    )\n",
        "\n",
        "dataset_size = len(image_dataset_unlabeled)\n",
        "\n",
        "device = torch.device(\"cuda:0\" if torch.cuda.is_available() else \"cpu\")\n",
        "     "
      ]
    },
    {
      "cell_type": "code",
      "execution_count": 171,
      "metadata": {
        "id": "FLxGkNPcytku"
      },
      "outputs": [],
      "source": [
        "def make_eval_predictions(model, image_dataset_unlabeled, dataloader_unlabeled):\n",
        "    predicted_labels = {\n",
        "    \"path\":[],\n",
        "    \"confidence\":[],\n",
        "    \"label\":[]\n",
        "    }\n",
        "\n",
        "    # Each epoch has a training and validation phase \n",
        "    model.eval()   # Set model to evaluate mode \n",
        "\n",
        "    # Iterate over data.\n",
        "    img_path_generator = ((image, path) for (path,_) , (image, _) in zip(image_dataset_unlabeled.samples, dataloader_unlabeled))\n",
        "\n",
        "    for inputs, path in tqdm(img_path_generator, total=dataset_size):\n",
        "        inputs = inputs.to(device)\n",
        "\n",
        "        # forward\n",
        "        with torch.set_grad_enabled(False): # we don't want to train\n",
        "            outputs = model(inputs)\n",
        "            confidence, preds = torch.max(outputs, 1) \n",
        "        predicted_labels[\"path\"].append(path) \n",
        "        predicted_labels[\"confidence\"].append(confidence.item())\n",
        "        predicted_labels[\"label\"].append(preds.item())\n",
        "    return predicted_labels "
      ]
    },
    {
      "cell_type": "markdown",
      "metadata": {
        "id": "a0eBLrahrkvM"
      },
      "source": [
        "### Train a single model on all the correct labels only for evaluation\n",
        "Also compare this with training on the whole dataset "
      ]
    },
    {
      "cell_type": "code",
      "execution_count": 143,
      "metadata": {
        "colab": {
          "base_uri": "https://localhost:8080/"
        },
        "id": "AVuYWTr-tcJN",
        "outputId": "66a69569-f398-46af-f4f7-6b4a1313cd53"
      },
      "outputs": [
        {
          "name": "stdout",
          "output_type": "stream",
          "text": [
            "data/task2/images_by_class has been deleted\n"
          ]
        }
      ],
      "source": [
        "target_dir = 'data/task2/images_by_class'\n",
        "del_dir_if_exist(target_dir)"
      ]
    },
    {
      "cell_type": "code",
      "execution_count": 144,
      "metadata": {
        "colab": {
          "base_uri": "https://localhost:8080/"
        },
        "id": "_quCksYWtcJO",
        "outputId": "b9b82987-5dc6-4420-e90e-d8b5352f9e6a"
      },
      "outputs": [
        {
          "name": "stdout",
          "output_type": "stream",
          "text": [
            "data/task2/training_confident has been deleted\n"
          ]
        }
      ],
      "source": [
        "# Check if the directory exists, to recreate it instead of messing it up\n",
        "target_dir = 'data/task2/training_confident'\n",
        "del_dir_if_exist(target_dir)"
      ]
    },
    {
      "cell_type": "code",
      "execution_count": 145,
      "metadata": {
        "colab": {
          "base_uri": "https://localhost:8080/"
        },
        "id": "jt7k_xhHtcJO",
        "outputId": "2c02300a-41d4-4398-e8b8-833c60d42339"
      },
      "outputs": [
        {
          "name": "stderr",
          "output_type": "stream",
          "text": [
            "100%|██████████| 50000/50000 [00:10<00:00, 4568.15it/s]\n"
          ]
        }
      ],
      "source": [
        "make_dataset_folder()"
      ]
    },
    {
      "cell_type": "code",
      "execution_count": 147,
      "metadata": {
        "colab": {
          "base_uri": "https://localhost:8080/"
        },
        "id": "a-m3ANMVtcJP",
        "outputId": "46a03a9b-b7c2-4078-a44c-e4f113dfe75f"
      },
      "outputs": [
        {
          "name": "stderr",
          "output_type": "stream",
          "text": [
            "100%|██████████| 3970/3970 [00:01<00:00, 3182.87it/s]\n"
          ]
        }
      ],
      "source": [
        "# Train on 2 datasets at the same time, one with high confidence labels\n",
        "# this dataset will only be used during training, never forgetting labels\n",
        "# the second dataset will iteratively forget labels and train on the remaining labels.\n",
        "# Define the base directory\n",
        "target_dir = 'data/task2/training_confident'\n",
        "# Iterate over the rows in the DataFrame\n",
        "for _, row in tqdm(correct_df_all.iterrows(), total=correct_df_all.shape[0]):\n",
        "    # Extract the path and class from the row\n",
        "    path = row['path']\n",
        "    label = row['existing_label'] \n",
        "\n",
        "    # Create the directory for the class\n",
        "    class_dir = f'{target_dir}/{label}'\n",
        "    os.makedirs(class_dir, exist_ok=True)\n",
        "    \n",
        "    # move the file to the class directory\n",
        "    shutil.move(f\"{path}\", class_dir)\n",
        "    \n",
        "\n",
        "# we move the images because we don't want them to remain in the dataset for relabeling.  \n"
      ]
    },
    {
      "cell_type": "code",
      "execution_count": 255,
      "metadata": {
        "id": "O266GLXcrqyR"
      },
      "outputs": [],
      "source": [
        "# TODO: create the 2 datasets\n",
        "\n",
        "data_dir_train = 'data/task2/training_confident'\n",
        "image_dataset_train_only = datasets.ImageFolder(data_dir_train, preprocess) \n",
        "dataloader_train_only  = DataLoader(\n",
        "    image_dataset_train_only, \n",
        "    batch_size = experiment_info[\"hyperparameters_data\"][\"batch_size\"],\n",
        "    shuffle = experiment_info[\"hyperparameters_data\"][\"shuffle_dataloader\"], \n",
        "    num_workers = experiment_info[\"hyperparameters_data\"][\"num_workers\"]\n",
        "    )\n",
        "\n",
        "class_names = image_dataset_train_only.classes\n",
        "dataset_size = len(image_dataset_train_only)\n",
        "\n",
        "device = torch.device(\"cuda:0\" if torch.cuda.is_available() else \"cpu\")"
      ]
    },
    {
      "cell_type": "code",
      "execution_count": 149,
      "metadata": {
        "colab": {
          "base_uri": "https://localhost:8080/"
        },
        "id": "5dSTW4C4vK2u",
        "outputId": "fc73a05a-de9a-4370-8989-29c4ddd886a5"
      },
      "outputs": [
        {
          "name": "stdout",
          "output_type": "stream",
          "text": [
            "3970\n"
          ]
        }
      ],
      "source": [
        "print(dataset_size)"
      ]
    },
    {
      "cell_type": "code",
      "execution_count": 256,
      "metadata": {
        "colab": {
          "base_uri": "https://localhost:8080/"
        },
        "id": "mngC6ZIsvV2U",
        "outputId": "cc1461d3-9f15-4ca4-f231-a0fc31c28c80"
      },
      "outputs": [
        {
          "name": "stdout",
          "output_type": "stream",
          "text": [
            "Sequential(\n",
            "  (0): Dropout(p=0.2, inplace=False)\n",
            "  (1): Linear(in_features=1280, out_features=100, bias=True)\n",
            ")\n"
          ]
        },
        {
          "name": "stderr",
          "output_type": "stream",
          "text": [
            "Using cache found in /root/.cache/torch/hub/pytorch_vision_v0.10.0\n",
            "/usr/local/lib/python3.8/dist-packages/torchvision/models/_utils.py:208: UserWarning: The parameter 'pretrained' is deprecated since 0.13 and may be removed in the future, please use 'weights' instead.\n",
            "  warnings.warn(\n",
            "/usr/local/lib/python3.8/dist-packages/torchvision/models/_utils.py:223: UserWarning: Arguments other than a weight enum or `None` for 'weights' are deprecated since 0.13 and may be removed in the future. The current behavior is equivalent to passing `weights=MobileNet_V2_Weights.IMAGENET1K_V1`. You can also use `weights=MobileNet_V2_Weights.DEFAULT` to get the most up-to-date weights.\n",
            "  warnings.warn(msg)\n"
          ]
        }
      ],
      "source": [
        "# Download a pytorch MobileNet pretrained model\n",
        "model = torch.hub.load('pytorch/vision:v0.10.0', 'mobilenet_v2', pretrained=True)\n",
        "# change the Linear output to fit our dataset ( because model initially has 1000 classes)\n",
        "model.classifier[1] = nn.Linear(1280, 100)\n",
        "# Setting hyperparameters\n",
        "\n",
        "model = model.to(device)\n",
        "print(model.classifier)"
      ]
    },
    {
      "cell_type": "code",
      "execution_count": 257,
      "metadata": {
        "id": "Y3AgFetjvYcY"
      },
      "outputs": [],
      "source": [
        "criterion = nn.CrossEntropyLoss()\n",
        "\n",
        "# Observe that all parameters are being optimized\n",
        "# optimizer = optim.SGD(model.parameters(), lr=0.001, momentum=0.9)\n",
        "optimizer = optim.Adam(\n",
        "    model.parameters(),\n",
        "    lr=experiment_info[\"hyperparameters_training\"][\"learning_rate\"],\n",
        "    )\n",
        "\n",
        "# Decay LR by a factor of 0.1 every 7 epochs\n",
        "exp_lr_scheduler = lr_scheduler.StepLR(\n",
        "    optimizer, \n",
        "    step_size=experiment_info[\"hyperparameters_training\"][\"scheduler_step_size\"], \n",
        "    gamma=experiment_info[\"hyperparameters_training\"][\"scheduler_gamma\"],\n",
        "    )"
      ]
    },
    {
      "cell_type": "code",
      "execution_count": 258,
      "metadata": {
        "colab": {
          "base_uri": "https://localhost:8080/"
        },
        "id": "LZ47VxvRvZxu",
        "outputId": "7fc4b973-72b0-41a3-9756-dd25045a2bae"
      },
      "outputs": [
        {
          "name": "stdout",
          "output_type": "stream",
          "text": [
            "Epoch 0/9\n",
            "----------\n"
          ]
        },
        {
          "name": "stderr",
          "output_type": "stream",
          "text": [
            "100%|██████████| 38/38 [00:05<00:00,  6.63it/s]\n"
          ]
        },
        {
          "name": "stdout",
          "output_type": "stream",
          "text": [
            "Loss: 6.5748 Acc: 0.2058\n",
            "\n",
            "Epoch 1/9\n",
            "----------\n"
          ]
        },
        {
          "name": "stderr",
          "output_type": "stream",
          "text": [
            "100%|██████████| 38/38 [00:05<00:00,  6.65it/s]\n"
          ]
        },
        {
          "name": "stdout",
          "output_type": "stream",
          "text": [
            "Loss: 4.9462 Acc: 0.5072\n",
            "\n",
            "Epoch 2/9\n",
            "----------\n"
          ]
        },
        {
          "name": "stderr",
          "output_type": "stream",
          "text": [
            "100%|██████████| 38/38 [00:05<00:00,  6.73it/s]\n"
          ]
        },
        {
          "name": "stdout",
          "output_type": "stream",
          "text": [
            "Loss: 4.0197 Acc: 0.6986\n",
            "\n",
            "Epoch 3/9\n",
            "----------\n"
          ]
        },
        {
          "name": "stderr",
          "output_type": "stream",
          "text": [
            "100%|██████████| 38/38 [00:05<00:00,  6.71it/s]\n"
          ]
        },
        {
          "name": "stdout",
          "output_type": "stream",
          "text": [
            "Loss: 3.2882 Acc: 0.8545\n",
            "\n",
            "Epoch 4/9\n",
            "----------\n"
          ]
        },
        {
          "name": "stderr",
          "output_type": "stream",
          "text": [
            "100%|██████████| 38/38 [00:05<00:00,  6.71it/s]\n"
          ]
        },
        {
          "name": "stdout",
          "output_type": "stream",
          "text": [
            "Loss: 2.6456 Acc: 1.0433\n",
            "\n",
            "Epoch 5/9\n",
            "----------\n"
          ]
        },
        {
          "name": "stderr",
          "output_type": "stream",
          "text": [
            "100%|██████████| 38/38 [00:05<00:00,  6.77it/s]\n"
          ]
        },
        {
          "name": "stdout",
          "output_type": "stream",
          "text": [
            "Loss: 2.0811 Acc: 1.2412\n",
            "\n",
            "Epoch 6/9\n",
            "----------\n"
          ]
        },
        {
          "name": "stderr",
          "output_type": "stream",
          "text": [
            "100%|██████████| 38/38 [00:05<00:00,  6.80it/s]\n"
          ]
        },
        {
          "name": "stdout",
          "output_type": "stream",
          "text": [
            "Loss: 1.6234 Acc: 1.3735\n",
            "\n",
            "Epoch 7/9\n",
            "----------\n"
          ]
        },
        {
          "name": "stderr",
          "output_type": "stream",
          "text": [
            "100%|██████████| 38/38 [00:05<00:00,  6.79it/s]\n"
          ]
        },
        {
          "name": "stdout",
          "output_type": "stream",
          "text": [
            "Loss: 1.2442 Acc: 1.4600\n",
            "\n",
            "Epoch 8/9\n",
            "----------\n"
          ]
        },
        {
          "name": "stderr",
          "output_type": "stream",
          "text": [
            "100%|██████████| 38/38 [00:05<00:00,  6.78it/s]\n"
          ]
        },
        {
          "name": "stdout",
          "output_type": "stream",
          "text": [
            "Loss: 1.1899 Acc: 1.4705\n",
            "\n",
            "Epoch 9/9\n",
            "----------\n"
          ]
        },
        {
          "name": "stderr",
          "output_type": "stream",
          "text": [
            "100%|██████████| 38/38 [00:05<00:00,  6.83it/s]\n"
          ]
        },
        {
          "name": "stdout",
          "output_type": "stream",
          "text": [
            "Loss: 1.1671 Acc: 1.4862\n",
            "\n",
            "Training complete in 0m 57s\n",
            "Best val Acc: 1.486239\n"
          ]
        }
      ],
      "source": [
        "model = train_model3(model, \n",
        "                    exp_lr_scheduler, \n",
        "                    optimizer, \n",
        "                    criterion,  \n",
        "                    data_sizes[\"train\"], \n",
        "                    dataloader_train_only,\n",
        "                    num_epochs=experiment_info[\"hyperparameters_training\"][\"num_epochs\"])"
      ]
    },
    {
      "cell_type": "code",
      "execution_count": 259,
      "metadata": {
        "id": "D-nRCGD1we3J"
      },
      "outputs": [],
      "source": [
        "path_m = f'/gdrive/MyDrive/checkpoints/noisy_labels/eval_model2.pt'\n",
        "torch.save(model.state_dict(), path_m)"
      ]
    },
    {
      "cell_type": "code",
      "execution_count": 260,
      "metadata": {
        "colab": {
          "base_uri": "https://localhost:8080/"
        },
        "id": "Ubt6EFWwwE8q",
        "outputId": "5ae48f99-cedc-41e4-a380-a452fa2bcad7"
      },
      "outputs": [
        {
          "name": "stderr",
          "output_type": "stream",
          "text": [
            "5000it [00:44, 113.15it/s]\n"
          ]
        }
      ],
      "source": [
        "predicted_labels = make_eval_predictions(model, image_dataset_unlabeled, dataloader_unlabeled)"
      ]
    },
    {
      "cell_type": "code",
      "execution_count": 263,
      "metadata": {
        "id": "KA3wrD_myNpb"
      },
      "outputs": [],
      "source": [
        "to_csv(predicted_labels, \"eval2.csv\")"
      ]
    },
    {
      "cell_type": "markdown",
      "metadata": {
        "id": "Hj5efjupxV74"
      },
      "source": [
        "### Train model directly on all images "
      ]
    },
    {
      "cell_type": "code",
      "execution_count": 162,
      "metadata": {
        "colab": {
          "base_uri": "https://localhost:8080/"
        },
        "id": "-1bMpEmExikL",
        "outputId": "053538a4-7654-445a-a8b4-880b85416ea4"
      },
      "outputs": [
        {
          "name": "stdout",
          "output_type": "stream",
          "text": [
            "data/task2/images_by_class has been deleted\n"
          ]
        }
      ],
      "source": [
        "target_dir = 'data/task2/images_by_class'\n",
        "del_dir_if_exist(target_dir)"
      ]
    },
    {
      "cell_type": "code",
      "execution_count": 163,
      "metadata": {
        "colab": {
          "base_uri": "https://localhost:8080/"
        },
        "id": "bYSCm9_JxikL",
        "outputId": "410eeb9b-e709-4754-a15c-042acf8b1b2f"
      },
      "outputs": [
        {
          "name": "stdout",
          "output_type": "stream",
          "text": [
            "data/task2/training_confident has been deleted\n"
          ]
        }
      ],
      "source": [
        "# Check if the directory exists, to recreate it instead of messing it up\n",
        "target_dir = 'data/task2/training_confident'\n",
        "del_dir_if_exist(target_dir)"
      ]
    },
    {
      "cell_type": "code",
      "execution_count": 164,
      "metadata": {
        "colab": {
          "base_uri": "https://localhost:8080/"
        },
        "id": "2j4k5oqJxikM",
        "outputId": "70970ef9-2ee1-4da6-fb85-1ff52fdc06af"
      },
      "outputs": [
        {
          "name": "stderr",
          "output_type": "stream",
          "text": [
            "100%|██████████| 50000/50000 [00:11<00:00, 4461.58it/s]\n"
          ]
        }
      ],
      "source": [
        "make_dataset_folder()"
      ]
    },
    {
      "cell_type": "code",
      "execution_count": 165,
      "metadata": {
        "colab": {
          "base_uri": "https://localhost:8080/"
        },
        "id": "blbcqNulxZ-Y",
        "outputId": "7637a39d-be98-488e-c1a1-9e673ab066b5"
      },
      "outputs": [
        {
          "name": "stderr",
          "output_type": "stream",
          "text": [
            "/usr/local/lib/python3.8/dist-packages/torch/utils/data/dataloader.py:554: UserWarning: This DataLoader will create 4 worker processes in total. Our suggested max number of worker in current system is 2, which is smaller than what this DataLoader is going to create. Please be aware that excessive worker creation might get DataLoader running slow or even freeze, lower the worker number to avoid potential slowness/freeze if necessary.\n",
            "  warnings.warn(_create_warning_msg(\n"
          ]
        }
      ],
      "source": [
        "# TODO: create the 2 datasets\n",
        "\n",
        "data_dir_train = 'data/task2/images_by_class'\n",
        "image_dataset_train_only = datasets.ImageFolder(data_dir_train, preprocess) \n",
        "dataloader_train_only  = DataLoader(\n",
        "    image_dataset_train_only, \n",
        "    batch_size = experiment_info[\"hyperparameters_data\"][\"batch_size\"],\n",
        "    shuffle = experiment_info[\"hyperparameters_data\"][\"shuffle_dataloader\"], \n",
        "    num_workers = experiment_info[\"hyperparameters_data\"][\"num_workers\"]\n",
        "    )\n",
        "\n",
        "class_names = image_dataset_train_only.classes\n",
        "dataset_size = len(image_dataset_train_only)\n",
        "\n",
        "device = torch.device(\"cuda:0\" if torch.cuda.is_available() else \"cpu\")"
      ]
    },
    {
      "cell_type": "code",
      "execution_count": 166,
      "metadata": {
        "colab": {
          "base_uri": "https://localhost:8080/"
        },
        "id": "V5zGYVgsxt6N",
        "outputId": "eddb38ba-b1d6-4669-ab68-146776eff0fb"
      },
      "outputs": [
        {
          "name": "stdout",
          "output_type": "stream",
          "text": [
            "Sequential(\n",
            "  (0): Dropout(p=0.2, inplace=False)\n",
            "  (1): Linear(in_features=1280, out_features=100, bias=True)\n",
            ")\n"
          ]
        },
        {
          "name": "stderr",
          "output_type": "stream",
          "text": [
            "Using cache found in /root/.cache/torch/hub/pytorch_vision_v0.10.0\n",
            "/usr/local/lib/python3.8/dist-packages/torchvision/models/_utils.py:208: UserWarning: The parameter 'pretrained' is deprecated since 0.13 and may be removed in the future, please use 'weights' instead.\n",
            "  warnings.warn(\n",
            "/usr/local/lib/python3.8/dist-packages/torchvision/models/_utils.py:223: UserWarning: Arguments other than a weight enum or `None` for 'weights' are deprecated since 0.13 and may be removed in the future. The current behavior is equivalent to passing `weights=MobileNet_V2_Weights.IMAGENET1K_V1`. You can also use `weights=MobileNet_V2_Weights.DEFAULT` to get the most up-to-date weights.\n",
            "  warnings.warn(msg)\n"
          ]
        }
      ],
      "source": [
        "# Download a pytorch MobileNet pretrained model\n",
        "model = torch.hub.load('pytorch/vision:v0.10.0', 'mobilenet_v2', pretrained=True)\n",
        "# change the Linear output to fit our dataset ( because model initially has 1000 classes)\n",
        "model.classifier[1] = nn.Linear(1280, 100)\n",
        "# Setting hyperparameters\n",
        "\n",
        "model = model.to(device)\n",
        "print(model.classifier)"
      ]
    },
    {
      "cell_type": "code",
      "execution_count": 167,
      "metadata": {
        "colab": {
          "base_uri": "https://localhost:8080/"
        },
        "id": "vsXVQbxgx2Kh",
        "outputId": "59fe2e18-58cb-45e2-c70c-4556bd0d5560"
      },
      "outputs": [
        {
          "name": "stdout",
          "output_type": "stream",
          "text": [
            "Epoch 0/9\n",
            "----------\n"
          ]
        },
        {
          "name": "stderr",
          "output_type": "stream",
          "text": [
            "100%|██████████| 1563/1563 [03:47<00:00,  6.86it/s]\n"
          ]
        },
        {
          "name": "stdout",
          "output_type": "stream",
          "text": [
            "Loss: 301.8403 Acc: 0.7884\n",
            "\n",
            "Epoch 1/9\n",
            "----------\n"
          ]
        },
        {
          "name": "stderr",
          "output_type": "stream",
          "text": [
            "100%|██████████| 1563/1563 [03:46<00:00,  6.91it/s]\n"
          ]
        },
        {
          "name": "stdout",
          "output_type": "stream",
          "text": [
            "Loss: 301.8761 Acc: 0.7665\n",
            "\n",
            "Epoch 2/9\n",
            "----------\n"
          ]
        },
        {
          "name": "stderr",
          "output_type": "stream",
          "text": [
            "100%|██████████| 1563/1563 [03:36<00:00,  7.22it/s]\n"
          ]
        },
        {
          "name": "stdout",
          "output_type": "stream",
          "text": [
            "Loss: 301.7891 Acc: 0.7600\n",
            "\n",
            "Epoch 3/9\n",
            "----------\n"
          ]
        },
        {
          "name": "stderr",
          "output_type": "stream",
          "text": [
            "100%|██████████| 1563/1563 [03:31<00:00,  7.39it/s]\n"
          ]
        },
        {
          "name": "stdout",
          "output_type": "stream",
          "text": [
            "Loss: 301.8233 Acc: 0.8052\n",
            "\n",
            "Epoch 4/9\n",
            "----------\n"
          ]
        },
        {
          "name": "stderr",
          "output_type": "stream",
          "text": [
            "100%|██████████| 1563/1563 [03:31<00:00,  7.39it/s]\n"
          ]
        },
        {
          "name": "stdout",
          "output_type": "stream",
          "text": [
            "Loss: 301.6771 Acc: 0.7613\n",
            "\n",
            "Epoch 5/9\n",
            "----------\n"
          ]
        },
        {
          "name": "stderr",
          "output_type": "stream",
          "text": [
            "100%|██████████| 1563/1563 [03:31<00:00,  7.37it/s]\n"
          ]
        },
        {
          "name": "stdout",
          "output_type": "stream",
          "text": [
            "Loss: 301.8680 Acc: 0.7316\n",
            "\n",
            "Epoch 6/9\n",
            "----------\n"
          ]
        },
        {
          "name": "stderr",
          "output_type": "stream",
          "text": [
            "100%|██████████| 1563/1563 [03:31<00:00,  7.38it/s]\n"
          ]
        },
        {
          "name": "stdout",
          "output_type": "stream",
          "text": [
            "Loss: 301.7473 Acc: 0.8039\n",
            "\n",
            "Epoch 7/9\n",
            "----------\n"
          ]
        },
        {
          "name": "stderr",
          "output_type": "stream",
          "text": [
            "100%|██████████| 1563/1563 [03:31<00:00,  7.38it/s]\n"
          ]
        },
        {
          "name": "stdout",
          "output_type": "stream",
          "text": [
            "Loss: 301.8817 Acc: 0.7613\n",
            "\n",
            "Epoch 8/9\n",
            "----------\n"
          ]
        },
        {
          "name": "stderr",
          "output_type": "stream",
          "text": [
            "100%|██████████| 1563/1563 [03:32<00:00,  7.36it/s]\n"
          ]
        },
        {
          "name": "stdout",
          "output_type": "stream",
          "text": [
            "Loss: 301.7556 Acc: 0.7290\n",
            "\n",
            "Epoch 9/9\n",
            "----------\n"
          ]
        },
        {
          "name": "stderr",
          "output_type": "stream",
          "text": [
            "100%|██████████| 1563/1563 [03:31<00:00,  7.39it/s]"
          ]
        },
        {
          "name": "stdout",
          "output_type": "stream",
          "text": [
            "Loss: 301.7398 Acc: 0.7561\n",
            "\n",
            "Training complete in 35m 53s\n",
            "Best val Acc: 0.805161\n"
          ]
        },
        {
          "name": "stderr",
          "output_type": "stream",
          "text": [
            "\n"
          ]
        }
      ],
      "source": [
        "model = train_model3(model, \n",
        "                    exp_lr_scheduler, \n",
        "                    optimizer, \n",
        "                    criterion,  \n",
        "                    data_sizes[\"train\"], \n",
        "                    dataloader_train_only,\n",
        "                    num_epochs=experiment_info[\"hyperparameters_training\"][\"num_epochs\"])"
      ]
    },
    {
      "cell_type": "code",
      "execution_count": 168,
      "metadata": {
        "id": "Gd4z81Y6x5YZ"
      },
      "outputs": [],
      "source": [
        "path_m = f'/gdrive/MyDrive/checkpoints/noisy_labels/just_train.pt'\n",
        "torch.save(model.state_dict(), path_m)"
      ]
    },
    {
      "cell_type": "code",
      "execution_count": 174,
      "metadata": {
        "colab": {
          "base_uri": "https://localhost:8080/"
        },
        "id": "I-dKq24XzDI2",
        "outputId": "91b34ffd-27d6-4fa4-8eac-f0b9ebddf673"
      },
      "outputs": [
        {
          "name": "stderr",
          "output_type": "stream",
          "text": [
            "100%|██████████| 5000/5000 [00:42<00:00, 116.77it/s]\n"
          ]
        }
      ],
      "source": [
        "predicted_labels = make_eval_predictions(model, image_dataset_unlabeled, dataloader_unlabeled)"
      ]
    },
    {
      "cell_type": "code",
      "execution_count": 177,
      "metadata": {
        "id": "E8S6x_8pyVTJ"
      },
      "outputs": [],
      "source": [
        "to_csv(predicted_labels, \"just_train.csv\")"
      ]
    }
  ],
  "metadata": {
    "accelerator": "GPU",
    "colab": {
      "include_colab_link": true,
      "provenance": [],
      "toc_visible": true
    },
    "gpuClass": "standard",
    "kernelspec": {
      "display_name": "Python 3",
      "language": "python",
      "name": "python3"
    },
    "language_info": {
      "codemirror_mode": {
        "name": "ipython",
        "version": 3
      },
      "file_extension": ".py",
      "mimetype": "text/x-python",
      "name": "python",
      "nbconvert_exporter": "python",
      "pygments_lexer": "ipython3",
      "version": "3.8.2 (tags/v3.8.2:7b3ab59, Feb 25 2020, 23:03:10) [MSC v.1916 64 bit (AMD64)]"
    },
    "orig_nbformat": 4,
    "vscode": {
      "interpreter": {
        "hash": "9650cb4e16cdd4a8e8e2d128bf38d875813998db22a3c986335f89e0cb4d7bb2"
      }
    },
    "widgets": {
      "application/vnd.jupyter.widget-state+json": {
        "07868acd1960497680b904b81fd0eaf9": {
          "model_module": "@jupyter-widgets/base",
          "model_module_version": "1.2.0",
          "model_name": "LayoutModel",
          "state": {
            "_model_module": "@jupyter-widgets/base",
            "_model_module_version": "1.2.0",
            "_model_name": "LayoutModel",
            "_view_count": null,
            "_view_module": "@jupyter-widgets/base",
            "_view_module_version": "1.2.0",
            "_view_name": "LayoutView",
            "align_content": null,
            "align_items": null,
            "align_self": null,
            "border": null,
            "bottom": null,
            "display": null,
            "flex": null,
            "flex_flow": null,
            "grid_area": null,
            "grid_auto_columns": null,
            "grid_auto_flow": null,
            "grid_auto_rows": null,
            "grid_column": null,
            "grid_gap": null,
            "grid_row": null,
            "grid_template_areas": null,
            "grid_template_columns": null,
            "grid_template_rows": null,
            "height": null,
            "justify_content": null,
            "justify_items": null,
            "left": null,
            "margin": null,
            "max_height": null,
            "max_width": null,
            "min_height": null,
            "min_width": null,
            "object_fit": null,
            "object_position": null,
            "order": null,
            "overflow": null,
            "overflow_x": null,
            "overflow_y": null,
            "padding": null,
            "right": null,
            "top": null,
            "visibility": null,
            "width": null
          }
        },
        "07c37bb6b22b4c8abe8d16b61e28e1db": {
          "model_module": "@jupyter-widgets/controls",
          "model_module_version": "1.5.0",
          "model_name": "FloatProgressModel",
          "state": {
            "_dom_classes": [],
            "_model_module": "@jupyter-widgets/controls",
            "_model_module_version": "1.5.0",
            "_model_name": "FloatProgressModel",
            "_view_count": null,
            "_view_module": "@jupyter-widgets/controls",
            "_view_module_version": "1.5.0",
            "_view_name": "ProgressView",
            "bar_style": "success",
            "description": "",
            "description_tooltip": null,
            "layout": "IPY_MODEL_07868acd1960497680b904b81fd0eaf9",
            "max": 14212972,
            "min": 0,
            "orientation": "horizontal",
            "style": "IPY_MODEL_a56ed7ebe21c4011a23a63cad606d40c",
            "value": 14212972
          }
        },
        "0b6b0668f3764a7296945547803e2688": {
          "model_module": "@jupyter-widgets/controls",
          "model_module_version": "1.5.0",
          "model_name": "HBoxModel",
          "state": {
            "_dom_classes": [],
            "_model_module": "@jupyter-widgets/controls",
            "_model_module_version": "1.5.0",
            "_model_name": "HBoxModel",
            "_view_count": null,
            "_view_module": "@jupyter-widgets/controls",
            "_view_module_version": "1.5.0",
            "_view_name": "HBoxView",
            "box_style": "",
            "children": [
              "IPY_MODEL_c39c58da42ce4c2ca76546673443f0fd",
              "IPY_MODEL_b02ccf11c1714786a67bfca3446e9b9d",
              "IPY_MODEL_284de89238b54efd8d834cfc5cdef224"
            ],
            "layout": "IPY_MODEL_4d1e4cd757a749bda0f6fbcede536076"
          }
        },
        "15a23332521441cab29f7acedc079b16": {
          "model_module": "@jupyter-widgets/controls",
          "model_module_version": "1.5.0",
          "model_name": "HTMLModel",
          "state": {
            "_dom_classes": [],
            "_model_module": "@jupyter-widgets/controls",
            "_model_module_version": "1.5.0",
            "_model_name": "HTMLModel",
            "_view_count": null,
            "_view_module": "@jupyter-widgets/controls",
            "_view_module_version": "1.5.0",
            "_view_name": "HTMLView",
            "description": "",
            "description_tooltip": null,
            "layout": "IPY_MODEL_ba437891973d4629b4881ccb11f044ae",
            "placeholder": "​",
            "style": "IPY_MODEL_a75d7f60d1c24475a1540bc1cfe94f7b",
            "value": " 13.6M/13.6M [00:00&lt;00:00, 62.9MB/s]"
          }
        },
        "284de89238b54efd8d834cfc5cdef224": {
          "model_module": "@jupyter-widgets/controls",
          "model_module_version": "1.5.0",
          "model_name": "HTMLModel",
          "state": {
            "_dom_classes": [],
            "_model_module": "@jupyter-widgets/controls",
            "_model_module_version": "1.5.0",
            "_model_name": "HTMLModel",
            "_view_count": null,
            "_view_module": "@jupyter-widgets/controls",
            "_view_module_version": "1.5.0",
            "_view_name": "HTMLView",
            "description": "",
            "description_tooltip": null,
            "layout": "IPY_MODEL_7adf26ae5d2e430e946d5576135d893a",
            "placeholder": "​",
            "style": "IPY_MODEL_69db9e55793a4d87bd7b0c96efc53170",
            "value": " 13.6M/13.6M [00:00&lt;00:00, 46.0MB/s]"
          }
        },
        "4d1e4cd757a749bda0f6fbcede536076": {
          "model_module": "@jupyter-widgets/base",
          "model_module_version": "1.2.0",
          "model_name": "LayoutModel",
          "state": {
            "_model_module": "@jupyter-widgets/base",
            "_model_module_version": "1.2.0",
            "_model_name": "LayoutModel",
            "_view_count": null,
            "_view_module": "@jupyter-widgets/base",
            "_view_module_version": "1.2.0",
            "_view_name": "LayoutView",
            "align_content": null,
            "align_items": null,
            "align_self": null,
            "border": null,
            "bottom": null,
            "display": null,
            "flex": null,
            "flex_flow": null,
            "grid_area": null,
            "grid_auto_columns": null,
            "grid_auto_flow": null,
            "grid_auto_rows": null,
            "grid_column": null,
            "grid_gap": null,
            "grid_row": null,
            "grid_template_areas": null,
            "grid_template_columns": null,
            "grid_template_rows": null,
            "height": null,
            "justify_content": null,
            "justify_items": null,
            "left": null,
            "margin": null,
            "max_height": null,
            "max_width": null,
            "min_height": null,
            "min_width": null,
            "object_fit": null,
            "object_position": null,
            "order": null,
            "overflow": null,
            "overflow_x": null,
            "overflow_y": null,
            "padding": null,
            "right": null,
            "top": null,
            "visibility": null,
            "width": null
          }
        },
        "4dd784f55bb14f6ba9274ec956ec8061": {
          "model_module": "@jupyter-widgets/controls",
          "model_module_version": "1.5.0",
          "model_name": "ProgressStyleModel",
          "state": {
            "_model_module": "@jupyter-widgets/controls",
            "_model_module_version": "1.5.0",
            "_model_name": "ProgressStyleModel",
            "_view_count": null,
            "_view_module": "@jupyter-widgets/base",
            "_view_module_version": "1.2.0",
            "_view_name": "StyleView",
            "bar_color": null,
            "description_width": ""
          }
        },
        "69db9e55793a4d87bd7b0c96efc53170": {
          "model_module": "@jupyter-widgets/controls",
          "model_module_version": "1.5.0",
          "model_name": "DescriptionStyleModel",
          "state": {
            "_model_module": "@jupyter-widgets/controls",
            "_model_module_version": "1.5.0",
            "_model_name": "DescriptionStyleModel",
            "_view_count": null,
            "_view_module": "@jupyter-widgets/base",
            "_view_module_version": "1.2.0",
            "_view_name": "StyleView",
            "description_width": ""
          }
        },
        "6eed1376f1f24e8abbe2d4ea0ca3fcb1": {
          "model_module": "@jupyter-widgets/controls",
          "model_module_version": "1.5.0",
          "model_name": "HTMLModel",
          "state": {
            "_dom_classes": [],
            "_model_module": "@jupyter-widgets/controls",
            "_model_module_version": "1.5.0",
            "_model_name": "HTMLModel",
            "_view_count": null,
            "_view_module": "@jupyter-widgets/controls",
            "_view_module_version": "1.5.0",
            "_view_name": "HTMLView",
            "description": "",
            "description_tooltip": null,
            "layout": "IPY_MODEL_71a16d1906924e738fc1baa304d94811",
            "placeholder": "​",
            "style": "IPY_MODEL_a74028e913de43d3b1eae97433d91882",
            "value": "100%"
          }
        },
        "71a16d1906924e738fc1baa304d94811": {
          "model_module": "@jupyter-widgets/base",
          "model_module_version": "1.2.0",
          "model_name": "LayoutModel",
          "state": {
            "_model_module": "@jupyter-widgets/base",
            "_model_module_version": "1.2.0",
            "_model_name": "LayoutModel",
            "_view_count": null,
            "_view_module": "@jupyter-widgets/base",
            "_view_module_version": "1.2.0",
            "_view_name": "LayoutView",
            "align_content": null,
            "align_items": null,
            "align_self": null,
            "border": null,
            "bottom": null,
            "display": null,
            "flex": null,
            "flex_flow": null,
            "grid_area": null,
            "grid_auto_columns": null,
            "grid_auto_flow": null,
            "grid_auto_rows": null,
            "grid_column": null,
            "grid_gap": null,
            "grid_row": null,
            "grid_template_areas": null,
            "grid_template_columns": null,
            "grid_template_rows": null,
            "height": null,
            "justify_content": null,
            "justify_items": null,
            "left": null,
            "margin": null,
            "max_height": null,
            "max_width": null,
            "min_height": null,
            "min_width": null,
            "object_fit": null,
            "object_position": null,
            "order": null,
            "overflow": null,
            "overflow_x": null,
            "overflow_y": null,
            "padding": null,
            "right": null,
            "top": null,
            "visibility": null,
            "width": null
          }
        },
        "7adf26ae5d2e430e946d5576135d893a": {
          "model_module": "@jupyter-widgets/base",
          "model_module_version": "1.2.0",
          "model_name": "LayoutModel",
          "state": {
            "_model_module": "@jupyter-widgets/base",
            "_model_module_version": "1.2.0",
            "_model_name": "LayoutModel",
            "_view_count": null,
            "_view_module": "@jupyter-widgets/base",
            "_view_module_version": "1.2.0",
            "_view_name": "LayoutView",
            "align_content": null,
            "align_items": null,
            "align_self": null,
            "border": null,
            "bottom": null,
            "display": null,
            "flex": null,
            "flex_flow": null,
            "grid_area": null,
            "grid_auto_columns": null,
            "grid_auto_flow": null,
            "grid_auto_rows": null,
            "grid_column": null,
            "grid_gap": null,
            "grid_row": null,
            "grid_template_areas": null,
            "grid_template_columns": null,
            "grid_template_rows": null,
            "height": null,
            "justify_content": null,
            "justify_items": null,
            "left": null,
            "margin": null,
            "max_height": null,
            "max_width": null,
            "min_height": null,
            "min_width": null,
            "object_fit": null,
            "object_position": null,
            "order": null,
            "overflow": null,
            "overflow_x": null,
            "overflow_y": null,
            "padding": null,
            "right": null,
            "top": null,
            "visibility": null,
            "width": null
          }
        },
        "816420dd910b475faa99a8e9ef6eebd4": {
          "model_module": "@jupyter-widgets/base",
          "model_module_version": "1.2.0",
          "model_name": "LayoutModel",
          "state": {
            "_model_module": "@jupyter-widgets/base",
            "_model_module_version": "1.2.0",
            "_model_name": "LayoutModel",
            "_view_count": null,
            "_view_module": "@jupyter-widgets/base",
            "_view_module_version": "1.2.0",
            "_view_name": "LayoutView",
            "align_content": null,
            "align_items": null,
            "align_self": null,
            "border": null,
            "bottom": null,
            "display": null,
            "flex": null,
            "flex_flow": null,
            "grid_area": null,
            "grid_auto_columns": null,
            "grid_auto_flow": null,
            "grid_auto_rows": null,
            "grid_column": null,
            "grid_gap": null,
            "grid_row": null,
            "grid_template_areas": null,
            "grid_template_columns": null,
            "grid_template_rows": null,
            "height": null,
            "justify_content": null,
            "justify_items": null,
            "left": null,
            "margin": null,
            "max_height": null,
            "max_width": null,
            "min_height": null,
            "min_width": null,
            "object_fit": null,
            "object_position": null,
            "order": null,
            "overflow": null,
            "overflow_x": null,
            "overflow_y": null,
            "padding": null,
            "right": null,
            "top": null,
            "visibility": null,
            "width": null
          }
        },
        "8e3263acdec647e594b2140e749bd110": {
          "model_module": "@jupyter-widgets/base",
          "model_module_version": "1.2.0",
          "model_name": "LayoutModel",
          "state": {
            "_model_module": "@jupyter-widgets/base",
            "_model_module_version": "1.2.0",
            "_model_name": "LayoutModel",
            "_view_count": null,
            "_view_module": "@jupyter-widgets/base",
            "_view_module_version": "1.2.0",
            "_view_name": "LayoutView",
            "align_content": null,
            "align_items": null,
            "align_self": null,
            "border": null,
            "bottom": null,
            "display": null,
            "flex": null,
            "flex_flow": null,
            "grid_area": null,
            "grid_auto_columns": null,
            "grid_auto_flow": null,
            "grid_auto_rows": null,
            "grid_column": null,
            "grid_gap": null,
            "grid_row": null,
            "grid_template_areas": null,
            "grid_template_columns": null,
            "grid_template_rows": null,
            "height": null,
            "justify_content": null,
            "justify_items": null,
            "left": null,
            "margin": null,
            "max_height": null,
            "max_width": null,
            "min_height": null,
            "min_width": null,
            "object_fit": null,
            "object_position": null,
            "order": null,
            "overflow": null,
            "overflow_x": null,
            "overflow_y": null,
            "padding": null,
            "right": null,
            "top": null,
            "visibility": null,
            "width": null
          }
        },
        "a56ed7ebe21c4011a23a63cad606d40c": {
          "model_module": "@jupyter-widgets/controls",
          "model_module_version": "1.5.0",
          "model_name": "ProgressStyleModel",
          "state": {
            "_model_module": "@jupyter-widgets/controls",
            "_model_module_version": "1.5.0",
            "_model_name": "ProgressStyleModel",
            "_view_count": null,
            "_view_module": "@jupyter-widgets/base",
            "_view_module_version": "1.2.0",
            "_view_name": "StyleView",
            "bar_color": null,
            "description_width": ""
          }
        },
        "a74028e913de43d3b1eae97433d91882": {
          "model_module": "@jupyter-widgets/controls",
          "model_module_version": "1.5.0",
          "model_name": "DescriptionStyleModel",
          "state": {
            "_model_module": "@jupyter-widgets/controls",
            "_model_module_version": "1.5.0",
            "_model_name": "DescriptionStyleModel",
            "_view_count": null,
            "_view_module": "@jupyter-widgets/base",
            "_view_module_version": "1.2.0",
            "_view_name": "StyleView",
            "description_width": ""
          }
        },
        "a75d7f60d1c24475a1540bc1cfe94f7b": {
          "model_module": "@jupyter-widgets/controls",
          "model_module_version": "1.5.0",
          "model_name": "DescriptionStyleModel",
          "state": {
            "_model_module": "@jupyter-widgets/controls",
            "_model_module_version": "1.5.0",
            "_model_name": "DescriptionStyleModel",
            "_view_count": null,
            "_view_module": "@jupyter-widgets/base",
            "_view_module_version": "1.2.0",
            "_view_name": "StyleView",
            "description_width": ""
          }
        },
        "afee6006e2324bac8bbc9c291e638617": {
          "model_module": "@jupyter-widgets/controls",
          "model_module_version": "1.5.0",
          "model_name": "DescriptionStyleModel",
          "state": {
            "_model_module": "@jupyter-widgets/controls",
            "_model_module_version": "1.5.0",
            "_model_name": "DescriptionStyleModel",
            "_view_count": null,
            "_view_module": "@jupyter-widgets/base",
            "_view_module_version": "1.2.0",
            "_view_name": "StyleView",
            "description_width": ""
          }
        },
        "b02ccf11c1714786a67bfca3446e9b9d": {
          "model_module": "@jupyter-widgets/controls",
          "model_module_version": "1.5.0",
          "model_name": "FloatProgressModel",
          "state": {
            "_dom_classes": [],
            "_model_module": "@jupyter-widgets/controls",
            "_model_module_version": "1.5.0",
            "_model_name": "FloatProgressModel",
            "_view_count": null,
            "_view_module": "@jupyter-widgets/controls",
            "_view_module_version": "1.5.0",
            "_view_name": "ProgressView",
            "bar_style": "success",
            "description": "",
            "description_tooltip": null,
            "layout": "IPY_MODEL_8e3263acdec647e594b2140e749bd110",
            "max": 14212972,
            "min": 0,
            "orientation": "horizontal",
            "style": "IPY_MODEL_4dd784f55bb14f6ba9274ec956ec8061",
            "value": 14212972
          }
        },
        "ba437891973d4629b4881ccb11f044ae": {
          "model_module": "@jupyter-widgets/base",
          "model_module_version": "1.2.0",
          "model_name": "LayoutModel",
          "state": {
            "_model_module": "@jupyter-widgets/base",
            "_model_module_version": "1.2.0",
            "_model_name": "LayoutModel",
            "_view_count": null,
            "_view_module": "@jupyter-widgets/base",
            "_view_module_version": "1.2.0",
            "_view_name": "LayoutView",
            "align_content": null,
            "align_items": null,
            "align_self": null,
            "border": null,
            "bottom": null,
            "display": null,
            "flex": null,
            "flex_flow": null,
            "grid_area": null,
            "grid_auto_columns": null,
            "grid_auto_flow": null,
            "grid_auto_rows": null,
            "grid_column": null,
            "grid_gap": null,
            "grid_row": null,
            "grid_template_areas": null,
            "grid_template_columns": null,
            "grid_template_rows": null,
            "height": null,
            "justify_content": null,
            "justify_items": null,
            "left": null,
            "margin": null,
            "max_height": null,
            "max_width": null,
            "min_height": null,
            "min_width": null,
            "object_fit": null,
            "object_position": null,
            "order": null,
            "overflow": null,
            "overflow_x": null,
            "overflow_y": null,
            "padding": null,
            "right": null,
            "top": null,
            "visibility": null,
            "width": null
          }
        },
        "c39c58da42ce4c2ca76546673443f0fd": {
          "model_module": "@jupyter-widgets/controls",
          "model_module_version": "1.5.0",
          "model_name": "HTMLModel",
          "state": {
            "_dom_classes": [],
            "_model_module": "@jupyter-widgets/controls",
            "_model_module_version": "1.5.0",
            "_model_name": "HTMLModel",
            "_view_count": null,
            "_view_module": "@jupyter-widgets/controls",
            "_view_module_version": "1.5.0",
            "_view_name": "HTMLView",
            "description": "",
            "description_tooltip": null,
            "layout": "IPY_MODEL_dd637c7b9a5645dfb198f017092d098a",
            "placeholder": "​",
            "style": "IPY_MODEL_afee6006e2324bac8bbc9c291e638617",
            "value": "100%"
          }
        },
        "dd637c7b9a5645dfb198f017092d098a": {
          "model_module": "@jupyter-widgets/base",
          "model_module_version": "1.2.0",
          "model_name": "LayoutModel",
          "state": {
            "_model_module": "@jupyter-widgets/base",
            "_model_module_version": "1.2.0",
            "_model_name": "LayoutModel",
            "_view_count": null,
            "_view_module": "@jupyter-widgets/base",
            "_view_module_version": "1.2.0",
            "_view_name": "LayoutView",
            "align_content": null,
            "align_items": null,
            "align_self": null,
            "border": null,
            "bottom": null,
            "display": null,
            "flex": null,
            "flex_flow": null,
            "grid_area": null,
            "grid_auto_columns": null,
            "grid_auto_flow": null,
            "grid_auto_rows": null,
            "grid_column": null,
            "grid_gap": null,
            "grid_row": null,
            "grid_template_areas": null,
            "grid_template_columns": null,
            "grid_template_rows": null,
            "height": null,
            "justify_content": null,
            "justify_items": null,
            "left": null,
            "margin": null,
            "max_height": null,
            "max_width": null,
            "min_height": null,
            "min_width": null,
            "object_fit": null,
            "object_position": null,
            "order": null,
            "overflow": null,
            "overflow_x": null,
            "overflow_y": null,
            "padding": null,
            "right": null,
            "top": null,
            "visibility": null,
            "width": null
          }
        },
        "eb68d62d599a462f92aaca0ab0b854e3": {
          "model_module": "@jupyter-widgets/controls",
          "model_module_version": "1.5.0",
          "model_name": "HBoxModel",
          "state": {
            "_dom_classes": [],
            "_model_module": "@jupyter-widgets/controls",
            "_model_module_version": "1.5.0",
            "_model_name": "HBoxModel",
            "_view_count": null,
            "_view_module": "@jupyter-widgets/controls",
            "_view_module_version": "1.5.0",
            "_view_name": "HBoxView",
            "box_style": "",
            "children": [
              "IPY_MODEL_6eed1376f1f24e8abbe2d4ea0ca3fcb1",
              "IPY_MODEL_07c37bb6b22b4c8abe8d16b61e28e1db",
              "IPY_MODEL_15a23332521441cab29f7acedc079b16"
            ],
            "layout": "IPY_MODEL_816420dd910b475faa99a8e9ef6eebd4"
          }
        }
      }
    }
  },
  "nbformat": 4,
  "nbformat_minor": 0
}
