{
  "cells": [
    {
      "cell_type": "markdown",
      "metadata": {
        "id": "view-in-github",
        "colab_type": "text"
      },
      "source": [
        "<a href=\"https://colab.research.google.com/github/TruscaPetre/AAIT-Nosy-Missing-Labels/blob/main/tutorial%20colab%20missing%20labels.ipynb\" target=\"_parent\"><img src=\"https://colab.research.google.com/assets/colab-badge.svg\" alt=\"Open In Colab\"/></a>"
      ]
    },
    {
      "cell_type": "markdown",
      "source": [
        "# Missing Labels task 1"
      ],
      "metadata": {
        "id": "aIMWvJWPgl8P"
      }
    },
    {
      "cell_type": "markdown",
      "source": [
        "## Imports"
      ],
      "metadata": {
        "id": "_lQts5FFgIx0"
      }
    },
    {
      "cell_type": "code",
      "source": [
        "import urllib\n",
        "import shutil\n",
        "import os\n",
        "import time\n",
        "import copy\n",
        "import json\n",
        "\n",
        "import pandas as pd\n",
        "import numpy as np\n",
        "\n",
        "from PIL import Image\n",
        "import matplotlib.pyplot as plt\n",
        "\n",
        "from tqdm import tqdm\n",
        "\n",
        "import torch\n",
        "import torchvision\n",
        "import torch.nn as nn\n",
        "import torch.optim as optim\n",
        "from torch.optim import lr_scheduler\n",
        "from torch.utils.data import SubsetRandomSampler, Dataset\n",
        "from torchvision import transforms, datasets \n",
        "\n",
        "from sklearn.metrics import classification_report\n",
        "\n",
        "import itertools"
      ],
      "metadata": {
        "id": "IhZAai2_gjxi"
      },
      "execution_count": 1,
      "outputs": []
    },
    {
      "cell_type": "code",
      "source": [
        "task1_id = \"1dO1vqCoJm2xwrnr171A6_eW7ikd-alrd\""
      ],
      "metadata": {
        "id": "OjQSLPl1gQJm"
      },
      "execution_count": 2,
      "outputs": []
    },
    {
      "cell_type": "code",
      "source": [
        "# replace here your ide &id=1iNTm3-9GSN2QjjITBi73ta73gDF_oacf\"\n",
        "# replace here your id 'https://docs.google.com/uc?export=download&id=1dO1vqCoJm2xwrnr171A6_eW7ikd-alrd'\n",
        "# replace here your target name -O task1.tar.gz &&\n",
        "!wget --load-cookies /tmp/cookies.txt \"https://docs.google.com/uc?export=download&confirm=$(wget --quiet --save-cookies /tmp/cookies.txt --keep-session-cookies --no-check-certificate 'https://docs.google.com/uc?export=download&id=1dO1vqCoJm2xwrnr171A6_eW7ikd-alrd' -O- | sed -rn 's/.*confirm=([0-9A-Za-z_]+).*/\\1\\n/p')&id=1dO1vqCoJm2xwrnr171A6_eW7ikd-alrd\" -O task1.tar.gz && rm -rf /tmp/cookies.txt\n"
      ],
      "metadata": {
        "colab": {
          "base_uri": "https://localhost:8080/"
        },
        "id": "dcKpxyMqgUPw",
        "outputId": "2eca35a4-d667-49f9-e3b0-6fe1cefed374"
      },
      "execution_count": 3,
      "outputs": [
        {
          "output_type": "stream",
          "name": "stdout",
          "text": [
            "--2022-12-29 10:33:44--  https://docs.google.com/uc?export=download&confirm=t&id=1dO1vqCoJm2xwrnr171A6_eW7ikd-alrd\n",
            "Resolving docs.google.com (docs.google.com)... 172.217.194.138, 172.217.194.100, 172.217.194.102, ...\n",
            "Connecting to docs.google.com (docs.google.com)|172.217.194.138|:443... connected.\n",
            "HTTP request sent, awaiting response... 303 See Other\n",
            "Location: https://doc-0g-8k-docs.googleusercontent.com/docs/securesc/ha0ro937gcuc7l7deffksulhg5h7mbp1/d4p7ncfhbpvid67st0rdrvnabq4h22sq/1672309950000/08997952672865575084/*/1dO1vqCoJm2xwrnr171A6_eW7ikd-alrd?e=download&uuid=4b46f450-ad75-4822-812f-97e083135689 [following]\n",
            "Warning: wildcards not supported in HTTP.\n",
            "--2022-12-29 10:33:45--  https://doc-0g-8k-docs.googleusercontent.com/docs/securesc/ha0ro937gcuc7l7deffksulhg5h7mbp1/d4p7ncfhbpvid67st0rdrvnabq4h22sq/1672309950000/08997952672865575084/*/1dO1vqCoJm2xwrnr171A6_eW7ikd-alrd?e=download&uuid=4b46f450-ad75-4822-812f-97e083135689\n",
            "Resolving doc-0g-8k-docs.googleusercontent.com (doc-0g-8k-docs.googleusercontent.com)... 142.251.10.132, 2404:6800:4003:c0f::84\n",
            "Connecting to doc-0g-8k-docs.googleusercontent.com (doc-0g-8k-docs.googleusercontent.com)|142.251.10.132|:443... connected.\n",
            "HTTP request sent, awaiting response... 200 OK\n",
            "Length: 75378011 (72M) [application/x-gzip]\n",
            "Saving to: ‘task1.tar.gz’\n",
            "\n",
            "task1.tar.gz        100%[===================>]  71.89M  42.4MB/s    in 1.7s    \n",
            "\n",
            "2022-12-29 10:33:47 (42.4 MB/s) - ‘task1.tar.gz’ saved [75378011/75378011]\n",
            "\n"
          ]
        }
      ]
    },
    {
      "cell_type": "code",
      "source": [
        "%%capture\n",
        "!mkdir data\n",
        "!mv task1.tar.gz ./data\n",
        "!tar -xzvf \"/content/data/task1.tar.gz\" -C \"/content/data/\"     #[run this cell to extract tar.gz files]\n",
        "# this may take 12 seconds"
      ],
      "metadata": {
        "id": "zeNl_38DgUKU"
      },
      "execution_count": 167,
      "outputs": []
    },
    {
      "cell_type": "code",
      "source": [
        "# !rm -r /content/data/task1"
      ],
      "metadata": {
        "id": "b1TIiMGvNsCu"
      },
      "execution_count": 166,
      "outputs": []
    },
    {
      "cell_type": "markdown",
      "source": [
        "### Set up logging"
      ],
      "metadata": {
        "id": "pvhmgZwAewOG"
      }
    },
    {
      "cell_type": "markdown",
      "source": [
        "\n",
        "This experiment will take long, because there are many trianig periods involved and many changes going on in the data. There are some things that could be helpful to track along the way. So we set up a logger that will do this.\n",
        "\n",
        "We are going to track: \n",
        "- all the hyperparameters for training.\n",
        "- all the seeds for RNG\n",
        "- the images that have been labeled at each iteration. \n",
        "- performance metrics ( we should see them increase through each iteration )\n",
        "\n",
        "We are going to use a dictionary that will save all the data from each iteration of the experiment. Than save that dictionary into a json file for each iteration. \n",
        "\n",
        "There is a json file in the github repository with all the parameters for the first experiment.\n",
        "\n",
        "Some comments about setting those parameters:\n",
        "- The number of epochs is only 10 because according to the training only on the dataset with labeled data, this is the point where the validation set is reaching a saturation. In order to achieve the results faster from self-training, we should keep this number as small as possible."
      ],
      "metadata": {
        "id": "COa9lK9UMopU"
      }
    },
    {
      "cell_type": "code",
      "source": [
        "experiment_info = {\n",
        "    \"iteration\": 1,\n",
        "    \"image_processing\":{\n",
        "        \"resize\":224,\n",
        "        \"mean\":[0.485, 0.456, 0.406],\n",
        "        \"std\":[0.229, 0.224, 0.225],\n",
        "    },\n",
        "    \"hyperparameters_data\": {\n",
        "        \"batch_size\":32,\n",
        "        \"shuffle_dataloader\":True,\n",
        "        \"num_workers\":4\n",
        "    },\n",
        "    \"random_seeds\":{\n",
        "        \"torch_seed\":42,\n",
        "        \"numpy_seed\":42,\n",
        "        \"cuda_seed\":42,\n",
        "\n",
        "    },\n",
        "    \"hyperparameters_training\":{\n",
        "        \"learning_rate\": 0.0001,\n",
        "        \"scheduler_step_size\":7,\n",
        "        \"scheduler_gamma\":0.1,\n",
        "        \"num_epochs\":10, \n",
        "    },\n",
        "    \"total_unlabeled\":26445,\n",
        "}"
      ],
      "metadata": {
        "id": "9SmFrNSuOwdX"
      },
      "execution_count": 118,
      "outputs": []
    },
    {
      "cell_type": "code",
      "source": [
        "# Save the dictionary to a file\n",
        "with open(\"experiment_info.json\", \"w\") as f:\n",
        "    json.dump(experiment_info, f)"
      ],
      "metadata": {
        "id": "LPHtsWEvO5wS"
      },
      "execution_count": 16,
      "outputs": []
    },
    {
      "cell_type": "code",
      "source": [
        "np.random.seed(experiment_info[\"random_seeds\"][\"numpy_seed\"])\n",
        "torch.manual_seed(experiment_info[\"random_seeds\"][\"torch_seed\"])\n",
        "torch.cuda.manual_seed_all(experiment_info[\"random_seeds\"][\"cuda_seed\"])"
      ],
      "metadata": {
        "id": "rvkgC-zJaTqC"
      },
      "execution_count": 17,
      "outputs": []
    },
    {
      "cell_type": "code",
      "source": [
        "# Load the experiment information from the JSON file\n",
        "with open('experiment_info.json', 'r') as f:\n",
        "    loaded_experiment_info = json.load(f)\n",
        "\n",
        "display(loaded_experiment_info)"
      ],
      "metadata": {
        "id": "jzRL9HznbF9V",
        "outputId": "8ecd61cf-541c-4f1c-e0b5-f50fcbfa5ba9",
        "colab": {
          "base_uri": "https://localhost:8080/",
          "height": 236
        }
      },
      "execution_count": 18,
      "outputs": [
        {
          "output_type": "display_data",
          "data": {
            "text/plain": [
              "{'iteration': 1,\n",
              " 'image_processing': {'resize': 224,\n",
              "  'mean': [0.485, 0.456, 0.406],\n",
              "  'std': [0.229, 0.224, 0.225]},\n",
              " 'hyperparameters_data': {'batch_size': 32,\n",
              "  'shuffle_dataloader': True,\n",
              "  'num_workers': 4},\n",
              " 'random_seeds': {'torch_seed': 42, 'numpy_seed': 42, 'cuda_seed': 42},\n",
              " 'hyperparameters_training': {'learning_rate': 0.0001,\n",
              "  'scheduler_step_size': 7,\n",
              "  'scheduler_gamma': 0.1,\n",
              "  'num_epochs': 10}}"
            ]
          },
          "metadata": {}
        }
      ]
    },
    {
      "cell_type": "markdown",
      "source": [
        "### Mount drive"
      ],
      "metadata": {
        "id": "mMp1fV2xezNc"
      }
    },
    {
      "cell_type": "markdown",
      "source": [
        "Each iteration of self-training takes about 1 hour on a GPU. So you might want to save and restart the training a few times. In order to restart the model where we where left of, we are connecting google drive and saving the model there."
      ],
      "metadata": {
        "id": "neHJVMiEe0hW"
      }
    },
    {
      "cell_type": "code",
      "source": [
        "from google.colab import drive\n",
        "drive.mount('/gdrive')"
      ],
      "metadata": {
        "id": "bNowNASxfOSW",
        "outputId": "eb5ef2f1-2383-405e-9f38-6986d1e3d4f5",
        "colab": {
          "base_uri": "https://localhost:8080/"
        }
      },
      "execution_count": 19,
      "outputs": [
        {
          "output_type": "stream",
          "name": "stdout",
          "text": [
            "Mounted at /gdrive\n"
          ]
        }
      ]
    },
    {
      "cell_type": "code",
      "source": [
        "with open('/gdrive/MyDrive/foo.txt', 'w') as f:\n",
        "  f.write('Hello Google Drive!')\n",
        "!cat '/gdrive/MyDrive/foo.txt'"
      ],
      "metadata": {
        "id": "3vMEAFjFfOSX",
        "outputId": "ac3cd2a6-7238-4461-cadb-3c0ea39466d0",
        "colab": {
          "base_uri": "https://localhost:8080/"
        }
      },
      "execution_count": 20,
      "outputs": [
        {
          "output_type": "stream",
          "name": "stdout",
          "text": [
            "Hello Google Drive!"
          ]
        }
      ]
    },
    {
      "cell_type": "code",
      "source": [
        "!rm '/gdrive/MyDrive/foo.txt'"
      ],
      "metadata": {
        "id": "oApaDsjmhHlz"
      },
      "execution_count": 21,
      "outputs": []
    },
    {
      "cell_type": "markdown",
      "metadata": {
        "id": "_pc4qypVPpcu"
      },
      "source": [
        "## Theory about missing labels"
      ]
    },
    {
      "cell_type": "markdown",
      "metadata": {
        "id": "AZCBR60FPpcu"
      },
      "source": [
        "\n",
        "- The classification problem can be tackled using semi-supervised learning methods. There are 3 propular approaches to address semi-supervised learning problems:\n",
        "  - self training\n",
        "  - co-training\n",
        "  - graph-based models\n",
        "- self training \n",
        "  - What is the process?\n",
        "    - First train on labeled data\n",
        "    - Make predictions on the untrained data\n",
        "    - From those predictions, only extract those with high confidence and move them to the training data\n",
        "    - Repeat the process until convergence or no high-confidence exmples left in the unlabeled set.\n",
        "  - Disadvantage is that you can still generate incorrect predictions and the mistakes can be amplified in the subsequent trainings of the model.\n",
        "- co-training\n",
        "  - requires two feature representations associated with the dataset which serve as two different views of the data\n",
        "  - The representations are dissimilar and conditionally independet, but they can provide complementary information about the data. \n",
        "  - We cannot do this for image classification because we have only visual representations of the data.\n",
        "- graph-based models\n",
        "  - labeled and unlabeled samples are represented as different nodes in a graph\n",
        "  - the edges in this graph denote the similarity between nodes.\n",
        "  - The assumption in this approach is that nodes with strong edges are likely to share the same label.\n",
        "  - The algorithm to compute the labels is:\n",
        "    - The unlabeled nodes can be labeled using random-walk over the graph. Based on the strength of the edges.\n",
        "    - The walk ends when a labeled node is reached \n",
        "    - A probability that the random walker started at a particular unlabeled node given that it ended at a specific labeled node is computed. i.e. 2 poitns are similar if they have indistinguishabel starting points.\n",
        "\n",
        "\n",
        "Reference: \n",
        "- https://www.kdnuggets.com/2019/11/tips-class-imbalance-missing-labels.html"
      ]
    },
    {
      "cell_type": "markdown",
      "source": [
        "## Training on labeled data"
      ],
      "metadata": {
        "id": "FB1MI4vtgX2S"
      }
    },
    {
      "cell_type": "markdown",
      "source": [
        "### Download model"
      ],
      "metadata": {
        "id": "ROA_n_aAiY5A"
      }
    },
    {
      "cell_type": "code",
      "source": [
        "# Download a pytorch MobileNet pretrained model\n",
        "model = torch.hub.load('pytorch/vision:v0.10.0', 'mobilenet_v2', pretrained=True)\n",
        "# change the Linear output to fit our dataset\n",
        "\n",
        "# the model has initially 1000 outputs\n",
        "# print(model.classifier)\n",
        "# > Sequential(\n",
        "#   (0): Dropout(p=0.2)\n",
        "#   (1): Linear(in_features=1280, out_features=1000, bias=True)\n",
        "# )\n",
        "\n",
        "model.classifier[1] = nn.Linear(1280, 100)\n",
        "print(model.classifier)"
      ],
      "metadata": {
        "colab": {
          "base_uri": "https://localhost:8080/"
        },
        "id": "eOfEof_ggfun",
        "outputId": "ac72ea6a-3aab-4228-ba3f-e30d7d05d736"
      },
      "execution_count": 22,
      "outputs": [
        {
          "output_type": "stream",
          "name": "stdout",
          "text": [
            "Sequential(\n",
            "  (0): Dropout(p=0.2, inplace=False)\n",
            "  (1): Linear(in_features=1280, out_features=100, bias=True)\n",
            ")\n"
          ]
        },
        {
          "output_type": "stream",
          "name": "stderr",
          "text": [
            "Using cache found in /root/.cache/torch/hub/pytorch_vision_v0.10.0\n",
            "/usr/local/lib/python3.8/dist-packages/torchvision/models/_utils.py:208: UserWarning: The parameter 'pretrained' is deprecated since 0.13 and may be removed in the future, please use 'weights' instead.\n",
            "  warnings.warn(\n",
            "/usr/local/lib/python3.8/dist-packages/torchvision/models/_utils.py:223: UserWarning: Arguments other than a weight enum or `None` for 'weights' are deprecated since 0.13 and may be removed in the future. The current behavior is equivalent to passing `weights=MobileNet_V2_Weights.IMAGENET1K_V1`. You can also use `weights=MobileNet_V2_Weights.DEFAULT` to get the most up-to-date weights.\n",
            "  warnings.warn(msg)\n"
          ]
        }
      ]
    },
    {
      "cell_type": "markdown",
      "source": [
        "### Prepare datasets"
      ],
      "metadata": {
        "id": "PEYc29buibzc"
      }
    },
    {
      "cell_type": "code",
      "source": [
        "dir_data = 'data/task1/train_data/'\n",
        "# Read the annotations file into a DataFrame\n",
        "df = pd.read_csv(f'{dir_data}annotations.csv')"
      ],
      "metadata": {
        "id": "0EBMTlxkK9vZ"
      },
      "execution_count": 155,
      "outputs": []
    },
    {
      "cell_type": "code",
      "source": [
        "# Organize data for pytorch training ( only once )\n",
        "# Define the base directory\n",
        "base_dir = 'data/task1/labeled'\n",
        "\n",
        "# Iterate over the rows in the DataFrame\n",
        "for _, row in tqdm(df.iterrows(), total=df.shape[0]):\n",
        "    # Extract the path and class from the row\n",
        "    path = row['sample']\n",
        "    label = row['label']\n",
        "    \n",
        "    # Create the directory for the class\n",
        "    class_dir = f'{base_dir}/{label}'\n",
        "    os.makedirs(class_dir, exist_ok=True)\n",
        "    \n",
        "    # Copy the file to the class directory\n",
        "    shutil.copy(f\"data/{path}\", class_dir) \n",
        "\n",
        "#TODO: here I don't want to split the datasets into training and testing\n",
        "# because I want to use all the training and to create a new dataset\n",
        "# which will create labels for the untrained samples\n"
      ],
      "metadata": {
        "colab": {
          "base_uri": "https://localhost:8080/"
        },
        "id": "bnhwuNg6hnZA",
        "outputId": "28691990-21e0-4541-cb44-154d57f72477"
      },
      "execution_count": 168,
      "outputs": [
        {
          "output_type": "stream",
          "name": "stderr",
          "text": [
            "100%|██████████| 23555/23555 [00:05<00:00, 4625.56it/s]\n"
          ]
        }
      ]
    },
    {
      "cell_type": "code",
      "source": [
        "preprocess = transforms.Compose([\n",
        "    transforms.Resize(experiment_info[\"image_processing\"][\"resize\"]),\n",
        "    transforms.ToTensor(),\n",
        "    transforms.Normalize(mean=experiment_info[\"image_processing\"][\"mean\"],\n",
        "                         std=experiment_info[\"image_processing\"][\"std\"]),\n",
        "    ])\n",
        "\n",
        "data_dir = 'data/task1/labeled'\n",
        "image_dataset = datasets.ImageFolder(data_dir, preprocess) \n",
        "dataloader  = torch.utils.data.DataLoader(\n",
        "    image_dataset, \n",
        "    batch_size = experiment_info[\"hyperparameters_data\"][\"batch_size\"],\n",
        "    shuffle = experiment_info[\"hyperparameters_data\"][\"shuffle_dataloader\"], \n",
        "    num_workers = experiment_info[\"hyperparameters_data\"][\"num_workers\"]\n",
        "    )\n",
        "\n",
        "class_names = image_dataset.classes\n",
        "dataset_size = len(image_dataset)\n",
        "\n",
        "device = torch.device(\"cuda:0\" if torch.cuda.is_available() else \"cpu\")"
      ],
      "metadata": {
        "colab": {
          "base_uri": "https://localhost:8080/"
        },
        "id": "sGgy_3qljJsb",
        "outputId": "743c9e5e-30ee-40f0-a339-b5b40760eb43"
      },
      "execution_count": 23,
      "outputs": [
        {
          "output_type": "stream",
          "name": "stderr",
          "text": [
            "/usr/local/lib/python3.8/dist-packages/torch/utils/data/dataloader.py:554: UserWarning: This DataLoader will create 4 worker processes in total. Our suggested max number of worker in current system is 2, which is smaller than what this DataLoader is going to create. Please be aware that excessive worker creation might get DataLoader running slow or even freeze, lower the worker number to avoid potential slowness/freeze if necessary.\n",
            "  warnings.warn(_create_warning_msg(\n"
          ]
        }
      ]
    },
    {
      "cell_type": "markdown",
      "source": [
        "### Start training"
      ],
      "metadata": {
        "id": "Hq_hNMyajIJw"
      }
    },
    {
      "cell_type": "code",
      "source": [
        "def train_loop(model, scheduler, optimizer, criterion, dataset_size, dataloader):\n",
        "                     \n",
        "    running_loss = 0.0\n",
        "    running_corrects = 0\n",
        "\n",
        "    # Iterate over data.\n",
        "    for inputs, labels in tqdm(dataloader):\n",
        "        inputs = inputs.to(device)\n",
        "        labels = labels.to(device)\n",
        "\n",
        "        # zero the parameter gradients\n",
        "        optimizer.zero_grad()\n",
        "\n",
        "        # forward\n",
        "        # track history if only in train\n",
        "        with torch.set_grad_enabled(True):\n",
        "            outputs = model(inputs)\n",
        "            _, preds = torch.max(outputs, 1)\n",
        "            loss = criterion(outputs, labels)\n",
        "\n",
        "            # backward + optimize only if in training phase\n",
        "    \n",
        "            loss.backward()\n",
        "            optimizer.step()\n",
        "\n",
        "        # statistics\n",
        "        running_loss += loss.item() * inputs.size(0)\n",
        "        running_corrects += torch.sum(preds == labels.data)\n",
        "    \n",
        "    scheduler.step()\n",
        "\n",
        "    epoch_loss = running_loss / dataset_size\n",
        "    epoch_acc = running_corrects.double() / dataset_size\n",
        "    return model, epoch_loss, epoch_acc\n",
        "\n",
        "def train_model(model, *args, num_epochs=25):\n",
        "    since = time.time()\n",
        "\n",
        "    best_model_wts = copy.deepcopy(model.state_dict())\n",
        "    best_acc = 0.0\n",
        "\n",
        "    for epoch in range(num_epochs):\n",
        "        print(f'Epoch {epoch}/{num_epochs - 1}')\n",
        "        print('-' * 10)\n",
        "\n",
        "        model.train()  # Set model to training mode\n",
        "        model, epoch_loss, epoch_acc = train_loop(model, *args)\n",
        "        print(f'Loss: {epoch_loss:.4f} Acc: {epoch_acc:.4f}')\n",
        "\n",
        "        # deep copy the model\n",
        "        if epoch_acc > best_acc:\n",
        "            best_acc = epoch_acc\n",
        "            best_model_wts = copy.deepcopy(model.state_dict())\n",
        "        \n",
        "        print()\n",
        "\n",
        "    time_elapsed = time.time() - since\n",
        "    print(f'Training complete in {time_elapsed // 60:.0f}m {time_elapsed % 60:.0f}s')\n",
        "    print(f'Best val Acc: {best_acc:4f}')\n",
        "\n",
        "    # load best model weights\n",
        "    model.load_state_dict(best_model_wts)\n",
        "    return model"
      ],
      "metadata": {
        "id": "D2UyibBtifi1"
      },
      "execution_count": 24,
      "outputs": []
    },
    {
      "cell_type": "code",
      "source": [
        "# Setting hyperparameters\n",
        "\n",
        "model = model.to(device)\n",
        "\n",
        "criterion = nn.CrossEntropyLoss()\n",
        "\n",
        "# Observe that all parameters are being optimized\n",
        "# optimizer = optim.SGD(model.parameters(), lr=0.001, momentum=0.9)\n",
        "optimizer = optim.Adam(\n",
        "    model.parameters(),\n",
        "    lr=experiment_info[\"hyperparameters_training\"][\"learning_rate\"],\n",
        "    )\n",
        "\n",
        "# Decay LR by a factor of 0.1 every 7 epochs\n",
        "exp_lr_scheduler = lr_scheduler.StepLR(\n",
        "    optimizer, \n",
        "    step_size=experiment_info[\"hyperparameters_training\"][\"scheduler_step_size\"], \n",
        "    gamma=experiment_info[\"hyperparameters_training\"][\"scheduler_gamma\"],\n",
        "    )"
      ],
      "metadata": {
        "id": "Sr6RKnpHig2Z"
      },
      "execution_count": 25,
      "outputs": []
    },
    {
      "cell_type": "code",
      "source": [
        "model = train_model(model, \n",
        "                    exp_lr_scheduler, \n",
        "                    optimizer, \n",
        "                    criterion,  \n",
        "                    dataset_size, \n",
        "                    dataloader, \n",
        "                    num_epochs=experiment_info[\"hyperparameters_training\"][\"num_epochs\"])"
      ],
      "metadata": {
        "colab": {
          "base_uri": "https://localhost:8080/"
        },
        "id": "ySuW76bXioXR",
        "outputId": "ecb3d13b-a376-4c96-d047-ca56a96dfa91"
      },
      "execution_count": 26,
      "outputs": [
        {
          "output_type": "stream",
          "name": "stdout",
          "text": [
            "Epoch 0/9\n",
            "----------\n"
          ]
        },
        {
          "output_type": "stream",
          "name": "stderr",
          "text": [
            "100%|██████████| 737/737 [01:37<00:00,  7.57it/s]\n"
          ]
        },
        {
          "output_type": "stream",
          "name": "stdout",
          "text": [
            "Loss: 2.4110 Acc: 0.4470\n",
            "\n",
            "Epoch 1/9\n",
            "----------\n"
          ]
        },
        {
          "output_type": "stream",
          "name": "stderr",
          "text": [
            "100%|██████████| 737/737 [01:37<00:00,  7.57it/s]\n"
          ]
        },
        {
          "output_type": "stream",
          "name": "stdout",
          "text": [
            "Loss: 1.1668 Acc: 0.7053\n",
            "\n",
            "Epoch 2/9\n",
            "----------\n"
          ]
        },
        {
          "output_type": "stream",
          "name": "stderr",
          "text": [
            "100%|██████████| 737/737 [01:38<00:00,  7.45it/s]\n"
          ]
        },
        {
          "output_type": "stream",
          "name": "stdout",
          "text": [
            "Loss: 0.7535 Acc: 0.8063\n",
            "\n",
            "Epoch 3/9\n",
            "----------\n"
          ]
        },
        {
          "output_type": "stream",
          "name": "stderr",
          "text": [
            "100%|██████████| 737/737 [01:37<00:00,  7.58it/s]\n"
          ]
        },
        {
          "output_type": "stream",
          "name": "stdout",
          "text": [
            "Loss: 0.5016 Acc: 0.8720\n",
            "\n",
            "Epoch 4/9\n",
            "----------\n"
          ]
        },
        {
          "output_type": "stream",
          "name": "stderr",
          "text": [
            "100%|██████████| 737/737 [01:39<00:00,  7.44it/s]\n"
          ]
        },
        {
          "output_type": "stream",
          "name": "stdout",
          "text": [
            "Loss: 0.3168 Acc: 0.9249\n",
            "\n",
            "Epoch 5/9\n",
            "----------\n"
          ]
        },
        {
          "output_type": "stream",
          "name": "stderr",
          "text": [
            "100%|██████████| 737/737 [01:37<00:00,  7.57it/s]\n"
          ]
        },
        {
          "output_type": "stream",
          "name": "stdout",
          "text": [
            "Loss: 0.2043 Acc: 0.9547\n",
            "\n",
            "Epoch 6/9\n",
            "----------\n"
          ]
        },
        {
          "output_type": "stream",
          "name": "stderr",
          "text": [
            "100%|██████████| 737/737 [01:37<00:00,  7.58it/s]\n"
          ]
        },
        {
          "output_type": "stream",
          "name": "stdout",
          "text": [
            "Loss: 0.1287 Acc: 0.9745\n",
            "\n",
            "Epoch 7/9\n",
            "----------\n"
          ]
        },
        {
          "output_type": "stream",
          "name": "stderr",
          "text": [
            "100%|██████████| 737/737 [01:39<00:00,  7.44it/s]\n"
          ]
        },
        {
          "output_type": "stream",
          "name": "stdout",
          "text": [
            "Loss: 0.0617 Acc: 0.9919\n",
            "\n",
            "Epoch 8/9\n",
            "----------\n"
          ]
        },
        {
          "output_type": "stream",
          "name": "stderr",
          "text": [
            "100%|██████████| 737/737 [01:37<00:00,  7.58it/s]\n"
          ]
        },
        {
          "output_type": "stream",
          "name": "stdout",
          "text": [
            "Loss: 0.0408 Acc: 0.9974\n",
            "\n",
            "Epoch 9/9\n",
            "----------\n"
          ]
        },
        {
          "output_type": "stream",
          "name": "stderr",
          "text": [
            "100%|██████████| 737/737 [01:37<00:00,  7.59it/s]"
          ]
        },
        {
          "output_type": "stream",
          "name": "stdout",
          "text": [
            "Loss: 0.0331 Acc: 0.9987\n",
            "\n",
            "Training complete in 16m 18s\n",
            "Best val Acc: 0.998684\n"
          ]
        },
        {
          "output_type": "stream",
          "name": "stderr",
          "text": [
            "\n"
          ]
        }
      ]
    },
    {
      "cell_type": "code",
      "source": [
        "import torch\n",
        "\n",
        "# Save the model\n",
        "torch.save(model.state_dict(), '/gdrive/MyDrive/checkpoints/missing_labels/model_it_1.pt')"
      ],
      "metadata": {
        "id": "gOwyuRb5dgoX"
      },
      "execution_count": 27,
      "outputs": []
    },
    {
      "cell_type": "markdown",
      "source": [
        "## Predict new set of labels"
      ],
      "metadata": {
        "id": "7LBF-Ncmfwbm"
      }
    },
    {
      "cell_type": "code",
      "source": [
        "# Set the source and destination directories\n",
        "source_dir = 'data/task1/train_data/images/unlabeled'\n",
        "destination_dir = 'data/task1/train_data/images/unlabeled/0'\n",
        "os.makedirs(destination_dir, exist_ok=True)"
      ],
      "metadata": {
        "id": "VGAMOM3cqaA4"
      },
      "execution_count": 169,
      "outputs": []
    },
    {
      "cell_type": "code",
      "source": [
        "# Iterate over all the files in the source directory\n",
        "for file in tqdm(os.listdir(source_dir)):\n",
        "    if file.endswith(\".jpg\") or file.endswith(\".jpeg\") or file.endswith(\".png\"):\n",
        "        # Construct the source and destination paths\n",
        "        src_path = os.path.join(source_dir, file)\n",
        "        dst_path = os.path.join(destination_dir, file)\n",
        "        # Move the file\n",
        "        shutil.move(src_path, dst_path) "
      ],
      "metadata": {
        "id": "mW1t-HsprUFY",
        "outputId": "f58170bb-82d5-4d72-80ff-c5e53bef26a6",
        "colab": {
          "base_uri": "https://localhost:8080/"
        }
      },
      "execution_count": 170,
      "outputs": [
        {
          "output_type": "stream",
          "name": "stderr",
          "text": [
            "100%|██████████| 26446/26446 [00:00<00:00, 30271.43it/s]\n"
          ]
        }
      ]
    },
    {
      "cell_type": "code",
      "source": [
        "# sanity check to see that all images have been moved to unlabeled/0 dir\n",
        "len(os.listdir(destination_dir)) # 26445"
      ],
      "metadata": {
        "id": "L6lI3CK_spou",
        "outputId": "5fbbb9e3-5fc4-42a3-f360-0312f6c571f4",
        "colab": {
          "base_uri": "https://localhost:8080/"
        }
      },
      "execution_count": 171,
      "outputs": [
        {
          "output_type": "execute_result",
          "data": {
            "text/plain": [
              "26445"
            ]
          },
          "metadata": {},
          "execution_count": 171
        }
      ]
    },
    {
      "cell_type": "code",
      "source": [
        "# Create a new dataloader with unlabeled data.\n",
        "# Dataset folder is a subclass of ImageFolder \n",
        "# Which will allow us to return also the path of the image\n",
        "# because we need it to know which images should be moved \n",
        "\n",
        "from torchvision.datasets import DatasetFolder\n",
        "\n",
        "data_dir = 'data/task1/train_data/images/unlabeled'\n",
        "image_dataset_unlabeled = datasets.ImageFolder(root=data_dir, transform=preprocess)\n",
        "\n",
        "dataloader_unlabeled  = torch.utils.data.DataLoader(\n",
        "    image_dataset_unlabeled, \n",
        "    batch_size = 1, \n",
        "    )\n",
        "\n",
        "dataset_size = len(image_dataset_unlabeled)\n",
        "\n",
        "device = torch.device(\"cuda:0\" if torch.cuda.is_available() else \"cpu\")"
      ],
      "metadata": {
        "id": "fKVLIQKgnHNU"
      },
      "execution_count": 66,
      "outputs": []
    },
    {
      "cell_type": "code",
      "source": [
        "predicted_labels = {\n",
        "    \"path\":[],\n",
        "    \"confidence\":[],\n",
        "    \"label\":[]\n",
        "}\n",
        "\n",
        "# Each epoch has a training and validation phase \n",
        "model.eval()   # Set model to evaluate mode \n",
        "\n",
        "# Iterate over data.\n",
        "img_path_generator = ((image, path) for (path,_) , (image, _) in zip(image_dataset_unlabeled.samples, dataloader_unlabeled))\n",
        "\n",
        "for inputs, path in tqdm(img_path_generator, total=dataset_size):\n",
        "    inputs = inputs.to(device)\n",
        "\n",
        "    # forward\n",
        "    with torch.set_grad_enabled(False): # we don't want to train\n",
        "        outputs = model(inputs)\n",
        "        confidence, preds = torch.max(outputs, 1) \n",
        "    predicted_labels[\"path\"].append(path) \n",
        "    predicted_labels[\"confidence\"].append(confidence.item())\n",
        "    predicted_labels[\"label\"].append(preds.item())\n",
        "\n",
        "\n",
        "    "
      ],
      "metadata": {
        "id": "Qrr3m5F-m6yT",
        "outputId": "16434383-919f-4556-ee26-f7986c7568b6",
        "colab": {
          "base_uri": "https://localhost:8080/"
        }
      },
      "execution_count": 92,
      "outputs": [
        {
          "output_type": "stream",
          "name": "stderr",
          "text": [
            "100%|██████████| 26445/26445 [03:43<00:00, 118.07it/s]\n"
          ]
        }
      ]
    },
    {
      "cell_type": "markdown",
      "source": [
        "### Visualize the predictions"
      ],
      "metadata": {
        "id": "S2EtsR38FTOB"
      }
    },
    {
      "cell_type": "code",
      "source": [
        "# Plot a distribution of the convidence scores. To find a threshold\n",
        "counts, bins, patches = plt.hist(predicted_labels[\"confidence\"], bins = 20)\n",
        "\n",
        "# Set x-axis label\n",
        "plt.xlabel('Confidence Score')\n",
        "plt.xticks(bins, bins.astype(int))\n",
        "# Set y-axis label\n",
        "plt.ylabel('Number of Observations')\n",
        "\n",
        "# Set plot title\n",
        "plt.title('Distribution of Confidence Scores')"
      ],
      "metadata": {
        "id": "X-BACmxY85fu",
        "outputId": "1926ebb2-2461-4945-b958-a2653482e299",
        "colab": {
          "base_uri": "https://localhost:8080/",
          "height": 313
        }
      },
      "execution_count": 172,
      "outputs": [
        {
          "output_type": "execute_result",
          "data": {
            "text/plain": [
              "Text(0.5, 1.0, 'Distribution of Confidence Scores')"
            ]
          },
          "metadata": {},
          "execution_count": 172
        },
        {
          "output_type": "display_data",
          "data": {
            "text/plain": [
              "<Figure size 432x288 with 1 Axes>"
            ],
            "image/png": "[encoded data removed]"
          },
          "metadata": {
            "needs_background": "light"
          }
        }
      ]
    },
    {
      "cell_type": "code",
      "source": [
        "print(bins)"
      ],
      "metadata": {
        "id": "_MSSEdHR_Mar",
        "outputId": "bda6ecf8-e6ba-4cf0-a3e6-03ab6f90459b",
        "colab": {
          "base_uri": "https://localhost:8080/"
        }
      },
      "execution_count": 173,
      "outputs": [
        {
          "output_type": "stream",
          "name": "stdout",
          "text": [
            "[-2.2711072  -0.63155334  1.00800052  2.64755437  4.28710823  5.92666209\n",
            "  7.56621594  9.2057698  10.84532366 12.48487751 14.12443137 15.76398523\n",
            " 17.40353909 19.04309294 20.6826468  22.32220066 23.96175451 25.60130837\n",
            " 27.24086223 28.88041608 30.51996994]\n"
          ]
        }
      ]
    },
    {
      "cell_type": "code",
      "source": [
        "# Select the top X bins but not more than 10% of the unlabeled dataset\n",
        "# to move into the labeled dataset\n",
        "top10 = experiment_info[\"total_unlabeled\"]*0.1\n",
        "if sum(counts)>top10:\n",
        "    for x in range(20):\n",
        "        top10-=counts[-x-1]\n",
        "        if top10 < 0:\n",
        "            break\n",
        "    n_keep = int(sum(counts[-x:]))\n",
        "else:\n",
        "    n_keep = int(sum(counts))\n",
        "print(n_keep)"
      ],
      "metadata": {
        "id": "osEAvXC9FiNb",
        "outputId": "96825cf6-4517-463e-807a-0c1ebc16f06e",
        "colab": {
          "base_uri": "https://localhost:8080/"
        }
      },
      "execution_count": 174,
      "outputs": [
        {
          "output_type": "stream",
          "name": "stdout",
          "text": [
            "1962\n"
          ]
        }
      ]
    },
    {
      "cell_type": "code",
      "source": [
        "# Sort the confidence scores in descending order\n",
        "sorted_confidences = np.sort(predicted_labels[\"confidence\"])[::-1]\n",
        "\n",
        "# Keep the first n_keep scores\n",
        "top_confidences = sorted_confidences[:n_keep]\n",
        "\n",
        "# Find the indices of the top confidences in the original list of confidences\n",
        "top_confidence_indices = [i for i, c in enumerate(predicted_labels[\"confidence\"]) if c in top_confidences]\n",
        "\n",
        "# Use the indices to select the corresponding paths and labels\n",
        "top_confidences = [predicted_labels[\"confidence\"][i] for i in top_confidence_indices]\n",
        "top_paths = [predicted_labels[\"path\"][i] for i in top_confidence_indices]\n",
        "top_labels = [predicted_labels[\"label\"][i] for i in top_confidence_indices]"
      ],
      "metadata": {
        "id": "oNkR_xrpHbCd"
      },
      "execution_count": 134,
      "outputs": []
    },
    {
      "cell_type": "code",
      "source": [
        "iteration_predictions = {\n",
        "    \"path\":top_paths,\n",
        "    \"confidence\":top_confidences,\n",
        "    \"label\":top_labels\n",
        "}"
      ],
      "metadata": {
        "id": "X3u7tKzgIHaK"
      },
      "execution_count": 135,
      "outputs": []
    },
    {
      "cell_type": "code",
      "source": [
        "# Load the experiment information from the JSON file\n",
        "num_iteration = 0\n",
        "# Save the experiment information to a JSON file\n",
        "with open(f'iteration_{num_iteration}_images.json', 'w') as f:\n",
        "    json.dump(iteration_predictions, f)"
      ],
      "metadata": {
        "id": "CUV2nr83I8cu"
      },
      "execution_count": 175,
      "outputs": []
    },
    {
      "cell_type": "code",
      "source": [
        "# Load the experiment information from the JSON file\n",
        "with open(f'iteration_{num_iteration}_images.json', 'r') as f:\n",
        "    iteration_predictions = json.load(f)\n",
        "\n",
        "df_labeled = pd.DataFrame(iteration_predictions)\n"
      ],
      "metadata": {
        "id": "0XWDIovwJPVF"
      },
      "execution_count": 176,
      "outputs": []
    },
    {
      "cell_type": "code",
      "source": [
        "# Move the images above the trashold in the dataset\n",
        "# Iterate through the selected rows and move the images\n",
        "for index, row in tqdm(df_labeled.iterrows(),total=n_keep):\n",
        "    parts = row['path'].split(\".\")\n",
        "    parts[0]+=f\"_it_{num_iteration}\"\n",
        "    new_name = \".\".join(parts).split('/')[-1]\n",
        "    shutil.copy(row['path'], f\"data/task1/labeled/{row['label']}/{new_name}\")"
      ],
      "metadata": {
        "id": "rZC0SypYKjiO",
        "outputId": "b08ef067-a97b-4f0b-950c-9af84d6de8f4",
        "colab": {
          "base_uri": "https://localhost:8080/"
        }
      },
      "execution_count": 177,
      "outputs": [
        {
          "output_type": "stream",
          "name": "stderr",
          "text": [
            "100%|██████████| 1962/1962 [00:00<00:00, 5296.94it/s]\n"
          ]
        }
      ]
    },
    {
      "cell_type": "markdown",
      "source": [
        "# Repeat the following iterations of self-training"
      ],
      "metadata": {
        "id": "iPJNQ8vCJbya"
      }
    },
    {
      "cell_type": "code",
      "source": [
        "def create_dataset():\n",
        "    data_dir = 'data/task1/labeled'\n",
        "    preprocess = transforms.Compose([\n",
        "    transforms.Resize(experiment_info[\"image_processing\"][\"resize\"]),\n",
        "    transforms.ToTensor(),\n",
        "    transforms.Normalize(mean=experiment_info[\"image_processing\"][\"mean\"],\n",
        "                         std=experiment_info[\"image_processing\"][\"std\"]),\n",
        "    ])\n",
        "\n",
        "    image_dataset = datasets.ImageFolder(data_dir, preprocess) \n",
        "    dataloader  = torch.utils.data.DataLoader(\n",
        "        image_dataset, \n",
        "        batch_size = experiment_info[\"hyperparameters_data\"][\"batch_size\"],\n",
        "        shuffle = experiment_info[\"hyperparameters_data\"][\"shuffle_dataloader\"], \n",
        "        num_workers = experiment_info[\"hyperparameters_data\"][\"num_workers\"]\n",
        "        )\n",
        "\n",
        "    class_names = image_dataset.classes\n",
        "    dataset_size = len(image_dataset)\n",
        "    return class_names, dataset_size, dataloader, image_dataset\n",
        "\n",
        "for num_iteration in range(1,10):\n",
        "    class_names, dataset_size, dataloader, image_dataset = create_dataset()\n",
        " \n",
        "    print(num_iteration)"
      ],
      "metadata": {
        "id": "LJ2-pwXZPaXq",
        "outputId": "89e92a0c-224e-42e6-8cc7-376a74851b46",
        "colab": {
          "base_uri": "https://localhost:8080/"
        }
      },
      "execution_count": 178,
      "outputs": [
        {
          "output_type": "stream",
          "name": "stdout",
          "text": [
            "1\n",
            "2\n",
            "3\n",
            "4\n",
            "5\n",
            "6\n",
            "7\n",
            "8\n",
            "9\n"
          ]
        }
      ]
    },
    {
      "cell_type": "code",
      "source": [
        "# TODO: restart the training on the new dataset\n",
        "# TODO: put all the previous 3 steps in a loop "
      ],
      "metadata": {
        "id": "8Rf6JGxZgOeU"
      },
      "execution_count": null,
      "outputs": []
    },
    {
      "cell_type": "code",
      "execution_count": null,
      "metadata": {
        "id": "uW1vKBQjPpcw"
      },
      "outputs": [],
      "source": [
        "# k-fold cross-validation, \n",
        "# ensemble methods, \n",
        "# or importance sampling"
      ]
    },
    {
      "cell_type": "markdown",
      "metadata": {
        "id": "XT0e5c1wPpcw"
      },
      "source": [
        "## Test the model on the new dataset "
      ]
    },
    {
      "cell_type": "code",
      "execution_count": null,
      "metadata": {
        "id": "oo7mrv5XgHa6"
      },
      "outputs": [],
      "source": [
        "\n",
        "# This will shuffle the images in the dataset \n",
        "# before they are returned to the data loader,\n",
        "# which should help ensure that the validation and training sets\n",
        "# are more balanced.\n",
        "class ShuffledImageFolder(Dataset):\n",
        "    def __init__(self, dataset):\n",
        "        self.dataset = dataset\n",
        "        self.indices = torch.randperm(len(dataset))\n",
        "\n",
        "    def __getitem__(self, index):\n",
        "        return self.dataset[self.indices[index]]\n",
        "\n",
        "    def __len__(self):\n",
        "        return len(self.dataset)\n",
        "\n",
        "data_dir = 'data/task1/labeled'\n",
        "image_dataset_unshuffled = datasets.ImageFolder(data_dir, preprocess)\n",
        "image_dataset = ShuffledImageFolder(image_dataset_unshuffled)\n",
        "\n",
        "# print(image_datasets)\n",
        "# We don't want to create a single dataset because we want to have a dataset for evaluation also\n",
        "# dataloader  = torch.utils.data.DataLoader(image_dataset, batch_size = 4, shuffle = True, num_workers = 4)\n",
        "\n",
        "# split data into train and val\n",
        "\n",
        "dataset_size = len(image_dataset)\n",
        "print(dataset_size)\n",
        "split = int(dataset_size*0.8)\n",
        "train_size = split\n",
        "print(train_size)\n",
        "val_size = dataset_size - split\n",
        "print(val_size)\n",
        "assert val_size+train_size == dataset_size\n",
        "class_names = image_dataset.dataset.classes\n",
        "\n",
        "# Create a sampler for the training set\n",
        "train_sampler = SubsetRandomSampler(range(split))\n",
        "\n",
        "# Create a sampler for the valuation set\n",
        "val_sampler = SubsetRandomSampler(range(split, dataset_size))\n",
        "\n",
        "# Create DataLoaders for the training and valuation sets\n",
        "train_dataloader = torch.utils.data.DataLoader(image_dataset, batch_size=32, sampler=train_sampler)\n",
        "val_dataloader = torch.utils.data.DataLoader(image_dataset, batch_size=32, sampler=val_sampler, shuffle=False)\n",
        "dataloaders = {\n",
        "    \"train\":train_dataloader,\n",
        "    \"val\":val_dataloader,\n",
        "}\n",
        "dataset_sizes = {\n",
        "    \"train\":train_size,\n",
        "    \"val\":val_size,\n",
        "}\n",
        "device = torch.device(\"cuda:0\" if torch.cuda.is_available() else \"cpu\")"
      ]
    },
    {
      "cell_type": "code",
      "source": [
        "def train_model(model, criterion, optimizer, scheduler, num_epochs=25):\n",
        "    since = time.time()\n",
        "\n",
        "    best_model_wts = copy.deepcopy(model.state_dict())\n",
        "    best_acc = 0.0\n",
        "\n",
        "    for epoch in range(num_epochs):\n",
        "        print(f'Epoch {epoch}/{num_epochs - 1}')\n",
        "        print('-' * 10)\n",
        "\n",
        "        # Each epoch has a training and validation phase\n",
        "        for phase in ['train', 'val']:\n",
        "            if phase == 'train':\n",
        "                model.train()  # Set model to training mode\n",
        "            else:\n",
        "                model.eval()   # Set model to evaluate mode\n",
        "\n",
        "            running_loss = 0.0\n",
        "            running_corrects = 0\n",
        "\n",
        "            # Iterate over data.\n",
        "            for inputs, labels in tqdm(dataloaders[phase]):\n",
        "                inputs = inputs.to(device)\n",
        "                labels = labels.to(device)\n",
        "\n",
        "                # zero the parameter gradients\n",
        "                optimizer.zero_grad()\n",
        "\n",
        "                # forward\n",
        "                # track history if only in train\n",
        "                with torch.set_grad_enabled(phase == 'train'):\n",
        "                    outputs = model(inputs)\n",
        "                    _, preds = torch.max(outputs, 1)\n",
        "                    loss = criterion(outputs, labels)\n",
        "\n",
        "                    # backward + optimize only if in training phase\n",
        "                    if phase == 'train':\n",
        "                        loss.backward()\n",
        "                        optimizer.step()\n",
        "\n",
        "                # statistics\n",
        "                running_loss += loss.item() * inputs.size(0)\n",
        "                running_corrects += torch.sum(preds == labels.data)\n",
        "            if phase == 'train':\n",
        "                scheduler.step()\n",
        "\n",
        "            epoch_loss = running_loss / dataset_sizes[phase]\n",
        "            epoch_acc = running_corrects.double() / dataset_sizes[phase]\n",
        "\n",
        "            print(f'{phase} Loss: {epoch_loss:.4f} Acc: {epoch_acc:.4f}')\n",
        "\n",
        "            # deep copy the model\n",
        "            if phase == 'val' and epoch_acc > best_acc:\n",
        "                best_acc = epoch_acc\n",
        "                best_model_wts = copy.deepcopy(model.state_dict())\n",
        "\n",
        "        print()\n",
        "\n",
        "    time_elapsed = time.time() - since\n",
        "    print(f'Training complete in {time_elapsed // 60:.0f}m {time_elapsed % 60:.0f}s')\n",
        "    print(f'Best val Acc: {best_acc:4f}')\n",
        "\n",
        "    # load best model weights\n",
        "    model.load_state_dict(best_model_wts)\n",
        "    return model"
      ],
      "metadata": {
        "id": "diofrUY_jsMB"
      },
      "execution_count": null,
      "outputs": []
    },
    {
      "cell_type": "code",
      "source": [
        "# Setting hyperparameters\n",
        "\n",
        "model = model.to(device)\n",
        "\n",
        "criterion = nn.CrossEntropyLoss()\n",
        "\n",
        "# Observe that all parameters are being optimized\n",
        "# optimizer = optim.SGD(model.parameters(), lr=0.001, momentum=0.9)\n",
        "optimizer = optim.Adam(model.parameters(), lr=0.0001)\n",
        "\n",
        "# Decay LR by a factor of 0.1 every 7 epochs\n",
        "exp_lr_scheduler = lr_scheduler.StepLR(optimizer, step_size=7, gamma=0.1)"
      ],
      "metadata": {
        "id": "KoH-8q7gjvjv"
      },
      "execution_count": null,
      "outputs": []
    }
  ],
  "metadata": {
    "kernelspec": {
      "display_name": "Python 3",
      "language": "python",
      "name": "python3"
    },
    "language_info": {
      "name": "python",
      "version": "3.8.2 (tags/v3.8.2:7b3ab59, Feb 25 2020, 23:03:10) [MSC v.1916 64 bit (AMD64)]"
    },
    "orig_nbformat": 4,
    "vscode": {
      "interpreter": {
        "hash": "9650cb4e16cdd4a8e8e2d128bf38d875813998db22a3c986335f89e0cb4d7bb2"
      }
    },
    "colab": {
      "provenance": [],
      "include_colab_link": true
    },
    "accelerator": "GPU",
    "gpuClass": "standard"
  },
  "nbformat": 4,
  "nbformat_minor": 0
}