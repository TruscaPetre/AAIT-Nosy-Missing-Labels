{
 "cells": [
  {
   "cell_type": "markdown",
   "metadata": {
    "id": "_pc4qypVPpcu"
   },
   "source": [
    "## missing labels "
   ]
  },
  {
   "cell_type": "markdown",
   "metadata": {
    "id": "AZCBR60FPpcu"
   },
   "source": [
    "\n",
    "- The classification problem can be tackled using semi-supervised learning methods. There are 3 propular approaches to address semi-supervised learning problems:\n",
    "  - self training\n",
    "  - co-training\n",
    "  - graph-based models\n",
    "- self training \n",
    "  - What is the process?\n",
    "    - First train on labeled data\n",
    "    - Make predictions on the untrained data\n",
    "    - From those predictions, only extract those with high confidence and move them to the training data\n",
    "    - Repeat the process until convergence or no high-confidence exmples left in the unlabeled set.\n",
    "  - Disadvantage is that you can still generate incorrect predictions and the mistakes can be amplified in the subsequent trainings of the model.\n",
    "- co-training\n",
    "  - requires two feature representations associated with the dataset which serve as two different views of the data\n",
    "  - The representations are dissimilar and conditionally independet, but they can provide complementary information about the data. \n",
    "  - We cannot do this for image classification because we have only visual representations of the data.\n",
    "- graph-based models\n",
    "  - labeled and unlabeled samples are represented as different nodes in a graph\n",
    "  - the edges in this graph denote the similarity between nodes.\n",
    "  - The assumption in this approach is that nodes with strong edges are likely to share the same label.\n",
    "  - The algorithm to compute the labels is:\n",
    "    - The unlabeled nodes can be labeled using random-walk over the graph. Based on the strength of the edges.\n",
    "    - The walk ends when a labeled node is reached \n",
    "    - A probability that the random walker started at a particular unlabeled node given that it ended at a specific labeled node is computed. i.e. 2 poitns are similar if they have indistinguishabel starting points.\n",
    "\n",
    "\n",
    "Reference: \n",
    "- https://www.kdnuggets.com/2019/11/tips-class-imbalance-missing-labels.html"
   ]
  },
  {
   "cell_type": "code",
   "execution_count": null,
   "metadata": {
    "id": "uW1vKBQjPpcw"
   },
   "outputs": [],
   "source": [
    "# k-fold cross-validation, \n",
    "# ensemble methods, \n",
    "# or importance sampling"
   ]
  },
  {
   "cell_type": "code",
   "execution_count": null,
   "metadata": {},
   "outputs": [],
   "source": []
  },
  {
   "cell_type": "markdown",
   "metadata": {
    "id": "XT0e5c1wPpcw"
   },
   "source": [
    "### Preprocessing the data according to challange of missing labels"
   ]
  },
  {
   "cell_type": "code",
   "execution_count": null,
   "metadata": {},
   "outputs": [],
   "source": []
  }
 ],
 "metadata": {
  "kernelspec": {
   "display_name": "Python 3",
   "language": "python",
   "name": "python3"
  },
  "language_info": {
   "name": "python",
   "version": "3.8.2 (tags/v3.8.2:7b3ab59, Feb 25 2020, 23:03:10) [MSC v.1916 64 bit (AMD64)]"
  },
  "orig_nbformat": 4,
  "vscode": {
   "interpreter": {
    "hash": "9650cb4e16cdd4a8e8e2d128bf38d875813998db22a3c986335f89e0cb4d7bb2"
   }
  }
 },
 "nbformat": 4,
 "nbformat_minor": 2
}
