{
 "cells": [
  {
   "cell_type": "markdown",
   "metadata": {},
   "source": [
    "# AAIT homework 2"
   ]
  },
  {
   "attachments": {},
   "cell_type": "markdown",
   "metadata": {},
   "source": [
    "## Imports"
   ]
  },
  {
   "cell_type": "code",
   "execution_count": 26,
   "metadata": {},
   "outputs": [],
   "source": [
    "import urllib\n",
    "import shutil\n",
    "import os\n",
    "\n",
    "import pandas as pd\n",
    "\n",
    "from PIL import Image\n",
    "import matplotlib.pyplot as plt\n",
    "\n",
    "from tqdm import tqdm\n",
    "\n",
    "import torch\n",
    "import torch.nn as nn\n",
    "from torchvision import transforms, datasets \n",
    "import torchvision"
   ]
  },
  {
   "attachments": {},
   "cell_type": "markdown",
   "metadata": {},
   "source": [
    "## Exploring the data "
   ]
  },
  {
   "cell_type": "code",
   "execution_count": 4,
   "metadata": {},
   "outputs": [
    {
     "name": "stdout",
     "output_type": "stream",
     "text": [
      "                                           sample  label\n",
      "0          task1/train_data/images/labeled/0.jpeg      0\n",
      "1          task1/train_data/images/labeled/1.jpeg      1\n",
      "2          task1/train_data/images/labeled/2.jpeg      2\n",
      "3          task1/train_data/images/labeled/3.jpeg      3\n",
      "4          task1/train_data/images/labeled/4.jpeg      4\n",
      "...                                           ...    ...\n",
      "23550  task1/train_data/images/labeled/23550.jpeg     97\n",
      "23551  task1/train_data/images/labeled/23551.jpeg     28\n",
      "23552  task1/train_data/images/labeled/23552.jpeg     53\n",
      "23553  task1/train_data/images/labeled/23553.jpeg      9\n",
      "23554  task1/train_data/images/labeled/23554.jpeg     90\n",
      "\n",
      "[23555 rows x 2 columns]\n"
     ]
    }
   ],
   "source": [
    "# Preprocessing the data\n",
    "# resizing the images, converting to a uniform format\n",
    "dir_data = './data/task1/train_data/'\n",
    "# Read the annotations file into a DataFrame\n",
    "df = pd.read_csv(f'{dir_data}annotations.csv')\n",
    "\n",
    "# Print the DataFrame\n",
    "print(df)"
   ]
  },
  {
   "cell_type": "code",
   "execution_count": 43,
   "metadata": {},
   "outputs": [
    {
     "name": "stdout",
     "output_type": "stream",
     "text": [
      "[ 0  1  2  3  4  5  6  7  8  9 10 11 12 13 14 15 16 17 18 19 20 21 22 23\n",
      " 24 25 26 27 28 29 30 31 32 33 34 35 36 37 38 39 40 41 42 43 44 45 46 47\n",
      " 48 49 50 51 52 53 54 55 56 57 58 59 60 61 62 63 64 65 66 67 68 69 70 71\n",
      " 72 73 74 75 76 77 78 79 80 81 82 83 84 85 86 87 88 89 90 91 92 93 94 95\n",
      " 96 97 98 99]\n",
      "There are 100 classes\n"
     ]
    }
   ],
   "source": [
    "# Get the unique values in the 'label' column\n",
    "unique_labels = df['label'].unique()\n",
    "\n",
    "# Print the unique values\n",
    "print(unique_labels)\n",
    "\n",
    "# Get the number of unique values in the 'label' column\n",
    "num_unique_labels = df['label'].nunique()\n",
    "\n",
    "# Print the number of unique values\n",
    "print(f\"There are {num_unique_labels} classes\")"
   ]
  },
  {
   "cell_type": "code",
   "execution_count": 39,
   "metadata": {},
   "outputs": [
    {
     "data": {
      "text/plain": [
       "<AxesSubplot: >"
      ]
     },
     "execution_count": 39,
     "metadata": {},
     "output_type": "execute_result"
    },
    {
     "data": {
      "image/png": "[encoded data removed]",
      "text/plain": [
       "<Figure size 432x288 with 1 Axes>"
      ]
     },
     "metadata": {
      "needs_background": "light"
     },
     "output_type": "display_data"
    }
   ],
   "source": [
    "\n",
    "# Get the count of each class label\n",
    "label_counts = df['label'].value_counts()\n",
    "# Plot the label counts as a bar chart\n",
    "label_counts.plot.bar()"
   ]
  },
  {
   "attachments": {},
   "cell_type": "markdown",
   "metadata": {},
   "source": [
    "## Training on the labeled data \n",
    "In order to prove that the semi-supervised learning task is superior to the supervised learning task. We should train the model first only on the samples that are labeled. Later if we see an improvement in the training where we take into account also the unlabeled data, compared to this example, we have proved the point.\n",
    "\n",
    "Reference: \n",
    "- https://pytorch.org/tutorials/beginner/transfer_learning_tutorial.html\n",
    "- https://pytorch.org/hub/pytorch_vision_mobilenet_v2/"
   ]
  },
  {
   "cell_type": "code",
   "execution_count": null,
   "metadata": {},
   "outputs": [],
   "source": [
    "# Prepare dataset for training\n",
    "# The image should be 3 channel RGB, HW should be at least 224\n",
    "# Images should be in range [0,1] and then normalized using \n",
    "# mean = [0.485, 0.456, 0.406] and \n",
    "# std = [0.229, 0.224, 0.225]\n"
   ]
  },
  {
   "cell_type": "markdown",
   "metadata": {},
   "source": [
    "### Run the model"
   ]
  },
  {
   "cell_type": "code",
   "execution_count": 12,
   "metadata": {},
   "outputs": [],
   "source": [
    "%%capture\n",
    "# Download a pytorch MobileNet pretrained model\n",
    "model = torch.hub.load('pytorch/vision:v0.10.0', 'mobilenet_v2', pretrained=True)\n",
    "model.eval()"
   ]
  },
  {
   "cell_type": "code",
   "execution_count": 15,
   "metadata": {},
   "outputs": [
    {
     "name": "stdout",
     "output_type": "stream",
     "text": [
      "Sequential(\n",
      "  (0): Dropout(p=0.2, inplace=False)\n",
      "  (1): Linear(in_features=1280, out_features=100, bias=True)\n",
      ")\n"
     ]
    }
   ],
   "source": [
    "# change the Linear output\n",
    "# print(model.classifier)\n",
    "# > Sequential(\n",
    "#   (0): Dropout(p=0.2)\n",
    "#   (1): Linear(in_features=1280, out_features=1000, bias=True)\n",
    "# )\n",
    "model.classifier[1] = nn.Linear(1280, 100)\n",
    "print(model.classifier)"
   ]
  },
  {
   "cell_type": "code",
   "execution_count": 16,
   "metadata": {},
   "outputs": [
    {
     "name": "stdout",
     "output_type": "stream",
     "text": [
      "torch.Size([1, 3, 64, 64])\n"
     ]
    }
   ],
   "source": [
    "# sample execution (requires torchvision)\n",
    "img_path = df.iloc[1][\"sample\"]\n",
    "input_image = Image.open(f\"data/{img_path}\")\n",
    "preprocess = transforms.Compose([\n",
    "    # transforms.Resize(256),\n",
    "    # transforms.CenterCrop(224),\n",
    "    transforms.ToTensor(),\n",
    "    transforms.Normalize(mean=[0.485, 0.456, 0.406], std=[0.229, 0.224, 0.225]),\n",
    "])\n",
    "input_tensor = preprocess(input_image)\n",
    "input_batch = input_tensor.unsqueeze(0) # create a mini-batch as expected by the model\n",
    "\n",
    "# sanity check\n",
    "print(input_batch.shape)"
   ]
  },
  {
   "cell_type": "code",
   "execution_count": 17,
   "metadata": {},
   "outputs": [
    {
     "data": {
      "text/plain": [
       "<matplotlib.image.AxesImage at 0x2bc986208b0>"
      ]
     },
     "execution_count": 17,
     "metadata": {},
     "output_type": "execute_result"
    },
    {
     "data": {
      "image/png": "[encoded data removed]",
      "text/plain": [
       "<Figure size 432x288 with 1 Axes>"
      ]
     },
     "metadata": {
      "needs_background": "light"
     },
     "output_type": "display_data"
    }
   ],
   "source": [
    "plt.imshow(input_image)"
   ]
  },
  {
   "cell_type": "code",
   "execution_count": 18,
   "metadata": {},
   "outputs": [
    {
     "name": "stdout",
     "output_type": "stream",
     "text": [
      "torch.Size([100])\n",
      "predicted class: 90\n",
      "true label: 1\n"
     ]
    }
   ],
   "source": [
    "# move the input and model to GPU for speed if available\n",
    "if torch.cuda.is_available():\n",
    "    input_batch = input_batch.to('cuda')\n",
    "    model.to('cuda')\n",
    "\n",
    "with torch.no_grad():\n",
    "    output = model(input_batch)\n",
    "# Tensor of shape 100\n",
    "print(output[0].shape)\n",
    "# The output has unnormalized scores. To get probabilities, you can run a softmax on it.\n",
    "probabilities = torch.nn.functional.softmax(output[0], dim=0) \n",
    "# select the maximum value to find the class predicted\n",
    "print(f\"predicted class: {torch.argmax(probabilities).item()}\")\n",
    "true_label = df.iloc[1][\"label\"]\n",
    "print(f\"true label: {true_label}\")"
   ]
  },
  {
   "cell_type": "markdown",
   "metadata": {},
   "source": [
    "### Organize data for pytorch ImageFolder "
   ]
  },
  {
   "cell_type": "code",
   "execution_count": 70,
   "metadata": {},
   "outputs": [],
   "source": [
    "# Define the base directory\n",
    "base_dir = 'data/task1/labeled'\n",
    "\n",
    "# Loop through the classes\n",
    "for i in range(100):\n",
    "    # Create the directory for the class\n",
    "    class_dir = f'{base_dir}/class{i}'\n",
    "    os.makedirs(class_dir)"
   ]
  },
  {
   "cell_type": "code",
   "execution_count": 7,
   "metadata": {},
   "outputs": [
    {
     "name": "stderr",
     "output_type": "stream",
     "text": [
      "100%|██████████| 23555/23555 [54:40<00:00,  7.18it/s]   \n"
     ]
    }
   ],
   "source": [
    "# Define the base directory\n",
    "base_dir = 'data/task1/labeled'\n",
    "\n",
    "# Iterate over the rows in the DataFrame\n",
    "for _, row in tqdm(df.iterrows(), total=df.shape[0]):\n",
    "    # Extract the path and class from the row\n",
    "    path = row['sample']\n",
    "    label = row['label']\n",
    "    \n",
    "    # Create the directory for the class\n",
    "    class_dir = f'{base_dir}/class{label}'\n",
    "    os.makedirs(class_dir, exist_ok=True)\n",
    "    \n",
    "    # Copy the file to the class directory\n",
    "    shutil.copy(f\"data/{path}\", class_dir) "
   ]
  },
  {
   "cell_type": "code",
   "execution_count": 23,
   "metadata": {},
   "outputs": [],
   "source": [
    "data_dir = 'data/task1/labeled'\n",
    "image_dataset = datasets.ImageFolder(data_dir, preprocess)\n",
    "# print(image_datasets)"
   ]
  },
  {
   "cell_type": "code",
   "execution_count": 24,
   "metadata": {},
   "outputs": [],
   "source": [
    "dataloaders  = torch.utils.data.DataLoader(image_dataset, batch_size = 4, shuffle = True, num_workers = 4)"
   ]
  },
  {
   "cell_type": "code",
   "execution_count": 25,
   "metadata": {},
   "outputs": [],
   "source": [
    "dataset_sizes = len(image_dataset)\n",
    "class_names = image_dataset.classes\n",
    "\n",
    "device = torch.device(\"cuda:0\" if torch.cuda.is_available() else \"cpu\")"
   ]
  },
  {
   "cell_type": "code",
   "execution_count": null,
   "metadata": {},
   "outputs": [],
   "source": [
    "# Visualize few images\n",
    "def imshow(inp, title=None):\n",
    "    \"\"\"Imshow for Tensor.\"\"\"\n",
    "    inp = inp.numpy().transpose((1, 2, 0))\n",
    "    mean = np.array([0.485, 0.456, 0.406])\n",
    "    std = np.array([0.229, 0.224, 0.225])\n",
    "    inp = std * inp + mean\n",
    "    inp = np.clip(inp, 0, 1)\n",
    "    plt.imshow(inp)\n",
    "    if title is not None:\n",
    "        plt.title(title)\n",
    "    plt.pause(0.001)  # pause a bit so that plots are updated\n",
    "\n",
    "\n",
    "# Get a batch of training data\n",
    "inputs, classes = next(iter(dataloaders['train']))\n",
    "\n",
    "# Make a grid from batch\n",
    "out = torchvision.utils.make_grid(inputs)\n",
    "\n",
    "imshow(out, title=[class_names[x] for x in classes])"
   ]
  },
  {
   "attachments": {},
   "cell_type": "markdown",
   "metadata": {},
   "source": [
    "## Familiarizing with specific challenges \n",
    "### missing labels \n",
    "- The classification problem can be tackled using semi-supervised learning methods. There are 3 propular approaches to address semi-supervised learning problems:\n",
    "  - self training\n",
    "  - co-training\n",
    "  - graph-based models\n",
    "- self training \n",
    "  - What is the process?\n",
    "    - First train on labeled data\n",
    "    - Make predictions on the untrained data\n",
    "    - From those predictions, only extract those with high confidence and move them to the training data\n",
    "    - Repeat the process until convergence or no high-confidence exmples left in the unlabeled set.\n",
    "  - Disadvantage is that you can still generate incorrect predictions and the mistakes can be amplified in the subsequent trainings of the model.\n",
    "- co-training\n",
    "  - requires two feature representations associated with the dataset which serve as two different views of the data\n",
    "  - The representations are dissimilar and conditionally independet, but they can provide complementary information about the data. \n",
    "  - We cannot do this for image classification because we have only visual representations of the data.\n",
    "- graph-based models\n",
    "  - labeled and unlabeled samples are represented as different nodes in a graph\n",
    "  - the edges in this graph denote the similarity between nodes.\n",
    "  - The assumption in this approach is that nodes with strong edges are likely to share the same label.\n",
    "  - The algorithm to compute the labels is:\n",
    "    - The unlabeled nodes can be labeled using random-walk over the graph. Based on the strength of the edges.\n",
    "    - The walk ends when a labeled node is reached \n",
    "    - A probability that the random walker started at a particular unlabeled node given that it ended at a specific labeled node is computed. i.e. 2 poitns are similar if they have indistinguishabel starting points.\n",
    "\n",
    "\n",
    "Reference: \n",
    "- https://www.kdnuggets.com/2019/11/tips-class-imbalance-missing-labels.html\n",
    "\n",
    "### noisy labels\n"
   ]
  },
  {
   "cell_type": "code",
   "execution_count": null,
   "metadata": {},
   "outputs": [],
   "source": [
    "# k-fold cross-validation, \n",
    "# ensemble methods, \n",
    "# or importance sampling"
   ]
  },
  {
   "attachments": {},
   "cell_type": "markdown",
   "metadata": {},
   "source": [
    "### Preprocessing the data according to challange of missing labels"
   ]
  },
  {
   "cell_type": "markdown",
   "metadata": {},
   "source": []
  },
  {
   "attachments": {},
   "cell_type": "markdown",
   "metadata": {},
   "source": [
    "# Solving the task 1"
   ]
  },
  {
   "cell_type": "code",
   "execution_count": null,
   "metadata": {},
   "outputs": [],
   "source": [
    "# Fine tune the classifier\n",
    "# try different parameters for the training: lr, regularization"
   ]
  },
  {
   "cell_type": "markdown",
   "metadata": {},
   "source": [
    "# Test the model"
   ]
  },
  {
   "cell_type": "code",
   "execution_count": null,
   "metadata": {},
   "outputs": [],
   "source": []
  }
 ],
 "metadata": {
  "kernelspec": {
   "display_name": "aait_hw2",
   "language": "python",
   "name": "python3"
  },
  "language_info": {
   "codemirror_mode": {
    "name": "ipython",
    "version": 3
   },
   "file_extension": ".py",
   "mimetype": "text/x-python",
   "name": "python",
   "nbconvert_exporter": "python",
   "pygments_lexer": "ipython3",
   "version": "3.8.15"
  },
  "orig_nbformat": 4,
  "vscode": {
   "interpreter": {
    "hash": "945b35ae5f0a23cf354d36a2f24dc0b3e57f16e05b45c03bcc4672a89e8a2936"
   }
  }
 },
 "nbformat": 4,
 "nbformat_minor": 2
}
