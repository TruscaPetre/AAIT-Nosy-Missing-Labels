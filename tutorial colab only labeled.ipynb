{
  "cells": [
    {
      "cell_type": "markdown",
      "metadata": {
        "colab_type": "text",
        "id": "view-in-github"
      },
      "source": [
        "<a href=\"https://colab.research.google.com/github/TruscaPetre/AAIT-Nosy-Missing-Labels/blob/main/tutorial%20colab.ipynb\" target=\"_parent\"><img src=\"https://colab.research.google.com/assets/colab-badge.svg\" alt=\"Open In Colab\"/></a>"
      ]
    },
    {
      "attachments": {},
      "cell_type": "markdown",
      "metadata": {
        "id": "8M5vqjPePpcM"
      },
      "source": [
        "# AAIT homework 2 - Training on labeled data"
      ]
    },
    {
      "cell_type": "markdown",
      "metadata": {
        "id": "7ckfrqhWPpcQ"
      },
      "source": [
        "## Imports"
      ]
    },
    {
      "cell_type": "code",
      "execution_count": 1,
      "metadata": {
        "id": "zl3YqCo7PpcR"
      },
      "outputs": [],
      "source": [
        "import urllib\n",
        "import shutil\n",
        "import os\n",
        "import time\n",
        "import copy\n",
        "\n",
        "import pandas as pd\n",
        "import numpy as np\n",
        "\n",
        "from PIL import Image\n",
        "import matplotlib.pyplot as plt\n",
        "\n",
        "import random\n",
        "\n",
        "from tqdm import tqdm\n",
        "\n",
        "import torchgen\n",
        "import torchvision\n",
        "import torch.nn as nn\n",
        "import torch.optim as optim\n",
        "from torch.optim import lr_scheduler\n",
        "from torch.utils.data import SubsetRandomSampler, Dataset\n",
        "from torchvision import transforms, datasets \n",
        "\n",
        "from sklearn.metrics import classification_report\n",
        "\n",
        "import itertools"
      ]
    },
    {
      "cell_type": "code",
      "execution_count": 2,
      "metadata": {
        "id": "QIGZlvFEPy24"
      },
      "outputs": [],
      "source": [
        "# Download data  \n",
        "\n",
        "# extract the ID of the data\n",
        "task1_id = \"1dO1vqCoJm2xwrnr171A6_eW7ikd-alrd\"\n",
        "task2_id = \"1GUF43k4PJX8YvNUWJbE1RnmXeI7nVbOL\"\n"
      ]
    },
    {
      "cell_type": "code",
      "execution_count": 3,
      "metadata": {
        "colab": {
          "base_uri": "https://localhost:8080/"
        },
        "id": "4hNmorAHTl_D",
        "outputId": "b21d3b8c-a908-44ff-fd95-cd4a5bfe1321"
      },
      "outputs": [
        {
          "name": "stdout",
          "output_type": "stream",
          "text": [
            "--2022-12-28 18:00:09--  https://docs.google.com/uc?export=download&confirm=t&id=1dO1vqCoJm2xwrnr171A6_eW7ikd-alrd\n",
            "Resolving docs.google.com (docs.google.com)... 172.217.214.139, 172.217.214.100, 172.217.214.138, ...\n",
            "Connecting to docs.google.com (docs.google.com)|172.217.214.139|:443... connected.\n",
            "HTTP request sent, awaiting response... 303 See Other\n",
            "Location: https://doc-0g-8k-docs.googleusercontent.com/docs/securesc/ha0ro937gcuc7l7deffksulhg5h7mbp1/164nkp6sk687uraai6ibem2nr2l1kgkn/1672250400000/08997952672865575084/*/1dO1vqCoJm2xwrnr171A6_eW7ikd-alrd?e=download&uuid=90b0d600-4a86-488a-aa69-a018bd63d2a5 [following]\n",
            "Warning: wildcards not supported in HTTP.\n",
            "--2022-12-28 18:00:09--  https://doc-0g-8k-docs.googleusercontent.com/docs/securesc/ha0ro937gcuc7l7deffksulhg5h7mbp1/164nkp6sk687uraai6ibem2nr2l1kgkn/1672250400000/08997952672865575084/*/1dO1vqCoJm2xwrnr171A6_eW7ikd-alrd?e=download&uuid=90b0d600-4a86-488a-aa69-a018bd63d2a5\n",
            "Resolving doc-0g-8k-docs.googleusercontent.com (doc-0g-8k-docs.googleusercontent.com)... 172.217.212.132, 2607:f8b0:4001:c03::84\n",
            "Connecting to doc-0g-8k-docs.googleusercontent.com (doc-0g-8k-docs.googleusercontent.com)|172.217.212.132|:443... connected.\n",
            "HTTP request sent, awaiting response... 200 OK\n",
            "Length: 75378011 (72M) [application/x-gzip]\n",
            "Saving to: ‘task1.tar.gz’\n",
            "\n",
            "task1.tar.gz        100%[===================>]  71.89M  72.5MB/s    in 1.0s    \n",
            "\n",
            "2022-12-28 18:00:11 (72.5 MB/s) - ‘task1.tar.gz’ saved [75378011/75378011]\n",
            "\n"
          ]
        }
      ],
      "source": [
        "# replace here your ide &id=1iNTm3-9GSN2QjjITBi73ta73gDF_oacf\"\n",
        "# replace here your id 'https://docs.google.com/uc?export=download&id=1dO1vqCoJm2xwrnr171A6_eW7ikd-alrd'\n",
        "# replace here your target name -O task1.tar.gz &&\n",
        "!wget --load-cookies /tmp/cookies.txt \"https://docs.google.com/uc?export=download&confirm=$(wget --quiet --save-cookies /tmp/cookies.txt --keep-session-cookies --no-check-certificate 'https://docs.google.com/uc?export=download&id=1dO1vqCoJm2xwrnr171A6_eW7ikd-alrd' -O- | sed -rn 's/.*confirm=([0-9A-Za-z_]+).*/\\1\\n/p')&id=1dO1vqCoJm2xwrnr171A6_eW7ikd-alrd\" -O task1.tar.gz && rm -rf /tmp/cookies.txt\n"
      ]
    },
    {
      "cell_type": "code",
      "execution_count": 4,
      "metadata": {
        "id": "f8FrprN5RGq3"
      },
      "outputs": [],
      "source": [
        "%%capture\n",
        "!mkdir data\n",
        "!mv task1.tar.gz ./data\n",
        "!tar -xzvf \"/content/data/task1.tar.gz\" -C \"/content/data/\"     #[run this cell to extract tar.gz files]\n",
        "# this may take 12 seconds"
      ]
    },
    {
      "cell_type": "markdown",
      "metadata": {
        "id": "MKGf3LbWPpcU"
      },
      "source": [
        "## Exploring the data "
      ]
    },
    {
      "cell_type": "code",
      "execution_count": 5,
      "metadata": {
        "colab": {
          "base_uri": "https://localhost:8080/"
        },
        "id": "KEbRLjfePpcV",
        "outputId": "c7bb82a7-916b-4848-cabd-5adfab3833c0"
      },
      "outputs": [
        {
          "name": "stdout",
          "output_type": "stream",
          "text": [
            "                                           sample  label\n",
            "0          task1/train_data/images/labeled/0.jpeg      0\n",
            "1          task1/train_data/images/labeled/1.jpeg      1\n",
            "2          task1/train_data/images/labeled/2.jpeg      2\n",
            "3          task1/train_data/images/labeled/3.jpeg      3\n",
            "4          task1/train_data/images/labeled/4.jpeg      4\n",
            "...                                           ...    ...\n",
            "23550  task1/train_data/images/labeled/23550.jpeg     97\n",
            "23551  task1/train_data/images/labeled/23551.jpeg     28\n",
            "23552  task1/train_data/images/labeled/23552.jpeg     53\n",
            "23553  task1/train_data/images/labeled/23553.jpeg      9\n",
            "23554  task1/train_data/images/labeled/23554.jpeg     90\n",
            "\n",
            "[23555 rows x 2 columns]\n"
          ]
        }
      ],
      "source": [
        "dir_data = './data/task1/train_data/'\n",
        "# Read the annotations file into a DataFrame\n",
        "df = pd.read_csv(f'{dir_data}annotations.csv')\n",
        "\n",
        "# Print the DataFrame\n",
        "print(df)"
      ]
    },
    {
      "cell_type": "code",
      "execution_count": 6,
      "metadata": {
        "colab": {
          "base_uri": "https://localhost:8080/"
        },
        "id": "MWSsZG4MPpcX",
        "outputId": "b86838ab-2ecd-4f71-bfc3-e2efec713e33"
      },
      "outputs": [
        {
          "name": "stdout",
          "output_type": "stream",
          "text": [
            "[ 0  1  2  3  4  5  6  7  8  9 10 11 12 13 14 15 16 17 18 19 20 21 22 23\n",
            " 24 25 26 27 28 29 30 31 32 33 34 35 36 37 38 39 40 41 42 43 44 45 46 47\n",
            " 48 49 50 51 52 53 54 55 56 57 58 59 60 61 62 63 64 65 66 67 68 69 70 71\n",
            " 72 73 74 75 76 77 78 79 80 81 82 83 84 85 86 87 88 89 90 91 92 93 94 95\n",
            " 96 97 98 99]\n",
            "There are 100 classes\n"
          ]
        }
      ],
      "source": [
        "# Get the unique values in the 'label' column\n",
        "unique_labels = df['label'].unique()\n",
        "\n",
        "# Print the unique values\n",
        "print(unique_labels)\n",
        "\n",
        "# Get the number of unique values in the 'label' column\n",
        "num_unique_labels = df['label'].nunique()\n",
        "\n",
        "# Print the number of unique values\n",
        "print(f\"There are {num_unique_labels} classes\")"
      ]
    },
    {
      "cell_type": "code",
      "execution_count": 7,
      "metadata": {
        "colab": {
          "base_uri": "https://localhost:8080/",
          "height": 288
        },
        "id": "o1BXYWLQPpcZ",
        "outputId": "e520767b-2320-4e37-94e5-c567fc3d0c2e"
      },
      "outputs": [
        {
          "data": {
            "text/plain": [
              "<matplotlib.axes._subplots.AxesSubplot at 0x7fb184de31c0>"
            ]
          },
          "execution_count": 7,
          "metadata": {},
          "output_type": "execute_result"
        },
        {
          "data": {
            "image/png": "[encoded data removed]",
            "text/plain": [
              "<Figure size 432x288 with 1 Axes>"
            ]
          },
          "metadata": {
            "needs_background": "light"
          },
          "output_type": "display_data"
        }
      ],
      "source": [
        "\n",
        "# Get the count of each class label\n",
        "label_counts = df['label'].value_counts()\n",
        "# Plot the label counts as a bar chart\n",
        "label_counts.plot.bar()"
      ]
    },
    {
      "cell_type": "markdown",
      "metadata": {
        "id": "oO2CARDnPpcb"
      },
      "source": [
        "## Training on the labeled data \n",
        "In order to prove that the semi-supervised learning task is superior to the supervised learning task. We should train the model first only on the samples that are labeled. Later if we see an improvement in the training where we take into account also the unlabeled data, compared to this example, we have proved the point.\n",
        "\n",
        "Reference: \n",
        "- https://pytorch.org/tutorials/beginner/transfer_learning_tutorial.html\n",
        "- https://pytorch.org/hub/pytorch_vision_mobilenet_v2/"
      ]
    },
    {
      "cell_type": "markdown",
      "metadata": {
        "id": "ODsx-xEMPpce"
      },
      "source": [
        "### Run the model"
      ]
    },
    {
      "cell_type": "code",
      "execution_count": 9,
      "metadata": {
        "colab": {
          "base_uri": "https://localhost:8080/"
        },
        "id": "ZBKPFHnhPpcf",
        "outputId": "81fe71cf-78cb-4d62-dcac-96e6d89275e0"
      },
      "outputs": [
        {
          "name": "stdout",
          "output_type": "stream",
          "text": [
            "Sequential(\n",
            "  (0): Dropout(p=0.2, inplace=False)\n",
            "  (1): Linear(in_features=1280, out_features=100, bias=True)\n",
            ")\n"
          ]
        }
      ],
      "source": [
        "# Download a pytorch MobileNet pretrained model\n",
        "model = torch.hub.load('pytorch/vision:v0.10.0', 'mobilenet_v2', pretrained=True)\n",
        "# change the Linear output\n",
        "# print(model.classifier)\n",
        "# > Sequential(\n",
        "#   (0): Dropout(p=0.2)\n",
        "#   (1): Linear(in_features=1280, out_features=1000, bias=True)\n",
        "# )\n",
        "model.classifier[1] = nn.Linear(1280, 100)\n",
        "print(model.classifier)"
      ]
    },
    {
      "cell_type": "code",
      "execution_count": 10,
      "metadata": {
        "colab": {
          "base_uri": "https://localhost:8080/"
        },
        "id": "7ARKU703Ppcg",
        "outputId": "0fa8a4a8-988e-4493-b561-c4dabe131938"
      },
      "outputs": [
        {
          "name": "stdout",
          "output_type": "stream",
          "text": [
            "torch.Size([1, 3, 224, 224])\n"
          ]
        }
      ],
      "source": [
        "# sample execution (requires torchvision)\n",
        "img_path = df.iloc[1][\"sample\"]\n",
        "input_image = Image.open(f\"data/{img_path}\")\n",
        "preprocess = transforms.Compose([\n",
        "    transforms.Resize(224),\n",
        "    # transforms.CenterCrop(224),\n",
        "    transforms.ToTensor(),\n",
        "    transforms.Normalize(mean=[0.485, 0.456, 0.406], std=[0.229, 0.224, 0.225]),\n",
        "])\n",
        "input_tensor = preprocess(input_image)\n",
        "input_batch = input_tensor.unsqueeze(0) # create a mini-batch as expected by the model\n",
        "\n",
        "# sanity check\n",
        "print(input_batch.shape)"
      ]
    },
    {
      "cell_type": "code",
      "execution_count": 11,
      "metadata": {
        "colab": {
          "base_uri": "https://localhost:8080/",
          "height": 286
        },
        "id": "SHo03MT0Ppch",
        "outputId": "e584fc38-25cf-46d5-ec67-8744017e4c1d"
      },
      "outputs": [
        {
          "data": {
            "text/plain": [
              "<matplotlib.image.AxesImage at 0x7fb184087190>"
            ]
          },
          "execution_count": 11,
          "metadata": {},
          "output_type": "execute_result"
        },
        {
          "data": {
            "image/png": "[encoded data removed]",
            "text/plain": [
              "<Figure size 432x288 with 1 Axes>"
            ]
          },
          "metadata": {
            "needs_background": "light"
          },
          "output_type": "display_data"
        }
      ],
      "source": [
        "plt.imshow(input_image)"
      ]
    },
    {
      "cell_type": "code",
      "execution_count": 12,
      "metadata": {
        "colab": {
          "base_uri": "https://localhost:8080/"
        },
        "id": "R-Vu4YCCPpci",
        "outputId": "a2e604ae-ee7a-4e6a-c759-4c9d738640f3"
      },
      "outputs": [
        {
          "name": "stdout",
          "output_type": "stream",
          "text": [
            "torch.Size([100])\n",
            "predicted class: 75\n",
            "true label: 1\n"
          ]
        }
      ],
      "source": [
        "# move the input and model to GPU for speed if available\n",
        "if torch.cuda.is_available():\n",
        "    input_batch = input_batch.to('cuda')\n",
        "    model.to('cuda')\n",
        "\n",
        "with torch.no_grad():\n",
        "    output = model(input_batch)\n",
        "# Tensor of shape 100\n",
        "print(output[0].shape)\n",
        "# The output has unnormalized scores. To get probabilities, you can run a softmax on it.\n",
        "probabilities = torch.nn.functional.softmax(output[0], dim=0) \n",
        "# select the maximum value to find the class predicted\n",
        "print(f\"predicted class: {torch.argmax(probabilities).item()}\")\n",
        "true_label = df.iloc[1][\"label\"]\n",
        "print(f\"true label: {true_label}\")"
      ]
    },
    {
      "cell_type": "markdown",
      "metadata": {
        "id": "5EVY0_vaPpcj"
      },
      "source": [
        "### Organize data for pytorch ImageFolder "
      ]
    },
    {
      "cell_type": "code",
      "execution_count": 13,
      "metadata": {
        "colab": {
          "base_uri": "https://localhost:8080/"
        },
        "id": "sZ17upaIPpck",
        "outputId": "7b419a8e-ea5b-463b-bd7c-3ce9bab2325a"
      },
      "outputs": [
        {
          "name": "stderr",
          "output_type": "stream",
          "text": [
            "100%|██████████| 23555/23555 [00:05<00:00, 4436.12it/s]\n"
          ]
        }
      ],
      "source": [
        "# Do this only once \n",
        "# Define the base directory\n",
        "base_dir = 'data/task1/labeled'\n",
        "\n",
        "# Iterate over the rows in the DataFrame\n",
        "for _, row in tqdm(df.iterrows(), total=df.shape[0]):\n",
        "    # Extract the path and class from the row\n",
        "    path = row['sample']\n",
        "    label = row['label']\n",
        "    \n",
        "    # Create the directory for the class\n",
        "    class_dir = f'{base_dir}/{label}'\n",
        "    os.makedirs(class_dir, exist_ok=True)\n",
        "    \n",
        "    # Copy the file to the class directory\n",
        "    shutil.copy(f\"data/{path}\", class_dir) \n"
      ]
    },
    {
      "cell_type": "code",
      "execution_count": 15,
      "metadata": {
        "id": "x9nDnjefPpcn"
      },
      "outputs": [],
      "source": [
        "\n",
        "\n",
        "# This will shuffle the images in the dataset \n",
        "# before they are returned to the data loader,\n",
        "# which should help ensure that the validation and training sets\n",
        "# are more balanced.\n",
        "class ShuffledImageFolder(Dataset):\n",
        "    def __init__(self, dataset):\n",
        "        self.dataset = dataset\n",
        "        self.indices = torch.randperm(len(dataset))\n",
        "\n",
        "    def __getitem__(self, index):\n",
        "        return self.dataset[self.indices[index]]\n",
        "\n",
        "    def __len__(self):\n",
        "        return len(self.dataset)\n",
        "\n",
        "data_dir = 'data/task1/labeled'\n",
        "image_dataset_unshuffled = datasets.ImageFolder(data_dir, preprocess)\n",
        "image_dataset = ShuffledImageFolder(image_dataset_unshuffled)\n",
        "\n",
        "# print(image_datasets)\n",
        "# We don't want to create a single dataset because we want to have a dataset for evaluation also\n",
        "# dataloader  = torch.utils.data.DataLoader(image_dataset, batch_size = 4, shuffle = True, num_workers = 4)"
      ]
    },
    {
      "cell_type": "code",
      "execution_count": 17,
      "metadata": {
        "colab": {
          "base_uri": "https://localhost:8080/"
        },
        "id": "KNRH5h4XPpco",
        "outputId": "a8cb5cd4-f67a-4a2f-e92d-498009d61f59"
      },
      "outputs": [
        {
          "name": "stdout",
          "output_type": "stream",
          "text": [
            "23555\n",
            "18844\n",
            "4711\n"
          ]
        }
      ],
      "source": [
        "# split data into train and val\n",
        "\n",
        "dataset_size = len(image_dataset)\n",
        "print(dataset_size)\n",
        "split = int(dataset_size*0.8)\n",
        "train_size = split\n",
        "print(train_size)\n",
        "val_size = dataset_size - split\n",
        "print(val_size)\n",
        "assert val_size+train_size == dataset_size\n",
        "class_names = image_dataset.dataset.classes\n",
        "\n",
        "# Create a sampler for the training set\n",
        "train_sampler = SubsetRandomSampler(range(split))\n",
        "\n",
        "# Create a sampler for the valuation set\n",
        "val_sampler = SubsetRandomSampler(range(split, dataset_size))\n",
        "\n",
        "# Create DataLoaders for the training and valuation sets\n",
        "train_dataloader = torch.utils.data.DataLoader(image_dataset, batch_size=32, sampler=train_sampler)\n",
        "val_dataloader = torch.utils.data.DataLoader(image_dataset, batch_size=32, sampler=val_sampler, shuffle=False)\n",
        "dataloaders = {\n",
        "    \"train\":train_dataloader,\n",
        "    \"val\":val_dataloader,\n",
        "}\n",
        "dataset_sizes = {\n",
        "    \"train\":train_size,\n",
        "    \"val\":val_size,\n",
        "}\n",
        "device = torch.device(\"cuda:0\" if torch.cuda.is_available() else \"cpu\")"
      ]
    },
    {
      "cell_type": "markdown",
      "metadata": {
        "id": "bczBgXWLPpcp"
      },
      "source": [
        "### Visualize few images"
      ]
    },
    {
      "cell_type": "code",
      "execution_count": 18,
      "metadata": {
        "colab": {
          "base_uri": "https://localhost:8080/",
          "height": 131
        },
        "id": "XEIVxzWOPpcp",
        "outputId": "b15d674a-deeb-4c8d-e9a2-6c35556eb6c3"
      },
      "outputs": [
        {
          "data": {
            "image/png": "[encoded data removed]",
            "text/plain": [
              "<Figure size 432x288 with 1 Axes>"
            ]
          },
          "metadata": {
            "needs_background": "light"
          },
          "output_type": "display_data"
        }
      ],
      "source": [
        "def imshow(inp, title=None):\n",
        "    \"\"\"Imshow for Tensor.\"\"\"\n",
        "    inp = inp.numpy().transpose((1, 2, 0))\n",
        "    mean = np.array([0.485, 0.456, 0.406])\n",
        "    std = np.array([0.229, 0.224, 0.225])\n",
        "    inp = std * inp + mean\n",
        "    inp = np.clip(inp, 0, 1)\n",
        "    plt.imshow(inp)\n",
        "    if title is not None:\n",
        "        plt.title(title)\n",
        "    plt.pause(0.001)  # pause a bit so that plots are updated\n",
        "\n",
        "\n",
        "# Get a batch of training data\n",
        "inputs, classes = next(iter(dataloaders['train']))\n",
        "\n",
        "# Make a grid from batch\n",
        "out = torchvision.utils.make_grid(inputs[:5])\n",
        "\n",
        "imshow(out[:5], title=[class_names[x] for x in range(5)])"
      ]
    },
    {
      "cell_type": "markdown",
      "metadata": {
        "id": "hRLfWxE_Ppcq"
      },
      "source": [
        "### Training the model"
      ]
    },
    {
      "cell_type": "code",
      "execution_count": 19,
      "metadata": {
        "id": "m34ftCCHPpcr"
      },
      "outputs": [],
      "source": [
        "def train_model(model, criterion, optimizer, scheduler, num_epochs=25):\n",
        "    since = time.time()\n",
        "\n",
        "    best_model_wts = copy.deepcopy(model.state_dict())\n",
        "    best_acc = 0.0\n",
        "\n",
        "    for epoch in range(num_epochs):\n",
        "        print(f'Epoch {epoch}/{num_epochs - 1}')\n",
        "        print('-' * 10)\n",
        "\n",
        "        # Each epoch has a training and validation phase\n",
        "        for phase in ['train', 'val']:\n",
        "            if phase == 'train':\n",
        "                model.train()  # Set model to training mode\n",
        "            else:\n",
        "                model.eval()   # Set model to evaluate mode\n",
        "\n",
        "            running_loss = 0.0\n",
        "            running_corrects = 0\n",
        "\n",
        "            # Iterate over data.\n",
        "            for inputs, labels in tqdm(dataloaders[phase]):\n",
        "                inputs = inputs.to(device)\n",
        "                labels = labels.to(device)\n",
        "\n",
        "                # zero the parameter gradients\n",
        "                optimizer.zero_grad()\n",
        "\n",
        "                # forward\n",
        "                # track history if only in train\n",
        "                with torch.set_grad_enabled(phase == 'train'):\n",
        "                    outputs = model(inputs)\n",
        "                    _, preds = torch.max(outputs, 1)\n",
        "                    loss = criterion(outputs, labels)\n",
        "\n",
        "                    # backward + optimize only if in training phase\n",
        "                    if phase == 'train':\n",
        "                        loss.backward()\n",
        "                        optimizer.step()\n",
        "\n",
        "                # statistics\n",
        "                running_loss += loss.item() * inputs.size(0)\n",
        "                running_corrects += torch.sum(preds == labels.data)\n",
        "            if phase == 'train':\n",
        "                scheduler.step()\n",
        "\n",
        "            epoch_loss = running_loss / dataset_sizes[phase]\n",
        "            epoch_acc = running_corrects.double() / dataset_sizes[phase]\n",
        "\n",
        "            print(f'{phase} Loss: {epoch_loss:.4f} Acc: {epoch_acc:.4f}')\n",
        "\n",
        "            # deep copy the model\n",
        "            if phase == 'val' and epoch_acc > best_acc:\n",
        "                best_acc = epoch_acc\n",
        "                best_model_wts = copy.deepcopy(model.state_dict())\n",
        "\n",
        "        print()\n",
        "\n",
        "    time_elapsed = time.time() - since\n",
        "    print(f'Training complete in {time_elapsed // 60:.0f}m {time_elapsed % 60:.0f}s')\n",
        "    print(f'Best val Acc: {best_acc:4f}')\n",
        "\n",
        "    # load best model weights\n",
        "    model.load_state_dict(best_model_wts)\n",
        "    return model"
      ]
    },
    {
      "cell_type": "code",
      "execution_count": 21,
      "metadata": {
        "id": "W6tNv1g5Ppcs"
      },
      "outputs": [],
      "source": [
        "# Fine tuning\n",
        "\n",
        "model = model.to(device)\n",
        "\n",
        "criterion = nn.CrossEntropyLoss()\n",
        "\n",
        "# Observe that all parameters are being optimized\n",
        "# optimizer = optim.SGD(model.parameters(), lr=0.001, momentum=0.9)\n",
        "optimizer = optim.Adam(model.parameters(), lr=0.0001)\n",
        "\n",
        "# Decay LR by a factor of 0.1 every 7 epochs\n",
        "exp_lr_scheduler = lr_scheduler.StepLR(optimizer, step_size=7, gamma=0.1)"
      ]
    },
    {
      "cell_type": "code",
      "execution_count": 22,
      "metadata": {
        "id": "JPPn9dFxXoE6"
      },
      "outputs": [],
      "source": [
        "# TODO how can I make sure that I am only training the last layer\n",
        "# and I am not training the whole model\n",
        "# can I make sure that the all layers except last are frozen?"
      ]
    },
    {
      "cell_type": "code",
      "execution_count": 23,
      "metadata": {
        "id": "gLyJt22PqJMI"
      },
      "outputs": [],
      "source": [
        "# TODO try to address the issue of imbalanced data, \n",
        "# There are classes with varying amounts of samples"
      ]
    },
    {
      "cell_type": "code",
      "execution_count": 24,
      "metadata": {
        "colab": {
          "base_uri": "https://localhost:8080/"
        },
        "id": "iNq9EVGGPpct",
        "outputId": "5aed79eb-56ee-40aa-90a9-1dc0a347211e"
      },
      "outputs": [
        {
          "name": "stdout",
          "output_type": "stream",
          "text": [
            "Epoch 0/24\n",
            "----------\n"
          ]
        },
        {
          "name": "stderr",
          "output_type": "stream",
          "text": [
            "100%|██████████| 589/589 [01:47<00:00,  5.48it/s]\n"
          ]
        },
        {
          "name": "stdout",
          "output_type": "stream",
          "text": [
            "train Loss: 2.6203 Acc: 0.4041\n"
          ]
        },
        {
          "name": "stderr",
          "output_type": "stream",
          "text": [
            "100%|██████████| 148/148 [00:13<00:00, 10.66it/s]\n"
          ]
        },
        {
          "name": "stdout",
          "output_type": "stream",
          "text": [
            "val Loss: 1.5775 Acc: 0.6050\n",
            "\n",
            "Epoch 1/24\n",
            "----------\n"
          ]
        },
        {
          "name": "stderr",
          "output_type": "stream",
          "text": [
            "100%|██████████| 589/589 [01:44<00:00,  5.65it/s]\n"
          ]
        },
        {
          "name": "stdout",
          "output_type": "stream",
          "text": [
            "train Loss: 1.2846 Acc: 0.6789\n"
          ]
        },
        {
          "name": "stderr",
          "output_type": "stream",
          "text": [
            "100%|██████████| 148/148 [00:13<00:00, 11.32it/s]\n"
          ]
        },
        {
          "name": "stdout",
          "output_type": "stream",
          "text": [
            "val Loss: 1.2329 Acc: 0.6740\n",
            "\n",
            "Epoch 2/24\n",
            "----------\n"
          ]
        },
        {
          "name": "stderr",
          "output_type": "stream",
          "text": [
            "100%|██████████| 589/589 [01:44<00:00,  5.63it/s]\n"
          ]
        },
        {
          "name": "stdout",
          "output_type": "stream",
          "text": [
            "train Loss: 0.8227 Acc: 0.7940\n"
          ]
        },
        {
          "name": "stderr",
          "output_type": "stream",
          "text": [
            "100%|██████████| 148/148 [00:13<00:00, 11.10it/s]\n"
          ]
        },
        {
          "name": "stdout",
          "output_type": "stream",
          "text": [
            "val Loss: 1.1113 Acc: 0.6994\n",
            "\n",
            "Epoch 3/24\n",
            "----------\n"
          ]
        },
        {
          "name": "stderr",
          "output_type": "stream",
          "text": [
            "100%|██████████| 589/589 [01:43<00:00,  5.67it/s]\n"
          ]
        },
        {
          "name": "stdout",
          "output_type": "stream",
          "text": [
            "train Loss: 0.5318 Acc: 0.8694\n"
          ]
        },
        {
          "name": "stderr",
          "output_type": "stream",
          "text": [
            "100%|██████████| 148/148 [00:13<00:00, 11.03it/s]\n"
          ]
        },
        {
          "name": "stdout",
          "output_type": "stream",
          "text": [
            "val Loss: 1.0820 Acc: 0.7103\n",
            "\n",
            "Epoch 4/24\n",
            "----------\n"
          ]
        },
        {
          "name": "stderr",
          "output_type": "stream",
          "text": [
            "100%|██████████| 589/589 [01:45<00:00,  5.61it/s]\n"
          ]
        },
        {
          "name": "stdout",
          "output_type": "stream",
          "text": [
            "train Loss: 0.3273 Acc: 0.9281\n"
          ]
        },
        {
          "name": "stderr",
          "output_type": "stream",
          "text": [
            "100%|██████████| 148/148 [00:13<00:00, 10.82it/s]\n"
          ]
        },
        {
          "name": "stdout",
          "output_type": "stream",
          "text": [
            "val Loss: 1.0922 Acc: 0.7109\n",
            "\n",
            "Epoch 5/24\n",
            "----------\n"
          ]
        },
        {
          "name": "stderr",
          "output_type": "stream",
          "text": [
            "100%|██████████| 589/589 [01:44<00:00,  5.65it/s]\n"
          ]
        },
        {
          "name": "stdout",
          "output_type": "stream",
          "text": [
            "train Loss: 0.1918 Acc: 0.9628\n"
          ]
        },
        {
          "name": "stderr",
          "output_type": "stream",
          "text": [
            "100%|██████████| 148/148 [00:13<00:00, 10.97it/s]\n"
          ]
        },
        {
          "name": "stdout",
          "output_type": "stream",
          "text": [
            "val Loss: 1.1231 Acc: 0.7039\n",
            "\n",
            "Epoch 6/24\n",
            "----------\n"
          ]
        },
        {
          "name": "stderr",
          "output_type": "stream",
          "text": [
            "100%|██████████| 589/589 [01:45<00:00,  5.59it/s]\n"
          ]
        },
        {
          "name": "stdout",
          "output_type": "stream",
          "text": [
            "train Loss: 0.1226 Acc: 0.9793\n"
          ]
        },
        {
          "name": "stderr",
          "output_type": "stream",
          "text": [
            "100%|██████████| 148/148 [00:13<00:00, 10.77it/s]\n"
          ]
        },
        {
          "name": "stdout",
          "output_type": "stream",
          "text": [
            "val Loss: 1.1592 Acc: 0.7028\n",
            "\n",
            "Epoch 7/24\n",
            "----------\n"
          ]
        },
        {
          "name": "stderr",
          "output_type": "stream",
          "text": [
            "100%|██████████| 589/589 [01:44<00:00,  5.62it/s]\n"
          ]
        },
        {
          "name": "stdout",
          "output_type": "stream",
          "text": [
            "train Loss: 0.0626 Acc: 0.9937\n"
          ]
        },
        {
          "name": "stderr",
          "output_type": "stream",
          "text": [
            "100%|██████████| 148/148 [00:13<00:00, 10.97it/s]\n"
          ]
        },
        {
          "name": "stdout",
          "output_type": "stream",
          "text": [
            "val Loss: 1.0814 Acc: 0.7217\n",
            "\n",
            "Epoch 8/24\n",
            "----------\n"
          ]
        },
        {
          "name": "stderr",
          "output_type": "stream",
          "text": [
            "100%|██████████| 589/589 [01:44<00:00,  5.64it/s]\n"
          ]
        },
        {
          "name": "stdout",
          "output_type": "stream",
          "text": [
            "train Loss: 0.0424 Acc: 0.9981\n"
          ]
        },
        {
          "name": "stderr",
          "output_type": "stream",
          "text": [
            "100%|██████████| 148/148 [00:13<00:00, 11.38it/s]\n"
          ]
        },
        {
          "name": "stdout",
          "output_type": "stream",
          "text": [
            "val Loss: 1.0822 Acc: 0.7181\n",
            "\n",
            "Epoch 9/24\n",
            "----------\n"
          ]
        },
        {
          "name": "stderr",
          "output_type": "stream",
          "text": [
            "100%|██████████| 589/589 [01:43<00:00,  5.67it/s]\n"
          ]
        },
        {
          "name": "stdout",
          "output_type": "stream",
          "text": [
            "train Loss: 0.0351 Acc: 0.9990\n"
          ]
        },
        {
          "name": "stderr",
          "output_type": "stream",
          "text": [
            "100%|██████████| 148/148 [00:13<00:00, 11.17it/s]\n"
          ]
        },
        {
          "name": "stdout",
          "output_type": "stream",
          "text": [
            "val Loss: 1.0809 Acc: 0.7221\n",
            "\n",
            "Epoch 10/24\n",
            "----------\n"
          ]
        },
        {
          "name": "stderr",
          "output_type": "stream",
          "text": [
            "100%|██████████| 589/589 [01:43<00:00,  5.67it/s]\n"
          ]
        },
        {
          "name": "stdout",
          "output_type": "stream",
          "text": [
            "train Loss: 0.0303 Acc: 0.9992\n"
          ]
        },
        {
          "name": "stderr",
          "output_type": "stream",
          "text": [
            "100%|██████████| 148/148 [00:14<00:00, 10.12it/s]\n"
          ]
        },
        {
          "name": "stdout",
          "output_type": "stream",
          "text": [
            "val Loss: 1.0817 Acc: 0.7219\n",
            "\n",
            "Epoch 11/24\n",
            "----------\n"
          ]
        },
        {
          "name": "stderr",
          "output_type": "stream",
          "text": [
            "100%|██████████| 589/589 [01:44<00:00,  5.63it/s]\n"
          ]
        },
        {
          "name": "stdout",
          "output_type": "stream",
          "text": [
            "train Loss: 0.0264 Acc: 0.9994\n"
          ]
        },
        {
          "name": "stderr",
          "output_type": "stream",
          "text": [
            "100%|██████████| 148/148 [00:13<00:00, 11.18it/s]\n"
          ]
        },
        {
          "name": "stdout",
          "output_type": "stream",
          "text": [
            "val Loss: 1.0876 Acc: 0.7213\n",
            "\n",
            "Epoch 12/24\n",
            "----------\n"
          ]
        },
        {
          "name": "stderr",
          "output_type": "stream",
          "text": [
            "100%|██████████| 589/589 [01:44<00:00,  5.64it/s]\n"
          ]
        },
        {
          "name": "stdout",
          "output_type": "stream",
          "text": [
            "train Loss: 0.0226 Acc: 0.9998\n"
          ]
        },
        {
          "name": "stderr",
          "output_type": "stream",
          "text": [
            "100%|██████████| 148/148 [00:13<00:00, 11.11it/s]\n"
          ]
        },
        {
          "name": "stdout",
          "output_type": "stream",
          "text": [
            "val Loss: 1.0921 Acc: 0.7209\n",
            "\n",
            "Epoch 13/24\n",
            "----------\n"
          ]
        },
        {
          "name": "stderr",
          "output_type": "stream",
          "text": [
            "100%|██████████| 589/589 [01:44<00:00,  5.65it/s]\n"
          ]
        },
        {
          "name": "stdout",
          "output_type": "stream",
          "text": [
            "train Loss: 0.0204 Acc: 0.9997\n"
          ]
        },
        {
          "name": "stderr",
          "output_type": "stream",
          "text": [
            "100%|██████████| 148/148 [00:13<00:00, 11.33it/s]\n"
          ]
        },
        {
          "name": "stdout",
          "output_type": "stream",
          "text": [
            "val Loss: 1.0984 Acc: 0.7185\n",
            "\n",
            "Epoch 14/24\n",
            "----------\n"
          ]
        },
        {
          "name": "stderr",
          "output_type": "stream",
          "text": [
            "100%|██████████| 589/589 [01:43<00:00,  5.69it/s]\n"
          ]
        },
        {
          "name": "stdout",
          "output_type": "stream",
          "text": [
            "train Loss: 0.0178 Acc: 0.9996\n"
          ]
        },
        {
          "name": "stderr",
          "output_type": "stream",
          "text": [
            "100%|██████████| 148/148 [00:13<00:00, 11.30it/s]\n"
          ]
        },
        {
          "name": "stdout",
          "output_type": "stream",
          "text": [
            "val Loss: 1.0994 Acc: 0.7192\n",
            "\n",
            "Epoch 15/24\n",
            "----------\n"
          ]
        },
        {
          "name": "stderr",
          "output_type": "stream",
          "text": [
            "100%|██████████| 589/589 [01:44<00:00,  5.65it/s]\n"
          ]
        },
        {
          "name": "stdout",
          "output_type": "stream",
          "text": [
            "train Loss: 0.0166 Acc: 0.9999\n"
          ]
        },
        {
          "name": "stderr",
          "output_type": "stream",
          "text": [
            "100%|██████████| 148/148 [00:13<00:00, 11.11it/s]\n"
          ]
        },
        {
          "name": "stdout",
          "output_type": "stream",
          "text": [
            "val Loss: 1.0938 Acc: 0.7198\n",
            "\n",
            "Epoch 16/24\n",
            "----------\n"
          ]
        },
        {
          "name": "stderr",
          "output_type": "stream",
          "text": [
            "100%|██████████| 589/589 [01:43<00:00,  5.68it/s]\n"
          ]
        },
        {
          "name": "stdout",
          "output_type": "stream",
          "text": [
            "train Loss: 0.0163 Acc: 0.9998\n"
          ]
        },
        {
          "name": "stderr",
          "output_type": "stream",
          "text": [
            "100%|██████████| 148/148 [00:13<00:00, 11.10it/s]\n"
          ]
        },
        {
          "name": "stdout",
          "output_type": "stream",
          "text": [
            "val Loss: 1.0988 Acc: 0.7207\n",
            "\n",
            "Epoch 17/24\n",
            "----------\n"
          ]
        },
        {
          "name": "stderr",
          "output_type": "stream",
          "text": [
            "100%|██████████| 589/589 [01:44<00:00,  5.65it/s]\n"
          ]
        },
        {
          "name": "stdout",
          "output_type": "stream",
          "text": [
            "train Loss: 0.0162 Acc: 0.9997\n"
          ]
        },
        {
          "name": "stderr",
          "output_type": "stream",
          "text": [
            "100%|██████████| 148/148 [00:13<00:00, 11.28it/s]\n"
          ]
        },
        {
          "name": "stdout",
          "output_type": "stream",
          "text": [
            "val Loss: 1.0926 Acc: 0.7209\n",
            "\n",
            "Epoch 18/24\n",
            "----------\n"
          ]
        },
        {
          "name": "stderr",
          "output_type": "stream",
          "text": [
            "100%|██████████| 589/589 [01:43<00:00,  5.69it/s]\n"
          ]
        },
        {
          "name": "stdout",
          "output_type": "stream",
          "text": [
            "train Loss: 0.0156 Acc: 0.9999\n"
          ]
        },
        {
          "name": "stderr",
          "output_type": "stream",
          "text": [
            "100%|██████████| 148/148 [00:13<00:00, 11.22it/s]\n"
          ]
        },
        {
          "name": "stdout",
          "output_type": "stream",
          "text": [
            "val Loss: 1.1007 Acc: 0.7190\n",
            "\n",
            "Epoch 19/24\n",
            "----------\n"
          ]
        },
        {
          "name": "stderr",
          "output_type": "stream",
          "text": [
            "100%|██████████| 589/589 [01:44<00:00,  5.64it/s]\n"
          ]
        },
        {
          "name": "stdout",
          "output_type": "stream",
          "text": [
            "train Loss: 0.0154 Acc: 0.9998\n"
          ]
        },
        {
          "name": "stderr",
          "output_type": "stream",
          "text": [
            "100%|██████████| 148/148 [00:13<00:00, 11.19it/s]\n"
          ]
        },
        {
          "name": "stdout",
          "output_type": "stream",
          "text": [
            "val Loss: 1.1002 Acc: 0.7234\n",
            "\n",
            "Epoch 20/24\n",
            "----------\n"
          ]
        },
        {
          "name": "stderr",
          "output_type": "stream",
          "text": [
            "100%|██████████| 589/589 [01:43<00:00,  5.66it/s]\n"
          ]
        },
        {
          "name": "stdout",
          "output_type": "stream",
          "text": [
            "train Loss: 0.0154 Acc: 0.9999\n"
          ]
        },
        {
          "name": "stderr",
          "output_type": "stream",
          "text": [
            "100%|██████████| 148/148 [00:13<00:00, 11.10it/s]\n"
          ]
        },
        {
          "name": "stdout",
          "output_type": "stream",
          "text": [
            "val Loss: 1.1006 Acc: 0.7241\n",
            "\n",
            "Epoch 21/24\n",
            "----------\n"
          ]
        },
        {
          "name": "stderr",
          "output_type": "stream",
          "text": [
            "100%|██████████| 589/589 [01:44<00:00,  5.65it/s]\n"
          ]
        },
        {
          "name": "stdout",
          "output_type": "stream",
          "text": [
            "train Loss: 0.0149 Acc: 0.9999\n"
          ]
        },
        {
          "name": "stderr",
          "output_type": "stream",
          "text": [
            "100%|██████████| 148/148 [00:14<00:00, 10.40it/s]\n"
          ]
        },
        {
          "name": "stdout",
          "output_type": "stream",
          "text": [
            "val Loss: 1.0973 Acc: 0.7228\n",
            "\n",
            "Epoch 22/24\n",
            "----------\n"
          ]
        },
        {
          "name": "stderr",
          "output_type": "stream",
          "text": [
            "100%|██████████| 589/589 [01:46<00:00,  5.54it/s]\n"
          ]
        },
        {
          "name": "stdout",
          "output_type": "stream",
          "text": [
            "train Loss: 0.0143 Acc: 0.9999\n"
          ]
        },
        {
          "name": "stderr",
          "output_type": "stream",
          "text": [
            "100%|██████████| 148/148 [00:13<00:00, 10.76it/s]\n"
          ]
        },
        {
          "name": "stdout",
          "output_type": "stream",
          "text": [
            "val Loss: 1.1013 Acc: 0.7204\n",
            "\n",
            "Epoch 23/24\n",
            "----------\n"
          ]
        },
        {
          "name": "stderr",
          "output_type": "stream",
          "text": [
            "100%|██████████| 589/589 [01:46<00:00,  5.52it/s]\n"
          ]
        },
        {
          "name": "stdout",
          "output_type": "stream",
          "text": [
            "train Loss: 0.0144 Acc: 0.9999\n"
          ]
        },
        {
          "name": "stderr",
          "output_type": "stream",
          "text": [
            "100%|██████████| 148/148 [00:13<00:00, 10.88it/s]\n"
          ]
        },
        {
          "name": "stdout",
          "output_type": "stream",
          "text": [
            "val Loss: 1.0972 Acc: 0.7260\n",
            "\n",
            "Epoch 24/24\n",
            "----------\n"
          ]
        },
        {
          "name": "stderr",
          "output_type": "stream",
          "text": [
            "100%|██████████| 589/589 [01:45<00:00,  5.59it/s]\n"
          ]
        },
        {
          "name": "stdout",
          "output_type": "stream",
          "text": [
            "train Loss: 0.0144 Acc: 0.9999\n"
          ]
        },
        {
          "name": "stderr",
          "output_type": "stream",
          "text": [
            "100%|██████████| 148/148 [00:13<00:00, 10.66it/s]"
          ]
        },
        {
          "name": "stdout",
          "output_type": "stream",
          "text": [
            "val Loss: 1.1065 Acc: 0.7207\n",
            "\n",
            "Training complete in 49m 13s\n",
            "Best val Acc: 0.725961\n"
          ]
        },
        {
          "name": "stderr",
          "output_type": "stream",
          "text": [
            "\n"
          ]
        }
      ],
      "source": [
        "model = train_model(model, criterion, optimizer, exp_lr_scheduler, num_epochs=25)"
      ]
    },
    {
      "cell_type": "markdown",
      "metadata": {
        "id": "n0ajl4WBcdCK"
      },
      "source": [
        "### Visualize predictions"
      ]
    },
    {
      "cell_type": "code",
      "execution_count": 25,
      "metadata": {
        "colab": {
          "base_uri": "https://localhost:8080/"
        },
        "id": "p9Ej44xmc51I",
        "outputId": "414cb88c-b7a3-4f3e-9d15-7b5fd199ba80"
      },
      "outputs": [
        {
          "name": "stderr",
          "output_type": "stream",
          "text": [
            "100%|██████████| 148/148 [00:10<00:00, 14.10it/s]\n"
          ]
        }
      ],
      "source": [
        "# Define the true labels and predicted labels\n",
        "true_labels = []\n",
        "predicted_labels = []\n",
        "\n",
        "# Each epoch has a training and validation phase \n",
        "model.eval()   # Set model to evaluate mode \n",
        "\n",
        "# Iterate over data.\n",
        "for inputs, labels in tqdm(dataloaders['val']):\n",
        "    inputs = inputs.to(device)\n",
        "    labels = labels.to(device)\n",
        "\n",
        "    # forward\n",
        "    with torch.set_grad_enabled(False): # we don't want to train\n",
        "        outputs = model(inputs)\n",
        "        _, preds = torch.max(outputs, 1) \n",
        "    true_labels.append(labels)\n",
        "    predicted_labels.append(preds)\n",
        " \n",
        " "
      ]
    },
    {
      "cell_type": "code",
      "execution_count": 26,
      "metadata": {
        "id": "YPmMVnc1dnZM"
      },
      "outputs": [],
      "source": [
        "true_labels_c = torch.cat(true_labels, dim=0).to(\"cpu\")\n",
        "predicted_labels_c = torch.cat(predicted_labels, dim=0).to(\"cpu\")"
      ]
    },
    {
      "cell_type": "code",
      "execution_count": 27,
      "metadata": {
        "id": "juvoszWMy5UR"
      },
      "outputs": [],
      "source": [
        "\n",
        "# Convert the true_labels tensor into a list of integers\n",
        "true_labels_list = [label.tolist() for label in true_labels_c]\n",
        "\n",
        "# Convert the predicted_labels tensor into a list of integers\n",
        "predicted_labels_list = [label.tolist() for label in predicted_labels_c]"
      ]
    },
    {
      "cell_type": "code",
      "execution_count": null,
      "metadata": {
        "id": "w_vuqRE2fzqF"
      },
      "outputs": [],
      "source": [
        "# I wished we could use a Confusion matrix,\n",
        "# Unfortuneatly this method does not work, \n",
        "# because there are too many classes"
      ]
    },
    {
      "cell_type": "markdown",
      "metadata": {
        "id": "a6GYZcYAf2ha"
      },
      "source": [
        "#### Classification report "
      ]
    },
    {
      "cell_type": "code",
      "execution_count": 29,
      "metadata": {
        "colab": {
          "base_uri": "https://localhost:8080/"
        },
        "id": "wD5ULxR6fw2t",
        "outputId": "2f60e6b2-2244-41b4-ea18-b2fa6707e771"
      },
      "outputs": [
        {
          "name": "stdout",
          "output_type": "stream",
          "text": [
            "              precision    recall  f1-score   support\n",
            "\n",
            "           0       0.73      0.67      0.70        49\n",
            "           1       0.89      0.83      0.86        47\n",
            "          10       0.71      0.72      0.72        47\n",
            "          11       0.85      0.78      0.81        50\n",
            "          12       0.72      0.89      0.80        44\n",
            "          13       0.73      0.76      0.75        62\n",
            "          14       0.72      0.69      0.71        42\n",
            "          15       0.73      0.68      0.71        53\n",
            "          16       0.83      0.88      0.86        68\n",
            "          17       0.46      0.65      0.53        48\n",
            "          18       0.81      0.69      0.75        55\n",
            "          19       0.88      1.00      0.93        42\n",
            "           2       0.71      0.75      0.73        52\n",
            "          20       0.81      0.82      0.82        51\n",
            "          21       0.79      0.80      0.80        66\n",
            "          22       0.75      0.89      0.81        53\n",
            "          23       0.66      0.62      0.64        60\n",
            "          24       0.82      0.84      0.83        43\n",
            "          25       0.78      0.69      0.73        65\n",
            "          26       0.65      0.73      0.69        48\n",
            "          27       0.81      0.88      0.84        40\n",
            "          28       0.88      0.88      0.88        58\n",
            "          29       0.78      0.82      0.80        55\n",
            "           3       0.58      0.71      0.64        45\n",
            "          30       0.53      0.49      0.51        37\n",
            "          31       0.62      0.78      0.69        49\n",
            "          32       0.76      0.85      0.80        46\n",
            "          33       0.73      0.70      0.71        50\n",
            "          34       0.75      0.78      0.76        49\n",
            "          35       0.71      0.56      0.62        52\n",
            "          36       0.55      0.48      0.51        60\n",
            "          37       0.84      0.80      0.82        46\n",
            "          38       0.63      0.55      0.59        49\n",
            "          39       0.61      0.48      0.53        42\n",
            "           4       0.56      0.69      0.62        42\n",
            "          40       0.66      0.80      0.73        41\n",
            "          41       0.65      0.79      0.72        43\n",
            "          42       0.59      0.51      0.55        43\n",
            "          43       0.72      0.86      0.78        56\n",
            "          44       0.72      0.56      0.63        52\n",
            "          45       0.91      0.74      0.82        43\n",
            "          46       0.72      0.80      0.76        41\n",
            "          47       0.66      0.75      0.70        55\n",
            "          48       0.62      0.70      0.66        50\n",
            "          49       0.60      0.70      0.65        30\n",
            "           5       0.77      0.80      0.79        55\n",
            "          50       0.76      0.59      0.67        37\n",
            "          51       0.77      0.84      0.80        49\n",
            "          52       0.94      0.92      0.93        49\n",
            "          53       0.40      0.59      0.47        39\n",
            "          54       0.68      0.51      0.58        49\n",
            "          55       0.73      0.82      0.77        44\n",
            "          56       0.71      0.69      0.70        49\n",
            "          57       0.87      0.96      0.91        47\n",
            "          58       0.69      0.61      0.65        54\n",
            "          59       0.65      0.79      0.71        39\n",
            "           6       0.68      0.73      0.71        41\n",
            "          60       0.87      0.80      0.83        49\n",
            "          61       0.82      0.62      0.71        53\n",
            "          62       0.95      0.83      0.89        48\n",
            "          63       0.83      0.70      0.76        54\n",
            "          64       0.63      0.72      0.67        40\n",
            "          65       0.79      0.73      0.76        51\n",
            "          66       0.72      0.53      0.61        40\n",
            "          67       0.54      0.58      0.56        43\n",
            "          68       0.78      0.72      0.75        53\n",
            "          69       0.77      0.71      0.74        48\n",
            "           7       0.72      0.70      0.71        61\n",
            "          70       0.84      0.72      0.78        36\n",
            "          71       0.83      0.66      0.74        59\n",
            "          72       0.80      0.92      0.86        49\n",
            "          73       0.71      0.61      0.66        36\n",
            "          74       0.80      0.87      0.83        45\n",
            "          75       0.51      0.54      0.53        39\n",
            "          76       0.81      0.90      0.85        42\n",
            "          77       0.95      0.79      0.87        53\n",
            "          78       0.69      0.69      0.69        32\n",
            "          79       0.82      0.90      0.86        40\n",
            "           8       0.73      0.66      0.69        56\n",
            "          80       0.64      0.61      0.62        46\n",
            "          81       0.81      0.89      0.85        56\n",
            "          82       0.74      0.74      0.74        58\n",
            "          83       0.64      0.62      0.63        29\n",
            "          84       0.78      0.67      0.72        46\n",
            "          85       0.76      0.61      0.68        41\n",
            "          86       0.62      0.66      0.64        53\n",
            "          87       0.71      0.57      0.63        44\n",
            "          88       0.60      0.62      0.61        29\n",
            "          89       0.83      0.54      0.66        35\n",
            "           9       0.88      0.87      0.87        60\n",
            "          90       0.72      0.75      0.73        51\n",
            "          91       0.55      0.75      0.64        36\n",
            "          92       0.86      0.75      0.80        40\n",
            "          93       0.57      0.59      0.58        34\n",
            "          94       0.69      0.66      0.67        47\n",
            "          95       0.66      0.71      0.68        58\n",
            "          96       0.50      0.57      0.53        14\n",
            "          97       0.78      0.70      0.74        46\n",
            "          98       0.77      0.80      0.78        50\n",
            "          99       0.66      0.62      0.64        40\n",
            "\n",
            "    accuracy                           0.73      4711\n",
            "   macro avg       0.73      0.72      0.72      4711\n",
            "weighted avg       0.73      0.73      0.73      4711\n",
            "\n"
          ]
        }
      ],
      "source": [
        "# Generate the classification report\n",
        "# report = classification_report(true_labels_list, true_labels_list, target_names=range(100), labels = class_names)\n",
        "# report = classification_report(true_labels_list, true_labels_list, target_names=range(100), labels = [int(x) for x in class_names])\n",
        "report = classification_report(true_labels_list, predicted_labels_list, target_names=class_names)\n",
        "\n",
        "# Print the report\n",
        "print(report)"
      ]
    }
  ],
  "metadata": {
    "accelerator": "GPU",
    "colab": {
      "include_colab_link": true,
      "provenance": []
    },
    "gpuClass": "standard",
    "kernelspec": {
      "display_name": "aait_hw2",
      "language": "python",
      "name": "python3"
    },
    "language_info": {
      "codemirror_mode": {
        "name": "ipython",
        "version": 3
      },
      "file_extension": ".py",
      "mimetype": "text/x-python",
      "name": "python",
      "nbconvert_exporter": "python",
      "pygments_lexer": "ipython3",
      "version": "3.8.15 (default, Nov 24 2022, 14:38:14) [MSC v.1916 64 bit (AMD64)]"
    },
    "orig_nbformat": 4,
    "vscode": {
      "interpreter": {
        "hash": "945b35ae5f0a23cf354d36a2f24dc0b3e57f16e05b45c03bcc4672a89e8a2936"
      }
    },
    "widgets": {
      "application/vnd.jupyter.widget-state+json": {
        "0a58dc39cc6b4029905bd90786b7658b": {
          "model_module": "@jupyter-widgets/base",
          "model_module_version": "1.2.0",
          "model_name": "LayoutModel",
          "state": {
            "_model_module": "@jupyter-widgets/base",
            "_model_module_version": "1.2.0",
            "_model_name": "LayoutModel",
            "_view_count": null,
            "_view_module": "@jupyter-widgets/base",
            "_view_module_version": "1.2.0",
            "_view_name": "LayoutView",
            "align_content": null,
            "align_items": null,
            "align_self": null,
            "border": null,
            "bottom": null,
            "display": null,
            "flex": null,
            "flex_flow": null,
            "grid_area": null,
            "grid_auto_columns": null,
            "grid_auto_flow": null,
            "grid_auto_rows": null,
            "grid_column": null,
            "grid_gap": null,
            "grid_row": null,
            "grid_template_areas": null,
            "grid_template_columns": null,
            "grid_template_rows": null,
            "height": null,
            "justify_content": null,
            "justify_items": null,
            "left": null,
            "margin": null,
            "max_height": null,
            "max_width": null,
            "min_height": null,
            "min_width": null,
            "object_fit": null,
            "object_position": null,
            "order": null,
            "overflow": null,
            "overflow_x": null,
            "overflow_y": null,
            "padding": null,
            "right": null,
            "top": null,
            "visibility": null,
            "width": null
          }
        },
        "0f8b70e206094e528f5947065a5ec313": {
          "model_module": "@jupyter-widgets/base",
          "model_module_version": "1.2.0",
          "model_name": "LayoutModel",
          "state": {
            "_model_module": "@jupyter-widgets/base",
            "_model_module_version": "1.2.0",
            "_model_name": "LayoutModel",
            "_view_count": null,
            "_view_module": "@jupyter-widgets/base",
            "_view_module_version": "1.2.0",
            "_view_name": "LayoutView",
            "align_content": null,
            "align_items": null,
            "align_self": null,
            "border": null,
            "bottom": null,
            "display": null,
            "flex": null,
            "flex_flow": null,
            "grid_area": null,
            "grid_auto_columns": null,
            "grid_auto_flow": null,
            "grid_auto_rows": null,
            "grid_column": null,
            "grid_gap": null,
            "grid_row": null,
            "grid_template_areas": null,
            "grid_template_columns": null,
            "grid_template_rows": null,
            "height": null,
            "justify_content": null,
            "justify_items": null,
            "left": null,
            "margin": null,
            "max_height": null,
            "max_width": null,
            "min_height": null,
            "min_width": null,
            "object_fit": null,
            "object_position": null,
            "order": null,
            "overflow": null,
            "overflow_x": null,
            "overflow_y": null,
            "padding": null,
            "right": null,
            "top": null,
            "visibility": null,
            "width": null
          }
        },
        "200fdbff526a4583a6a9ad01d929a661": {
          "model_module": "@jupyter-widgets/base",
          "model_module_version": "1.2.0",
          "model_name": "LayoutModel",
          "state": {
            "_model_module": "@jupyter-widgets/base",
            "_model_module_version": "1.2.0",
            "_model_name": "LayoutModel",
            "_view_count": null,
            "_view_module": "@jupyter-widgets/base",
            "_view_module_version": "1.2.0",
            "_view_name": "LayoutView",
            "align_content": null,
            "align_items": null,
            "align_self": null,
            "border": null,
            "bottom": null,
            "display": null,
            "flex": null,
            "flex_flow": null,
            "grid_area": null,
            "grid_auto_columns": null,
            "grid_auto_flow": null,
            "grid_auto_rows": null,
            "grid_column": null,
            "grid_gap": null,
            "grid_row": null,
            "grid_template_areas": null,
            "grid_template_columns": null,
            "grid_template_rows": null,
            "height": null,
            "justify_content": null,
            "justify_items": null,
            "left": null,
            "margin": null,
            "max_height": null,
            "max_width": null,
            "min_height": null,
            "min_width": null,
            "object_fit": null,
            "object_position": null,
            "order": null,
            "overflow": null,
            "overflow_x": null,
            "overflow_y": null,
            "padding": null,
            "right": null,
            "top": null,
            "visibility": null,
            "width": null
          }
        },
        "419d8aab0b6f4d74893b2cd7ed821d67": {
          "model_module": "@jupyter-widgets/controls",
          "model_module_version": "1.5.0",
          "model_name": "HBoxModel",
          "state": {
            "_dom_classes": [],
            "_model_module": "@jupyter-widgets/controls",
            "_model_module_version": "1.5.0",
            "_model_name": "HBoxModel",
            "_view_count": null,
            "_view_module": "@jupyter-widgets/controls",
            "_view_module_version": "1.5.0",
            "_view_name": "HBoxView",
            "box_style": "",
            "children": [
              "IPY_MODEL_466e18eb6d844117952f5ab638d92c2d",
              "IPY_MODEL_b851074c036b41c9ba301488ec456a64",
              "IPY_MODEL_ade9946a5bb149c4adb69819cf630c15"
            ],
            "layout": "IPY_MODEL_200fdbff526a4583a6a9ad01d929a661"
          }
        },
        "466e18eb6d844117952f5ab638d92c2d": {
          "model_module": "@jupyter-widgets/controls",
          "model_module_version": "1.5.0",
          "model_name": "HTMLModel",
          "state": {
            "_dom_classes": [],
            "_model_module": "@jupyter-widgets/controls",
            "_model_module_version": "1.5.0",
            "_model_name": "HTMLModel",
            "_view_count": null,
            "_view_module": "@jupyter-widgets/controls",
            "_view_module_version": "1.5.0",
            "_view_name": "HTMLView",
            "description": "",
            "description_tooltip": null,
            "layout": "IPY_MODEL_0f8b70e206094e528f5947065a5ec313",
            "placeholder": "​",
            "style": "IPY_MODEL_68293b7bb73949d39509d367aa45ca6d",
            "value": "100%"
          }
        },
        "51e9b947b18b4baba3f51ff40b747839": {
          "model_module": "@jupyter-widgets/controls",
          "model_module_version": "1.5.0",
          "model_name": "DescriptionStyleModel",
          "state": {
            "_model_module": "@jupyter-widgets/controls",
            "_model_module_version": "1.5.0",
            "_model_name": "DescriptionStyleModel",
            "_view_count": null,
            "_view_module": "@jupyter-widgets/base",
            "_view_module_version": "1.2.0",
            "_view_name": "StyleView",
            "description_width": ""
          }
        },
        "57e3484ba60044c1a61be40e59660866": {
          "model_module": "@jupyter-widgets/base",
          "model_module_version": "1.2.0",
          "model_name": "LayoutModel",
          "state": {
            "_model_module": "@jupyter-widgets/base",
            "_model_module_version": "1.2.0",
            "_model_name": "LayoutModel",
            "_view_count": null,
            "_view_module": "@jupyter-widgets/base",
            "_view_module_version": "1.2.0",
            "_view_name": "LayoutView",
            "align_content": null,
            "align_items": null,
            "align_self": null,
            "border": null,
            "bottom": null,
            "display": null,
            "flex": null,
            "flex_flow": null,
            "grid_area": null,
            "grid_auto_columns": null,
            "grid_auto_flow": null,
            "grid_auto_rows": null,
            "grid_column": null,
            "grid_gap": null,
            "grid_row": null,
            "grid_template_areas": null,
            "grid_template_columns": null,
            "grid_template_rows": null,
            "height": null,
            "justify_content": null,
            "justify_items": null,
            "left": null,
            "margin": null,
            "max_height": null,
            "max_width": null,
            "min_height": null,
            "min_width": null,
            "object_fit": null,
            "object_position": null,
            "order": null,
            "overflow": null,
            "overflow_x": null,
            "overflow_y": null,
            "padding": null,
            "right": null,
            "top": null,
            "visibility": null,
            "width": null
          }
        },
        "68293b7bb73949d39509d367aa45ca6d": {
          "model_module": "@jupyter-widgets/controls",
          "model_module_version": "1.5.0",
          "model_name": "DescriptionStyleModel",
          "state": {
            "_model_module": "@jupyter-widgets/controls",
            "_model_module_version": "1.5.0",
            "_model_name": "DescriptionStyleModel",
            "_view_count": null,
            "_view_module": "@jupyter-widgets/base",
            "_view_module_version": "1.2.0",
            "_view_name": "StyleView",
            "description_width": ""
          }
        },
        "6b8a384d3b0e49c58df42234ce76e87f": {
          "model_module": "@jupyter-widgets/controls",
          "model_module_version": "1.5.0",
          "model_name": "ProgressStyleModel",
          "state": {
            "_model_module": "@jupyter-widgets/controls",
            "_model_module_version": "1.5.0",
            "_model_name": "ProgressStyleModel",
            "_view_count": null,
            "_view_module": "@jupyter-widgets/base",
            "_view_module_version": "1.2.0",
            "_view_name": "StyleView",
            "bar_color": null,
            "description_width": ""
          }
        },
        "ade9946a5bb149c4adb69819cf630c15": {
          "model_module": "@jupyter-widgets/controls",
          "model_module_version": "1.5.0",
          "model_name": "HTMLModel",
          "state": {
            "_dom_classes": [],
            "_model_module": "@jupyter-widgets/controls",
            "_model_module_version": "1.5.0",
            "_model_name": "HTMLModel",
            "_view_count": null,
            "_view_module": "@jupyter-widgets/controls",
            "_view_module_version": "1.5.0",
            "_view_name": "HTMLView",
            "description": "",
            "description_tooltip": null,
            "layout": "IPY_MODEL_57e3484ba60044c1a61be40e59660866",
            "placeholder": "​",
            "style": "IPY_MODEL_51e9b947b18b4baba3f51ff40b747839",
            "value": " 13.6M/13.6M [00:00&lt;00:00, 56.2MB/s]"
          }
        },
        "b851074c036b41c9ba301488ec456a64": {
          "model_module": "@jupyter-widgets/controls",
          "model_module_version": "1.5.0",
          "model_name": "FloatProgressModel",
          "state": {
            "_dom_classes": [],
            "_model_module": "@jupyter-widgets/controls",
            "_model_module_version": "1.5.0",
            "_model_name": "FloatProgressModel",
            "_view_count": null,
            "_view_module": "@jupyter-widgets/controls",
            "_view_module_version": "1.5.0",
            "_view_name": "ProgressView",
            "bar_style": "success",
            "description": "",
            "description_tooltip": null,
            "layout": "IPY_MODEL_0a58dc39cc6b4029905bd90786b7658b",
            "max": 14212972,
            "min": 0,
            "orientation": "horizontal",
            "style": "IPY_MODEL_6b8a384d3b0e49c58df42234ce76e87f",
            "value": 14212972
          }
        }
      }
    }
  },
  "nbformat": 4,
  "nbformat_minor": 0
}
